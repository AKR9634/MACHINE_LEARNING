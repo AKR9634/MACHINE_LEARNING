{
 "cells": [
  {
   "cell_type": "markdown",
   "id": "3600adaa-fb9d-4931-91ba-68ac8d467c4d",
   "metadata": {},
   "source": [
    "### NUMPY"
   ]
  },
  {
   "cell_type": "markdown",
   "id": "9d6874a2-ed75-45a9-a75b-5ad9d9b49bb0",
   "metadata": {},
   "source": [
    "NumPy (Numerical Python) is an open source Python library that's widely used in science and engineering. The NumPy library contains multidimensional array data structures, such as homogeneous, N-dimensional ndarray, and a large library of functions that operate efficiently on these data structures."
   ]
  },
  {
   "cell_type": "code",
   "execution_count": 1,
   "id": "52d13d8e-da44-4641-817c-e6a8da43905f",
   "metadata": {},
   "outputs": [],
   "source": [
    "import numpy as np"
   ]
  },
  {
   "cell_type": "code",
   "execution_count": 2,
   "id": "4e28eda4-236b-49ae-8ee4-a477fbef4a82",
   "metadata": {},
   "outputs": [],
   "source": [
    "a = np.array([1, 4, 3, 5, 7, 9, 2])"
   ]
  },
  {
   "cell_type": "code",
   "execution_count": 3,
   "id": "1967038b-b6a0-4d70-8b92-1dda69b35fcf",
   "metadata": {},
   "outputs": [
    {
     "data": {
      "text/plain": [
       "(7,)"
      ]
     },
     "execution_count": 3,
     "metadata": {},
     "output_type": "execute_result"
    }
   ],
   "source": [
    "a.shape"
   ]
  },
  {
   "cell_type": "code",
   "execution_count": 4,
   "id": "a4288a7d-65ae-4996-bd1a-6c7871bd11c7",
   "metadata": {},
   "outputs": [
    {
     "data": {
      "text/plain": [
       "np.int64(1)"
      ]
     },
     "execution_count": 4,
     "metadata": {},
     "output_type": "execute_result"
    }
   ],
   "source": [
    "a[0]"
   ]
  },
  {
   "cell_type": "code",
   "execution_count": 5,
   "id": "8a7c12fd-63e4-40e5-b555-387ccb9432eb",
   "metadata": {},
   "outputs": [],
   "source": [
    "a[0] = 2"
   ]
  },
  {
   "cell_type": "code",
   "execution_count": 6,
   "id": "2e2fd5bc-c299-4e12-8009-1c6b7fe63b83",
   "metadata": {},
   "outputs": [
    {
     "data": {
      "text/plain": [
       "array([2, 4, 3, 5, 7, 9, 2])"
      ]
     },
     "execution_count": 6,
     "metadata": {},
     "output_type": "execute_result"
    }
   ],
   "source": [
    "a"
   ]
  },
  {
   "cell_type": "code",
   "execution_count": 7,
   "id": "78f96d62-ae3c-4a4f-88f2-c4f2b4f62223",
   "metadata": {},
   "outputs": [],
   "source": [
    "b = a[::-1]"
   ]
  },
  {
   "cell_type": "code",
   "execution_count": 8,
   "id": "dd6b1d97-d02d-461e-8b3b-caaed316c184",
   "metadata": {},
   "outputs": [
    {
     "data": {
      "text/plain": [
       "array([2, 9, 7, 5, 3, 4, 2])"
      ]
     },
     "execution_count": 8,
     "metadata": {},
     "output_type": "execute_result"
    }
   ],
   "source": [
    "b"
   ]
  },
  {
   "cell_type": "code",
   "execution_count": 9,
   "id": "3b446a09-501e-4c79-a655-5f43fc20c3fd",
   "metadata": {},
   "outputs": [],
   "source": [
    "b[0] = 13"
   ]
  },
  {
   "cell_type": "code",
   "execution_count": 10,
   "id": "0829d4b2-35c4-454c-b638-6be2e1f1db9f",
   "metadata": {},
   "outputs": [
    {
     "data": {
      "text/plain": [
       "array([13,  9,  7,  5,  3,  4,  2])"
      ]
     },
     "execution_count": 10,
     "metadata": {},
     "output_type": "execute_result"
    }
   ],
   "source": [
    "b"
   ]
  },
  {
   "cell_type": "code",
   "execution_count": 11,
   "id": "8f1e8a28-d5cb-4f67-8368-aa7d5f6d03eb",
   "metadata": {},
   "outputs": [
    {
     "data": {
      "text/plain": [
       "array([ 2,  4,  3,  5,  7,  9, 13])"
      ]
     },
     "execution_count": 11,
     "metadata": {},
     "output_type": "execute_result"
    }
   ],
   "source": [
    "a"
   ]
  },
  {
   "cell_type": "code",
   "execution_count": 12,
   "id": "68752df3-7d93-44a8-91de-c12449a91ead",
   "metadata": {},
   "outputs": [
    {
     "data": {
      "text/plain": [
       "array([ 2,  4,  3,  5,  7,  9, 13])"
      ]
     },
     "execution_count": 12,
     "metadata": {},
     "output_type": "execute_result"
    }
   ],
   "source": [
    "a"
   ]
  },
  {
   "cell_type": "code",
   "execution_count": 13,
   "id": "0869aafa-5db6-4933-8a67-84c6eadaf27f",
   "metadata": {},
   "outputs": [],
   "source": [
    "c = a[:3].copy()"
   ]
  },
  {
   "cell_type": "code",
   "execution_count": 14,
   "id": "fa5a5bd4-9be4-46de-a1df-a477c3dedd94",
   "metadata": {},
   "outputs": [
    {
     "data": {
      "text/plain": [
       "array([2, 4, 3])"
      ]
     },
     "execution_count": 14,
     "metadata": {},
     "output_type": "execute_result"
    }
   ],
   "source": [
    "c"
   ]
  },
  {
   "cell_type": "code",
   "execution_count": 15,
   "id": "13f7900e-14c3-4b71-9a43-f6de8e9fda5c",
   "metadata": {},
   "outputs": [],
   "source": [
    "c[0] = 17"
   ]
  },
  {
   "cell_type": "code",
   "execution_count": 16,
   "id": "c38e43a6-6274-4b83-80f7-809bbe547864",
   "metadata": {},
   "outputs": [
    {
     "data": {
      "text/plain": [
       "array([17,  4,  3])"
      ]
     },
     "execution_count": 16,
     "metadata": {},
     "output_type": "execute_result"
    }
   ],
   "source": [
    "c"
   ]
  },
  {
   "cell_type": "code",
   "execution_count": 17,
   "id": "127175da-c0af-4dc5-bc13-2686fc696404",
   "metadata": {},
   "outputs": [
    {
     "data": {
      "text/plain": [
       "array([ 2,  4,  3,  5,  7,  9, 13])"
      ]
     },
     "execution_count": 17,
     "metadata": {},
     "output_type": "execute_result"
    }
   ],
   "source": [
    "a"
   ]
  },
  {
   "cell_type": "code",
   "execution_count": 18,
   "id": "049c5077-de03-43b2-8a1f-72e794e588e8",
   "metadata": {},
   "outputs": [],
   "source": [
    "a = np.array([[1, 2, 3], [4, 5, 6], [7, 8, 9]])"
   ]
  },
  {
   "cell_type": "code",
   "execution_count": 19,
   "id": "9764cc9d-518e-4777-999b-c606707206a1",
   "metadata": {},
   "outputs": [
    {
     "data": {
      "text/plain": [
       "array([[1, 2, 3],\n",
       "       [4, 5, 6],\n",
       "       [7, 8, 9]])"
      ]
     },
     "execution_count": 19,
     "metadata": {},
     "output_type": "execute_result"
    }
   ],
   "source": [
    "a"
   ]
  },
  {
   "cell_type": "code",
   "execution_count": 20,
   "id": "df9991df-a049-436f-bb2c-ff5312ef08d0",
   "metadata": {},
   "outputs": [
    {
     "data": {
      "text/plain": [
       "2"
      ]
     },
     "execution_count": 20,
     "metadata": {},
     "output_type": "execute_result"
    }
   ],
   "source": [
    "a.ndim"
   ]
  },
  {
   "cell_type": "code",
   "execution_count": 21,
   "id": "3171b767-7216-4e06-8a46-eadb654855cb",
   "metadata": {},
   "outputs": [
    {
     "data": {
      "text/plain": [
       "(3, 3)"
      ]
     },
     "execution_count": 21,
     "metadata": {},
     "output_type": "execute_result"
    }
   ],
   "source": [
    "a.shape"
   ]
  },
  {
   "cell_type": "code",
   "execution_count": 22,
   "id": "768e979b-46ef-4e39-bd2a-1b089766d316",
   "metadata": {},
   "outputs": [
    {
     "data": {
      "text/plain": [
       "9"
      ]
     },
     "execution_count": 22,
     "metadata": {},
     "output_type": "execute_result"
    }
   ],
   "source": [
    "a.size"
   ]
  },
  {
   "cell_type": "code",
   "execution_count": 23,
   "id": "f2e0f868-ed45-42f7-940c-1b25f2f006dd",
   "metadata": {},
   "outputs": [
    {
     "data": {
      "text/plain": [
       "True"
      ]
     },
     "execution_count": 23,
     "metadata": {},
     "output_type": "execute_result"
    }
   ],
   "source": [
    "a.size == a.shape[0] * a.shape[1]"
   ]
  },
  {
   "cell_type": "code",
   "execution_count": 24,
   "id": "7e8c86b5-53e3-4fa1-b939-19c8fea7d901",
   "metadata": {},
   "outputs": [
    {
     "data": {
      "text/plain": [
       "dtype('int64')"
      ]
     },
     "execution_count": 24,
     "metadata": {},
     "output_type": "execute_result"
    }
   ],
   "source": [
    "a.dtype"
   ]
  },
  {
   "cell_type": "code",
   "execution_count": 25,
   "id": "20c1cb79-2da6-4d9f-b85c-95d2552910c5",
   "metadata": {},
   "outputs": [
    {
     "data": {
      "text/plain": [
       "array([0., 0., 0.])"
      ]
     },
     "execution_count": 25,
     "metadata": {},
     "output_type": "execute_result"
    }
   ],
   "source": [
    "np.zeros(3)"
   ]
  },
  {
   "cell_type": "code",
   "execution_count": 26,
   "id": "3eed4819-1072-496c-abc6-88da7e28138e",
   "metadata": {},
   "outputs": [
    {
     "data": {
      "text/plain": [
       "array([1., 1., 1.])"
      ]
     },
     "execution_count": 26,
     "metadata": {},
     "output_type": "execute_result"
    }
   ],
   "source": [
    "np.ones(3)"
   ]
  },
  {
   "cell_type": "code",
   "execution_count": 27,
   "id": "f8fb3f1e-7f8b-40c6-b89a-7aa1b4e432cf",
   "metadata": {},
   "outputs": [
    {
     "data": {
      "text/plain": [
       "array([2, 3, 4, 5])"
      ]
     },
     "execution_count": 27,
     "metadata": {},
     "output_type": "execute_result"
    }
   ],
   "source": [
    "np.arange(2, 6)"
   ]
  },
  {
   "cell_type": "code",
   "execution_count": 28,
   "id": "859ec911-1e8a-4e41-b662-a4ff070d8415",
   "metadata": {},
   "outputs": [
    {
     "data": {
      "text/plain": [
       "array([1, 3, 5, 7, 9])"
      ]
     },
     "execution_count": 28,
     "metadata": {},
     "output_type": "execute_result"
    }
   ],
   "source": [
    "np.arange(1, 10, 2)"
   ]
  },
  {
   "cell_type": "code",
   "execution_count": 29,
   "id": "627a5f9b-9487-4053-a8d0-0f6c0c6140d1",
   "metadata": {},
   "outputs": [
    {
     "data": {
      "text/plain": [
       "array([ 0., 10.])"
      ]
     },
     "execution_count": 29,
     "metadata": {},
     "output_type": "execute_result"
    }
   ],
   "source": [
    "np.linspace(0, 10, 2)"
   ]
  },
  {
   "cell_type": "code",
   "execution_count": 30,
   "id": "98ef06d1-0d78-467a-a45b-3e09d6ce5523",
   "metadata": {},
   "outputs": [
    {
     "data": {
      "text/plain": [
       "array([[1, 2, 3],\n",
       "       [4, 5, 6],\n",
       "       [7, 8, 9]])"
      ]
     },
     "execution_count": 30,
     "metadata": {},
     "output_type": "execute_result"
    }
   ],
   "source": [
    "a"
   ]
  },
  {
   "cell_type": "code",
   "execution_count": 31,
   "id": "ce6465c5-b55a-439d-81f8-75ee9480559c",
   "metadata": {},
   "outputs": [
    {
     "data": {
      "text/plain": [
       "array([[1, 2, 3],\n",
       "       [4, 5, 6],\n",
       "       [7, 8, 9]])"
      ]
     },
     "execution_count": 31,
     "metadata": {},
     "output_type": "execute_result"
    }
   ],
   "source": [
    "np.sort(a)"
   ]
  },
  {
   "cell_type": "code",
   "execution_count": 32,
   "id": "5e844885-c2b0-4684-bf47-dfcee1f3f7d2",
   "metadata": {},
   "outputs": [
    {
     "data": {
      "text/plain": [
       "array([13,  9,  7,  5,  3,  4,  2])"
      ]
     },
     "execution_count": 32,
     "metadata": {},
     "output_type": "execute_result"
    }
   ],
   "source": [
    "b"
   ]
  },
  {
   "cell_type": "code",
   "execution_count": 33,
   "id": "98fb6014-df0c-4b0a-9813-970c8659ab09",
   "metadata": {},
   "outputs": [
    {
     "data": {
      "text/plain": [
       "array([ 2,  3,  4,  5,  7,  9, 13])"
      ]
     },
     "execution_count": 33,
     "metadata": {},
     "output_type": "execute_result"
    }
   ],
   "source": [
    "np.sort(b)"
   ]
  },
  {
   "cell_type": "code",
   "execution_count": 34,
   "id": "2c82e14d-21e8-4f20-83a8-4c9a1a1cdbe7",
   "metadata": {},
   "outputs": [
    {
     "data": {
      "text/plain": [
       "array([13,  9,  7,  5,  3,  4,  2])"
      ]
     },
     "execution_count": 34,
     "metadata": {},
     "output_type": "execute_result"
    }
   ],
   "source": [
    "b"
   ]
  },
  {
   "cell_type": "code",
   "execution_count": 35,
   "id": "880e4000-6200-4830-a9a7-72e81949392c",
   "metadata": {},
   "outputs": [
    {
     "data": {
      "text/plain": [
       "array([17,  4,  3])"
      ]
     },
     "execution_count": 35,
     "metadata": {},
     "output_type": "execute_result"
    }
   ],
   "source": [
    "c"
   ]
  },
  {
   "cell_type": "code",
   "execution_count": 36,
   "id": "45d2163f-783b-4596-900c-15b207f0a56b",
   "metadata": {},
   "outputs": [
    {
     "data": {
      "text/plain": [
       "array([13,  9,  7,  5,  3,  4,  2, 17,  4,  3])"
      ]
     },
     "execution_count": 36,
     "metadata": {},
     "output_type": "execute_result"
    }
   ],
   "source": [
    "np.concatenate((b, c))"
   ]
  },
  {
   "cell_type": "code",
   "execution_count": 37,
   "id": "e43cac90-babd-49d6-941d-8362376cb641",
   "metadata": {},
   "outputs": [
    {
     "data": {
      "text/plain": [
       "array([13,  9,  7,  5,  3,  4,  2])"
      ]
     },
     "execution_count": 37,
     "metadata": {},
     "output_type": "execute_result"
    }
   ],
   "source": [
    "b"
   ]
  },
  {
   "cell_type": "code",
   "execution_count": 38,
   "id": "1e802162-8c00-482c-848b-9869f3d7fd77",
   "metadata": {},
   "outputs": [],
   "source": [
    "b.sort()"
   ]
  },
  {
   "cell_type": "code",
   "execution_count": 39,
   "id": "4d1f7635-b4c5-4d56-b1dc-403bb20368fd",
   "metadata": {},
   "outputs": [
    {
     "data": {
      "text/plain": [
       "array([ 2,  3,  4,  5,  7,  9, 13])"
      ]
     },
     "execution_count": 39,
     "metadata": {},
     "output_type": "execute_result"
    }
   ],
   "source": [
    "b"
   ]
  },
  {
   "cell_type": "code",
   "execution_count": 40,
   "id": "6c45edf1-5f5b-45f3-84ce-149185789ec1",
   "metadata": {},
   "outputs": [
    {
     "data": {
      "text/plain": [
       "array([[1, 2, 3],\n",
       "       [4, 5, 6],\n",
       "       [7, 8, 9]])"
      ]
     },
     "execution_count": 40,
     "metadata": {},
     "output_type": "execute_result"
    }
   ],
   "source": [
    "a"
   ]
  },
  {
   "cell_type": "code",
   "execution_count": 41,
   "id": "05e44811-0522-4915-8867-535fee192c76",
   "metadata": {},
   "outputs": [
    {
     "data": {
      "text/plain": [
       "array([[1, 3],\n",
       "       [7, 9]])"
      ]
     },
     "execution_count": 41,
     "metadata": {},
     "output_type": "execute_result"
    }
   ],
   "source": [
    "a[0:3:2, 0:3:2]"
   ]
  },
  {
   "cell_type": "code",
   "execution_count": 42,
   "id": "bf1305db-b464-488d-ae56-b60c73d8ec56",
   "metadata": {},
   "outputs": [
    {
     "data": {
      "text/plain": [
       "array([2, 4, 6, 8])"
      ]
     },
     "execution_count": 42,
     "metadata": {},
     "output_type": "execute_result"
    }
   ],
   "source": [
    "a[a%2==0]"
   ]
  },
  {
   "cell_type": "code",
   "execution_count": 43,
   "id": "e95ebe97-337b-4fc7-a3bb-0ecee4616548",
   "metadata": {},
   "outputs": [
    {
     "data": {
      "text/plain": [
       "array([[1, 2, 3],\n",
       "       [4, 5, 6],\n",
       "       [7, 8, 9]])"
      ]
     },
     "execution_count": 43,
     "metadata": {},
     "output_type": "execute_result"
    }
   ],
   "source": [
    "a"
   ]
  },
  {
   "cell_type": "code",
   "execution_count": 44,
   "id": "eb6073a3-e1f0-4551-b54a-e89e9afb63ee",
   "metadata": {},
   "outputs": [
    {
     "data": {
      "text/plain": [
       "array([[False,  True, False],\n",
       "       [ True, False,  True],\n",
       "       [False,  True, False]])"
      ]
     },
     "execution_count": 44,
     "metadata": {},
     "output_type": "execute_result"
    }
   ],
   "source": [
    "a%2==0"
   ]
  },
  {
   "cell_type": "code",
   "execution_count": 45,
   "id": "f8ed26b8-6aad-4404-bc33-6070f3f13eba",
   "metadata": {},
   "outputs": [],
   "source": [
    "m = np.array([1, 2, 3, 4])\n",
    "n = np.array([5, 6, 7, 8])"
   ]
  },
  {
   "cell_type": "code",
   "execution_count": 46,
   "id": "25cb2bcb-6574-4fbf-beaa-f91ce0e5ef3c",
   "metadata": {},
   "outputs": [],
   "source": [
    "coor = list(zip(m, n))"
   ]
  },
  {
   "cell_type": "code",
   "execution_count": 47,
   "id": "79421a9d-3c7c-4383-b859-c50b34f02b7e",
   "metadata": {},
   "outputs": [
    {
     "name": "stdout",
     "output_type": "stream",
     "text": [
      "(np.int64(1), np.int64(5))\n",
      "(np.int64(2), np.int64(6))\n",
      "(np.int64(3), np.int64(7))\n",
      "(np.int64(4), np.int64(8))\n"
     ]
    }
   ],
   "source": [
    "for cord in coor:\n",
    "        print(cord)"
   ]
  },
  {
   "cell_type": "code",
   "execution_count": 48,
   "id": "ad6e0ce7-8e58-49bc-ab3f-9770545c6957",
   "metadata": {},
   "outputs": [],
   "source": [
    "z = np.linspace(1, 10, 9).reshape(3, 3)"
   ]
  },
  {
   "cell_type": "code",
   "execution_count": 49,
   "id": "0784f79b-f4d8-4b05-b8f2-bc1464508d80",
   "metadata": {},
   "outputs": [
    {
     "data": {
      "text/plain": [
       "array([[ 1.   ,  2.125,  3.25 ],\n",
       "       [ 4.375,  5.5  ,  6.625],\n",
       "       [ 7.75 ,  8.875, 10.   ]])"
      ]
     },
     "execution_count": 49,
     "metadata": {},
     "output_type": "execute_result"
    }
   ],
   "source": [
    "z"
   ]
  },
  {
   "cell_type": "code",
   "execution_count": 50,
   "id": "c1ad37fb-7d08-4eac-93e4-91132ee9a8c8",
   "metadata": {},
   "outputs": [
    {
     "data": {
      "text/plain": [
       "array([[1, 2, 3],\n",
       "       [4, 5, 6],\n",
       "       [7, 8, 9]])"
      ]
     },
     "execution_count": 50,
     "metadata": {},
     "output_type": "execute_result"
    }
   ],
   "source": [
    "a"
   ]
  },
  {
   "cell_type": "code",
   "execution_count": 51,
   "id": "4f7d2123-b8a9-4534-830e-6940230f97e2",
   "metadata": {},
   "outputs": [
    {
     "data": {
      "text/plain": [
       "array([[ 1.   ,  2.   ,  3.   ],\n",
       "       [ 4.   ,  5.   ,  6.   ],\n",
       "       [ 7.   ,  8.   ,  9.   ],\n",
       "       [ 1.   ,  2.125,  3.25 ],\n",
       "       [ 4.375,  5.5  ,  6.625],\n",
       "       [ 7.75 ,  8.875, 10.   ]])"
      ]
     },
     "execution_count": 51,
     "metadata": {},
     "output_type": "execute_result"
    }
   ],
   "source": [
    "np.vstack((a, z))"
   ]
  },
  {
   "cell_type": "code",
   "execution_count": 52,
   "id": "9b963dbc-2b66-4115-bd04-bdebc6f8f0ca",
   "metadata": {},
   "outputs": [
    {
     "data": {
      "text/plain": [
       "array([[ 1.   ,  2.   ,  3.   ,  1.   ,  2.125,  3.25 ],\n",
       "       [ 4.   ,  5.   ,  6.   ,  4.375,  5.5  ,  6.625],\n",
       "       [ 7.   ,  8.   ,  9.   ,  7.75 ,  8.875, 10.   ]])"
      ]
     },
     "execution_count": 52,
     "metadata": {},
     "output_type": "execute_result"
    }
   ],
   "source": [
    "np.hstack((a, z))"
   ]
  },
  {
   "cell_type": "code",
   "execution_count": 53,
   "id": "0f1300bc-e914-4e54-8fe6-f76df7faf5e2",
   "metadata": {},
   "outputs": [
    {
     "data": {
      "text/plain": [
       "array([[1, 2, 3],\n",
       "       [4, 5, 6],\n",
       "       [7, 8, 9]])"
      ]
     },
     "execution_count": 53,
     "metadata": {},
     "output_type": "execute_result"
    }
   ],
   "source": [
    "a"
   ]
  },
  {
   "cell_type": "code",
   "execution_count": 54,
   "id": "8b5a62a1-0816-46cc-9cfc-8bac5d336a3f",
   "metadata": {},
   "outputs": [
    {
     "data": {
      "text/plain": [
       "array([ 6, 15, 24])"
      ]
     },
     "execution_count": 54,
     "metadata": {},
     "output_type": "execute_result"
    }
   ],
   "source": [
    "a.sum(axis = 1)"
   ]
  },
  {
   "cell_type": "code",
   "execution_count": 55,
   "id": "3d8ac3b7-f502-4e3d-88a0-965c2d124519",
   "metadata": {},
   "outputs": [
    {
     "data": {
      "text/plain": [
       "np.int64(1)"
      ]
     },
     "execution_count": 55,
     "metadata": {},
     "output_type": "execute_result"
    }
   ],
   "source": [
    "a.min()"
   ]
  },
  {
   "cell_type": "code",
   "execution_count": 56,
   "id": "849fadb2-8800-4f12-b1f8-70e9d6064a69",
   "metadata": {},
   "outputs": [
    {
     "data": {
      "text/plain": [
       "np.int64(9)"
      ]
     },
     "execution_count": 56,
     "metadata": {},
     "output_type": "execute_result"
    }
   ],
   "source": [
    "a.max()"
   ]
  },
  {
   "cell_type": "code",
   "execution_count": 57,
   "id": "b662cbae-47da-491b-86f2-66a1e136bfb4",
   "metadata": {},
   "outputs": [
    {
     "data": {
      "text/plain": [
       "np.float64(5.0)"
      ]
     },
     "execution_count": 57,
     "metadata": {},
     "output_type": "execute_result"
    }
   ],
   "source": [
    "a.mean()"
   ]
  },
  {
   "cell_type": "code",
   "execution_count": 58,
   "id": "7905ff75-1c1a-4de3-8675-884deee034b3",
   "metadata": {},
   "outputs": [
    {
     "data": {
      "text/plain": [
       "array([1, 2, 3])"
      ]
     },
     "execution_count": 58,
     "metadata": {},
     "output_type": "execute_result"
    }
   ],
   "source": [
    "a.min(axis = 0)"
   ]
  },
  {
   "cell_type": "code",
   "execution_count": 59,
   "id": "7afe40e3-a25e-4d90-ba09-c2baaa85a1e2",
   "metadata": {},
   "outputs": [
    {
     "data": {
      "text/plain": [
       "array([[1, 2, 3],\n",
       "       [4, 5, 6],\n",
       "       [7, 8, 9]])"
      ]
     },
     "execution_count": 59,
     "metadata": {},
     "output_type": "execute_result"
    }
   ],
   "source": [
    "a"
   ]
  },
  {
   "cell_type": "code",
   "execution_count": 60,
   "id": "1ef6b641-07a7-401a-85d0-f036eb85d26d",
   "metadata": {},
   "outputs": [
    {
     "data": {
      "text/plain": [
       "array([[4, 5]])"
      ]
     },
     "execution_count": 60,
     "metadata": {},
     "output_type": "execute_result"
    }
   ],
   "source": [
    "a[1:3: 2, 0:2]"
   ]
  },
  {
   "cell_type": "code",
   "execution_count": 61,
   "id": "4d0f9600-5957-477c-aed9-6e5c98e59a9f",
   "metadata": {},
   "outputs": [
    {
     "data": {
      "text/plain": [
       "array([1, 2, 3, 4, 5, 6, 7, 8, 9])"
      ]
     },
     "execution_count": 61,
     "metadata": {},
     "output_type": "execute_result"
    }
   ],
   "source": [
    "a.flatten()"
   ]
  },
  {
   "cell_type": "code",
   "execution_count": 62,
   "id": "a4a3df42-909c-49bc-b129-a44311b08863",
   "metadata": {},
   "outputs": [
    {
     "data": {
      "text/plain": [
       "array([[1, 2, 3],\n",
       "       [4, 5, 6],\n",
       "       [7, 8, 9]])"
      ]
     },
     "execution_count": 62,
     "metadata": {},
     "output_type": "execute_result"
    }
   ],
   "source": [
    "a"
   ]
  },
  {
   "cell_type": "code",
   "execution_count": 63,
   "id": "90e34a66-ec57-4e35-bcdb-6285b873d3f0",
   "metadata": {},
   "outputs": [
    {
     "data": {
      "text/plain": [
       "array([1, 2, 3, 4, 5, 6, 7, 8, 9])"
      ]
     },
     "execution_count": 63,
     "metadata": {},
     "output_type": "execute_result"
    }
   ],
   "source": [
    "a.ravel()"
   ]
  },
  {
   "cell_type": "code",
   "execution_count": 64,
   "id": "a7f8c905-8747-475b-bfcc-18d61faa645b",
   "metadata": {},
   "outputs": [
    {
     "data": {
      "text/plain": [
       "array([[1, 2, 3],\n",
       "       [4, 5, 6],\n",
       "       [7, 8, 9]])"
      ]
     },
     "execution_count": 64,
     "metadata": {},
     "output_type": "execute_result"
    }
   ],
   "source": [
    "a"
   ]
  },
  {
   "cell_type": "code",
   "execution_count": 65,
   "id": "3ea62365-c02c-438d-ad7b-7315100696e7",
   "metadata": {},
   "outputs": [],
   "source": [
    "a.flatten()[0] = 99"
   ]
  },
  {
   "cell_type": "code",
   "execution_count": 66,
   "id": "8415495c-daa1-4677-b997-9fedafd41402",
   "metadata": {},
   "outputs": [
    {
     "data": {
      "text/plain": [
       "array([[1, 2, 3],\n",
       "       [4, 5, 6],\n",
       "       [7, 8, 9]])"
      ]
     },
     "execution_count": 66,
     "metadata": {},
     "output_type": "execute_result"
    }
   ],
   "source": [
    "a"
   ]
  },
  {
   "cell_type": "code",
   "execution_count": 67,
   "id": "2a30b452-b1da-468d-9122-74fbd29c98ad",
   "metadata": {},
   "outputs": [],
   "source": [
    "a.ravel()[0] = 99"
   ]
  },
  {
   "cell_type": "code",
   "execution_count": 68,
   "id": "e620d2ff-0f0a-4660-bfe5-ef991729578e",
   "metadata": {},
   "outputs": [
    {
     "data": {
      "text/plain": [
       "array([[99,  2,  3],\n",
       "       [ 4,  5,  6],\n",
       "       [ 7,  8,  9]])"
      ]
     },
     "execution_count": 68,
     "metadata": {},
     "output_type": "execute_result"
    }
   ],
   "source": [
    "a"
   ]
  },
  {
   "cell_type": "code",
   "execution_count": 69,
   "id": "f876ce03-47bd-4478-8ae4-08edc917bcfa",
   "metadata": {},
   "outputs": [
    {
     "data": {
      "text/plain": [
       "array([[3, 3, 3],\n",
       "       [3, 3, 3]])"
      ]
     },
     "execution_count": 69,
     "metadata": {},
     "output_type": "execute_result"
    }
   ],
   "source": [
    "np.full((2, 3), 3)"
   ]
  },
  {
   "cell_type": "code",
   "execution_count": 70,
   "id": "f64f264b-62ec-4c2b-ba0b-2ecb61870431",
   "metadata": {},
   "outputs": [
    {
     "data": {
      "text/plain": [
       "array([[0.54670192, 0.59827822],\n",
       "       [0.70458245, 0.58031376],\n",
       "       [0.7238098 , 0.09638222]])"
      ]
     },
     "execution_count": 70,
     "metadata": {},
     "output_type": "execute_result"
    }
   ],
   "source": [
    "np.random.rand(3, 2)"
   ]
  },
  {
   "cell_type": "code",
   "execution_count": 71,
   "id": "a0add8dc-8143-4a78-9dd2-291340116c96",
   "metadata": {},
   "outputs": [
    {
     "data": {
      "text/plain": [
       "array([405, 870,  92], dtype=int32)"
      ]
     },
     "execution_count": 71,
     "metadata": {},
     "output_type": "execute_result"
    }
   ],
   "source": [
    "np.random.randint(2, 1000, 3)"
   ]
  },
  {
   "cell_type": "code",
   "execution_count": 72,
   "id": "30af4cd0-f50c-49fd-adf6-f47051215728",
   "metadata": {},
   "outputs": [
    {
     "data": {
      "text/plain": [
       "array([[[ 0.28172725,  0.59223315],\n",
       "        [-1.28596682,  0.44914136],\n",
       "        [-0.98221888,  0.09700801]],\n",
       "\n",
       "       [[ 0.05218262,  0.9305554 ],\n",
       "        [ 1.80589278, -0.23894767],\n",
       "        [ 0.37914526, -0.4263    ]]])"
      ]
     },
     "execution_count": 72,
     "metadata": {},
     "output_type": "execute_result"
    }
   ],
   "source": [
    "np.random.randn(2, 3, 2)"
   ]
  },
  {
   "cell_type": "code",
   "execution_count": 73,
   "id": "826cb655-bb49-40d9-b37a-073325c258ce",
   "metadata": {},
   "outputs": [
    {
     "data": {
      "text/plain": [
       "array([[0.70168617, 0.99471731, 0.09782953],\n",
       "       [0.9127286 , 0.45559582, 0.8559838 ]])"
      ]
     },
     "execution_count": 73,
     "metadata": {},
     "output_type": "execute_result"
    }
   ],
   "source": [
    "np.random.random((2, 3))"
   ]
  },
  {
   "cell_type": "code",
   "execution_count": 74,
   "id": "643d696c-4edd-4a5e-b347-e386fb973d39",
   "metadata": {},
   "outputs": [
    {
     "data": {
      "text/plain": [
       "array([[2.37858534e+184, 1.77296457e+160],\n",
       "       [4.27073521e-090, 1.81501156e-052]])"
      ]
     },
     "execution_count": 74,
     "metadata": {},
     "output_type": "execute_result"
    }
   ],
   "source": [
    "np.empty((2, 2))"
   ]
  },
  {
   "cell_type": "code",
   "execution_count": 75,
   "id": "0ee1f0b3-3243-4110-b65f-dd4ef413decf",
   "metadata": {},
   "outputs": [
    {
     "data": {
      "text/plain": [
       "array([[99,  2,  3],\n",
       "       [ 4,  5,  6],\n",
       "       [ 7,  8,  9]])"
      ]
     },
     "execution_count": 75,
     "metadata": {},
     "output_type": "execute_result"
    }
   ],
   "source": [
    "a"
   ]
  },
  {
   "cell_type": "code",
   "execution_count": 76,
   "id": "54fdf597-d441-420c-9a32-9d3d52b1d40d",
   "metadata": {},
   "outputs": [
    {
     "data": {
      "text/plain": [
       "array([[99,  2,  3],\n",
       "       [ 4,  5,  6],\n",
       "       [ 7,  8,  9]])"
      ]
     },
     "execution_count": 76,
     "metadata": {},
     "output_type": "execute_result"
    }
   ],
   "source": [
    "a.view()"
   ]
  },
  {
   "cell_type": "code",
   "execution_count": 77,
   "id": "f9ddcb50-9116-4b6b-8c0e-c150a9ea01c7",
   "metadata": {},
   "outputs": [
    {
     "data": {
      "text/plain": [
       "'int64'"
      ]
     },
     "execution_count": 77,
     "metadata": {},
     "output_type": "execute_result"
    }
   ],
   "source": [
    "a.dtype.name"
   ]
  },
  {
   "cell_type": "code",
   "execution_count": 78,
   "id": "3d05628d-5be9-4b30-8784-64978ba8e7c7",
   "metadata": {},
   "outputs": [
    {
     "data": {
      "text/plain": [
       "array([[9801,    4,    9],\n",
       "       [  16,   25,   36],\n",
       "       [  49,   64,   81]])"
      ]
     },
     "execution_count": 78,
     "metadata": {},
     "output_type": "execute_result"
    }
   ],
   "source": [
    "a**2"
   ]
  },
  {
   "cell_type": "code",
   "execution_count": 79,
   "id": "f505b0dd-d109-47c5-ba94-bb4e1e5daa8f",
   "metadata": {},
   "outputs": [
    {
     "data": {
      "text/plain": [
       "array([[9801,    4,    9],\n",
       "       [  16,   25,   36],\n",
       "       [  49,   64,   81]])"
      ]
     },
     "execution_count": 79,
     "metadata": {},
     "output_type": "execute_result"
    }
   ],
   "source": [
    "np.square(a)"
   ]
  },
  {
   "cell_type": "code",
   "execution_count": 80,
   "id": "9ba8c45a-165d-43ba-96b9-6c43ee2f35e3",
   "metadata": {},
   "outputs": [
    {
     "data": {
      "text/plain": [
       "np.int64(143)"
      ]
     },
     "execution_count": 80,
     "metadata": {},
     "output_type": "execute_result"
    }
   ],
   "source": [
    "a.sum()"
   ]
  },
  {
   "cell_type": "code",
   "execution_count": 81,
   "id": "10dc4e34-cbaa-469c-8b15-23aa51933aaf",
   "metadata": {},
   "outputs": [
    {
     "data": {
      "text/plain": [
       "array([[ 99,   2,   3],\n",
       "       [103,   7,   9],\n",
       "       [110,  15,  18]])"
      ]
     },
     "execution_count": 81,
     "metadata": {},
     "output_type": "execute_result"
    }
   ],
   "source": [
    "a.cumsum(axis = 0)"
   ]
  },
  {
   "cell_type": "code",
   "execution_count": 82,
   "id": "ba7489db-2be8-41bb-9d3a-b2d66ec193ae",
   "metadata": {},
   "outputs": [
    {
     "data": {
      "text/plain": [
       "array([110,  15,  18])"
      ]
     },
     "execution_count": 82,
     "metadata": {},
     "output_type": "execute_result"
    }
   ],
   "source": [
    "a.sum(axis = 0)"
   ]
  },
  {
   "cell_type": "code",
   "execution_count": 83,
   "id": "dae5a2fe-7a37-4d1d-8206-73ec60c7dfc3",
   "metadata": {},
   "outputs": [
    {
     "data": {
      "text/plain": [
       "array([ 2,  3,  4,  5,  7,  9, 13])"
      ]
     },
     "execution_count": 83,
     "metadata": {},
     "output_type": "execute_result"
    }
   ],
   "source": [
    "b\n"
   ]
  },
  {
   "cell_type": "code",
   "execution_count": 84,
   "id": "f96baf1d-2e28-4595-a9d4-7eae32aaab4b",
   "metadata": {},
   "outputs": [
    {
     "data": {
      "text/plain": [
       "array([ 2,  3,  4,  5,  7,  9, 13, 99])"
      ]
     },
     "execution_count": 84,
     "metadata": {},
     "output_type": "execute_result"
    }
   ],
   "source": [
    "np.append(b, 99)"
   ]
  },
  {
   "cell_type": "code",
   "execution_count": 85,
   "id": "afcd155a-ee7c-4cbc-91ae-c75767f50947",
   "metadata": {},
   "outputs": [
    {
     "data": {
      "text/plain": [
       "array([ 2,  3,  4,  5,  7,  9, 13])"
      ]
     },
     "execution_count": 85,
     "metadata": {},
     "output_type": "execute_result"
    }
   ],
   "source": [
    "b"
   ]
  },
  {
   "cell_type": "code",
   "execution_count": 86,
   "id": "6249b7b2-ab64-4665-8b1a-353af0b72373",
   "metadata": {},
   "outputs": [
    {
     "data": {
      "text/plain": [
       "array([[ 1.   ,  2.125,  3.25 ],\n",
       "       [ 4.375,  5.5  ,  6.625],\n",
       "       [ 7.75 ,  8.875, 10.   ]])"
      ]
     },
     "execution_count": 86,
     "metadata": {},
     "output_type": "execute_result"
    }
   ],
   "source": [
    "z"
   ]
  },
  {
   "cell_type": "code",
   "execution_count": 87,
   "id": "b6ef9112-8290-42cb-85ad-7d69750174fd",
   "metadata": {},
   "outputs": [
    {
     "data": {
      "text/plain": [
       "array([[99.   ,  2.   ,  3.   ],\n",
       "       [ 4.   ,  5.   ,  6.   ],\n",
       "       [ 7.   ,  8.   ,  9.   ],\n",
       "       [ 1.   ,  2.125,  3.25 ],\n",
       "       [ 4.375,  5.5  ,  6.625],\n",
       "       [ 7.75 ,  8.875, 10.   ]])"
      ]
     },
     "execution_count": 87,
     "metadata": {},
     "output_type": "execute_result"
    }
   ],
   "source": [
    "np.r_[a, z]"
   ]
  },
  {
   "cell_type": "code",
   "execution_count": 88,
   "id": "f5a3935f-c45c-45c5-a45f-89c5bba296f5",
   "metadata": {},
   "outputs": [
    {
     "data": {
      "text/plain": [
       "array([[99.   ,  2.   ,  3.   ,  1.   ,  2.125,  3.25 ],\n",
       "       [ 4.   ,  5.   ,  6.   ,  4.375,  5.5  ,  6.625],\n",
       "       [ 7.   ,  8.   ,  9.   ,  7.75 ,  8.875, 10.   ]])"
      ]
     },
     "execution_count": 88,
     "metadata": {},
     "output_type": "execute_result"
    }
   ],
   "source": [
    "np.c_[a, z]"
   ]
  },
  {
   "cell_type": "code",
   "execution_count": 89,
   "id": "7ff5d297-365e-4e57-8d1e-447c98c696b5",
   "metadata": {},
   "outputs": [
    {
     "data": {
      "text/plain": [
       "array([[99,  2,  3],\n",
       "       [ 4,  5,  6],\n",
       "       [ 7,  8,  9]])"
      ]
     },
     "execution_count": 89,
     "metadata": {},
     "output_type": "execute_result"
    }
   ],
   "source": [
    "a"
   ]
  },
  {
   "cell_type": "code",
   "execution_count": 90,
   "id": "f7621f63-5068-4f92-b914-5e46bcfc17d9",
   "metadata": {},
   "outputs": [
    {
     "data": {
      "text/plain": [
       "array([3, 5, 7])"
      ]
     },
     "execution_count": 90,
     "metadata": {},
     "output_type": "execute_result"
    }
   ],
   "source": [
    "a[[0, 1, 2],[2, 1, 0]]"
   ]
  },
  {
   "cell_type": "code",
   "execution_count": 91,
   "id": "a8b1a18f-8aa5-4047-8b7b-cfe529341e95",
   "metadata": {},
   "outputs": [
    {
     "data": {
      "text/plain": [
       "array([[99,  3, 99],\n",
       "       [ 4,  6,  4],\n",
       "       [ 4,  6,  4]])"
      ]
     },
     "execution_count": 91,
     "metadata": {},
     "output_type": "execute_result"
    }
   ],
   "source": [
    "a[[0, 1, 1]][:,[0, 2, 0]]"
   ]
  },
  {
   "cell_type": "code",
   "execution_count": 92,
   "id": "aa79d406-f656-4f4a-8b99-235204a46659",
   "metadata": {},
   "outputs": [
    {
     "data": {
      "text/plain": [
       "array([[99,  2,  3],\n",
       "       [ 4,  5,  6],\n",
       "       [ 4,  5,  6]])"
      ]
     },
     "execution_count": 92,
     "metadata": {},
     "output_type": "execute_result"
    }
   ],
   "source": [
    "a[[0, 1, 1]]"
   ]
  },
  {
   "cell_type": "markdown",
   "id": "f1d6a4eb-cc29-4bac-bdc1-b622d87eb78f",
   "metadata": {},
   "source": [
    "### PANDAS"
   ]
  },
  {
   "cell_type": "markdown",
   "id": "f3342afd-48ed-4fe1-b267-69535f3375da",
   "metadata": {},
   "source": [
    "Pandas is an open source python package that provides fast, flexible and expressive data structures designed to make working with relational or labelled data both easy and intuiutive."
   ]
  },
  {
   "cell_type": "code",
   "execution_count": 93,
   "id": "004c376f-ce6e-45b5-93ec-bd2591b801c0",
   "metadata": {},
   "outputs": [],
   "source": [
    "import pandas as pd"
   ]
  },
  {
   "cell_type": "code",
   "execution_count": 94,
   "id": "6d122bf0-10c5-44eb-86a2-ce3266b03e8f",
   "metadata": {},
   "outputs": [],
   "source": [
    "s = pd.Series([1, 2, 3, np.nan])"
   ]
  },
  {
   "cell_type": "code",
   "execution_count": 95,
   "id": "f7a9accc-8359-473e-849b-5831ad8fb8bc",
   "metadata": {},
   "outputs": [
    {
     "data": {
      "text/plain": [
       "0    1.0\n",
       "1    2.0\n",
       "2    3.0\n",
       "3    NaN\n",
       "dtype: float64"
      ]
     },
     "execution_count": 95,
     "metadata": {},
     "output_type": "execute_result"
    }
   ],
   "source": [
    "s"
   ]
  },
  {
   "cell_type": "code",
   "execution_count": 96,
   "id": "df17a8d5-c0ac-42a6-9167-fae90f165f05",
   "metadata": {},
   "outputs": [],
   "source": [
    "df = pd.DataFrame(np.random.randn(6, 4), index = np.arange(1, 13, 2), columns = list(\"ABCD\"))"
   ]
  },
  {
   "cell_type": "code",
   "execution_count": 97,
   "id": "de279647-6d53-45ea-83c3-c0876ac055b4",
   "metadata": {},
   "outputs": [
    {
     "data": {
      "text/html": [
       "<div>\n",
       "<style scoped>\n",
       "    .dataframe tbody tr th:only-of-type {\n",
       "        vertical-align: middle;\n",
       "    }\n",
       "\n",
       "    .dataframe tbody tr th {\n",
       "        vertical-align: top;\n",
       "    }\n",
       "\n",
       "    .dataframe thead th {\n",
       "        text-align: right;\n",
       "    }\n",
       "</style>\n",
       "<table border=\"1\" class=\"dataframe\">\n",
       "  <thead>\n",
       "    <tr style=\"text-align: right;\">\n",
       "      <th></th>\n",
       "      <th>A</th>\n",
       "      <th>B</th>\n",
       "      <th>C</th>\n",
       "      <th>D</th>\n",
       "    </tr>\n",
       "  </thead>\n",
       "  <tbody>\n",
       "    <tr>\n",
       "      <th>1</th>\n",
       "      <td>-0.917598</td>\n",
       "      <td>0.750220</td>\n",
       "      <td>2.490811</td>\n",
       "      <td>-1.428422</td>\n",
       "    </tr>\n",
       "    <tr>\n",
       "      <th>3</th>\n",
       "      <td>0.484263</td>\n",
       "      <td>-0.377896</td>\n",
       "      <td>-0.323125</td>\n",
       "      <td>-0.712956</td>\n",
       "    </tr>\n",
       "    <tr>\n",
       "      <th>5</th>\n",
       "      <td>-0.115701</td>\n",
       "      <td>0.916827</td>\n",
       "      <td>-0.980430</td>\n",
       "      <td>1.246285</td>\n",
       "    </tr>\n",
       "    <tr>\n",
       "      <th>7</th>\n",
       "      <td>0.988036</td>\n",
       "      <td>-0.615680</td>\n",
       "      <td>-0.557416</td>\n",
       "      <td>-0.934982</td>\n",
       "    </tr>\n",
       "    <tr>\n",
       "      <th>9</th>\n",
       "      <td>1.570974</td>\n",
       "      <td>-1.784536</td>\n",
       "      <td>-0.912110</td>\n",
       "      <td>-0.845125</td>\n",
       "    </tr>\n",
       "    <tr>\n",
       "      <th>11</th>\n",
       "      <td>1.219863</td>\n",
       "      <td>0.574210</td>\n",
       "      <td>0.743674</td>\n",
       "      <td>-0.327234</td>\n",
       "    </tr>\n",
       "  </tbody>\n",
       "</table>\n",
       "</div>"
      ],
      "text/plain": [
       "           A         B         C         D\n",
       "1  -0.917598  0.750220  2.490811 -1.428422\n",
       "3   0.484263 -0.377896 -0.323125 -0.712956\n",
       "5  -0.115701  0.916827 -0.980430  1.246285\n",
       "7   0.988036 -0.615680 -0.557416 -0.934982\n",
       "9   1.570974 -1.784536 -0.912110 -0.845125\n",
       "11  1.219863  0.574210  0.743674 -0.327234"
      ]
     },
     "execution_count": 97,
     "metadata": {},
     "output_type": "execute_result"
    }
   ],
   "source": [
    "df"
   ]
  },
  {
   "cell_type": "code",
   "execution_count": 98,
   "id": "5954a207-9f7f-45de-a6a2-af2f9fe04487",
   "metadata": {},
   "outputs": [],
   "source": [
    "s1 = pd.Series(np.random.randn(100))"
   ]
  },
  {
   "cell_type": "code",
   "execution_count": 99,
   "id": "bc0bc50f-4979-48f4-88fe-d2ccb9cfab86",
   "metadata": {},
   "outputs": [
    {
     "data": {
      "text/plain": [
       "0     0.492046\n",
       "1    -1.167517\n",
       "2    -0.738657\n",
       "3     0.803280\n",
       "4     0.618619\n",
       "        ...   \n",
       "95   -0.296199\n",
       "96    0.037243\n",
       "97   -2.214895\n",
       "98   -1.802340\n",
       "99   -0.039655\n",
       "Length: 100, dtype: float64"
      ]
     },
     "execution_count": 99,
     "metadata": {},
     "output_type": "execute_result"
    }
   ],
   "source": [
    "s1"
   ]
  },
  {
   "cell_type": "code",
   "execution_count": 100,
   "id": "33a57bac-a13d-43b3-82d8-54dd57da7709",
   "metadata": {},
   "outputs": [],
   "source": [
    "df1 = pd.DataFrame(np.linspace(1, 10, 20).reshape(4, 5), index = np.arange(1, 5), columns = list(\"ABCDE\"))"
   ]
  },
  {
   "cell_type": "code",
   "execution_count": 101,
   "id": "ab86736e-3da8-4a47-8ad2-f62d306d11b1",
   "metadata": {},
   "outputs": [
    {
     "data": {
      "text/html": [
       "<div>\n",
       "<style scoped>\n",
       "    .dataframe tbody tr th:only-of-type {\n",
       "        vertical-align: middle;\n",
       "    }\n",
       "\n",
       "    .dataframe tbody tr th {\n",
       "        vertical-align: top;\n",
       "    }\n",
       "\n",
       "    .dataframe thead th {\n",
       "        text-align: right;\n",
       "    }\n",
       "</style>\n",
       "<table border=\"1\" class=\"dataframe\">\n",
       "  <thead>\n",
       "    <tr style=\"text-align: right;\">\n",
       "      <th></th>\n",
       "      <th>A</th>\n",
       "      <th>B</th>\n",
       "      <th>C</th>\n",
       "      <th>D</th>\n",
       "      <th>E</th>\n",
       "    </tr>\n",
       "  </thead>\n",
       "  <tbody>\n",
       "    <tr>\n",
       "      <th>1</th>\n",
       "      <td>1.000000</td>\n",
       "      <td>1.473684</td>\n",
       "      <td>1.947368</td>\n",
       "      <td>2.421053</td>\n",
       "      <td>2.894737</td>\n",
       "    </tr>\n",
       "    <tr>\n",
       "      <th>2</th>\n",
       "      <td>3.368421</td>\n",
       "      <td>3.842105</td>\n",
       "      <td>4.315789</td>\n",
       "      <td>4.789474</td>\n",
       "      <td>5.263158</td>\n",
       "    </tr>\n",
       "    <tr>\n",
       "      <th>3</th>\n",
       "      <td>5.736842</td>\n",
       "      <td>6.210526</td>\n",
       "      <td>6.684211</td>\n",
       "      <td>7.157895</td>\n",
       "      <td>7.631579</td>\n",
       "    </tr>\n",
       "    <tr>\n",
       "      <th>4</th>\n",
       "      <td>8.105263</td>\n",
       "      <td>8.578947</td>\n",
       "      <td>9.052632</td>\n",
       "      <td>9.526316</td>\n",
       "      <td>10.000000</td>\n",
       "    </tr>\n",
       "  </tbody>\n",
       "</table>\n",
       "</div>"
      ],
      "text/plain": [
       "          A         B         C         D          E\n",
       "1  1.000000  1.473684  1.947368  2.421053   2.894737\n",
       "2  3.368421  3.842105  4.315789  4.789474   5.263158\n",
       "3  5.736842  6.210526  6.684211  7.157895   7.631579\n",
       "4  8.105263  8.578947  9.052632  9.526316  10.000000"
      ]
     },
     "execution_count": 101,
     "metadata": {},
     "output_type": "execute_result"
    }
   ],
   "source": [
    "df1"
   ]
  },
  {
   "cell_type": "code",
   "execution_count": 102,
   "id": "001aa30b-be55-48a7-98f1-3ecf6027dee8",
   "metadata": {},
   "outputs": [
    {
     "name": "stdout",
     "output_type": "stream",
     "text": [
      "<class 'pandas.core.frame.DataFrame'>\n",
      "Index: 4 entries, 1 to 4\n",
      "Data columns (total 5 columns):\n",
      " #   Column  Non-Null Count  Dtype  \n",
      "---  ------  --------------  -----  \n",
      " 0   A       4 non-null      float64\n",
      " 1   B       4 non-null      float64\n",
      " 2   C       4 non-null      float64\n",
      " 3   D       4 non-null      float64\n",
      " 4   E       4 non-null      float64\n",
      "dtypes: float64(5)\n",
      "memory usage: 192.0 bytes\n"
     ]
    }
   ],
   "source": [
    "df1.info()"
   ]
  },
  {
   "cell_type": "code",
   "execution_count": 103,
   "id": "dff4efb6-595f-4981-87da-8fd8ef8a1873",
   "metadata": {},
   "outputs": [
    {
     "data": {
      "text/plain": [
       "A    float64\n",
       "B    float64\n",
       "C    float64\n",
       "D    float64\n",
       "E    float64\n",
       "dtype: object"
      ]
     },
     "execution_count": 103,
     "metadata": {},
     "output_type": "execute_result"
    }
   ],
   "source": [
    "df1.dtypes"
   ]
  },
  {
   "cell_type": "code",
   "execution_count": 104,
   "id": "24d62827-8d27-4c82-9cea-a2ba2af49a01",
   "metadata": {},
   "outputs": [
    {
     "data": {
      "text/plain": [
       "Index([1, 2, 3, 4], dtype='int64')"
      ]
     },
     "execution_count": 104,
     "metadata": {},
     "output_type": "execute_result"
    }
   ],
   "source": [
    "df1.index"
   ]
  },
  {
   "cell_type": "code",
   "execution_count": 105,
   "id": "4994a1c7-3db6-49b2-a7a5-d8d3a39954cb",
   "metadata": {},
   "outputs": [
    {
     "data": {
      "text/plain": [
       "Index(['A', 'B', 'C', 'D', 'E'], dtype='object')"
      ]
     },
     "execution_count": 105,
     "metadata": {},
     "output_type": "execute_result"
    }
   ],
   "source": [
    "df1.columns"
   ]
  },
  {
   "cell_type": "code",
   "execution_count": 106,
   "id": "43d8ad74-fdfc-4be0-8733-74f08afa2096",
   "metadata": {},
   "outputs": [
    {
     "data": {
      "text/html": [
       "<div>\n",
       "<style scoped>\n",
       "    .dataframe tbody tr th:only-of-type {\n",
       "        vertical-align: middle;\n",
       "    }\n",
       "\n",
       "    .dataframe tbody tr th {\n",
       "        vertical-align: top;\n",
       "    }\n",
       "\n",
       "    .dataframe thead th {\n",
       "        text-align: right;\n",
       "    }\n",
       "</style>\n",
       "<table border=\"1\" class=\"dataframe\">\n",
       "  <thead>\n",
       "    <tr style=\"text-align: right;\">\n",
       "      <th></th>\n",
       "      <th>A</th>\n",
       "      <th>B</th>\n",
       "      <th>C</th>\n",
       "      <th>D</th>\n",
       "      <th>E</th>\n",
       "    </tr>\n",
       "  </thead>\n",
       "  <tbody>\n",
       "    <tr>\n",
       "      <th>1</th>\n",
       "      <td>1.000000</td>\n",
       "      <td>1.473684</td>\n",
       "      <td>1.947368</td>\n",
       "      <td>2.421053</td>\n",
       "      <td>2.894737</td>\n",
       "    </tr>\n",
       "    <tr>\n",
       "      <th>2</th>\n",
       "      <td>3.368421</td>\n",
       "      <td>3.842105</td>\n",
       "      <td>4.315789</td>\n",
       "      <td>4.789474</td>\n",
       "      <td>5.263158</td>\n",
       "    </tr>\n",
       "    <tr>\n",
       "      <th>3</th>\n",
       "      <td>5.736842</td>\n",
       "      <td>6.210526</td>\n",
       "      <td>6.684211</td>\n",
       "      <td>7.157895</td>\n",
       "      <td>7.631579</td>\n",
       "    </tr>\n",
       "    <tr>\n",
       "      <th>4</th>\n",
       "      <td>8.105263</td>\n",
       "      <td>8.578947</td>\n",
       "      <td>9.052632</td>\n",
       "      <td>9.526316</td>\n",
       "      <td>10.000000</td>\n",
       "    </tr>\n",
       "  </tbody>\n",
       "</table>\n",
       "</div>"
      ],
      "text/plain": [
       "          A         B         C         D          E\n",
       "1  1.000000  1.473684  1.947368  2.421053   2.894737\n",
       "2  3.368421  3.842105  4.315789  4.789474   5.263158\n",
       "3  5.736842  6.210526  6.684211  7.157895   7.631579\n",
       "4  8.105263  8.578947  9.052632  9.526316  10.000000"
      ]
     },
     "execution_count": 106,
     "metadata": {},
     "output_type": "execute_result"
    }
   ],
   "source": [
    "df1"
   ]
  },
  {
   "cell_type": "code",
   "execution_count": 107,
   "id": "d8777729-b97d-47b7-b955-0fc647560f21",
   "metadata": {},
   "outputs": [
    {
     "data": {
      "text/plain": [
       "array([[ 1.        ,  1.47368421,  1.94736842,  2.42105263,  2.89473684],\n",
       "       [ 3.36842105,  3.84210526,  4.31578947,  4.78947368,  5.26315789],\n",
       "       [ 5.73684211,  6.21052632,  6.68421053,  7.15789474,  7.63157895],\n",
       "       [ 8.10526316,  8.57894737,  9.05263158,  9.52631579, 10.        ]])"
      ]
     },
     "execution_count": 107,
     "metadata": {},
     "output_type": "execute_result"
    }
   ],
   "source": [
    "df1.to_numpy()"
   ]
  },
  {
   "cell_type": "code",
   "execution_count": 108,
   "id": "1ae967b7-8507-4390-a5c7-179f44a6a6bd",
   "metadata": {},
   "outputs": [
    {
     "data": {
      "text/html": [
       "<div>\n",
       "<style scoped>\n",
       "    .dataframe tbody tr th:only-of-type {\n",
       "        vertical-align: middle;\n",
       "    }\n",
       "\n",
       "    .dataframe tbody tr th {\n",
       "        vertical-align: top;\n",
       "    }\n",
       "\n",
       "    .dataframe thead th {\n",
       "        text-align: right;\n",
       "    }\n",
       "</style>\n",
       "<table border=\"1\" class=\"dataframe\">\n",
       "  <thead>\n",
       "    <tr style=\"text-align: right;\">\n",
       "      <th></th>\n",
       "      <th>A</th>\n",
       "      <th>B</th>\n",
       "      <th>C</th>\n",
       "      <th>D</th>\n",
       "      <th>E</th>\n",
       "    </tr>\n",
       "  </thead>\n",
       "  <tbody>\n",
       "    <tr>\n",
       "      <th>count</th>\n",
       "      <td>4.000000</td>\n",
       "      <td>4.000000</td>\n",
       "      <td>4.000000</td>\n",
       "      <td>4.000000</td>\n",
       "      <td>4.000000</td>\n",
       "    </tr>\n",
       "    <tr>\n",
       "      <th>mean</th>\n",
       "      <td>4.552632</td>\n",
       "      <td>5.026316</td>\n",
       "      <td>5.500000</td>\n",
       "      <td>5.973684</td>\n",
       "      <td>6.447368</td>\n",
       "    </tr>\n",
       "    <tr>\n",
       "      <th>std</th>\n",
       "      <td>3.057618</td>\n",
       "      <td>3.057618</td>\n",
       "      <td>3.057618</td>\n",
       "      <td>3.057618</td>\n",
       "      <td>3.057618</td>\n",
       "    </tr>\n",
       "    <tr>\n",
       "      <th>min</th>\n",
       "      <td>1.000000</td>\n",
       "      <td>1.473684</td>\n",
       "      <td>1.947368</td>\n",
       "      <td>2.421053</td>\n",
       "      <td>2.894737</td>\n",
       "    </tr>\n",
       "    <tr>\n",
       "      <th>25%</th>\n",
       "      <td>2.776316</td>\n",
       "      <td>3.250000</td>\n",
       "      <td>3.723684</td>\n",
       "      <td>4.197368</td>\n",
       "      <td>4.671053</td>\n",
       "    </tr>\n",
       "    <tr>\n",
       "      <th>50%</th>\n",
       "      <td>4.552632</td>\n",
       "      <td>5.026316</td>\n",
       "      <td>5.500000</td>\n",
       "      <td>5.973684</td>\n",
       "      <td>6.447368</td>\n",
       "    </tr>\n",
       "    <tr>\n",
       "      <th>75%</th>\n",
       "      <td>6.328947</td>\n",
       "      <td>6.802632</td>\n",
       "      <td>7.276316</td>\n",
       "      <td>7.750000</td>\n",
       "      <td>8.223684</td>\n",
       "    </tr>\n",
       "    <tr>\n",
       "      <th>max</th>\n",
       "      <td>8.105263</td>\n",
       "      <td>8.578947</td>\n",
       "      <td>9.052632</td>\n",
       "      <td>9.526316</td>\n",
       "      <td>10.000000</td>\n",
       "    </tr>\n",
       "  </tbody>\n",
       "</table>\n",
       "</div>"
      ],
      "text/plain": [
       "              A         B         C         D          E\n",
       "count  4.000000  4.000000  4.000000  4.000000   4.000000\n",
       "mean   4.552632  5.026316  5.500000  5.973684   6.447368\n",
       "std    3.057618  3.057618  3.057618  3.057618   3.057618\n",
       "min    1.000000  1.473684  1.947368  2.421053   2.894737\n",
       "25%    2.776316  3.250000  3.723684  4.197368   4.671053\n",
       "50%    4.552632  5.026316  5.500000  5.973684   6.447368\n",
       "75%    6.328947  6.802632  7.276316  7.750000   8.223684\n",
       "max    8.105263  8.578947  9.052632  9.526316  10.000000"
      ]
     },
     "execution_count": 108,
     "metadata": {},
     "output_type": "execute_result"
    }
   ],
   "source": [
    "df1.describe()"
   ]
  },
  {
   "cell_type": "code",
   "execution_count": 109,
   "id": "bffbc598-9b0b-4340-85e7-d6805d75d6a8",
   "metadata": {},
   "outputs": [
    {
     "data": {
      "text/html": [
       "<div>\n",
       "<style scoped>\n",
       "    .dataframe tbody tr th:only-of-type {\n",
       "        vertical-align: middle;\n",
       "    }\n",
       "\n",
       "    .dataframe tbody tr th {\n",
       "        vertical-align: top;\n",
       "    }\n",
       "\n",
       "    .dataframe thead th {\n",
       "        text-align: right;\n",
       "    }\n",
       "</style>\n",
       "<table border=\"1\" class=\"dataframe\">\n",
       "  <thead>\n",
       "    <tr style=\"text-align: right;\">\n",
       "      <th></th>\n",
       "      <th>1</th>\n",
       "      <th>2</th>\n",
       "      <th>3</th>\n",
       "      <th>4</th>\n",
       "    </tr>\n",
       "  </thead>\n",
       "  <tbody>\n",
       "    <tr>\n",
       "      <th>A</th>\n",
       "      <td>1.000000</td>\n",
       "      <td>3.368421</td>\n",
       "      <td>5.736842</td>\n",
       "      <td>8.105263</td>\n",
       "    </tr>\n",
       "    <tr>\n",
       "      <th>B</th>\n",
       "      <td>1.473684</td>\n",
       "      <td>3.842105</td>\n",
       "      <td>6.210526</td>\n",
       "      <td>8.578947</td>\n",
       "    </tr>\n",
       "    <tr>\n",
       "      <th>C</th>\n",
       "      <td>1.947368</td>\n",
       "      <td>4.315789</td>\n",
       "      <td>6.684211</td>\n",
       "      <td>9.052632</td>\n",
       "    </tr>\n",
       "    <tr>\n",
       "      <th>D</th>\n",
       "      <td>2.421053</td>\n",
       "      <td>4.789474</td>\n",
       "      <td>7.157895</td>\n",
       "      <td>9.526316</td>\n",
       "    </tr>\n",
       "    <tr>\n",
       "      <th>E</th>\n",
       "      <td>2.894737</td>\n",
       "      <td>5.263158</td>\n",
       "      <td>7.631579</td>\n",
       "      <td>10.000000</td>\n",
       "    </tr>\n",
       "  </tbody>\n",
       "</table>\n",
       "</div>"
      ],
      "text/plain": [
       "          1         2         3          4\n",
       "A  1.000000  3.368421  5.736842   8.105263\n",
       "B  1.473684  3.842105  6.210526   8.578947\n",
       "C  1.947368  4.315789  6.684211   9.052632\n",
       "D  2.421053  4.789474  7.157895   9.526316\n",
       "E  2.894737  5.263158  7.631579  10.000000"
      ]
     },
     "execution_count": 109,
     "metadata": {},
     "output_type": "execute_result"
    }
   ],
   "source": [
    "df1.T"
   ]
  },
  {
   "cell_type": "code",
   "execution_count": 110,
   "id": "0aaac774-cc96-41b2-9eb5-8ba02c64d9a6",
   "metadata": {},
   "outputs": [
    {
     "data": {
      "text/html": [
       "<div>\n",
       "<style scoped>\n",
       "    .dataframe tbody tr th:only-of-type {\n",
       "        vertical-align: middle;\n",
       "    }\n",
       "\n",
       "    .dataframe tbody tr th {\n",
       "        vertical-align: top;\n",
       "    }\n",
       "\n",
       "    .dataframe thead th {\n",
       "        text-align: right;\n",
       "    }\n",
       "</style>\n",
       "<table border=\"1\" class=\"dataframe\">\n",
       "  <thead>\n",
       "    <tr style=\"text-align: right;\">\n",
       "      <th></th>\n",
       "      <th>A</th>\n",
       "      <th>B</th>\n",
       "      <th>C</th>\n",
       "      <th>D</th>\n",
       "      <th>E</th>\n",
       "    </tr>\n",
       "  </thead>\n",
       "  <tbody>\n",
       "    <tr>\n",
       "      <th>1</th>\n",
       "      <td>1.000000</td>\n",
       "      <td>1.473684</td>\n",
       "      <td>1.947368</td>\n",
       "      <td>2.421053</td>\n",
       "      <td>2.894737</td>\n",
       "    </tr>\n",
       "    <tr>\n",
       "      <th>2</th>\n",
       "      <td>3.368421</td>\n",
       "      <td>3.842105</td>\n",
       "      <td>4.315789</td>\n",
       "      <td>4.789474</td>\n",
       "      <td>5.263158</td>\n",
       "    </tr>\n",
       "    <tr>\n",
       "      <th>3</th>\n",
       "      <td>5.736842</td>\n",
       "      <td>6.210526</td>\n",
       "      <td>6.684211</td>\n",
       "      <td>7.157895</td>\n",
       "      <td>7.631579</td>\n",
       "    </tr>\n",
       "    <tr>\n",
       "      <th>4</th>\n",
       "      <td>8.105263</td>\n",
       "      <td>8.578947</td>\n",
       "      <td>9.052632</td>\n",
       "      <td>9.526316</td>\n",
       "      <td>10.000000</td>\n",
       "    </tr>\n",
       "  </tbody>\n",
       "</table>\n",
       "</div>"
      ],
      "text/plain": [
       "          A         B         C         D          E\n",
       "1  1.000000  1.473684  1.947368  2.421053   2.894737\n",
       "2  3.368421  3.842105  4.315789  4.789474   5.263158\n",
       "3  5.736842  6.210526  6.684211  7.157895   7.631579\n",
       "4  8.105263  8.578947  9.052632  9.526316  10.000000"
      ]
     },
     "execution_count": 110,
     "metadata": {},
     "output_type": "execute_result"
    }
   ],
   "source": [
    "df1"
   ]
  },
  {
   "cell_type": "code",
   "execution_count": 111,
   "id": "85a623ab-2866-4d33-b1ca-bd473d1ddced",
   "metadata": {},
   "outputs": [
    {
     "data": {
      "text/html": [
       "<div>\n",
       "<style scoped>\n",
       "    .dataframe tbody tr th:only-of-type {\n",
       "        vertical-align: middle;\n",
       "    }\n",
       "\n",
       "    .dataframe tbody tr th {\n",
       "        vertical-align: top;\n",
       "    }\n",
       "\n",
       "    .dataframe thead th {\n",
       "        text-align: right;\n",
       "    }\n",
       "</style>\n",
       "<table border=\"1\" class=\"dataframe\">\n",
       "  <thead>\n",
       "    <tr style=\"text-align: right;\">\n",
       "      <th></th>\n",
       "      <th>D</th>\n",
       "      <th>C</th>\n",
       "      <th>B</th>\n",
       "      <th>A</th>\n",
       "    </tr>\n",
       "  </thead>\n",
       "  <tbody>\n",
       "    <tr>\n",
       "      <th>1</th>\n",
       "      <td>-1.428422</td>\n",
       "      <td>2.490811</td>\n",
       "      <td>0.750220</td>\n",
       "      <td>-0.917598</td>\n",
       "    </tr>\n",
       "    <tr>\n",
       "      <th>3</th>\n",
       "      <td>-0.712956</td>\n",
       "      <td>-0.323125</td>\n",
       "      <td>-0.377896</td>\n",
       "      <td>0.484263</td>\n",
       "    </tr>\n",
       "    <tr>\n",
       "      <th>5</th>\n",
       "      <td>1.246285</td>\n",
       "      <td>-0.980430</td>\n",
       "      <td>0.916827</td>\n",
       "      <td>-0.115701</td>\n",
       "    </tr>\n",
       "    <tr>\n",
       "      <th>7</th>\n",
       "      <td>-0.934982</td>\n",
       "      <td>-0.557416</td>\n",
       "      <td>-0.615680</td>\n",
       "      <td>0.988036</td>\n",
       "    </tr>\n",
       "    <tr>\n",
       "      <th>9</th>\n",
       "      <td>-0.845125</td>\n",
       "      <td>-0.912110</td>\n",
       "      <td>-1.784536</td>\n",
       "      <td>1.570974</td>\n",
       "    </tr>\n",
       "    <tr>\n",
       "      <th>11</th>\n",
       "      <td>-0.327234</td>\n",
       "      <td>0.743674</td>\n",
       "      <td>0.574210</td>\n",
       "      <td>1.219863</td>\n",
       "    </tr>\n",
       "  </tbody>\n",
       "</table>\n",
       "</div>"
      ],
      "text/plain": [
       "           D         C         B         A\n",
       "1  -1.428422  2.490811  0.750220 -0.917598\n",
       "3  -0.712956 -0.323125 -0.377896  0.484263\n",
       "5   1.246285 -0.980430  0.916827 -0.115701\n",
       "7  -0.934982 -0.557416 -0.615680  0.988036\n",
       "9  -0.845125 -0.912110 -1.784536  1.570974\n",
       "11 -0.327234  0.743674  0.574210  1.219863"
      ]
     },
     "execution_count": 111,
     "metadata": {},
     "output_type": "execute_result"
    }
   ],
   "source": [
    "df.sort_index(axis = 1, ascending =  False)"
   ]
  },
  {
   "cell_type": "code",
   "execution_count": 112,
   "id": "f941822c-f29e-4b43-9fc7-f1490fcdea69",
   "metadata": {},
   "outputs": [
    {
     "data": {
      "text/html": [
       "<div>\n",
       "<style scoped>\n",
       "    .dataframe tbody tr th:only-of-type {\n",
       "        vertical-align: middle;\n",
       "    }\n",
       "\n",
       "    .dataframe tbody tr th {\n",
       "        vertical-align: top;\n",
       "    }\n",
       "\n",
       "    .dataframe thead th {\n",
       "        text-align: right;\n",
       "    }\n",
       "</style>\n",
       "<table border=\"1\" class=\"dataframe\">\n",
       "  <thead>\n",
       "    <tr style=\"text-align: right;\">\n",
       "      <th></th>\n",
       "      <th>A</th>\n",
       "      <th>B</th>\n",
       "      <th>C</th>\n",
       "      <th>D</th>\n",
       "    </tr>\n",
       "  </thead>\n",
       "  <tbody>\n",
       "    <tr>\n",
       "      <th>1</th>\n",
       "      <td>-0.917598</td>\n",
       "      <td>0.750220</td>\n",
       "      <td>2.490811</td>\n",
       "      <td>-1.428422</td>\n",
       "    </tr>\n",
       "    <tr>\n",
       "      <th>3</th>\n",
       "      <td>0.484263</td>\n",
       "      <td>-0.377896</td>\n",
       "      <td>-0.323125</td>\n",
       "      <td>-0.712956</td>\n",
       "    </tr>\n",
       "    <tr>\n",
       "      <th>5</th>\n",
       "      <td>-0.115701</td>\n",
       "      <td>0.916827</td>\n",
       "      <td>-0.980430</td>\n",
       "      <td>1.246285</td>\n",
       "    </tr>\n",
       "    <tr>\n",
       "      <th>7</th>\n",
       "      <td>0.988036</td>\n",
       "      <td>-0.615680</td>\n",
       "      <td>-0.557416</td>\n",
       "      <td>-0.934982</td>\n",
       "    </tr>\n",
       "    <tr>\n",
       "      <th>9</th>\n",
       "      <td>1.570974</td>\n",
       "      <td>-1.784536</td>\n",
       "      <td>-0.912110</td>\n",
       "      <td>-0.845125</td>\n",
       "    </tr>\n",
       "    <tr>\n",
       "      <th>11</th>\n",
       "      <td>1.219863</td>\n",
       "      <td>0.574210</td>\n",
       "      <td>0.743674</td>\n",
       "      <td>-0.327234</td>\n",
       "    </tr>\n",
       "  </tbody>\n",
       "</table>\n",
       "</div>"
      ],
      "text/plain": [
       "           A         B         C         D\n",
       "1  -0.917598  0.750220  2.490811 -1.428422\n",
       "3   0.484263 -0.377896 -0.323125 -0.712956\n",
       "5  -0.115701  0.916827 -0.980430  1.246285\n",
       "7   0.988036 -0.615680 -0.557416 -0.934982\n",
       "9   1.570974 -1.784536 -0.912110 -0.845125\n",
       "11  1.219863  0.574210  0.743674 -0.327234"
      ]
     },
     "execution_count": 112,
     "metadata": {},
     "output_type": "execute_result"
    }
   ],
   "source": [
    "df"
   ]
  },
  {
   "cell_type": "code",
   "execution_count": 113,
   "id": "8c8da530-e735-4d75-9813-0ff2df6aa453",
   "metadata": {},
   "outputs": [
    {
     "data": {
      "text/html": [
       "<div>\n",
       "<style scoped>\n",
       "    .dataframe tbody tr th:only-of-type {\n",
       "        vertical-align: middle;\n",
       "    }\n",
       "\n",
       "    .dataframe tbody tr th {\n",
       "        vertical-align: top;\n",
       "    }\n",
       "\n",
       "    .dataframe thead th {\n",
       "        text-align: right;\n",
       "    }\n",
       "</style>\n",
       "<table border=\"1\" class=\"dataframe\">\n",
       "  <thead>\n",
       "    <tr style=\"text-align: right;\">\n",
       "      <th></th>\n",
       "      <th>A</th>\n",
       "      <th>B</th>\n",
       "      <th>C</th>\n",
       "      <th>D</th>\n",
       "    </tr>\n",
       "  </thead>\n",
       "  <tbody>\n",
       "    <tr>\n",
       "      <th>9</th>\n",
       "      <td>1.570974</td>\n",
       "      <td>-1.784536</td>\n",
       "      <td>-0.912110</td>\n",
       "      <td>-0.845125</td>\n",
       "    </tr>\n",
       "    <tr>\n",
       "      <th>7</th>\n",
       "      <td>0.988036</td>\n",
       "      <td>-0.615680</td>\n",
       "      <td>-0.557416</td>\n",
       "      <td>-0.934982</td>\n",
       "    </tr>\n",
       "    <tr>\n",
       "      <th>3</th>\n",
       "      <td>0.484263</td>\n",
       "      <td>-0.377896</td>\n",
       "      <td>-0.323125</td>\n",
       "      <td>-0.712956</td>\n",
       "    </tr>\n",
       "    <tr>\n",
       "      <th>11</th>\n",
       "      <td>1.219863</td>\n",
       "      <td>0.574210</td>\n",
       "      <td>0.743674</td>\n",
       "      <td>-0.327234</td>\n",
       "    </tr>\n",
       "    <tr>\n",
       "      <th>1</th>\n",
       "      <td>-0.917598</td>\n",
       "      <td>0.750220</td>\n",
       "      <td>2.490811</td>\n",
       "      <td>-1.428422</td>\n",
       "    </tr>\n",
       "    <tr>\n",
       "      <th>5</th>\n",
       "      <td>-0.115701</td>\n",
       "      <td>0.916827</td>\n",
       "      <td>-0.980430</td>\n",
       "      <td>1.246285</td>\n",
       "    </tr>\n",
       "  </tbody>\n",
       "</table>\n",
       "</div>"
      ],
      "text/plain": [
       "           A         B         C         D\n",
       "9   1.570974 -1.784536 -0.912110 -0.845125\n",
       "7   0.988036 -0.615680 -0.557416 -0.934982\n",
       "3   0.484263 -0.377896 -0.323125 -0.712956\n",
       "11  1.219863  0.574210  0.743674 -0.327234\n",
       "1  -0.917598  0.750220  2.490811 -1.428422\n",
       "5  -0.115701  0.916827 -0.980430  1.246285"
      ]
     },
     "execution_count": 113,
     "metadata": {},
     "output_type": "execute_result"
    }
   ],
   "source": [
    "df.sort_values(by = \"B\")"
   ]
  },
  {
   "cell_type": "code",
   "execution_count": 114,
   "id": "499f8529-0d3e-4afe-ad12-66ada04e1d5c",
   "metadata": {},
   "outputs": [
    {
     "data": {
      "text/html": [
       "<div>\n",
       "<style scoped>\n",
       "    .dataframe tbody tr th:only-of-type {\n",
       "        vertical-align: middle;\n",
       "    }\n",
       "\n",
       "    .dataframe tbody tr th {\n",
       "        vertical-align: top;\n",
       "    }\n",
       "\n",
       "    .dataframe thead th {\n",
       "        text-align: right;\n",
       "    }\n",
       "</style>\n",
       "<table border=\"1\" class=\"dataframe\">\n",
       "  <thead>\n",
       "    <tr style=\"text-align: right;\">\n",
       "      <th></th>\n",
       "      <th>A</th>\n",
       "      <th>B</th>\n",
       "      <th>C</th>\n",
       "      <th>D</th>\n",
       "    </tr>\n",
       "  </thead>\n",
       "  <tbody>\n",
       "    <tr>\n",
       "      <th>1</th>\n",
       "      <td>-0.917598</td>\n",
       "      <td>0.750220</td>\n",
       "      <td>2.490811</td>\n",
       "      <td>-1.428422</td>\n",
       "    </tr>\n",
       "    <tr>\n",
       "      <th>3</th>\n",
       "      <td>0.484263</td>\n",
       "      <td>-0.377896</td>\n",
       "      <td>-0.323125</td>\n",
       "      <td>-0.712956</td>\n",
       "    </tr>\n",
       "    <tr>\n",
       "      <th>5</th>\n",
       "      <td>-0.115701</td>\n",
       "      <td>0.916827</td>\n",
       "      <td>-0.980430</td>\n",
       "      <td>1.246285</td>\n",
       "    </tr>\n",
       "    <tr>\n",
       "      <th>7</th>\n",
       "      <td>0.988036</td>\n",
       "      <td>-0.615680</td>\n",
       "      <td>-0.557416</td>\n",
       "      <td>-0.934982</td>\n",
       "    </tr>\n",
       "    <tr>\n",
       "      <th>9</th>\n",
       "      <td>1.570974</td>\n",
       "      <td>-1.784536</td>\n",
       "      <td>-0.912110</td>\n",
       "      <td>-0.845125</td>\n",
       "    </tr>\n",
       "    <tr>\n",
       "      <th>11</th>\n",
       "      <td>1.219863</td>\n",
       "      <td>0.574210</td>\n",
       "      <td>0.743674</td>\n",
       "      <td>-0.327234</td>\n",
       "    </tr>\n",
       "  </tbody>\n",
       "</table>\n",
       "</div>"
      ],
      "text/plain": [
       "           A         B         C         D\n",
       "1  -0.917598  0.750220  2.490811 -1.428422\n",
       "3   0.484263 -0.377896 -0.323125 -0.712956\n",
       "5  -0.115701  0.916827 -0.980430  1.246285\n",
       "7   0.988036 -0.615680 -0.557416 -0.934982\n",
       "9   1.570974 -1.784536 -0.912110 -0.845125\n",
       "11  1.219863  0.574210  0.743674 -0.327234"
      ]
     },
     "execution_count": 114,
     "metadata": {},
     "output_type": "execute_result"
    }
   ],
   "source": [
    "df"
   ]
  },
  {
   "cell_type": "code",
   "execution_count": 115,
   "id": "9b3915d3-7add-46f3-a37b-169ef499acec",
   "metadata": {},
   "outputs": [
    {
     "data": {
      "text/html": [
       "<div>\n",
       "<style scoped>\n",
       "    .dataframe tbody tr th:only-of-type {\n",
       "        vertical-align: middle;\n",
       "    }\n",
       "\n",
       "    .dataframe tbody tr th {\n",
       "        vertical-align: top;\n",
       "    }\n",
       "\n",
       "    .dataframe thead th {\n",
       "        text-align: right;\n",
       "    }\n",
       "</style>\n",
       "<table border=\"1\" class=\"dataframe\">\n",
       "  <thead>\n",
       "    <tr style=\"text-align: right;\">\n",
       "      <th></th>\n",
       "      <th>A</th>\n",
       "      <th>B</th>\n",
       "      <th>C</th>\n",
       "      <th>D</th>\n",
       "    </tr>\n",
       "  </thead>\n",
       "  <tbody>\n",
       "    <tr>\n",
       "      <th>1</th>\n",
       "      <td>-0.917598</td>\n",
       "      <td>0.75022</td>\n",
       "      <td>2.490811</td>\n",
       "      <td>-1.428422</td>\n",
       "    </tr>\n",
       "  </tbody>\n",
       "</table>\n",
       "</div>"
      ],
      "text/plain": [
       "          A        B         C         D\n",
       "1 -0.917598  0.75022  2.490811 -1.428422"
      ]
     },
     "execution_count": 115,
     "metadata": {},
     "output_type": "execute_result"
    }
   ],
   "source": [
    "df[0:1]"
   ]
  },
  {
   "cell_type": "code",
   "execution_count": 116,
   "id": "e853b5d0-34e9-448c-b6ce-82513124721c",
   "metadata": {},
   "outputs": [
    {
     "data": {
      "text/html": [
       "<div>\n",
       "<style scoped>\n",
       "    .dataframe tbody tr th:only-of-type {\n",
       "        vertical-align: middle;\n",
       "    }\n",
       "\n",
       "    .dataframe tbody tr th {\n",
       "        vertical-align: top;\n",
       "    }\n",
       "\n",
       "    .dataframe thead th {\n",
       "        text-align: right;\n",
       "    }\n",
       "</style>\n",
       "<table border=\"1\" class=\"dataframe\">\n",
       "  <thead>\n",
       "    <tr style=\"text-align: right;\">\n",
       "      <th></th>\n",
       "      <th>B</th>\n",
       "      <th>C</th>\n",
       "    </tr>\n",
       "  </thead>\n",
       "  <tbody>\n",
       "    <tr>\n",
       "      <th>1</th>\n",
       "      <td>0.750220</td>\n",
       "      <td>2.490811</td>\n",
       "    </tr>\n",
       "    <tr>\n",
       "      <th>3</th>\n",
       "      <td>-0.377896</td>\n",
       "      <td>-0.323125</td>\n",
       "    </tr>\n",
       "    <tr>\n",
       "      <th>5</th>\n",
       "      <td>0.916827</td>\n",
       "      <td>-0.980430</td>\n",
       "    </tr>\n",
       "    <tr>\n",
       "      <th>7</th>\n",
       "      <td>-0.615680</td>\n",
       "      <td>-0.557416</td>\n",
       "    </tr>\n",
       "    <tr>\n",
       "      <th>9</th>\n",
       "      <td>-1.784536</td>\n",
       "      <td>-0.912110</td>\n",
       "    </tr>\n",
       "    <tr>\n",
       "      <th>11</th>\n",
       "      <td>0.574210</td>\n",
       "      <td>0.743674</td>\n",
       "    </tr>\n",
       "  </tbody>\n",
       "</table>\n",
       "</div>"
      ],
      "text/plain": [
       "           B         C\n",
       "1   0.750220  2.490811\n",
       "3  -0.377896 -0.323125\n",
       "5   0.916827 -0.980430\n",
       "7  -0.615680 -0.557416\n",
       "9  -1.784536 -0.912110\n",
       "11  0.574210  0.743674"
      ]
     },
     "execution_count": 116,
     "metadata": {},
     "output_type": "execute_result"
    }
   ],
   "source": [
    "df.iloc[:, 1:3]"
   ]
  },
  {
   "cell_type": "code",
   "execution_count": 117,
   "id": "1306bf18-e788-4eb4-b374-1171462506af",
   "metadata": {},
   "outputs": [
    {
     "data": {
      "text/html": [
       "<div>\n",
       "<style scoped>\n",
       "    .dataframe tbody tr th:only-of-type {\n",
       "        vertical-align: middle;\n",
       "    }\n",
       "\n",
       "    .dataframe tbody tr th {\n",
       "        vertical-align: top;\n",
       "    }\n",
       "\n",
       "    .dataframe thead th {\n",
       "        text-align: right;\n",
       "    }\n",
       "</style>\n",
       "<table border=\"1\" class=\"dataframe\">\n",
       "  <thead>\n",
       "    <tr style=\"text-align: right;\">\n",
       "      <th></th>\n",
       "      <th>A</th>\n",
       "      <th>B</th>\n",
       "      <th>C</th>\n",
       "    </tr>\n",
       "  </thead>\n",
       "  <tbody>\n",
       "    <tr>\n",
       "      <th>1</th>\n",
       "      <td>-0.917598</td>\n",
       "      <td>0.750220</td>\n",
       "      <td>2.490811</td>\n",
       "    </tr>\n",
       "    <tr>\n",
       "      <th>3</th>\n",
       "      <td>0.484263</td>\n",
       "      <td>-0.377896</td>\n",
       "      <td>-0.323125</td>\n",
       "    </tr>\n",
       "  </tbody>\n",
       "</table>\n",
       "</div>"
      ],
      "text/plain": [
       "          A         B         C\n",
       "1 -0.917598  0.750220  2.490811\n",
       "3  0.484263 -0.377896 -0.323125"
      ]
     },
     "execution_count": 117,
     "metadata": {},
     "output_type": "execute_result"
    }
   ],
   "source": [
    "df.loc[1:3, 'A':'C']"
   ]
  },
  {
   "cell_type": "markdown",
   "id": "5948e13f-63f7-4161-857c-315780ed9091",
   "metadata": {},
   "source": [
    "## LOC is used for selection by labels whereas ILOC is used for selection by position."
   ]
  },
  {
   "cell_type": "code",
   "execution_count": 118,
   "id": "1e563cd6-5575-41e6-b7ba-5a698ef58211",
   "metadata": {},
   "outputs": [
    {
     "data": {
      "text/html": [
       "<div>\n",
       "<style scoped>\n",
       "    .dataframe tbody tr th:only-of-type {\n",
       "        vertical-align: middle;\n",
       "    }\n",
       "\n",
       "    .dataframe tbody tr th {\n",
       "        vertical-align: top;\n",
       "    }\n",
       "\n",
       "    .dataframe thead th {\n",
       "        text-align: right;\n",
       "    }\n",
       "</style>\n",
       "<table border=\"1\" class=\"dataframe\">\n",
       "  <thead>\n",
       "    <tr style=\"text-align: right;\">\n",
       "      <th></th>\n",
       "      <th>A</th>\n",
       "      <th>B</th>\n",
       "      <th>C</th>\n",
       "      <th>D</th>\n",
       "    </tr>\n",
       "  </thead>\n",
       "  <tbody>\n",
       "    <tr>\n",
       "      <th>1</th>\n",
       "      <td>-0.917598</td>\n",
       "      <td>0.750220</td>\n",
       "      <td>2.490811</td>\n",
       "      <td>-1.428422</td>\n",
       "    </tr>\n",
       "    <tr>\n",
       "      <th>3</th>\n",
       "      <td>0.484263</td>\n",
       "      <td>-0.377896</td>\n",
       "      <td>-0.323125</td>\n",
       "      <td>-0.712956</td>\n",
       "    </tr>\n",
       "    <tr>\n",
       "      <th>5</th>\n",
       "      <td>-0.115701</td>\n",
       "      <td>0.916827</td>\n",
       "      <td>-0.980430</td>\n",
       "      <td>1.246285</td>\n",
       "    </tr>\n",
       "    <tr>\n",
       "      <th>7</th>\n",
       "      <td>0.988036</td>\n",
       "      <td>-0.615680</td>\n",
       "      <td>-0.557416</td>\n",
       "      <td>-0.934982</td>\n",
       "    </tr>\n",
       "    <tr>\n",
       "      <th>9</th>\n",
       "      <td>1.570974</td>\n",
       "      <td>-1.784536</td>\n",
       "      <td>-0.912110</td>\n",
       "      <td>-0.845125</td>\n",
       "    </tr>\n",
       "    <tr>\n",
       "      <th>11</th>\n",
       "      <td>1.219863</td>\n",
       "      <td>0.574210</td>\n",
       "      <td>0.743674</td>\n",
       "      <td>-0.327234</td>\n",
       "    </tr>\n",
       "  </tbody>\n",
       "</table>\n",
       "</div>"
      ],
      "text/plain": [
       "           A         B         C         D\n",
       "1  -0.917598  0.750220  2.490811 -1.428422\n",
       "3   0.484263 -0.377896 -0.323125 -0.712956\n",
       "5  -0.115701  0.916827 -0.980430  1.246285\n",
       "7   0.988036 -0.615680 -0.557416 -0.934982\n",
       "9   1.570974 -1.784536 -0.912110 -0.845125\n",
       "11  1.219863  0.574210  0.743674 -0.327234"
      ]
     },
     "execution_count": 118,
     "metadata": {},
     "output_type": "execute_result"
    }
   ],
   "source": [
    "df\n"
   ]
  },
  {
   "cell_type": "code",
   "execution_count": 119,
   "id": "21e6496d-c830-4042-a722-3cebfa89305e",
   "metadata": {},
   "outputs": [
    {
     "data": {
      "text/html": [
       "<div>\n",
       "<style scoped>\n",
       "    .dataframe tbody tr th:only-of-type {\n",
       "        vertical-align: middle;\n",
       "    }\n",
       "\n",
       "    .dataframe tbody tr th {\n",
       "        vertical-align: top;\n",
       "    }\n",
       "\n",
       "    .dataframe thead th {\n",
       "        text-align: right;\n",
       "    }\n",
       "</style>\n",
       "<table border=\"1\" class=\"dataframe\">\n",
       "  <thead>\n",
       "    <tr style=\"text-align: right;\">\n",
       "      <th></th>\n",
       "      <th>A</th>\n",
       "      <th>B</th>\n",
       "      <th>C</th>\n",
       "      <th>D</th>\n",
       "    </tr>\n",
       "  </thead>\n",
       "  <tbody>\n",
       "    <tr>\n",
       "      <th>1</th>\n",
       "      <td>False</td>\n",
       "      <td>True</td>\n",
       "      <td>True</td>\n",
       "      <td>False</td>\n",
       "    </tr>\n",
       "    <tr>\n",
       "      <th>3</th>\n",
       "      <td>True</td>\n",
       "      <td>False</td>\n",
       "      <td>False</td>\n",
       "      <td>False</td>\n",
       "    </tr>\n",
       "    <tr>\n",
       "      <th>5</th>\n",
       "      <td>False</td>\n",
       "      <td>True</td>\n",
       "      <td>False</td>\n",
       "      <td>True</td>\n",
       "    </tr>\n",
       "    <tr>\n",
       "      <th>7</th>\n",
       "      <td>True</td>\n",
       "      <td>False</td>\n",
       "      <td>False</td>\n",
       "      <td>False</td>\n",
       "    </tr>\n",
       "    <tr>\n",
       "      <th>9</th>\n",
       "      <td>True</td>\n",
       "      <td>False</td>\n",
       "      <td>False</td>\n",
       "      <td>False</td>\n",
       "    </tr>\n",
       "    <tr>\n",
       "      <th>11</th>\n",
       "      <td>True</td>\n",
       "      <td>True</td>\n",
       "      <td>True</td>\n",
       "      <td>False</td>\n",
       "    </tr>\n",
       "  </tbody>\n",
       "</table>\n",
       "</div>"
      ],
      "text/plain": [
       "        A      B      C      D\n",
       "1   False   True   True  False\n",
       "3    True  False  False  False\n",
       "5   False   True  False   True\n",
       "7    True  False  False  False\n",
       "9    True  False  False  False\n",
       "11   True   True   True  False"
      ]
     },
     "execution_count": 119,
     "metadata": {},
     "output_type": "execute_result"
    }
   ],
   "source": [
    "df>0"
   ]
  },
  {
   "cell_type": "code",
   "execution_count": 120,
   "id": "9429dbe4-e3b7-431f-9652-d99460d04f9b",
   "metadata": {},
   "outputs": [
    {
     "data": {
      "text/html": [
       "<div>\n",
       "<style scoped>\n",
       "    .dataframe tbody tr th:only-of-type {\n",
       "        vertical-align: middle;\n",
       "    }\n",
       "\n",
       "    .dataframe tbody tr th {\n",
       "        vertical-align: top;\n",
       "    }\n",
       "\n",
       "    .dataframe thead th {\n",
       "        text-align: right;\n",
       "    }\n",
       "</style>\n",
       "<table border=\"1\" class=\"dataframe\">\n",
       "  <thead>\n",
       "    <tr style=\"text-align: right;\">\n",
       "      <th></th>\n",
       "      <th>A</th>\n",
       "      <th>B</th>\n",
       "      <th>C</th>\n",
       "      <th>D</th>\n",
       "    </tr>\n",
       "  </thead>\n",
       "  <tbody>\n",
       "    <tr>\n",
       "      <th>1</th>\n",
       "      <td>NaN</td>\n",
       "      <td>0.750220</td>\n",
       "      <td>2.490811</td>\n",
       "      <td>NaN</td>\n",
       "    </tr>\n",
       "    <tr>\n",
       "      <th>3</th>\n",
       "      <td>0.484263</td>\n",
       "      <td>NaN</td>\n",
       "      <td>NaN</td>\n",
       "      <td>NaN</td>\n",
       "    </tr>\n",
       "    <tr>\n",
       "      <th>5</th>\n",
       "      <td>NaN</td>\n",
       "      <td>0.916827</td>\n",
       "      <td>NaN</td>\n",
       "      <td>1.246285</td>\n",
       "    </tr>\n",
       "    <tr>\n",
       "      <th>7</th>\n",
       "      <td>0.988036</td>\n",
       "      <td>NaN</td>\n",
       "      <td>NaN</td>\n",
       "      <td>NaN</td>\n",
       "    </tr>\n",
       "    <tr>\n",
       "      <th>9</th>\n",
       "      <td>1.570974</td>\n",
       "      <td>NaN</td>\n",
       "      <td>NaN</td>\n",
       "      <td>NaN</td>\n",
       "    </tr>\n",
       "    <tr>\n",
       "      <th>11</th>\n",
       "      <td>1.219863</td>\n",
       "      <td>0.574210</td>\n",
       "      <td>0.743674</td>\n",
       "      <td>NaN</td>\n",
       "    </tr>\n",
       "  </tbody>\n",
       "</table>\n",
       "</div>"
      ],
      "text/plain": [
       "           A         B         C         D\n",
       "1        NaN  0.750220  2.490811       NaN\n",
       "3   0.484263       NaN       NaN       NaN\n",
       "5        NaN  0.916827       NaN  1.246285\n",
       "7   0.988036       NaN       NaN       NaN\n",
       "9   1.570974       NaN       NaN       NaN\n",
       "11  1.219863  0.574210  0.743674       NaN"
      ]
     },
     "execution_count": 120,
     "metadata": {},
     "output_type": "execute_result"
    }
   ],
   "source": [
    "df[df>0]"
   ]
  },
  {
   "cell_type": "code",
   "execution_count": 121,
   "id": "d22a342a-ff81-4fb8-8414-8cc31dec17ed",
   "metadata": {},
   "outputs": [
    {
     "data": {
      "text/html": [
       "<div>\n",
       "<style scoped>\n",
       "    .dataframe tbody tr th:only-of-type {\n",
       "        vertical-align: middle;\n",
       "    }\n",
       "\n",
       "    .dataframe tbody tr th {\n",
       "        vertical-align: top;\n",
       "    }\n",
       "\n",
       "    .dataframe thead th {\n",
       "        text-align: right;\n",
       "    }\n",
       "</style>\n",
       "<table border=\"1\" class=\"dataframe\">\n",
       "  <thead>\n",
       "    <tr style=\"text-align: right;\">\n",
       "      <th></th>\n",
       "      <th>A</th>\n",
       "      <th>B</th>\n",
       "      <th>C</th>\n",
       "      <th>D</th>\n",
       "    </tr>\n",
       "  </thead>\n",
       "  <tbody>\n",
       "    <tr>\n",
       "      <th>3</th>\n",
       "      <td>0.484263</td>\n",
       "      <td>-0.377896</td>\n",
       "      <td>-0.323125</td>\n",
       "      <td>-0.712956</td>\n",
       "    </tr>\n",
       "    <tr>\n",
       "      <th>7</th>\n",
       "      <td>0.988036</td>\n",
       "      <td>-0.615680</td>\n",
       "      <td>-0.557416</td>\n",
       "      <td>-0.934982</td>\n",
       "    </tr>\n",
       "    <tr>\n",
       "      <th>9</th>\n",
       "      <td>1.570974</td>\n",
       "      <td>-1.784536</td>\n",
       "      <td>-0.912110</td>\n",
       "      <td>-0.845125</td>\n",
       "    </tr>\n",
       "    <tr>\n",
       "      <th>11</th>\n",
       "      <td>1.219863</td>\n",
       "      <td>0.574210</td>\n",
       "      <td>0.743674</td>\n",
       "      <td>-0.327234</td>\n",
       "    </tr>\n",
       "  </tbody>\n",
       "</table>\n",
       "</div>"
      ],
      "text/plain": [
       "           A         B         C         D\n",
       "3   0.484263 -0.377896 -0.323125 -0.712956\n",
       "7   0.988036 -0.615680 -0.557416 -0.934982\n",
       "9   1.570974 -1.784536 -0.912110 -0.845125\n",
       "11  1.219863  0.574210  0.743674 -0.327234"
      ]
     },
     "execution_count": 121,
     "metadata": {},
     "output_type": "execute_result"
    }
   ],
   "source": [
    "df[df['A']>0]"
   ]
  },
  {
   "cell_type": "code",
   "execution_count": 122,
   "id": "65f86546-253c-4b80-b550-651fe63f82a4",
   "metadata": {},
   "outputs": [
    {
     "data": {
      "text/html": [
       "<div>\n",
       "<style scoped>\n",
       "    .dataframe tbody tr th:only-of-type {\n",
       "        vertical-align: middle;\n",
       "    }\n",
       "\n",
       "    .dataframe tbody tr th {\n",
       "        vertical-align: top;\n",
       "    }\n",
       "\n",
       "    .dataframe thead th {\n",
       "        text-align: right;\n",
       "    }\n",
       "</style>\n",
       "<table border=\"1\" class=\"dataframe\">\n",
       "  <thead>\n",
       "    <tr style=\"text-align: right;\">\n",
       "      <th></th>\n",
       "      <th>A</th>\n",
       "      <th>B</th>\n",
       "      <th>C</th>\n",
       "      <th>D</th>\n",
       "    </tr>\n",
       "  </thead>\n",
       "  <tbody>\n",
       "    <tr>\n",
       "      <th>1</th>\n",
       "      <td>-0.917598</td>\n",
       "      <td>0.750220</td>\n",
       "      <td>2.490811</td>\n",
       "      <td>-1.428422</td>\n",
       "    </tr>\n",
       "    <tr>\n",
       "      <th>3</th>\n",
       "      <td>0.484263</td>\n",
       "      <td>-0.377896</td>\n",
       "      <td>-0.323125</td>\n",
       "      <td>-0.712956</td>\n",
       "    </tr>\n",
       "    <tr>\n",
       "      <th>5</th>\n",
       "      <td>-0.115701</td>\n",
       "      <td>0.916827</td>\n",
       "      <td>-0.980430</td>\n",
       "      <td>1.246285</td>\n",
       "    </tr>\n",
       "    <tr>\n",
       "      <th>7</th>\n",
       "      <td>0.988036</td>\n",
       "      <td>-0.615680</td>\n",
       "      <td>-0.557416</td>\n",
       "      <td>-0.934982</td>\n",
       "    </tr>\n",
       "    <tr>\n",
       "      <th>9</th>\n",
       "      <td>1.570974</td>\n",
       "      <td>-1.784536</td>\n",
       "      <td>-0.912110</td>\n",
       "      <td>-0.845125</td>\n",
       "    </tr>\n",
       "    <tr>\n",
       "      <th>11</th>\n",
       "      <td>1.219863</td>\n",
       "      <td>0.574210</td>\n",
       "      <td>0.743674</td>\n",
       "      <td>-0.327234</td>\n",
       "    </tr>\n",
       "  </tbody>\n",
       "</table>\n",
       "</div>"
      ],
      "text/plain": [
       "           A         B         C         D\n",
       "1  -0.917598  0.750220  2.490811 -1.428422\n",
       "3   0.484263 -0.377896 -0.323125 -0.712956\n",
       "5  -0.115701  0.916827 -0.980430  1.246285\n",
       "7   0.988036 -0.615680 -0.557416 -0.934982\n",
       "9   1.570974 -1.784536 -0.912110 -0.845125\n",
       "11  1.219863  0.574210  0.743674 -0.327234"
      ]
     },
     "execution_count": 122,
     "metadata": {},
     "output_type": "execute_result"
    }
   ],
   "source": [
    "df"
   ]
  },
  {
   "cell_type": "code",
   "execution_count": 123,
   "id": "d2152167-9b71-48f2-9d66-54799d3c3f4f",
   "metadata": {},
   "outputs": [],
   "source": [
    "df.at[1, 'A'] = 1 "
   ]
  },
  {
   "cell_type": "code",
   "execution_count": 124,
   "id": "aad15fc0-3c0a-4542-b3d7-0f178249a46c",
   "metadata": {},
   "outputs": [
    {
     "data": {
      "text/html": [
       "<div>\n",
       "<style scoped>\n",
       "    .dataframe tbody tr th:only-of-type {\n",
       "        vertical-align: middle;\n",
       "    }\n",
       "\n",
       "    .dataframe tbody tr th {\n",
       "        vertical-align: top;\n",
       "    }\n",
       "\n",
       "    .dataframe thead th {\n",
       "        text-align: right;\n",
       "    }\n",
       "</style>\n",
       "<table border=\"1\" class=\"dataframe\">\n",
       "  <thead>\n",
       "    <tr style=\"text-align: right;\">\n",
       "      <th></th>\n",
       "      <th>A</th>\n",
       "      <th>B</th>\n",
       "      <th>C</th>\n",
       "      <th>D</th>\n",
       "    </tr>\n",
       "  </thead>\n",
       "  <tbody>\n",
       "    <tr>\n",
       "      <th>1</th>\n",
       "      <td>1.000000</td>\n",
       "      <td>0.750220</td>\n",
       "      <td>2.490811</td>\n",
       "      <td>-1.428422</td>\n",
       "    </tr>\n",
       "    <tr>\n",
       "      <th>3</th>\n",
       "      <td>0.484263</td>\n",
       "      <td>-0.377896</td>\n",
       "      <td>-0.323125</td>\n",
       "      <td>-0.712956</td>\n",
       "    </tr>\n",
       "    <tr>\n",
       "      <th>5</th>\n",
       "      <td>-0.115701</td>\n",
       "      <td>0.916827</td>\n",
       "      <td>-0.980430</td>\n",
       "      <td>1.246285</td>\n",
       "    </tr>\n",
       "    <tr>\n",
       "      <th>7</th>\n",
       "      <td>0.988036</td>\n",
       "      <td>-0.615680</td>\n",
       "      <td>-0.557416</td>\n",
       "      <td>-0.934982</td>\n",
       "    </tr>\n",
       "    <tr>\n",
       "      <th>9</th>\n",
       "      <td>1.570974</td>\n",
       "      <td>-1.784536</td>\n",
       "      <td>-0.912110</td>\n",
       "      <td>-0.845125</td>\n",
       "    </tr>\n",
       "    <tr>\n",
       "      <th>11</th>\n",
       "      <td>1.219863</td>\n",
       "      <td>0.574210</td>\n",
       "      <td>0.743674</td>\n",
       "      <td>-0.327234</td>\n",
       "    </tr>\n",
       "  </tbody>\n",
       "</table>\n",
       "</div>"
      ],
      "text/plain": [
       "           A         B         C         D\n",
       "1   1.000000  0.750220  2.490811 -1.428422\n",
       "3   0.484263 -0.377896 -0.323125 -0.712956\n",
       "5  -0.115701  0.916827 -0.980430  1.246285\n",
       "7   0.988036 -0.615680 -0.557416 -0.934982\n",
       "9   1.570974 -1.784536 -0.912110 -0.845125\n",
       "11  1.219863  0.574210  0.743674 -0.327234"
      ]
     },
     "execution_count": 124,
     "metadata": {},
     "output_type": "execute_result"
    }
   ],
   "source": [
    "df"
   ]
  },
  {
   "cell_type": "code",
   "execution_count": 125,
   "id": "109d9bcf-16ed-4d7d-b9ec-c9d9d3500b5b",
   "metadata": {},
   "outputs": [],
   "source": [
    "df.loc[:, 'D'] = np.array([5] * len(df))"
   ]
  },
  {
   "cell_type": "code",
   "execution_count": 126,
   "id": "03464845-18e0-4c74-95b3-a3dfef6c02f8",
   "metadata": {},
   "outputs": [
    {
     "data": {
      "text/html": [
       "<div>\n",
       "<style scoped>\n",
       "    .dataframe tbody tr th:only-of-type {\n",
       "        vertical-align: middle;\n",
       "    }\n",
       "\n",
       "    .dataframe tbody tr th {\n",
       "        vertical-align: top;\n",
       "    }\n",
       "\n",
       "    .dataframe thead th {\n",
       "        text-align: right;\n",
       "    }\n",
       "</style>\n",
       "<table border=\"1\" class=\"dataframe\">\n",
       "  <thead>\n",
       "    <tr style=\"text-align: right;\">\n",
       "      <th></th>\n",
       "      <th>A</th>\n",
       "      <th>B</th>\n",
       "      <th>C</th>\n",
       "      <th>D</th>\n",
       "    </tr>\n",
       "  </thead>\n",
       "  <tbody>\n",
       "    <tr>\n",
       "      <th>1</th>\n",
       "      <td>1.000000</td>\n",
       "      <td>0.750220</td>\n",
       "      <td>2.490811</td>\n",
       "      <td>5.0</td>\n",
       "    </tr>\n",
       "    <tr>\n",
       "      <th>3</th>\n",
       "      <td>0.484263</td>\n",
       "      <td>-0.377896</td>\n",
       "      <td>-0.323125</td>\n",
       "      <td>5.0</td>\n",
       "    </tr>\n",
       "    <tr>\n",
       "      <th>5</th>\n",
       "      <td>-0.115701</td>\n",
       "      <td>0.916827</td>\n",
       "      <td>-0.980430</td>\n",
       "      <td>5.0</td>\n",
       "    </tr>\n",
       "    <tr>\n",
       "      <th>7</th>\n",
       "      <td>0.988036</td>\n",
       "      <td>-0.615680</td>\n",
       "      <td>-0.557416</td>\n",
       "      <td>5.0</td>\n",
       "    </tr>\n",
       "    <tr>\n",
       "      <th>9</th>\n",
       "      <td>1.570974</td>\n",
       "      <td>-1.784536</td>\n",
       "      <td>-0.912110</td>\n",
       "      <td>5.0</td>\n",
       "    </tr>\n",
       "    <tr>\n",
       "      <th>11</th>\n",
       "      <td>1.219863</td>\n",
       "      <td>0.574210</td>\n",
       "      <td>0.743674</td>\n",
       "      <td>5.0</td>\n",
       "    </tr>\n",
       "  </tbody>\n",
       "</table>\n",
       "</div>"
      ],
      "text/plain": [
       "           A         B         C    D\n",
       "1   1.000000  0.750220  2.490811  5.0\n",
       "3   0.484263 -0.377896 -0.323125  5.0\n",
       "5  -0.115701  0.916827 -0.980430  5.0\n",
       "7   0.988036 -0.615680 -0.557416  5.0\n",
       "9   1.570974 -1.784536 -0.912110  5.0\n",
       "11  1.219863  0.574210  0.743674  5.0"
      ]
     },
     "execution_count": 126,
     "metadata": {},
     "output_type": "execute_result"
    }
   ],
   "source": [
    "df"
   ]
  },
  {
   "cell_type": "code",
   "execution_count": 127,
   "id": "3204951c-d71e-4221-aff6-9ba3a4c85e28",
   "metadata": {},
   "outputs": [
    {
     "data": {
      "text/html": [
       "<div>\n",
       "<style scoped>\n",
       "    .dataframe tbody tr th:only-of-type {\n",
       "        vertical-align: middle;\n",
       "    }\n",
       "\n",
       "    .dataframe tbody tr th {\n",
       "        vertical-align: top;\n",
       "    }\n",
       "\n",
       "    .dataframe thead th {\n",
       "        text-align: right;\n",
       "    }\n",
       "</style>\n",
       "<table border=\"1\" class=\"dataframe\">\n",
       "  <thead>\n",
       "    <tr style=\"text-align: right;\">\n",
       "      <th></th>\n",
       "      <th>A</th>\n",
       "      <th>B</th>\n",
       "      <th>C</th>\n",
       "      <th>D</th>\n",
       "    </tr>\n",
       "  </thead>\n",
       "  <tbody>\n",
       "    <tr>\n",
       "      <th>1</th>\n",
       "      <td>1.000000</td>\n",
       "      <td>0.750220</td>\n",
       "      <td>2.490811</td>\n",
       "      <td>5.0</td>\n",
       "    </tr>\n",
       "    <tr>\n",
       "      <th>3</th>\n",
       "      <td>0.484263</td>\n",
       "      <td>-0.377896</td>\n",
       "      <td>-0.323125</td>\n",
       "      <td>5.0</td>\n",
       "    </tr>\n",
       "    <tr>\n",
       "      <th>5</th>\n",
       "      <td>-0.115701</td>\n",
       "      <td>0.916827</td>\n",
       "      <td>-0.980430</td>\n",
       "      <td>5.0</td>\n",
       "    </tr>\n",
       "    <tr>\n",
       "      <th>7</th>\n",
       "      <td>0.988036</td>\n",
       "      <td>-0.615680</td>\n",
       "      <td>-0.557416</td>\n",
       "      <td>5.0</td>\n",
       "    </tr>\n",
       "    <tr>\n",
       "      <th>9</th>\n",
       "      <td>1.570974</td>\n",
       "      <td>-1.784536</td>\n",
       "      <td>-0.912110</td>\n",
       "      <td>5.0</td>\n",
       "    </tr>\n",
       "    <tr>\n",
       "      <th>11</th>\n",
       "      <td>1.219863</td>\n",
       "      <td>0.574210</td>\n",
       "      <td>0.743674</td>\n",
       "      <td>5.0</td>\n",
       "    </tr>\n",
       "  </tbody>\n",
       "</table>\n",
       "</div>"
      ],
      "text/plain": [
       "           A         B         C    D\n",
       "1   1.000000  0.750220  2.490811  5.0\n",
       "3   0.484263 -0.377896 -0.323125  5.0\n",
       "5  -0.115701  0.916827 -0.980430  5.0\n",
       "7   0.988036 -0.615680 -0.557416  5.0\n",
       "9   1.570974 -1.784536 -0.912110  5.0\n",
       "11  1.219863  0.574210  0.743674  5.0"
      ]
     },
     "execution_count": 127,
     "metadata": {},
     "output_type": "execute_result"
    }
   ],
   "source": [
    "df"
   ]
  },
  {
   "cell_type": "code",
   "execution_count": 128,
   "id": "0811126d-edda-4f54-8d67-74dd87b2bb51",
   "metadata": {},
   "outputs": [
    {
     "data": {
      "text/plain": [
       "Index([1, 3, 5, 7, 9, 11], dtype='int64')"
      ]
     },
     "execution_count": 128,
     "metadata": {},
     "output_type": "execute_result"
    }
   ],
   "source": [
    "df.index"
   ]
  },
  {
   "cell_type": "code",
   "execution_count": 129,
   "id": "4d2f3449-1091-4146-9aba-274a23e82cba",
   "metadata": {},
   "outputs": [
    {
     "data": {
      "text/plain": [
       "Index(['A', 'B', 'C', 'D'], dtype='object')"
      ]
     },
     "execution_count": 129,
     "metadata": {},
     "output_type": "execute_result"
    }
   ],
   "source": [
    "df.columns"
   ]
  },
  {
   "cell_type": "code",
   "execution_count": 130,
   "id": "aba342fa-2878-427b-8815-6f990b839abb",
   "metadata": {},
   "outputs": [],
   "source": [
    "df2 = df.reindex(index = df.index, columns = list(df.columns) + ['E'])"
   ]
  },
  {
   "cell_type": "code",
   "execution_count": 131,
   "id": "74994fd6-b15b-417a-9a0f-ac7cff238e33",
   "metadata": {},
   "outputs": [],
   "source": [
    "df2.loc[1:5, 'E'] = 1"
   ]
  },
  {
   "cell_type": "code",
   "execution_count": 132,
   "id": "d4e854e9-e4c6-4519-9e0c-fe4ae1126e1d",
   "metadata": {},
   "outputs": [
    {
     "data": {
      "text/html": [
       "<div>\n",
       "<style scoped>\n",
       "    .dataframe tbody tr th:only-of-type {\n",
       "        vertical-align: middle;\n",
       "    }\n",
       "\n",
       "    .dataframe tbody tr th {\n",
       "        vertical-align: top;\n",
       "    }\n",
       "\n",
       "    .dataframe thead th {\n",
       "        text-align: right;\n",
       "    }\n",
       "</style>\n",
       "<table border=\"1\" class=\"dataframe\">\n",
       "  <thead>\n",
       "    <tr style=\"text-align: right;\">\n",
       "      <th></th>\n",
       "      <th>A</th>\n",
       "      <th>B</th>\n",
       "      <th>C</th>\n",
       "      <th>D</th>\n",
       "      <th>E</th>\n",
       "    </tr>\n",
       "  </thead>\n",
       "  <tbody>\n",
       "    <tr>\n",
       "      <th>1</th>\n",
       "      <td>1.000000</td>\n",
       "      <td>0.750220</td>\n",
       "      <td>2.490811</td>\n",
       "      <td>5.0</td>\n",
       "      <td>1.0</td>\n",
       "    </tr>\n",
       "    <tr>\n",
       "      <th>3</th>\n",
       "      <td>0.484263</td>\n",
       "      <td>-0.377896</td>\n",
       "      <td>-0.323125</td>\n",
       "      <td>5.0</td>\n",
       "      <td>1.0</td>\n",
       "    </tr>\n",
       "    <tr>\n",
       "      <th>5</th>\n",
       "      <td>-0.115701</td>\n",
       "      <td>0.916827</td>\n",
       "      <td>-0.980430</td>\n",
       "      <td>5.0</td>\n",
       "      <td>1.0</td>\n",
       "    </tr>\n",
       "    <tr>\n",
       "      <th>7</th>\n",
       "      <td>0.988036</td>\n",
       "      <td>-0.615680</td>\n",
       "      <td>-0.557416</td>\n",
       "      <td>5.0</td>\n",
       "      <td>NaN</td>\n",
       "    </tr>\n",
       "    <tr>\n",
       "      <th>9</th>\n",
       "      <td>1.570974</td>\n",
       "      <td>-1.784536</td>\n",
       "      <td>-0.912110</td>\n",
       "      <td>5.0</td>\n",
       "      <td>NaN</td>\n",
       "    </tr>\n",
       "    <tr>\n",
       "      <th>11</th>\n",
       "      <td>1.219863</td>\n",
       "      <td>0.574210</td>\n",
       "      <td>0.743674</td>\n",
       "      <td>5.0</td>\n",
       "      <td>NaN</td>\n",
       "    </tr>\n",
       "  </tbody>\n",
       "</table>\n",
       "</div>"
      ],
      "text/plain": [
       "           A         B         C    D    E\n",
       "1   1.000000  0.750220  2.490811  5.0  1.0\n",
       "3   0.484263 -0.377896 -0.323125  5.0  1.0\n",
       "5  -0.115701  0.916827 -0.980430  5.0  1.0\n",
       "7   0.988036 -0.615680 -0.557416  5.0  NaN\n",
       "9   1.570974 -1.784536 -0.912110  5.0  NaN\n",
       "11  1.219863  0.574210  0.743674  5.0  NaN"
      ]
     },
     "execution_count": 132,
     "metadata": {},
     "output_type": "execute_result"
    }
   ],
   "source": [
    "df2"
   ]
  },
  {
   "cell_type": "code",
   "execution_count": 133,
   "id": "dacefea3-1938-438a-a51f-36df62c7d992",
   "metadata": {},
   "outputs": [],
   "source": [
    "df2.loc[5:7, 'D'] = np.nan"
   ]
  },
  {
   "cell_type": "code",
   "execution_count": 134,
   "id": "1a6a3efe-9fa7-4fb8-993a-9c9654b02037",
   "metadata": {},
   "outputs": [
    {
     "data": {
      "text/html": [
       "<div>\n",
       "<style scoped>\n",
       "    .dataframe tbody tr th:only-of-type {\n",
       "        vertical-align: middle;\n",
       "    }\n",
       "\n",
       "    .dataframe tbody tr th {\n",
       "        vertical-align: top;\n",
       "    }\n",
       "\n",
       "    .dataframe thead th {\n",
       "        text-align: right;\n",
       "    }\n",
       "</style>\n",
       "<table border=\"1\" class=\"dataframe\">\n",
       "  <thead>\n",
       "    <tr style=\"text-align: right;\">\n",
       "      <th></th>\n",
       "      <th>A</th>\n",
       "      <th>B</th>\n",
       "      <th>C</th>\n",
       "      <th>D</th>\n",
       "      <th>E</th>\n",
       "    </tr>\n",
       "  </thead>\n",
       "  <tbody>\n",
       "    <tr>\n",
       "      <th>1</th>\n",
       "      <td>1.000000</td>\n",
       "      <td>0.750220</td>\n",
       "      <td>2.490811</td>\n",
       "      <td>5.0</td>\n",
       "      <td>1.0</td>\n",
       "    </tr>\n",
       "    <tr>\n",
       "      <th>3</th>\n",
       "      <td>0.484263</td>\n",
       "      <td>-0.377896</td>\n",
       "      <td>-0.323125</td>\n",
       "      <td>5.0</td>\n",
       "      <td>1.0</td>\n",
       "    </tr>\n",
       "    <tr>\n",
       "      <th>5</th>\n",
       "      <td>-0.115701</td>\n",
       "      <td>0.916827</td>\n",
       "      <td>-0.980430</td>\n",
       "      <td>NaN</td>\n",
       "      <td>1.0</td>\n",
       "    </tr>\n",
       "    <tr>\n",
       "      <th>7</th>\n",
       "      <td>0.988036</td>\n",
       "      <td>-0.615680</td>\n",
       "      <td>-0.557416</td>\n",
       "      <td>NaN</td>\n",
       "      <td>NaN</td>\n",
       "    </tr>\n",
       "    <tr>\n",
       "      <th>9</th>\n",
       "      <td>1.570974</td>\n",
       "      <td>-1.784536</td>\n",
       "      <td>-0.912110</td>\n",
       "      <td>5.0</td>\n",
       "      <td>NaN</td>\n",
       "    </tr>\n",
       "    <tr>\n",
       "      <th>11</th>\n",
       "      <td>1.219863</td>\n",
       "      <td>0.574210</td>\n",
       "      <td>0.743674</td>\n",
       "      <td>5.0</td>\n",
       "      <td>NaN</td>\n",
       "    </tr>\n",
       "  </tbody>\n",
       "</table>\n",
       "</div>"
      ],
      "text/plain": [
       "           A         B         C    D    E\n",
       "1   1.000000  0.750220  2.490811  5.0  1.0\n",
       "3   0.484263 -0.377896 -0.323125  5.0  1.0\n",
       "5  -0.115701  0.916827 -0.980430  NaN  1.0\n",
       "7   0.988036 -0.615680 -0.557416  NaN  NaN\n",
       "9   1.570974 -1.784536 -0.912110  5.0  NaN\n",
       "11  1.219863  0.574210  0.743674  5.0  NaN"
      ]
     },
     "execution_count": 134,
     "metadata": {},
     "output_type": "execute_result"
    }
   ],
   "source": [
    "df2"
   ]
  },
  {
   "cell_type": "code",
   "execution_count": 135,
   "id": "9ae7b430-84ff-4bc5-be31-afbb4159b7dd",
   "metadata": {},
   "outputs": [
    {
     "data": {
      "text/html": [
       "<div>\n",
       "<style scoped>\n",
       "    .dataframe tbody tr th:only-of-type {\n",
       "        vertical-align: middle;\n",
       "    }\n",
       "\n",
       "    .dataframe tbody tr th {\n",
       "        vertical-align: top;\n",
       "    }\n",
       "\n",
       "    .dataframe thead th {\n",
       "        text-align: right;\n",
       "    }\n",
       "</style>\n",
       "<table border=\"1\" class=\"dataframe\">\n",
       "  <thead>\n",
       "    <tr style=\"text-align: right;\">\n",
       "      <th></th>\n",
       "      <th>A</th>\n",
       "      <th>B</th>\n",
       "      <th>C</th>\n",
       "      <th>D</th>\n",
       "      <th>E</th>\n",
       "    </tr>\n",
       "  </thead>\n",
       "  <tbody>\n",
       "    <tr>\n",
       "      <th>1</th>\n",
       "      <td>1.000000</td>\n",
       "      <td>0.750220</td>\n",
       "      <td>2.490811</td>\n",
       "      <td>5.0</td>\n",
       "      <td>1.0</td>\n",
       "    </tr>\n",
       "    <tr>\n",
       "      <th>3</th>\n",
       "      <td>0.484263</td>\n",
       "      <td>-0.377896</td>\n",
       "      <td>-0.323125</td>\n",
       "      <td>5.0</td>\n",
       "      <td>1.0</td>\n",
       "    </tr>\n",
       "    <tr>\n",
       "      <th>5</th>\n",
       "      <td>-0.115701</td>\n",
       "      <td>0.916827</td>\n",
       "      <td>-0.980430</td>\n",
       "      <td>NaN</td>\n",
       "      <td>1.0</td>\n",
       "    </tr>\n",
       "    <tr>\n",
       "      <th>9</th>\n",
       "      <td>1.570974</td>\n",
       "      <td>-1.784536</td>\n",
       "      <td>-0.912110</td>\n",
       "      <td>5.0</td>\n",
       "      <td>NaN</td>\n",
       "    </tr>\n",
       "    <tr>\n",
       "      <th>11</th>\n",
       "      <td>1.219863</td>\n",
       "      <td>0.574210</td>\n",
       "      <td>0.743674</td>\n",
       "      <td>5.0</td>\n",
       "      <td>NaN</td>\n",
       "    </tr>\n",
       "  </tbody>\n",
       "</table>\n",
       "</div>"
      ],
      "text/plain": [
       "           A         B         C    D    E\n",
       "1   1.000000  0.750220  2.490811  5.0  1.0\n",
       "3   0.484263 -0.377896 -0.323125  5.0  1.0\n",
       "5  -0.115701  0.916827 -0.980430  NaN  1.0\n",
       "9   1.570974 -1.784536 -0.912110  5.0  NaN\n",
       "11  1.219863  0.574210  0.743674  5.0  NaN"
      ]
     },
     "execution_count": 135,
     "metadata": {},
     "output_type": "execute_result"
    }
   ],
   "source": [
    "df2.dropna(axis = 0, thresh = 4)"
   ]
  },
  {
   "cell_type": "code",
   "execution_count": 136,
   "id": "b8abf9fa-297c-409f-af07-c581b110d159",
   "metadata": {},
   "outputs": [
    {
     "data": {
      "text/html": [
       "<div>\n",
       "<style scoped>\n",
       "    .dataframe tbody tr th:only-of-type {\n",
       "        vertical-align: middle;\n",
       "    }\n",
       "\n",
       "    .dataframe tbody tr th {\n",
       "        vertical-align: top;\n",
       "    }\n",
       "\n",
       "    .dataframe thead th {\n",
       "        text-align: right;\n",
       "    }\n",
       "</style>\n",
       "<table border=\"1\" class=\"dataframe\">\n",
       "  <thead>\n",
       "    <tr style=\"text-align: right;\">\n",
       "      <th></th>\n",
       "      <th>A</th>\n",
       "      <th>B</th>\n",
       "      <th>C</th>\n",
       "      <th>D</th>\n",
       "      <th>E</th>\n",
       "    </tr>\n",
       "  </thead>\n",
       "  <tbody>\n",
       "    <tr>\n",
       "      <th>1</th>\n",
       "      <td>False</td>\n",
       "      <td>False</td>\n",
       "      <td>False</td>\n",
       "      <td>False</td>\n",
       "      <td>False</td>\n",
       "    </tr>\n",
       "    <tr>\n",
       "      <th>3</th>\n",
       "      <td>False</td>\n",
       "      <td>False</td>\n",
       "      <td>False</td>\n",
       "      <td>False</td>\n",
       "      <td>False</td>\n",
       "    </tr>\n",
       "    <tr>\n",
       "      <th>5</th>\n",
       "      <td>False</td>\n",
       "      <td>False</td>\n",
       "      <td>False</td>\n",
       "      <td>True</td>\n",
       "      <td>False</td>\n",
       "    </tr>\n",
       "    <tr>\n",
       "      <th>7</th>\n",
       "      <td>False</td>\n",
       "      <td>False</td>\n",
       "      <td>False</td>\n",
       "      <td>True</td>\n",
       "      <td>True</td>\n",
       "    </tr>\n",
       "    <tr>\n",
       "      <th>9</th>\n",
       "      <td>False</td>\n",
       "      <td>False</td>\n",
       "      <td>False</td>\n",
       "      <td>False</td>\n",
       "      <td>True</td>\n",
       "    </tr>\n",
       "    <tr>\n",
       "      <th>11</th>\n",
       "      <td>False</td>\n",
       "      <td>False</td>\n",
       "      <td>False</td>\n",
       "      <td>False</td>\n",
       "      <td>True</td>\n",
       "    </tr>\n",
       "  </tbody>\n",
       "</table>\n",
       "</div>"
      ],
      "text/plain": [
       "        A      B      C      D      E\n",
       "1   False  False  False  False  False\n",
       "3   False  False  False  False  False\n",
       "5   False  False  False   True  False\n",
       "7   False  False  False   True   True\n",
       "9   False  False  False  False   True\n",
       "11  False  False  False  False   True"
      ]
     },
     "execution_count": 136,
     "metadata": {},
     "output_type": "execute_result"
    }
   ],
   "source": [
    "pd.isnull(df2)"
   ]
  },
  {
   "cell_type": "code",
   "execution_count": 137,
   "id": "675a824a-ec09-4990-bb60-7774993274fa",
   "metadata": {},
   "outputs": [
    {
     "data": {
      "text/html": [
       "<div>\n",
       "<style scoped>\n",
       "    .dataframe tbody tr th:only-of-type {\n",
       "        vertical-align: middle;\n",
       "    }\n",
       "\n",
       "    .dataframe tbody tr th {\n",
       "        vertical-align: top;\n",
       "    }\n",
       "\n",
       "    .dataframe thead th {\n",
       "        text-align: right;\n",
       "    }\n",
       "</style>\n",
       "<table border=\"1\" class=\"dataframe\">\n",
       "  <thead>\n",
       "    <tr style=\"text-align: right;\">\n",
       "      <th></th>\n",
       "      <th>A</th>\n",
       "      <th>B</th>\n",
       "      <th>C</th>\n",
       "      <th>D</th>\n",
       "      <th>E</th>\n",
       "    </tr>\n",
       "  </thead>\n",
       "  <tbody>\n",
       "    <tr>\n",
       "      <th>1</th>\n",
       "      <td>False</td>\n",
       "      <td>False</td>\n",
       "      <td>False</td>\n",
       "      <td>False</td>\n",
       "      <td>False</td>\n",
       "    </tr>\n",
       "    <tr>\n",
       "      <th>3</th>\n",
       "      <td>False</td>\n",
       "      <td>False</td>\n",
       "      <td>False</td>\n",
       "      <td>False</td>\n",
       "      <td>False</td>\n",
       "    </tr>\n",
       "    <tr>\n",
       "      <th>5</th>\n",
       "      <td>False</td>\n",
       "      <td>False</td>\n",
       "      <td>False</td>\n",
       "      <td>True</td>\n",
       "      <td>False</td>\n",
       "    </tr>\n",
       "    <tr>\n",
       "      <th>7</th>\n",
       "      <td>False</td>\n",
       "      <td>False</td>\n",
       "      <td>False</td>\n",
       "      <td>True</td>\n",
       "      <td>True</td>\n",
       "    </tr>\n",
       "    <tr>\n",
       "      <th>9</th>\n",
       "      <td>False</td>\n",
       "      <td>False</td>\n",
       "      <td>False</td>\n",
       "      <td>False</td>\n",
       "      <td>True</td>\n",
       "    </tr>\n",
       "    <tr>\n",
       "      <th>11</th>\n",
       "      <td>False</td>\n",
       "      <td>False</td>\n",
       "      <td>False</td>\n",
       "      <td>False</td>\n",
       "      <td>True</td>\n",
       "    </tr>\n",
       "  </tbody>\n",
       "</table>\n",
       "</div>"
      ],
      "text/plain": [
       "        A      B      C      D      E\n",
       "1   False  False  False  False  False\n",
       "3   False  False  False  False  False\n",
       "5   False  False  False   True  False\n",
       "7   False  False  False   True   True\n",
       "9   False  False  False  False   True\n",
       "11  False  False  False  False   True"
      ]
     },
     "execution_count": 137,
     "metadata": {},
     "output_type": "execute_result"
    }
   ],
   "source": [
    "pd.isna(df2)"
   ]
  },
  {
   "cell_type": "code",
   "execution_count": 138,
   "id": "424a377d-9aae-43d9-946f-8c0b2c0e713c",
   "metadata": {},
   "outputs": [
    {
     "data": {
      "text/html": [
       "<div>\n",
       "<style scoped>\n",
       "    .dataframe tbody tr th:only-of-type {\n",
       "        vertical-align: middle;\n",
       "    }\n",
       "\n",
       "    .dataframe tbody tr th {\n",
       "        vertical-align: top;\n",
       "    }\n",
       "\n",
       "    .dataframe thead th {\n",
       "        text-align: right;\n",
       "    }\n",
       "</style>\n",
       "<table border=\"1\" class=\"dataframe\">\n",
       "  <thead>\n",
       "    <tr style=\"text-align: right;\">\n",
       "      <th></th>\n",
       "      <th>A</th>\n",
       "      <th>B</th>\n",
       "      <th>C</th>\n",
       "      <th>D</th>\n",
       "    </tr>\n",
       "  </thead>\n",
       "  <tbody>\n",
       "    <tr>\n",
       "      <th>1</th>\n",
       "      <td>1.000000</td>\n",
       "      <td>0.750220</td>\n",
       "      <td>2.490811</td>\n",
       "      <td>5.0</td>\n",
       "    </tr>\n",
       "    <tr>\n",
       "      <th>3</th>\n",
       "      <td>0.484263</td>\n",
       "      <td>-0.377896</td>\n",
       "      <td>-0.323125</td>\n",
       "      <td>5.0</td>\n",
       "    </tr>\n",
       "    <tr>\n",
       "      <th>5</th>\n",
       "      <td>-0.115701</td>\n",
       "      <td>0.916827</td>\n",
       "      <td>-0.980430</td>\n",
       "      <td>5.0</td>\n",
       "    </tr>\n",
       "    <tr>\n",
       "      <th>7</th>\n",
       "      <td>0.988036</td>\n",
       "      <td>-0.615680</td>\n",
       "      <td>-0.557416</td>\n",
       "      <td>5.0</td>\n",
       "    </tr>\n",
       "    <tr>\n",
       "      <th>9</th>\n",
       "      <td>1.570974</td>\n",
       "      <td>-1.784536</td>\n",
       "      <td>-0.912110</td>\n",
       "      <td>5.0</td>\n",
       "    </tr>\n",
       "    <tr>\n",
       "      <th>11</th>\n",
       "      <td>1.219863</td>\n",
       "      <td>0.574210</td>\n",
       "      <td>0.743674</td>\n",
       "      <td>5.0</td>\n",
       "    </tr>\n",
       "  </tbody>\n",
       "</table>\n",
       "</div>"
      ],
      "text/plain": [
       "           A         B         C    D\n",
       "1   1.000000  0.750220  2.490811  5.0\n",
       "3   0.484263 -0.377896 -0.323125  5.0\n",
       "5  -0.115701  0.916827 -0.980430  5.0\n",
       "7   0.988036 -0.615680 -0.557416  5.0\n",
       "9   1.570974 -1.784536 -0.912110  5.0\n",
       "11  1.219863  0.574210  0.743674  5.0"
      ]
     },
     "execution_count": 138,
     "metadata": {},
     "output_type": "execute_result"
    }
   ],
   "source": [
    "df"
   ]
  },
  {
   "cell_type": "code",
   "execution_count": 139,
   "id": "5512ea96-7e25-488c-a249-2590aa62f218",
   "metadata": {},
   "outputs": [
    {
     "data": {
      "text/html": [
       "<div>\n",
       "<style scoped>\n",
       "    .dataframe tbody tr th:only-of-type {\n",
       "        vertical-align: middle;\n",
       "    }\n",
       "\n",
       "    .dataframe tbody tr th {\n",
       "        vertical-align: top;\n",
       "    }\n",
       "\n",
       "    .dataframe thead th {\n",
       "        text-align: right;\n",
       "    }\n",
       "</style>\n",
       "<table border=\"1\" class=\"dataframe\">\n",
       "  <thead>\n",
       "    <tr style=\"text-align: right;\">\n",
       "      <th></th>\n",
       "      <th>A</th>\n",
       "      <th>B</th>\n",
       "      <th>C</th>\n",
       "      <th>D</th>\n",
       "    </tr>\n",
       "  </thead>\n",
       "  <tbody>\n",
       "    <tr>\n",
       "      <th>count</th>\n",
       "      <td>6.000000</td>\n",
       "      <td>6.000000</td>\n",
       "      <td>6.000000</td>\n",
       "      <td>6.0</td>\n",
       "    </tr>\n",
       "    <tr>\n",
       "      <th>mean</th>\n",
       "      <td>0.857906</td>\n",
       "      <td>-0.089476</td>\n",
       "      <td>0.076901</td>\n",
       "      <td>5.0</td>\n",
       "    </tr>\n",
       "    <tr>\n",
       "      <th>std</th>\n",
       "      <td>0.593990</td>\n",
       "      <td>1.038414</td>\n",
       "      <td>1.336414</td>\n",
       "      <td>0.0</td>\n",
       "    </tr>\n",
       "    <tr>\n",
       "      <th>min</th>\n",
       "      <td>-0.115701</td>\n",
       "      <td>-1.784536</td>\n",
       "      <td>-0.980430</td>\n",
       "      <td>5.0</td>\n",
       "    </tr>\n",
       "    <tr>\n",
       "      <th>25%</th>\n",
       "      <td>0.610207</td>\n",
       "      <td>-0.556234</td>\n",
       "      <td>-0.823437</td>\n",
       "      <td>5.0</td>\n",
       "    </tr>\n",
       "    <tr>\n",
       "      <th>50%</th>\n",
       "      <td>0.994018</td>\n",
       "      <td>0.098157</td>\n",
       "      <td>-0.440271</td>\n",
       "      <td>5.0</td>\n",
       "    </tr>\n",
       "    <tr>\n",
       "      <th>75%</th>\n",
       "      <td>1.164897</td>\n",
       "      <td>0.706217</td>\n",
       "      <td>0.476974</td>\n",
       "      <td>5.0</td>\n",
       "    </tr>\n",
       "    <tr>\n",
       "      <th>max</th>\n",
       "      <td>1.570974</td>\n",
       "      <td>0.916827</td>\n",
       "      <td>2.490811</td>\n",
       "      <td>5.0</td>\n",
       "    </tr>\n",
       "  </tbody>\n",
       "</table>\n",
       "</div>"
      ],
      "text/plain": [
       "              A         B         C    D\n",
       "count  6.000000  6.000000  6.000000  6.0\n",
       "mean   0.857906 -0.089476  0.076901  5.0\n",
       "std    0.593990  1.038414  1.336414  0.0\n",
       "min   -0.115701 -1.784536 -0.980430  5.0\n",
       "25%    0.610207 -0.556234 -0.823437  5.0\n",
       "50%    0.994018  0.098157 -0.440271  5.0\n",
       "75%    1.164897  0.706217  0.476974  5.0\n",
       "max    1.570974  0.916827  2.490811  5.0"
      ]
     },
     "execution_count": 139,
     "metadata": {},
     "output_type": "execute_result"
    }
   ],
   "source": [
    "df.describe()"
   ]
  },
  {
   "cell_type": "code",
   "execution_count": 140,
   "id": "6f7b458d-7c45-4f73-873e-437b389d0b06",
   "metadata": {},
   "outputs": [
    {
     "data": {
      "text/plain": [
       "1     2.310258\n",
       "3     1.195811\n",
       "5     1.205174\n",
       "7     1.203735\n",
       "9     0.968582\n",
       "11    1.884437\n",
       "dtype: float64"
      ]
     },
     "execution_count": 140,
     "metadata": {},
     "output_type": "execute_result"
    }
   ],
   "source": [
    "df.mean(axis = 1)"
   ]
  },
  {
   "cell_type": "code",
   "execution_count": 141,
   "id": "1a7ed5ef-55a9-4240-bfb3-d6c073b1bfee",
   "metadata": {},
   "outputs": [],
   "source": [
    "s = pd.Series(np.random.randint(0, 7, 20))"
   ]
  },
  {
   "cell_type": "code",
   "execution_count": 142,
   "id": "e6ce713a-043e-4581-91ad-6472d1c7f8bd",
   "metadata": {},
   "outputs": [
    {
     "data": {
      "text/plain": [
       "0     6\n",
       "1     1\n",
       "2     0\n",
       "3     4\n",
       "4     3\n",
       "5     3\n",
       "6     2\n",
       "7     5\n",
       "8     3\n",
       "9     6\n",
       "10    0\n",
       "11    0\n",
       "12    6\n",
       "13    4\n",
       "14    3\n",
       "15    2\n",
       "16    3\n",
       "17    2\n",
       "18    3\n",
       "19    3\n",
       "dtype: int32"
      ]
     },
     "execution_count": 142,
     "metadata": {},
     "output_type": "execute_result"
    }
   ],
   "source": [
    "s"
   ]
  },
  {
   "cell_type": "code",
   "execution_count": 143,
   "id": "95aabd7a-5ed2-4ddb-a51e-a24178d76b9b",
   "metadata": {},
   "outputs": [
    {
     "data": {
      "text/plain": [
       "3    7\n",
       "0    3\n",
       "6    3\n",
       "2    3\n",
       "4    2\n",
       "1    1\n",
       "5    1\n",
       "Name: count, dtype: int64"
      ]
     },
     "execution_count": 143,
     "metadata": {},
     "output_type": "execute_result"
    }
   ],
   "source": [
    "s.value_counts()"
   ]
  },
  {
   "cell_type": "code",
   "execution_count": 144,
   "id": "46e2ddc1-167d-4ada-a15d-77c8e59a4b64",
   "metadata": {},
   "outputs": [],
   "source": [
    "df3 = pd.DataFrame(np.random.randint(0, 7, 12).reshape(3, 4))"
   ]
  },
  {
   "cell_type": "code",
   "execution_count": 145,
   "id": "d524041f-9068-49b4-93cc-e5ce11ceae96",
   "metadata": {},
   "outputs": [
    {
     "data": {
      "text/html": [
       "<div>\n",
       "<style scoped>\n",
       "    .dataframe tbody tr th:only-of-type {\n",
       "        vertical-align: middle;\n",
       "    }\n",
       "\n",
       "    .dataframe tbody tr th {\n",
       "        vertical-align: top;\n",
       "    }\n",
       "\n",
       "    .dataframe thead th {\n",
       "        text-align: right;\n",
       "    }\n",
       "</style>\n",
       "<table border=\"1\" class=\"dataframe\">\n",
       "  <thead>\n",
       "    <tr style=\"text-align: right;\">\n",
       "      <th></th>\n",
       "      <th>0</th>\n",
       "      <th>1</th>\n",
       "      <th>2</th>\n",
       "      <th>3</th>\n",
       "    </tr>\n",
       "  </thead>\n",
       "  <tbody>\n",
       "    <tr>\n",
       "      <th>0</th>\n",
       "      <td>0</td>\n",
       "      <td>0</td>\n",
       "      <td>4</td>\n",
       "      <td>1</td>\n",
       "    </tr>\n",
       "    <tr>\n",
       "      <th>1</th>\n",
       "      <td>3</td>\n",
       "      <td>5</td>\n",
       "      <td>0</td>\n",
       "      <td>3</td>\n",
       "    </tr>\n",
       "    <tr>\n",
       "      <th>2</th>\n",
       "      <td>4</td>\n",
       "      <td>1</td>\n",
       "      <td>5</td>\n",
       "      <td>1</td>\n",
       "    </tr>\n",
       "  </tbody>\n",
       "</table>\n",
       "</div>"
      ],
      "text/plain": [
       "   0  1  2  3\n",
       "0  0  0  4  1\n",
       "1  3  5  0  3\n",
       "2  4  1  5  1"
      ]
     },
     "execution_count": 145,
     "metadata": {},
     "output_type": "execute_result"
    }
   ],
   "source": [
    "df3"
   ]
  },
  {
   "cell_type": "code",
   "execution_count": 146,
   "id": "6d084939-e5c2-4f5f-a0cf-349e86eca775",
   "metadata": {},
   "outputs": [],
   "source": [
    "s = pd.Series(np.random.randint(7, 8, 3))"
   ]
  },
  {
   "cell_type": "code",
   "execution_count": 147,
   "id": "9a89b1e7-675f-4908-87bb-cf27c55e5aa2",
   "metadata": {},
   "outputs": [
    {
     "data": {
      "text/plain": [
       "0    7\n",
       "1    7\n",
       "2    7\n",
       "dtype: int32"
      ]
     },
     "execution_count": 147,
     "metadata": {},
     "output_type": "execute_result"
    }
   ],
   "source": [
    "s"
   ]
  },
  {
   "cell_type": "code",
   "execution_count": 148,
   "id": "ee0cdbef-ce99-47d7-869a-e9745dfa5954",
   "metadata": {},
   "outputs": [
    {
     "data": {
      "text/plain": [
       "<bound method Series.info of 0    7\n",
       "1    7\n",
       "2    7\n",
       "dtype: int32>"
      ]
     },
     "execution_count": 148,
     "metadata": {},
     "output_type": "execute_result"
    }
   ],
   "source": [
    "s.info"
   ]
  },
  {
   "cell_type": "code",
   "execution_count": 149,
   "id": "d9001c7e-b748-4c8a-8606-fb0652e952bf",
   "metadata": {},
   "outputs": [
    {
     "data": {
      "text/plain": [
       "<bound method DataFrame.info of    0  1  2  3\n",
       "0  0  0  4  1\n",
       "1  3  5  0  3\n",
       "2  4  1  5  1>"
      ]
     },
     "execution_count": 149,
     "metadata": {},
     "output_type": "execute_result"
    }
   ],
   "source": [
    "df3.info"
   ]
  },
  {
   "cell_type": "code",
   "execution_count": 150,
   "id": "a1e76a1b-383c-4328-899d-497483c51e0c",
   "metadata": {},
   "outputs": [
    {
     "data": {
      "text/html": [
       "<div>\n",
       "<style scoped>\n",
       "    .dataframe tbody tr th:only-of-type {\n",
       "        vertical-align: middle;\n",
       "    }\n",
       "\n",
       "    .dataframe tbody tr th {\n",
       "        vertical-align: top;\n",
       "    }\n",
       "\n",
       "    .dataframe thead th {\n",
       "        text-align: right;\n",
       "    }\n",
       "</style>\n",
       "<table border=\"1\" class=\"dataframe\">\n",
       "  <thead>\n",
       "    <tr style=\"text-align: right;\">\n",
       "      <th></th>\n",
       "      <th>0</th>\n",
       "      <th>1</th>\n",
       "      <th>2</th>\n",
       "      <th>3</th>\n",
       "      <th>0</th>\n",
       "    </tr>\n",
       "  </thead>\n",
       "  <tbody>\n",
       "    <tr>\n",
       "      <th>0</th>\n",
       "      <td>0</td>\n",
       "      <td>0</td>\n",
       "      <td>4</td>\n",
       "      <td>1</td>\n",
       "      <td>7</td>\n",
       "    </tr>\n",
       "    <tr>\n",
       "      <th>1</th>\n",
       "      <td>3</td>\n",
       "      <td>5</td>\n",
       "      <td>0</td>\n",
       "      <td>3</td>\n",
       "      <td>7</td>\n",
       "    </tr>\n",
       "    <tr>\n",
       "      <th>2</th>\n",
       "      <td>4</td>\n",
       "      <td>1</td>\n",
       "      <td>5</td>\n",
       "      <td>1</td>\n",
       "      <td>7</td>\n",
       "    </tr>\n",
       "  </tbody>\n",
       "</table>\n",
       "</div>"
      ],
      "text/plain": [
       "   0  1  2  3  0\n",
       "0  0  0  4  1  7\n",
       "1  3  5  0  3  7\n",
       "2  4  1  5  1  7"
      ]
     },
     "execution_count": 150,
     "metadata": {},
     "output_type": "execute_result"
    }
   ],
   "source": [
    "pd.concat([df3, s], axis= 1)"
   ]
  },
  {
   "cell_type": "code",
   "execution_count": 151,
   "id": "593c5bd1-9eab-435a-9018-9d233b2574f2",
   "metadata": {},
   "outputs": [
    {
     "data": {
      "text/html": [
       "<div>\n",
       "<style scoped>\n",
       "    .dataframe tbody tr th:only-of-type {\n",
       "        vertical-align: middle;\n",
       "    }\n",
       "\n",
       "    .dataframe tbody tr th {\n",
       "        vertical-align: top;\n",
       "    }\n",
       "\n",
       "    .dataframe thead th {\n",
       "        text-align: right;\n",
       "    }\n",
       "</style>\n",
       "<table border=\"1\" class=\"dataframe\">\n",
       "  <thead>\n",
       "    <tr style=\"text-align: right;\">\n",
       "      <th></th>\n",
       "      <th>0</th>\n",
       "      <th>1</th>\n",
       "      <th>2</th>\n",
       "      <th>3</th>\n",
       "    </tr>\n",
       "  </thead>\n",
       "  <tbody>\n",
       "    <tr>\n",
       "      <th>0</th>\n",
       "      <td>0</td>\n",
       "      <td>0</td>\n",
       "      <td>4</td>\n",
       "      <td>1</td>\n",
       "    </tr>\n",
       "    <tr>\n",
       "      <th>1</th>\n",
       "      <td>3</td>\n",
       "      <td>5</td>\n",
       "      <td>0</td>\n",
       "      <td>3</td>\n",
       "    </tr>\n",
       "    <tr>\n",
       "      <th>2</th>\n",
       "      <td>4</td>\n",
       "      <td>1</td>\n",
       "      <td>5</td>\n",
       "      <td>1</td>\n",
       "    </tr>\n",
       "  </tbody>\n",
       "</table>\n",
       "</div>"
      ],
      "text/plain": [
       "   0  1  2  3\n",
       "0  0  0  4  1\n",
       "1  3  5  0  3\n",
       "2  4  1  5  1"
      ]
     },
     "execution_count": 151,
     "metadata": {},
     "output_type": "execute_result"
    }
   ],
   "source": [
    "df3\n"
   ]
  },
  {
   "cell_type": "code",
   "execution_count": 152,
   "id": "c93c4b97-9bba-4d4b-8a43-99db4dc333a1",
   "metadata": {},
   "outputs": [],
   "source": [
    "df = pd.DataFrame(\n",
    "    {\n",
    "        \"A\": [\"foo\", \"bar\", \"foo\", \"bar\", \"foo\", \"bar\", \"foo\", \"foo\"],\n",
    "        \"B\": [\"one\", \"one\", \"two\", \"three\", \"two\", \"two\", \"one\", \"three\"],\n",
    "        \"C\": np.random.randn(8),\n",
    "        \"D\": np.random.randn(8),\n",
    "    }\n",
    ")"
   ]
  },
  {
   "cell_type": "code",
   "execution_count": 153,
   "id": "730272fe-6519-4768-af0e-995cdfe61b9f",
   "metadata": {},
   "outputs": [
    {
     "data": {
      "text/html": [
       "<div>\n",
       "<style scoped>\n",
       "    .dataframe tbody tr th:only-of-type {\n",
       "        vertical-align: middle;\n",
       "    }\n",
       "\n",
       "    .dataframe tbody tr th {\n",
       "        vertical-align: top;\n",
       "    }\n",
       "\n",
       "    .dataframe thead th {\n",
       "        text-align: right;\n",
       "    }\n",
       "</style>\n",
       "<table border=\"1\" class=\"dataframe\">\n",
       "  <thead>\n",
       "    <tr style=\"text-align: right;\">\n",
       "      <th></th>\n",
       "      <th>A</th>\n",
       "      <th>B</th>\n",
       "      <th>C</th>\n",
       "      <th>D</th>\n",
       "    </tr>\n",
       "  </thead>\n",
       "  <tbody>\n",
       "    <tr>\n",
       "      <th>0</th>\n",
       "      <td>foo</td>\n",
       "      <td>one</td>\n",
       "      <td>0.399486</td>\n",
       "      <td>0.195168</td>\n",
       "    </tr>\n",
       "    <tr>\n",
       "      <th>1</th>\n",
       "      <td>bar</td>\n",
       "      <td>one</td>\n",
       "      <td>-1.566453</td>\n",
       "      <td>-0.520549</td>\n",
       "    </tr>\n",
       "    <tr>\n",
       "      <th>2</th>\n",
       "      <td>foo</td>\n",
       "      <td>two</td>\n",
       "      <td>0.427047</td>\n",
       "      <td>0.245133</td>\n",
       "    </tr>\n",
       "    <tr>\n",
       "      <th>3</th>\n",
       "      <td>bar</td>\n",
       "      <td>three</td>\n",
       "      <td>-0.769731</td>\n",
       "      <td>-1.561727</td>\n",
       "    </tr>\n",
       "    <tr>\n",
       "      <th>4</th>\n",
       "      <td>foo</td>\n",
       "      <td>two</td>\n",
       "      <td>0.170324</td>\n",
       "      <td>0.151721</td>\n",
       "    </tr>\n",
       "    <tr>\n",
       "      <th>5</th>\n",
       "      <td>bar</td>\n",
       "      <td>two</td>\n",
       "      <td>-0.682500</td>\n",
       "      <td>-1.843120</td>\n",
       "    </tr>\n",
       "    <tr>\n",
       "      <th>6</th>\n",
       "      <td>foo</td>\n",
       "      <td>one</td>\n",
       "      <td>0.773847</td>\n",
       "      <td>-0.086628</td>\n",
       "    </tr>\n",
       "    <tr>\n",
       "      <th>7</th>\n",
       "      <td>foo</td>\n",
       "      <td>three</td>\n",
       "      <td>0.199398</td>\n",
       "      <td>-0.037084</td>\n",
       "    </tr>\n",
       "  </tbody>\n",
       "</table>\n",
       "</div>"
      ],
      "text/plain": [
       "     A      B         C         D\n",
       "0  foo    one  0.399486  0.195168\n",
       "1  bar    one -1.566453 -0.520549\n",
       "2  foo    two  0.427047  0.245133\n",
       "3  bar  three -0.769731 -1.561727\n",
       "4  foo    two  0.170324  0.151721\n",
       "5  bar    two -0.682500 -1.843120\n",
       "6  foo    one  0.773847 -0.086628\n",
       "7  foo  three  0.199398 -0.037084"
      ]
     },
     "execution_count": 153,
     "metadata": {},
     "output_type": "execute_result"
    }
   ],
   "source": [
    "df"
   ]
  },
  {
   "cell_type": "code",
   "execution_count": 154,
   "id": "08dc667c-aa6c-4025-b9fe-3f3c9fae02cd",
   "metadata": {},
   "outputs": [
    {
     "data": {
      "text/html": [
       "<div>\n",
       "<style scoped>\n",
       "    .dataframe tbody tr th:only-of-type {\n",
       "        vertical-align: middle;\n",
       "    }\n",
       "\n",
       "    .dataframe tbody tr th {\n",
       "        vertical-align: top;\n",
       "    }\n",
       "\n",
       "    .dataframe thead th {\n",
       "        text-align: right;\n",
       "    }\n",
       "</style>\n",
       "<table border=\"1\" class=\"dataframe\">\n",
       "  <thead>\n",
       "    <tr style=\"text-align: right;\">\n",
       "      <th></th>\n",
       "      <th>B</th>\n",
       "      <th>C</th>\n",
       "      <th>D</th>\n",
       "    </tr>\n",
       "    <tr>\n",
       "      <th>A</th>\n",
       "      <th></th>\n",
       "      <th></th>\n",
       "      <th></th>\n",
       "    </tr>\n",
       "  </thead>\n",
       "  <tbody>\n",
       "    <tr>\n",
       "      <th>foo</th>\n",
       "      <td>onetwotwoonethree</td>\n",
       "      <td>1.970102</td>\n",
       "      <td>0.468309</td>\n",
       "    </tr>\n",
       "    <tr>\n",
       "      <th>bar</th>\n",
       "      <td>onethreetwo</td>\n",
       "      <td>-3.018684</td>\n",
       "      <td>-3.925396</td>\n",
       "    </tr>\n",
       "  </tbody>\n",
       "</table>\n",
       "</div>"
      ],
      "text/plain": [
       "                     B         C         D\n",
       "A                                         \n",
       "foo  onetwotwoonethree  1.970102  0.468309\n",
       "bar        onethreetwo -3.018684 -3.925396"
      ]
     },
     "execution_count": 154,
     "metadata": {},
     "output_type": "execute_result"
    }
   ],
   "source": [
    "df.groupby(\"A\", sort = False).sum()"
   ]
  },
  {
   "cell_type": "code",
   "execution_count": 155,
   "id": "96c85995-281d-4773-8bf3-f29ad4b113a2",
   "metadata": {},
   "outputs": [
    {
     "data": {
      "text/html": [
       "<div>\n",
       "<style scoped>\n",
       "    .dataframe tbody tr th:only-of-type {\n",
       "        vertical-align: middle;\n",
       "    }\n",
       "\n",
       "    .dataframe tbody tr th {\n",
       "        vertical-align: top;\n",
       "    }\n",
       "\n",
       "    .dataframe thead th {\n",
       "        text-align: right;\n",
       "    }\n",
       "</style>\n",
       "<table border=\"1\" class=\"dataframe\">\n",
       "  <thead>\n",
       "    <tr style=\"text-align: right;\">\n",
       "      <th></th>\n",
       "      <th>A</th>\n",
       "      <th>B</th>\n",
       "      <th>C</th>\n",
       "      <th>D</th>\n",
       "    </tr>\n",
       "  </thead>\n",
       "  <tbody>\n",
       "    <tr>\n",
       "      <th>0</th>\n",
       "      <td>foo</td>\n",
       "      <td>one</td>\n",
       "      <td>0.399486</td>\n",
       "      <td>0.195168</td>\n",
       "    </tr>\n",
       "    <tr>\n",
       "      <th>1</th>\n",
       "      <td>bar</td>\n",
       "      <td>one</td>\n",
       "      <td>-1.566453</td>\n",
       "      <td>-0.520549</td>\n",
       "    </tr>\n",
       "    <tr>\n",
       "      <th>2</th>\n",
       "      <td>foo</td>\n",
       "      <td>two</td>\n",
       "      <td>0.427047</td>\n",
       "      <td>0.245133</td>\n",
       "    </tr>\n",
       "    <tr>\n",
       "      <th>3</th>\n",
       "      <td>bar</td>\n",
       "      <td>three</td>\n",
       "      <td>-0.769731</td>\n",
       "      <td>-1.561727</td>\n",
       "    </tr>\n",
       "    <tr>\n",
       "      <th>4</th>\n",
       "      <td>foo</td>\n",
       "      <td>two</td>\n",
       "      <td>0.170324</td>\n",
       "      <td>0.151721</td>\n",
       "    </tr>\n",
       "    <tr>\n",
       "      <th>5</th>\n",
       "      <td>bar</td>\n",
       "      <td>two</td>\n",
       "      <td>-0.682500</td>\n",
       "      <td>-1.843120</td>\n",
       "    </tr>\n",
       "    <tr>\n",
       "      <th>6</th>\n",
       "      <td>foo</td>\n",
       "      <td>one</td>\n",
       "      <td>0.773847</td>\n",
       "      <td>-0.086628</td>\n",
       "    </tr>\n",
       "    <tr>\n",
       "      <th>7</th>\n",
       "      <td>foo</td>\n",
       "      <td>three</td>\n",
       "      <td>0.199398</td>\n",
       "      <td>-0.037084</td>\n",
       "    </tr>\n",
       "  </tbody>\n",
       "</table>\n",
       "</div>"
      ],
      "text/plain": [
       "     A      B         C         D\n",
       "0  foo    one  0.399486  0.195168\n",
       "1  bar    one -1.566453 -0.520549\n",
       "2  foo    two  0.427047  0.245133\n",
       "3  bar  three -0.769731 -1.561727\n",
       "4  foo    two  0.170324  0.151721\n",
       "5  bar    two -0.682500 -1.843120\n",
       "6  foo    one  0.773847 -0.086628\n",
       "7  foo  three  0.199398 -0.037084"
      ]
     },
     "execution_count": 155,
     "metadata": {},
     "output_type": "execute_result"
    }
   ],
   "source": [
    "df"
   ]
  },
  {
   "cell_type": "code",
   "execution_count": 156,
   "id": "d9d17ba7-0382-4df0-a29c-08e225a739e7",
   "metadata": {},
   "outputs": [
    {
     "data": {
      "text/plain": [
       "0  A         foo\n",
       "   B         one\n",
       "   C    0.399486\n",
       "   D    0.195168\n",
       "1  A         bar\n",
       "   B         one\n",
       "   C   -1.566453\n",
       "   D   -0.520549\n",
       "2  A         foo\n",
       "   B         two\n",
       "   C    0.427047\n",
       "   D    0.245133\n",
       "3  A         bar\n",
       "   B       three\n",
       "   C   -0.769731\n",
       "   D   -1.561727\n",
       "4  A         foo\n",
       "   B         two\n",
       "   C    0.170324\n",
       "   D    0.151721\n",
       "5  A         bar\n",
       "   B         two\n",
       "   C     -0.6825\n",
       "   D    -1.84312\n",
       "6  A         foo\n",
       "   B         one\n",
       "   C    0.773847\n",
       "   D   -0.086628\n",
       "7  A         foo\n",
       "   B       three\n",
       "   C    0.199398\n",
       "   D   -0.037084\n",
       "dtype: object"
      ]
     },
     "execution_count": 156,
     "metadata": {},
     "output_type": "execute_result"
    }
   ],
   "source": [
    "df.stack()"
   ]
  },
  {
   "cell_type": "code",
   "execution_count": 157,
   "id": "d19c8b64-61dd-4172-ae27-aa7602b3b83b",
   "metadata": {},
   "outputs": [
    {
     "data": {
      "text/html": [
       "<div>\n",
       "<style scoped>\n",
       "    .dataframe tbody tr th:only-of-type {\n",
       "        vertical-align: middle;\n",
       "    }\n",
       "\n",
       "    .dataframe tbody tr th {\n",
       "        vertical-align: top;\n",
       "    }\n",
       "\n",
       "    .dataframe thead th {\n",
       "        text-align: right;\n",
       "    }\n",
       "</style>\n",
       "<table border=\"1\" class=\"dataframe\">\n",
       "  <thead>\n",
       "    <tr style=\"text-align: right;\">\n",
       "      <th></th>\n",
       "      <th>A</th>\n",
       "      <th>B</th>\n",
       "      <th>C</th>\n",
       "      <th>D</th>\n",
       "    </tr>\n",
       "  </thead>\n",
       "  <tbody>\n",
       "    <tr>\n",
       "      <th>0</th>\n",
       "      <td>foo</td>\n",
       "      <td>one</td>\n",
       "      <td>0.399486</td>\n",
       "      <td>0.195168</td>\n",
       "    </tr>\n",
       "    <tr>\n",
       "      <th>1</th>\n",
       "      <td>bar</td>\n",
       "      <td>one</td>\n",
       "      <td>-1.566453</td>\n",
       "      <td>-0.520549</td>\n",
       "    </tr>\n",
       "    <tr>\n",
       "      <th>2</th>\n",
       "      <td>foo</td>\n",
       "      <td>two</td>\n",
       "      <td>0.427047</td>\n",
       "      <td>0.245133</td>\n",
       "    </tr>\n",
       "    <tr>\n",
       "      <th>3</th>\n",
       "      <td>bar</td>\n",
       "      <td>three</td>\n",
       "      <td>-0.769731</td>\n",
       "      <td>-1.561727</td>\n",
       "    </tr>\n",
       "    <tr>\n",
       "      <th>4</th>\n",
       "      <td>foo</td>\n",
       "      <td>two</td>\n",
       "      <td>0.170324</td>\n",
       "      <td>0.151721</td>\n",
       "    </tr>\n",
       "    <tr>\n",
       "      <th>5</th>\n",
       "      <td>bar</td>\n",
       "      <td>two</td>\n",
       "      <td>-0.682500</td>\n",
       "      <td>-1.843120</td>\n",
       "    </tr>\n",
       "    <tr>\n",
       "      <th>6</th>\n",
       "      <td>foo</td>\n",
       "      <td>one</td>\n",
       "      <td>0.773847</td>\n",
       "      <td>-0.086628</td>\n",
       "    </tr>\n",
       "    <tr>\n",
       "      <th>7</th>\n",
       "      <td>foo</td>\n",
       "      <td>three</td>\n",
       "      <td>0.199398</td>\n",
       "      <td>-0.037084</td>\n",
       "    </tr>\n",
       "  </tbody>\n",
       "</table>\n",
       "</div>"
      ],
      "text/plain": [
       "     A      B         C         D\n",
       "0  foo    one  0.399486  0.195168\n",
       "1  bar    one -1.566453 -0.520549\n",
       "2  foo    two  0.427047  0.245133\n",
       "3  bar  three -0.769731 -1.561727\n",
       "4  foo    two  0.170324  0.151721\n",
       "5  bar    two -0.682500 -1.843120\n",
       "6  foo    one  0.773847 -0.086628\n",
       "7  foo  three  0.199398 -0.037084"
      ]
     },
     "execution_count": 157,
     "metadata": {},
     "output_type": "execute_result"
    }
   ],
   "source": [
    "df"
   ]
  },
  {
   "cell_type": "code",
   "execution_count": 158,
   "id": "7e902560-db75-459a-ae73-58d72ad988cf",
   "metadata": {},
   "outputs": [
    {
     "data": {
      "text/plain": [
       "A  0         foo\n",
       "   1         bar\n",
       "   2         foo\n",
       "   3         bar\n",
       "   4         foo\n",
       "   5         bar\n",
       "   6         foo\n",
       "   7         foo\n",
       "B  0         one\n",
       "   1         one\n",
       "   2         two\n",
       "   3       three\n",
       "   4         two\n",
       "   5         two\n",
       "   6         one\n",
       "   7       three\n",
       "C  0    0.399486\n",
       "   1   -1.566453\n",
       "   2    0.427047\n",
       "   3   -0.769731\n",
       "   4    0.170324\n",
       "   5     -0.6825\n",
       "   6    0.773847\n",
       "   7    0.199398\n",
       "D  0    0.195168\n",
       "   1   -0.520549\n",
       "   2    0.245133\n",
       "   3   -1.561727\n",
       "   4    0.151721\n",
       "   5    -1.84312\n",
       "   6   -0.086628\n",
       "   7   -0.037084\n",
       "dtype: object"
      ]
     },
     "execution_count": 158,
     "metadata": {},
     "output_type": "execute_result"
    }
   ],
   "source": [
    "df.unstack()"
   ]
  },
  {
   "cell_type": "code",
   "execution_count": 159,
   "id": "7ab8fe2d-39c7-41cd-bcd0-bf382d933670",
   "metadata": {},
   "outputs": [
    {
     "data": {
      "text/html": [
       "<div>\n",
       "<style scoped>\n",
       "    .dataframe tbody tr th:only-of-type {\n",
       "        vertical-align: middle;\n",
       "    }\n",
       "\n",
       "    .dataframe tbody tr th {\n",
       "        vertical-align: top;\n",
       "    }\n",
       "\n",
       "    .dataframe thead th {\n",
       "        text-align: right;\n",
       "    }\n",
       "</style>\n",
       "<table border=\"1\" class=\"dataframe\">\n",
       "  <thead>\n",
       "    <tr style=\"text-align: right;\">\n",
       "      <th></th>\n",
       "      <th>A</th>\n",
       "      <th>B</th>\n",
       "      <th>C</th>\n",
       "      <th>D</th>\n",
       "    </tr>\n",
       "  </thead>\n",
       "  <tbody>\n",
       "    <tr>\n",
       "      <th>0</th>\n",
       "      <td>foo</td>\n",
       "      <td>one</td>\n",
       "      <td>0.399486</td>\n",
       "      <td>0.195168</td>\n",
       "    </tr>\n",
       "    <tr>\n",
       "      <th>1</th>\n",
       "      <td>bar</td>\n",
       "      <td>one</td>\n",
       "      <td>-1.566453</td>\n",
       "      <td>-0.520549</td>\n",
       "    </tr>\n",
       "    <tr>\n",
       "      <th>2</th>\n",
       "      <td>foo</td>\n",
       "      <td>two</td>\n",
       "      <td>0.427047</td>\n",
       "      <td>0.245133</td>\n",
       "    </tr>\n",
       "    <tr>\n",
       "      <th>3</th>\n",
       "      <td>bar</td>\n",
       "      <td>three</td>\n",
       "      <td>-0.769731</td>\n",
       "      <td>-1.561727</td>\n",
       "    </tr>\n",
       "    <tr>\n",
       "      <th>4</th>\n",
       "      <td>foo</td>\n",
       "      <td>two</td>\n",
       "      <td>0.170324</td>\n",
       "      <td>0.151721</td>\n",
       "    </tr>\n",
       "    <tr>\n",
       "      <th>5</th>\n",
       "      <td>bar</td>\n",
       "      <td>two</td>\n",
       "      <td>-0.682500</td>\n",
       "      <td>-1.843120</td>\n",
       "    </tr>\n",
       "    <tr>\n",
       "      <th>6</th>\n",
       "      <td>foo</td>\n",
       "      <td>one</td>\n",
       "      <td>0.773847</td>\n",
       "      <td>-0.086628</td>\n",
       "    </tr>\n",
       "    <tr>\n",
       "      <th>7</th>\n",
       "      <td>foo</td>\n",
       "      <td>three</td>\n",
       "      <td>0.199398</td>\n",
       "      <td>-0.037084</td>\n",
       "    </tr>\n",
       "  </tbody>\n",
       "</table>\n",
       "</div>"
      ],
      "text/plain": [
       "     A      B         C         D\n",
       "0  foo    one  0.399486  0.195168\n",
       "1  bar    one -1.566453 -0.520549\n",
       "2  foo    two  0.427047  0.245133\n",
       "3  bar  three -0.769731 -1.561727\n",
       "4  foo    two  0.170324  0.151721\n",
       "5  bar    two -0.682500 -1.843120\n",
       "6  foo    one  0.773847 -0.086628\n",
       "7  foo  three  0.199398 -0.037084"
      ]
     },
     "execution_count": 159,
     "metadata": {},
     "output_type": "execute_result"
    }
   ],
   "source": [
    "df"
   ]
  },
  {
   "cell_type": "code",
   "execution_count": 160,
   "id": "bc03f103-33c0-46b1-9446-5befa7f1fc06",
   "metadata": {},
   "outputs": [
    {
     "data": {
      "text/plain": [
       "A  0         foo\n",
       "   1         bar\n",
       "   2         foo\n",
       "   3         bar\n",
       "   4         foo\n",
       "   5         bar\n",
       "   6         foo\n",
       "   7         foo\n",
       "B  0         one\n",
       "   1         one\n",
       "   2         two\n",
       "   3       three\n",
       "   4         two\n",
       "   5         two\n",
       "   6         one\n",
       "   7       three\n",
       "C  0    0.399486\n",
       "   1   -1.566453\n",
       "   2    0.427047\n",
       "   3   -0.769731\n",
       "   4    0.170324\n",
       "   5     -0.6825\n",
       "   6    0.773847\n",
       "   7    0.199398\n",
       "D  0    0.195168\n",
       "   1   -0.520549\n",
       "   2    0.245133\n",
       "   3   -1.561727\n",
       "   4    0.151721\n",
       "   5    -1.84312\n",
       "   6   -0.086628\n",
       "   7   -0.037084\n",
       "dtype: object"
      ]
     },
     "execution_count": 160,
     "metadata": {},
     "output_type": "execute_result"
    }
   ],
   "source": [
    "df.unstack(2)"
   ]
  },
  {
   "cell_type": "code",
   "execution_count": 170,
   "id": "f81988c7-e7d6-4747-8317-6d55592cf39d",
   "metadata": {},
   "outputs": [],
   "source": [
    "s = pd.Series(np.random.randint(0, 7, 3), index = np.arange(1, 6, 2))"
   ]
  },
  {
   "cell_type": "code",
   "execution_count": 171,
   "id": "7c1d16fd-2773-441e-9e43-ab883565e456",
   "metadata": {},
   "outputs": [
    {
     "data": {
      "text/plain": [
       "1    3\n",
       "3    3\n",
       "5    2\n",
       "dtype: int32"
      ]
     },
     "execution_count": 171,
     "metadata": {},
     "output_type": "execute_result"
    }
   ],
   "source": [
    "s"
   ]
  },
  {
   "cell_type": "code",
   "execution_count": 174,
   "id": "b8263880-0052-41f7-8bb5-3656bd7edd1b",
   "metadata": {},
   "outputs": [
    {
     "data": {
      "text/plain": [
       "0    NaN\n",
       "1    3.0\n",
       "2    3.0\n",
       "3    3.0\n",
       "4    3.0\n",
       "5    2.0\n",
       "dtype: float64"
      ]
     },
     "execution_count": 174,
     "metadata": {},
     "output_type": "execute_result"
    }
   ],
   "source": [
    "s.reindex(range(6), method='ffill')"
   ]
  },
  {
   "cell_type": "code",
   "execution_count": 175,
   "id": "fed84303-7417-45df-80bf-26222badec85",
   "metadata": {},
   "outputs": [
    {
     "data": {
      "text/plain": [
       "1    3\n",
       "3    3\n",
       "5    2\n",
       "dtype: int32"
      ]
     },
     "execution_count": 175,
     "metadata": {},
     "output_type": "execute_result"
    }
   ],
   "source": [
    "s"
   ]
  },
  {
   "cell_type": "code",
   "execution_count": 176,
   "id": "56219912-18f1-40e2-8855-64173c9bd125",
   "metadata": {},
   "outputs": [],
   "source": [
    "df = pd.DataFrame(np.random.randint(1, 10, 12).reshape(3, 4), columns = list(\"abcd\"), index = list(\"PQR\"))"
   ]
  },
  {
   "cell_type": "code",
   "execution_count": 177,
   "id": "ab31b01b-59f4-48c9-8b86-d2520e0a5fe9",
   "metadata": {},
   "outputs": [
    {
     "data": {
      "text/html": [
       "<div>\n",
       "<style scoped>\n",
       "    .dataframe tbody tr th:only-of-type {\n",
       "        vertical-align: middle;\n",
       "    }\n",
       "\n",
       "    .dataframe tbody tr th {\n",
       "        vertical-align: top;\n",
       "    }\n",
       "\n",
       "    .dataframe thead th {\n",
       "        text-align: right;\n",
       "    }\n",
       "</style>\n",
       "<table border=\"1\" class=\"dataframe\">\n",
       "  <thead>\n",
       "    <tr style=\"text-align: right;\">\n",
       "      <th></th>\n",
       "      <th>a</th>\n",
       "      <th>b</th>\n",
       "      <th>c</th>\n",
       "      <th>d</th>\n",
       "    </tr>\n",
       "  </thead>\n",
       "  <tbody>\n",
       "    <tr>\n",
       "      <th>P</th>\n",
       "      <td>9</td>\n",
       "      <td>6</td>\n",
       "      <td>2</td>\n",
       "      <td>4</td>\n",
       "    </tr>\n",
       "    <tr>\n",
       "      <th>Q</th>\n",
       "      <td>9</td>\n",
       "      <td>3</td>\n",
       "      <td>3</td>\n",
       "      <td>7</td>\n",
       "    </tr>\n",
       "    <tr>\n",
       "      <th>R</th>\n",
       "      <td>2</td>\n",
       "      <td>1</td>\n",
       "      <td>2</td>\n",
       "      <td>9</td>\n",
       "    </tr>\n",
       "  </tbody>\n",
       "</table>\n",
       "</div>"
      ],
      "text/plain": [
       "   a  b  c  d\n",
       "P  9  6  2  4\n",
       "Q  9  3  3  7\n",
       "R  2  1  2  9"
      ]
     },
     "execution_count": 177,
     "metadata": {},
     "output_type": "execute_result"
    }
   ],
   "source": [
    "df"
   ]
  },
  {
   "cell_type": "code",
   "execution_count": 184,
   "id": "e8cf0ec3-752a-497f-bf5d-58114822de98",
   "metadata": {},
   "outputs": [
    {
     "data": {
      "text/plain": [
       "np.float64(0.5)"
      ]
     },
     "execution_count": 184,
     "metadata": {},
     "output_type": "execute_result"
    }
   ],
   "source": [
    "df.a.corr(df.c)"
   ]
  },
  {
   "cell_type": "code",
   "execution_count": 185,
   "id": "189b81f6-27f6-4155-bd88-56906a9c7b66",
   "metadata": {},
   "outputs": [
    {
     "data": {
      "text/html": [
       "<div>\n",
       "<style scoped>\n",
       "    .dataframe tbody tr th:only-of-type {\n",
       "        vertical-align: middle;\n",
       "    }\n",
       "\n",
       "    .dataframe tbody tr th {\n",
       "        vertical-align: top;\n",
       "    }\n",
       "\n",
       "    .dataframe thead th {\n",
       "        text-align: right;\n",
       "    }\n",
       "</style>\n",
       "<table border=\"1\" class=\"dataframe\">\n",
       "  <thead>\n",
       "    <tr style=\"text-align: right;\">\n",
       "      <th></th>\n",
       "      <th>a</th>\n",
       "      <th>b</th>\n",
       "      <th>c</th>\n",
       "      <th>d</th>\n",
       "    </tr>\n",
       "  </thead>\n",
       "  <tbody>\n",
       "    <tr>\n",
       "      <th>a</th>\n",
       "      <td>1.000000</td>\n",
       "      <td>0.802955</td>\n",
       "      <td>0.500000</td>\n",
       "      <td>-0.802955</td>\n",
       "    </tr>\n",
       "    <tr>\n",
       "      <th>b</th>\n",
       "      <td>0.802955</td>\n",
       "      <td>1.000000</td>\n",
       "      <td>-0.114708</td>\n",
       "      <td>-1.000000</td>\n",
       "    </tr>\n",
       "    <tr>\n",
       "      <th>c</th>\n",
       "      <td>0.500000</td>\n",
       "      <td>-0.114708</td>\n",
       "      <td>1.000000</td>\n",
       "      <td>0.114708</td>\n",
       "    </tr>\n",
       "    <tr>\n",
       "      <th>d</th>\n",
       "      <td>-0.802955</td>\n",
       "      <td>-1.000000</td>\n",
       "      <td>0.114708</td>\n",
       "      <td>1.000000</td>\n",
       "    </tr>\n",
       "  </tbody>\n",
       "</table>\n",
       "</div>"
      ],
      "text/plain": [
       "          a         b         c         d\n",
       "a  1.000000  0.802955  0.500000 -0.802955\n",
       "b  0.802955  1.000000 -0.114708 -1.000000\n",
       "c  0.500000 -0.114708  1.000000  0.114708\n",
       "d -0.802955 -1.000000  0.114708  1.000000"
      ]
     },
     "execution_count": 185,
     "metadata": {},
     "output_type": "execute_result"
    }
   ],
   "source": [
    "df.corr()"
   ]
  },
  {
   "cell_type": "code",
   "execution_count": 186,
   "id": "d7dad523-a26a-4ff2-a88e-9f4f3d48afa6",
   "metadata": {},
   "outputs": [],
   "source": [
    " obj = pd.Series(['c', 'a', 'd', 'a', 'a', 'b', 'b', 'c', 'c'])"
   ]
  },
  {
   "cell_type": "code",
   "execution_count": 187,
   "id": "6a71702b-b891-4248-ba2a-a93eb0841bbc",
   "metadata": {},
   "outputs": [
    {
     "data": {
      "text/plain": [
       "0    c\n",
       "1    a\n",
       "2    d\n",
       "3    a\n",
       "4    a\n",
       "5    b\n",
       "6    b\n",
       "7    c\n",
       "8    c\n",
       "dtype: object"
      ]
     },
     "execution_count": 187,
     "metadata": {},
     "output_type": "execute_result"
    }
   ],
   "source": [
    "obj"
   ]
  },
  {
   "cell_type": "code",
   "execution_count": 196,
   "id": "1a489b7c-d570-41a1-99f4-39c1ef73275d",
   "metadata": {},
   "outputs": [
    {
     "data": {
      "text/plain": [
       "c    3\n",
       "a    3\n",
       "b    2\n",
       "d    1\n",
       "Name: count, dtype: int64"
      ]
     },
     "execution_count": 196,
     "metadata": {},
     "output_type": "execute_result"
    }
   ],
   "source": [
    "obj.value_counts()"
   ]
  },
  {
   "cell_type": "code",
   "execution_count": 192,
   "id": "bc5abd10-9ed4-4573-9499-35af3395e0ef",
   "metadata": {},
   "outputs": [
    {
     "data": {
      "text/plain": [
       "Index(['P', 'Q', 'R'], dtype='object')"
      ]
     },
     "execution_count": 192,
     "metadata": {},
     "output_type": "execute_result"
    }
   ],
   "source": [
    "df.index"
   ]
  },
  {
   "cell_type": "code",
   "execution_count": 190,
   "id": "38ba62b6-d424-4194-adef-39124da5dbf0",
   "metadata": {},
   "outputs": [
    {
     "data": {
      "text/plain": [
       "Index(['a', 'b', 'c', 'd'], dtype='object')"
      ]
     },
     "execution_count": 190,
     "metadata": {},
     "output_type": "execute_result"
    }
   ],
   "source": [
    "df.columns"
   ]
  },
  {
   "cell_type": "code",
   "execution_count": 202,
   "id": "02d64008-0961-45f1-89fd-193639e9ed37",
   "metadata": {},
   "outputs": [
    {
     "data": {
      "text/plain": [
       "array(['c', 'a', 'd', 'b'], dtype=object)"
      ]
     },
     "execution_count": 202,
     "metadata": {},
     "output_type": "execute_result"
    }
   ],
   "source": [
    "obj.unique()"
   ]
  },
  {
   "cell_type": "code",
   "execution_count": 205,
   "id": "461e7e0d-4120-42e2-a674-115c0a8ec5c2",
   "metadata": {},
   "outputs": [],
   "source": [
    "a = np.array([1, 2, 3])\n",
    "b = np.array([4, 5, 6])\n",
    "z = zip(a, b)"
   ]
  },
  {
   "cell_type": "code",
   "execution_count": 206,
   "id": "bfd9d6f9-c07b-443f-b388-e0d543e95a98",
   "metadata": {},
   "outputs": [
    {
     "name": "stdout",
     "output_type": "stream",
     "text": [
      "(np.int64(1), np.int64(4))\n",
      "(np.int64(2), np.int64(5))\n",
      "(np.int64(3), np.int64(6))\n"
     ]
    }
   ],
   "source": [
    "for x in z:\n",
    "    print(x)"
   ]
  },
  {
   "cell_type": "code",
   "execution_count": 207,
   "id": "4d680e93-8cd8-4872-98f3-6a2e0f26c237",
   "metadata": {},
   "outputs": [
    {
     "data": {
      "text/plain": [
       "3.8333333333333335"
      ]
     },
     "execution_count": 207,
     "metadata": {},
     "output_type": "execute_result"
    }
   ],
   "source": [
    "(1+7+3.5)/3"
   ]
  },
  {
   "cell_type": "code",
   "execution_count": 208,
   "id": "168988ab-d1e6-4518-8f59-943f63a51ece",
   "metadata": {},
   "outputs": [
    {
     "data": {
      "text/plain": [
       "0    c\n",
       "1    a\n",
       "2    d\n",
       "3    a\n",
       "4    a\n",
       "5    b\n",
       "6    b\n",
       "7    c\n",
       "8    c\n",
       "dtype: object"
      ]
     },
     "execution_count": 208,
     "metadata": {},
     "output_type": "execute_result"
    }
   ],
   "source": [
    "obj"
   ]
  },
  {
   "cell_type": "code",
   "execution_count": 209,
   "id": "c9315dea-f8ae-4bf2-bbe2-c91408381c2b",
   "metadata": {},
   "outputs": [
    {
     "data": {
      "text/plain": [
       "0    False\n",
       "1    False\n",
       "2    False\n",
       "3     True\n",
       "4     True\n",
       "5    False\n",
       "6     True\n",
       "7     True\n",
       "8     True\n",
       "dtype: bool"
      ]
     },
     "execution_count": 209,
     "metadata": {},
     "output_type": "execute_result"
    }
   ],
   "source": [
    "obj.duplicated()"
   ]
  },
  {
   "cell_type": "code",
   "execution_count": 216,
   "id": "1566676d-edd7-4633-a14d-29a401fc4e55",
   "metadata": {},
   "outputs": [],
   "source": [
    "obj.drop_duplicates(inplace=True)"
   ]
  },
  {
   "cell_type": "code",
   "execution_count": 217,
   "id": "a2a16fc3-bac1-4a71-a810-e37c6cde8925",
   "metadata": {},
   "outputs": [
    {
     "data": {
      "text/plain": [
       "0    c\n",
       "1    a\n",
       "2    d\n",
       "5    b\n",
       "dtype: object"
      ]
     },
     "execution_count": 217,
     "metadata": {},
     "output_type": "execute_result"
    }
   ],
   "source": [
    "obj"
   ]
  },
  {
   "cell_type": "code",
   "execution_count": 220,
   "id": "2ecd3065-fd0a-4588-ad42-6b0ea0b61d56",
   "metadata": {},
   "outputs": [
    {
     "data": {
      "text/plain": [
       "0    c\n",
       "1    a\n",
       "2    d\n",
       "3    d\n",
       "4    d\n",
       "5    b\n",
       "dtype: object"
      ]
     },
     "execution_count": 220,
     "metadata": {},
     "output_type": "execute_result"
    }
   ],
   "source": [
    "obj.reindex(np.arange(0, 6), method = 'ffill')"
   ]
  },
  {
   "cell_type": "code",
   "execution_count": 221,
   "id": "4f95e049-d08f-4c4b-8c64-72f3e6bd496c",
   "metadata": {},
   "outputs": [
    {
     "data": {
      "text/plain": [
       "0    c\n",
       "1    a\n",
       "2    d\n",
       "5    b\n",
       "dtype: object"
      ]
     },
     "execution_count": 221,
     "metadata": {},
     "output_type": "execute_result"
    }
   ],
   "source": [
    "obj"
   ]
  },
  {
   "cell_type": "code",
   "execution_count": 222,
   "id": "20eefbbe-74ce-478a-bbd4-472b971555d4",
   "metadata": {},
   "outputs": [],
   "source": [
    "obj.rename(index = {5:3}, inplace = True)"
   ]
  },
  {
   "cell_type": "code",
   "execution_count": 223,
   "id": "255eb9f1-a9d8-435d-b237-6db616ba2eeb",
   "metadata": {},
   "outputs": [
    {
     "data": {
      "text/plain": [
       "0    c\n",
       "1    a\n",
       "2    d\n",
       "3    b\n",
       "dtype: object"
      ]
     },
     "execution_count": 223,
     "metadata": {},
     "output_type": "execute_result"
    }
   ],
   "source": [
    "obj"
   ]
  },
  {
   "cell_type": "code",
   "execution_count": 227,
   "id": "0839493d-062a-453a-b3be-4fc2c31b208b",
   "metadata": {},
   "outputs": [
    {
     "data": {
      "text/plain": [
       "<bound method Series.info of 0    c\n",
       "1    a\n",
       "2    d\n",
       "3    b\n",
       "dtype: object>"
      ]
     },
     "execution_count": 227,
     "metadata": {},
     "output_type": "execute_result"
    }
   ],
   "source": [
    "obj.info"
   ]
  },
  {
   "cell_type": "code",
   "execution_count": 226,
   "id": "fe97dbeb-5aae-4dfc-97c8-07620e5fa4ce",
   "metadata": {},
   "outputs": [
    {
     "data": {
      "text/plain": [
       "array(['c', 'a', 'd', 'b'], dtype=object)"
      ]
     },
     "execution_count": 226,
     "metadata": {},
     "output_type": "execute_result"
    }
   ],
   "source": [
    "obj.values"
   ]
  },
  {
   "cell_type": "code",
   "execution_count": 228,
   "id": "29280972-6ca5-4aad-abf6-60f6d8dea063",
   "metadata": {},
   "outputs": [],
   "source": [
    " df = pd.DataFrame({'key1' : ['a', 'a', 'b', 'b', 'a'],              \n",
    "'key2' : ['one', 'two', 'one', 'two', 'one'],   \n",
    "'data1' : np.random.randn(5),\n",
    " 'data2' : np.random.randn(5)})"
   ]
  },
  {
   "cell_type": "code",
   "execution_count": 229,
   "id": "840ded3d-e68a-4580-ba1a-8fc53ef5acd2",
   "metadata": {},
   "outputs": [
    {
     "data": {
      "text/html": [
       "<div>\n",
       "<style scoped>\n",
       "    .dataframe tbody tr th:only-of-type {\n",
       "        vertical-align: middle;\n",
       "    }\n",
       "\n",
       "    .dataframe tbody tr th {\n",
       "        vertical-align: top;\n",
       "    }\n",
       "\n",
       "    .dataframe thead th {\n",
       "        text-align: right;\n",
       "    }\n",
       "</style>\n",
       "<table border=\"1\" class=\"dataframe\">\n",
       "  <thead>\n",
       "    <tr style=\"text-align: right;\">\n",
       "      <th></th>\n",
       "      <th>key1</th>\n",
       "      <th>key2</th>\n",
       "      <th>data1</th>\n",
       "      <th>data2</th>\n",
       "    </tr>\n",
       "  </thead>\n",
       "  <tbody>\n",
       "    <tr>\n",
       "      <th>0</th>\n",
       "      <td>a</td>\n",
       "      <td>one</td>\n",
       "      <td>-0.097825</td>\n",
       "      <td>0.115906</td>\n",
       "    </tr>\n",
       "    <tr>\n",
       "      <th>1</th>\n",
       "      <td>a</td>\n",
       "      <td>two</td>\n",
       "      <td>0.481601</td>\n",
       "      <td>1.173341</td>\n",
       "    </tr>\n",
       "    <tr>\n",
       "      <th>2</th>\n",
       "      <td>b</td>\n",
       "      <td>one</td>\n",
       "      <td>0.829511</td>\n",
       "      <td>-1.273570</td>\n",
       "    </tr>\n",
       "    <tr>\n",
       "      <th>3</th>\n",
       "      <td>b</td>\n",
       "      <td>two</td>\n",
       "      <td>2.717847</td>\n",
       "      <td>0.121548</td>\n",
       "    </tr>\n",
       "    <tr>\n",
       "      <th>4</th>\n",
       "      <td>a</td>\n",
       "      <td>one</td>\n",
       "      <td>-0.043533</td>\n",
       "      <td>-0.389565</td>\n",
       "    </tr>\n",
       "  </tbody>\n",
       "</table>\n",
       "</div>"
      ],
      "text/plain": [
       "  key1 key2     data1     data2\n",
       "0    a  one -0.097825  0.115906\n",
       "1    a  two  0.481601  1.173341\n",
       "2    b  one  0.829511 -1.273570\n",
       "3    b  two  2.717847  0.121548\n",
       "4    a  one -0.043533 -0.389565"
      ]
     },
     "execution_count": 229,
     "metadata": {},
     "output_type": "execute_result"
    }
   ],
   "source": [
    "df"
   ]
  },
  {
   "cell_type": "code",
   "execution_count": 239,
   "id": "b5a187af-f84e-47a0-af52-37beb568395d",
   "metadata": {},
   "outputs": [
    {
     "data": {
      "text/plain": [
       "key1\n",
       "a    0.113414\n",
       "b    1.773679\n",
       "Name: data1, dtype: float64"
      ]
     },
     "execution_count": 239,
     "metadata": {},
     "output_type": "execute_result"
    }
   ],
   "source": [
    "df['data1'].groupby(df.key1).mean()"
   ]
  },
  {
   "cell_type": "code",
   "execution_count": 242,
   "id": "55ad9d27-cc45-43ac-a704-7848f8253d26",
   "metadata": {},
   "outputs": [
    {
     "data": {
      "text/plain": [
       "np.float64(0.7775202807373465)"
      ]
     },
     "execution_count": 242,
     "metadata": {},
     "output_type": "execute_result"
    }
   ],
   "source": [
    "df['data1'].mean(axis = 0)"
   ]
  },
  {
   "cell_type": "code",
   "execution_count": 245,
   "id": "ed6adc4c-3618-4287-92e7-0a574e898a1c",
   "metadata": {},
   "outputs": [
    {
     "data": {
      "text/plain": [
       "key1  key2\n",
       "a     one     2\n",
       "      two     1\n",
       "b     one     1\n",
       "      two     1\n",
       "dtype: int64"
      ]
     },
     "execution_count": 245,
     "metadata": {},
     "output_type": "execute_result"
    }
   ],
   "source": [
    "df.groupby(['key1', 'key2']).size()"
   ]
  },
  {
   "cell_type": "code",
   "execution_count": 248,
   "id": "3ae1a572-7bde-40ab-aa1f-85ec5b1014a4",
   "metadata": {},
   "outputs": [
    {
     "name": "stdout",
     "output_type": "stream",
     "text": [
      "a\n",
      "  key1 key2     data1     data2\n",
      "0    a  one -0.097825  0.115906\n",
      "1    a  two  0.481601  1.173341\n",
      "4    a  one -0.043533 -0.389565\n",
      "b\n",
      "  key1 key2     data1     data2\n",
      "2    b  one  0.829511 -1.273570\n",
      "3    b  two  2.717847  0.121548\n"
     ]
    }
   ],
   "source": [
    "for name, group in df.groupby('key1'):\n",
    "    print(name)    \n",
    "    print(group)"
   ]
  },
  {
   "cell_type": "code",
   "execution_count": 249,
   "id": "d4ae2e24-44e1-414d-b3e7-bed7475aa43b",
   "metadata": {},
   "outputs": [
    {
     "data": {
      "text/plain": [
       "key1\n",
       "a    0.113414\n",
       "b    1.773679\n",
       "Name: data1, dtype: float64"
      ]
     },
     "execution_count": 249,
     "metadata": {},
     "output_type": "execute_result"
    }
   ],
   "source": [
    "df['data1'].groupby(df.key1).mean()"
   ]
  },
  {
   "cell_type": "code",
   "execution_count": 257,
   "id": "208665b1-60ed-4728-bd1a-ea3f1113bab1",
   "metadata": {},
   "outputs": [],
   "source": [
    "df.drop('key2', axis = 1, inplace=True)"
   ]
  },
  {
   "cell_type": "code",
   "execution_count": 258,
   "id": "408f89d5-b988-4ba5-9fc7-a4c02f83b340",
   "metadata": {},
   "outputs": [
    {
     "data": {
      "text/html": [
       "<div>\n",
       "<style scoped>\n",
       "    .dataframe tbody tr th:only-of-type {\n",
       "        vertical-align: middle;\n",
       "    }\n",
       "\n",
       "    .dataframe tbody tr th {\n",
       "        vertical-align: top;\n",
       "    }\n",
       "\n",
       "    .dataframe thead th {\n",
       "        text-align: right;\n",
       "    }\n",
       "</style>\n",
       "<table border=\"1\" class=\"dataframe\">\n",
       "  <thead>\n",
       "    <tr style=\"text-align: right;\">\n",
       "      <th></th>\n",
       "      <th>key1</th>\n",
       "      <th>data1</th>\n",
       "      <th>data2</th>\n",
       "    </tr>\n",
       "  </thead>\n",
       "  <tbody>\n",
       "    <tr>\n",
       "      <th>0</th>\n",
       "      <td>a</td>\n",
       "      <td>-0.097825</td>\n",
       "      <td>0.115906</td>\n",
       "    </tr>\n",
       "    <tr>\n",
       "      <th>1</th>\n",
       "      <td>a</td>\n",
       "      <td>0.481601</td>\n",
       "      <td>1.173341</td>\n",
       "    </tr>\n",
       "    <tr>\n",
       "      <th>2</th>\n",
       "      <td>b</td>\n",
       "      <td>0.829511</td>\n",
       "      <td>-1.273570</td>\n",
       "    </tr>\n",
       "    <tr>\n",
       "      <th>3</th>\n",
       "      <td>b</td>\n",
       "      <td>2.717847</td>\n",
       "      <td>0.121548</td>\n",
       "    </tr>\n",
       "    <tr>\n",
       "      <th>4</th>\n",
       "      <td>a</td>\n",
       "      <td>-0.043533</td>\n",
       "      <td>-0.389565</td>\n",
       "    </tr>\n",
       "  </tbody>\n",
       "</table>\n",
       "</div>"
      ],
      "text/plain": [
       "  key1     data1     data2\n",
       "0    a -0.097825  0.115906\n",
       "1    a  0.481601  1.173341\n",
       "2    b  0.829511 -1.273570\n",
       "3    b  2.717847  0.121548\n",
       "4    a -0.043533 -0.389565"
      ]
     },
     "execution_count": 258,
     "metadata": {},
     "output_type": "execute_result"
    }
   ],
   "source": [
    "df"
   ]
  },
  {
   "cell_type": "code",
   "execution_count": 261,
   "id": "1798e42d-ff18-44ca-b578-1a0a14ba72e2",
   "metadata": {},
   "outputs": [
    {
     "data": {
      "text/plain": [
       "key1\n",
       "a    0.113414\n",
       "b    1.773679\n",
       "Name: data1, dtype: float64"
      ]
     },
     "execution_count": 261,
     "metadata": {},
     "output_type": "execute_result"
    }
   ],
   "source": [
    "df.groupby('key1')['data1'].mean()"
   ]
  },
  {
   "cell_type": "code",
   "execution_count": 263,
   "id": "ac930b7e-6d44-42d1-b6ae-31fefb75a8d1",
   "metadata": {},
   "outputs": [
    {
     "data": {
      "text/html": [
       "<div>\n",
       "<style scoped>\n",
       "    .dataframe tbody tr th:only-of-type {\n",
       "        vertical-align: middle;\n",
       "    }\n",
       "\n",
       "    .dataframe tbody tr th {\n",
       "        vertical-align: top;\n",
       "    }\n",
       "\n",
       "    .dataframe thead th {\n",
       "        text-align: right;\n",
       "    }\n",
       "</style>\n",
       "<table border=\"1\" class=\"dataframe\">\n",
       "  <thead>\n",
       "    <tr style=\"text-align: right;\">\n",
       "      <th></th>\n",
       "      <th>data1</th>\n",
       "      <th>data2</th>\n",
       "    </tr>\n",
       "    <tr>\n",
       "      <th>key1</th>\n",
       "      <th></th>\n",
       "      <th></th>\n",
       "    </tr>\n",
       "  </thead>\n",
       "  <tbody>\n",
       "    <tr>\n",
       "      <th>a</th>\n",
       "      <td>0.481601</td>\n",
       "      <td>1.173341</td>\n",
       "    </tr>\n",
       "    <tr>\n",
       "      <th>b</th>\n",
       "      <td>2.717847</td>\n",
       "      <td>0.121548</td>\n",
       "    </tr>\n",
       "  </tbody>\n",
       "</table>\n",
       "</div>"
      ],
      "text/plain": [
       "         data1     data2\n",
       "key1                    \n",
       "a     0.481601  1.173341\n",
       "b     2.717847  0.121548"
      ]
     },
     "execution_count": 263,
     "metadata": {},
     "output_type": "execute_result"
    }
   ],
   "source": [
    "df.groupby('key1').max()"
   ]
  },
  {
   "cell_type": "code",
   "execution_count": null,
   "id": "71c8d9e9-e2cb-432e-8bd8-da01e235bc85",
   "metadata": {},
   "outputs": [],
   "source": []
  }
 ],
 "metadata": {
  "kernelspec": {
   "display_name": "Python 3 (ipykernel)",
   "language": "python",
   "name": "python3"
  },
  "language_info": {
   "codemirror_mode": {
    "name": "ipython",
    "version": 3
   },
   "file_extension": ".py",
   "mimetype": "text/x-python",
   "name": "python",
   "nbconvert_exporter": "python",
   "pygments_lexer": "ipython3",
   "version": "3.13.1"
  }
 },
 "nbformat": 4,
 "nbformat_minor": 5
}
