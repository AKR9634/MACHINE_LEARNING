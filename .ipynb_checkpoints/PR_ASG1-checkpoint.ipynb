{
 "cells": [
  {
   "cell_type": "code",
   "execution_count": 2,
   "id": "8902868c-3c45-4bc1-99e2-630a1a23bf54",
   "metadata": {},
   "outputs": [],
   "source": [
    "import numpy as np\n",
    "import pandas as pd"
   ]
  },
  {
   "cell_type": "code",
   "execution_count": 65,
   "id": "e76dac30-abf6-4075-a3b0-d26a9d73ff56",
   "metadata": {},
   "outputs": [],
   "source": [
    "df1 = pd.read_csv('LS_Group03/Class1.txt', sep=' ', header=None, names=['A', 'B'])\n",
    "df2 = pd.read_csv('LS_Group03/Class2.txt', sep=' ', header=None, names=['A', 'B'])\n",
    "df3 = pd.read_csv('LS_Group03/Class3.txt', sep=' ', header=None, names=['A', 'B'])"
   ]
  },
  {
   "cell_type": "code",
   "execution_count": 66,
   "id": "bde9d0ca-3023-4889-bc8f-40643441c909",
   "metadata": {},
   "outputs": [
    {
     "data": {
      "text/html": [
       "<div>\n",
       "<style scoped>\n",
       "    .dataframe tbody tr th:only-of-type {\n",
       "        vertical-align: middle;\n",
       "    }\n",
       "\n",
       "    .dataframe tbody tr th {\n",
       "        vertical-align: top;\n",
       "    }\n",
       "\n",
       "    .dataframe thead th {\n",
       "        text-align: right;\n",
       "    }\n",
       "</style>\n",
       "<table border=\"1\" class=\"dataframe\">\n",
       "  <thead>\n",
       "    <tr style=\"text-align: right;\">\n",
       "      <th></th>\n",
       "      <th>A</th>\n",
       "      <th>B</th>\n",
       "    </tr>\n",
       "  </thead>\n",
       "  <tbody>\n",
       "    <tr>\n",
       "      <th>0</th>\n",
       "      <td>15.258</td>\n",
       "      <td>0.11508</td>\n",
       "    </tr>\n",
       "    <tr>\n",
       "      <th>1</th>\n",
       "      <td>16.671</td>\n",
       "      <td>-1.07230</td>\n",
       "    </tr>\n",
       "    <tr>\n",
       "      <th>2</th>\n",
       "      <td>16.733</td>\n",
       "      <td>1.57740</td>\n",
       "    </tr>\n",
       "    <tr>\n",
       "      <th>3</th>\n",
       "      <td>14.472</td>\n",
       "      <td>-0.28159</td>\n",
       "    </tr>\n",
       "    <tr>\n",
       "      <th>4</th>\n",
       "      <td>15.268</td>\n",
       "      <td>0.65322</td>\n",
       "    </tr>\n",
       "    <tr>\n",
       "      <th>...</th>\n",
       "      <td>...</td>\n",
       "      <td>...</td>\n",
       "    </tr>\n",
       "    <tr>\n",
       "      <th>495</th>\n",
       "      <td>19.043</td>\n",
       "      <td>0.27231</td>\n",
       "    </tr>\n",
       "    <tr>\n",
       "      <th>496</th>\n",
       "      <td>18.836</td>\n",
       "      <td>0.46112</td>\n",
       "    </tr>\n",
       "    <tr>\n",
       "      <th>497</th>\n",
       "      <td>16.777</td>\n",
       "      <td>-2.69030</td>\n",
       "    </tr>\n",
       "    <tr>\n",
       "      <th>498</th>\n",
       "      <td>15.613</td>\n",
       "      <td>1.80190</td>\n",
       "    </tr>\n",
       "    <tr>\n",
       "      <th>499</th>\n",
       "      <td>11.272</td>\n",
       "      <td>-3.78230</td>\n",
       "    </tr>\n",
       "  </tbody>\n",
       "</table>\n",
       "<p>500 rows × 2 columns</p>\n",
       "</div>"
      ],
      "text/plain": [
       "          A        B\n",
       "0    15.258  0.11508\n",
       "1    16.671 -1.07230\n",
       "2    16.733  1.57740\n",
       "3    14.472 -0.28159\n",
       "4    15.268  0.65322\n",
       "..      ...      ...\n",
       "495  19.043  0.27231\n",
       "496  18.836  0.46112\n",
       "497  16.777 -2.69030\n",
       "498  15.613  1.80190\n",
       "499  11.272 -3.78230\n",
       "\n",
       "[500 rows x 2 columns]"
      ]
     },
     "execution_count": 66,
     "metadata": {},
     "output_type": "execute_result"
    }
   ],
   "source": [
    "df1"
   ]
  },
  {
   "cell_type": "code",
   "execution_count": 67,
   "id": "cc2b860e-81af-4c31-9d66-1fa6082a28ef",
   "metadata": {},
   "outputs": [
    {
     "data": {
      "text/html": [
       "<div>\n",
       "<style scoped>\n",
       "    .dataframe tbody tr th:only-of-type {\n",
       "        vertical-align: middle;\n",
       "    }\n",
       "\n",
       "    .dataframe tbody tr th {\n",
       "        vertical-align: top;\n",
       "    }\n",
       "\n",
       "    .dataframe thead th {\n",
       "        text-align: right;\n",
       "    }\n",
       "</style>\n",
       "<table border=\"1\" class=\"dataframe\">\n",
       "  <thead>\n",
       "    <tr style=\"text-align: right;\">\n",
       "      <th></th>\n",
       "      <th>A</th>\n",
       "      <th>B</th>\n",
       "    </tr>\n",
       "  </thead>\n",
       "  <tbody>\n",
       "    <tr>\n",
       "      <th>0</th>\n",
       "      <td>7.4914</td>\n",
       "      <td>-12.5550</td>\n",
       "    </tr>\n",
       "    <tr>\n",
       "      <th>1</th>\n",
       "      <td>4.0181</td>\n",
       "      <td>-7.3413</td>\n",
       "    </tr>\n",
       "    <tr>\n",
       "      <th>2</th>\n",
       "      <td>2.9821</td>\n",
       "      <td>-12.0150</td>\n",
       "    </tr>\n",
       "    <tr>\n",
       "      <th>3</th>\n",
       "      <td>5.3682</td>\n",
       "      <td>-10.7970</td>\n",
       "    </tr>\n",
       "    <tr>\n",
       "      <th>4</th>\n",
       "      <td>6.9905</td>\n",
       "      <td>-11.0180</td>\n",
       "    </tr>\n",
       "    <tr>\n",
       "      <th>...</th>\n",
       "      <td>...</td>\n",
       "      <td>...</td>\n",
       "    </tr>\n",
       "    <tr>\n",
       "      <th>495</th>\n",
       "      <td>6.2212</td>\n",
       "      <td>-10.0990</td>\n",
       "    </tr>\n",
       "    <tr>\n",
       "      <th>496</th>\n",
       "      <td>5.8822</td>\n",
       "      <td>-8.8714</td>\n",
       "    </tr>\n",
       "    <tr>\n",
       "      <th>497</th>\n",
       "      <td>5.8921</td>\n",
       "      <td>-13.6150</td>\n",
       "    </tr>\n",
       "    <tr>\n",
       "      <th>498</th>\n",
       "      <td>3.9162</td>\n",
       "      <td>-13.1660</td>\n",
       "    </tr>\n",
       "    <tr>\n",
       "      <th>499</th>\n",
       "      <td>6.5769</td>\n",
       "      <td>-11.1290</td>\n",
       "    </tr>\n",
       "  </tbody>\n",
       "</table>\n",
       "<p>500 rows × 2 columns</p>\n",
       "</div>"
      ],
      "text/plain": [
       "          A        B\n",
       "0    7.4914 -12.5550\n",
       "1    4.0181  -7.3413\n",
       "2    2.9821 -12.0150\n",
       "3    5.3682 -10.7970\n",
       "4    6.9905 -11.0180\n",
       "..      ...      ...\n",
       "495  6.2212 -10.0990\n",
       "496  5.8822  -8.8714\n",
       "497  5.8921 -13.6150\n",
       "498  3.9162 -13.1660\n",
       "499  6.5769 -11.1290\n",
       "\n",
       "[500 rows x 2 columns]"
      ]
     },
     "execution_count": 67,
     "metadata": {},
     "output_type": "execute_result"
    }
   ],
   "source": [
    "df2"
   ]
  },
  {
   "cell_type": "code",
   "execution_count": 68,
   "id": "14818d31-bea8-4e1f-a91c-76df11a417fa",
   "metadata": {},
   "outputs": [
    {
     "data": {
      "text/html": [
       "<div>\n",
       "<style scoped>\n",
       "    .dataframe tbody tr th:only-of-type {\n",
       "        vertical-align: middle;\n",
       "    }\n",
       "\n",
       "    .dataframe tbody tr th {\n",
       "        vertical-align: top;\n",
       "    }\n",
       "\n",
       "    .dataframe thead th {\n",
       "        text-align: right;\n",
       "    }\n",
       "</style>\n",
       "<table border=\"1\" class=\"dataframe\">\n",
       "  <thead>\n",
       "    <tr style=\"text-align: right;\">\n",
       "      <th></th>\n",
       "      <th>A</th>\n",
       "      <th>B</th>\n",
       "    </tr>\n",
       "  </thead>\n",
       "  <tbody>\n",
       "    <tr>\n",
       "      <th>0</th>\n",
       "      <td>-2.42480</td>\n",
       "      <td>-0.79712</td>\n",
       "    </tr>\n",
       "    <tr>\n",
       "      <th>1</th>\n",
       "      <td>-0.72760</td>\n",
       "      <td>0.58344</td>\n",
       "    </tr>\n",
       "    <tr>\n",
       "      <th>2</th>\n",
       "      <td>-3.14410</td>\n",
       "      <td>-3.11240</td>\n",
       "    </tr>\n",
       "    <tr>\n",
       "      <th>3</th>\n",
       "      <td>-1.98500</td>\n",
       "      <td>5.70980</td>\n",
       "    </tr>\n",
       "    <tr>\n",
       "      <th>4</th>\n",
       "      <td>-2.40810</td>\n",
       "      <td>0.81910</td>\n",
       "    </tr>\n",
       "    <tr>\n",
       "      <th>...</th>\n",
       "      <td>...</td>\n",
       "      <td>...</td>\n",
       "    </tr>\n",
       "    <tr>\n",
       "      <th>495</th>\n",
       "      <td>0.29237</td>\n",
       "      <td>-0.13298</td>\n",
       "    </tr>\n",
       "    <tr>\n",
       "      <th>496</th>\n",
       "      <td>-2.82220</td>\n",
       "      <td>-5.22530</td>\n",
       "    </tr>\n",
       "    <tr>\n",
       "      <th>497</th>\n",
       "      <td>-2.81640</td>\n",
       "      <td>2.23000</td>\n",
       "    </tr>\n",
       "    <tr>\n",
       "      <th>498</th>\n",
       "      <td>-0.48128</td>\n",
       "      <td>0.55263</td>\n",
       "    </tr>\n",
       "    <tr>\n",
       "      <th>499</th>\n",
       "      <td>-0.89690</td>\n",
       "      <td>-1.46360</td>\n",
       "    </tr>\n",
       "  </tbody>\n",
       "</table>\n",
       "<p>500 rows × 2 columns</p>\n",
       "</div>"
      ],
      "text/plain": [
       "           A        B\n",
       "0   -2.42480 -0.79712\n",
       "1   -0.72760  0.58344\n",
       "2   -3.14410 -3.11240\n",
       "3   -1.98500  5.70980\n",
       "4   -2.40810  0.81910\n",
       "..       ...      ...\n",
       "495  0.29237 -0.13298\n",
       "496 -2.82220 -5.22530\n",
       "497 -2.81640  2.23000\n",
       "498 -0.48128  0.55263\n",
       "499 -0.89690 -1.46360\n",
       "\n",
       "[500 rows x 2 columns]"
      ]
     },
     "execution_count": 68,
     "metadata": {},
     "output_type": "execute_result"
    }
   ],
   "source": [
    "df3"
   ]
  },
  {
   "cell_type": "code",
   "execution_count": null,
   "id": "ff3f484c-7867-440b-8d55-cad183dc43f6",
   "metadata": {},
   "outputs": [],
   "source": []
  },
  {
   "cell_type": "code",
   "execution_count": 69,
   "id": "1a52033e-301d-4070-bdb1-b6e99c9f2083",
   "metadata": {},
   "outputs": [],
   "source": [
    "mean1 = df1.mean().values\n",
    "mean2 = df2.mean().values\n",
    "mean3 = df3.mean().values"
   ]
  },
  {
   "cell_type": "code",
   "execution_count": 70,
   "id": "1b69a906-aa0d-4296-b58f-19b6efe4f430",
   "metadata": {},
   "outputs": [
    {
     "name": "stdout",
     "output_type": "stream",
     "text": [
      "[16.041666   -0.05410826]   [  6.03712828 -12.0409062 ]   [-0.99362025  2.05114917]\n"
     ]
    }
   ],
   "source": [
    "print(mean1, \" \", mean2, \" \", mean3)"
   ]
  },
  {
   "cell_type": "code",
   "execution_count": 71,
   "id": "7d957b68-6112-430b-8dc3-a031a98ffa52",
   "metadata": {},
   "outputs": [],
   "source": [
    "cov1 = np.cov(df1.values.T)\n",
    "cov2 = np.cov(df2.values.T)\n",
    "cov3 = np.cov(df3.values.T)"
   ]
  },
  {
   "cell_type": "code",
   "execution_count": 75,
   "id": "6c1a3ce1-d6c4-46d8-bdc6-4316822ca23f",
   "metadata": {},
   "outputs": [
    {
     "name": "stdout",
     "output_type": "stream",
     "text": [
      "[[8.57638362 3.01063963]\n",
      " [3.01063963 2.32545248]] \n",
      "\n",
      "\n",
      " [[ 3.03979616 -1.62096262]\n",
      " [-1.62096262  4.42147128]] \n",
      "\n",
      "\n",
      " [[1.97008637 1.64243801]\n",
      " [1.64243801 9.67089938]]\n"
     ]
    }
   ],
   "source": [
    "print(cov1, \"\\n\\n\\n\", cov2, \"\\n\\n\\n\", cov3) "
   ]
  },
  {
   "cell_type": "code",
   "execution_count": 76,
   "id": "f2e0c50b-8c33-4658-94da-f512bc3e3644",
   "metadata": {},
   "outputs": [],
   "source": [
    "prior1 = prior2 = prior3 = 1/3"
   ]
  },
  {
   "cell_type": "code",
   "execution_count": 77,
   "id": "87de161f-8759-44ac-b56a-9e4cabc99f9b",
   "metadata": {},
   "outputs": [],
   "source": [
    "def classifier(X, mean, cov, prior):\n",
    "    d = mean.size\n",
    "    return prior * (1/(pow(2 * np.pi, d/2)) * pow(np.linalg.det(cov), 1/2)) * np.exp((-1/2)*(X-mean).T @ (np.linalg.inv(cov)) @ (X-mean))\n",
    "\n",
    "def predict(X):\n",
    "    p1 = np.array([classifier(x, mean1, cov1, prior1) for x in X])\n",
    "    p2 = np.array([classifier(x, mean2, cov2, prior2) for x in X])\n",
    "    p3 = np.array([classifier(x, mean3, cov3, prior3) for x in X])\n",
    "\n",
    "    return np.argmax(np.array([p1, p2, p3]), axis = 0)"
   ]
  },
  {
   "cell_type": "code",
   "execution_count": 63,
   "id": "5ad59321-29f4-43de-b43b-2a887ab42a8b",
   "metadata": {},
   "outputs": [
    {
     "data": {
      "text/plain": [
       "np.float64(2.0271305147106842e-16)"
      ]
     },
     "execution_count": 63,
     "metadata": {},
     "output_type": "execute_result"
    }
   ],
   "source": [
    "classifier([1, 2], mean1, cov1, prior1)"
   ]
  },
  {
   "cell_type": "code",
   "execution_count": null,
   "id": "b2b388d6-dbf7-4371-92f1-37d431027a73",
   "metadata": {},
   "outputs": [],
   "source": []
  },
  {
   "cell_type": "code",
   "execution_count": null,
   "id": "43a97c6a-ed7e-4fae-94d8-826aee6b377e",
   "metadata": {},
   "outputs": [],
   "source": []
  }
 ],
 "metadata": {
  "kernelspec": {
   "display_name": "Python 3 (ipykernel)",
   "language": "python",
   "name": "python3"
  },
  "language_info": {
   "codemirror_mode": {
    "name": "ipython",
    "version": 3
   },
   "file_extension": ".py",
   "mimetype": "text/x-python",
   "name": "python",
   "nbconvert_exporter": "python",
   "pygments_lexer": "ipython3",
   "version": "3.13.1"
  }
 },
 "nbformat": 4,
 "nbformat_minor": 5
}
