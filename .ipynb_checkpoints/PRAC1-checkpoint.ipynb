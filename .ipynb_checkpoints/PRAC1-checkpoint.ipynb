{
 "cells": [
  {
   "cell_type": "code",
   "execution_count": 1,
   "id": "0a767a5a-546c-4392-bc75-02a06be1833a",
   "metadata": {},
   "outputs": [],
   "source": [
    "import numpy as np"
   ]
  },
  {
   "cell_type": "code",
   "execution_count": 2,
   "id": "ae987ba3-b34d-4a0d-8dac-30be38daaf98",
   "metadata": {},
   "outputs": [],
   "source": [
    "dict1 = {\"Boys\":[72, 68, 70, 69, 74], \"Girls\":[63, 65, 69, 62, 61]}"
   ]
  },
  {
   "cell_type": "code",
   "execution_count": 3,
   "id": "4bab1db2-492c-4bd3-b48e-c969b66ef6a7",
   "metadata": {},
   "outputs": [
    {
     "data": {
      "text/plain": [
       "{'Boys': [72, 68, 70, 69, 74], 'Girls': [63, 65, 69, 62, 61]}"
      ]
     },
     "execution_count": 3,
     "metadata": {},
     "output_type": "execute_result"
    }
   ],
   "source": [
    "dict1"
   ]
  },
  {
   "cell_type": "code",
   "execution_count": 4,
   "id": "a0429c9c-4775-4051-a163-aac0ff301403",
   "metadata": {},
   "outputs": [],
   "source": [
    "list1=[{'Boys':i,'Girls':j} for i,j in zip(dict1['Boys'],dict1['Girls'])]"
   ]
  },
  {
   "cell_type": "code",
   "execution_count": 5,
   "id": "a883ae0f-27fc-4710-b340-65c38390e928",
   "metadata": {},
   "outputs": [
    {
     "data": {
      "text/plain": [
       "[{'Boys': 72, 'Girls': 63},\n",
       " {'Boys': 68, 'Girls': 65},\n",
       " {'Boys': 70, 'Girls': 69},\n",
       " {'Boys': 69, 'Girls': 62},\n",
       " {'Boys': 74, 'Girls': 61}]"
      ]
     },
     "execution_count": 5,
     "metadata": {},
     "output_type": "execute_result"
    }
   ],
   "source": [
    "list1"
   ]
  },
  {
   "cell_type": "code",
   "execution_count": 6,
   "id": "29f16fa2-6efe-403f-ad40-caa8a4946457",
   "metadata": {},
   "outputs": [],
   "source": [
    "arr = np.random.rand(4, 3)"
   ]
  },
  {
   "cell_type": "code",
   "execution_count": 7,
   "id": "596a6459-3876-470d-bf19-6bfee2918ca0",
   "metadata": {},
   "outputs": [
    {
     "data": {
      "text/plain": [
       "array([[0.22418791, 0.93105075, 0.73629728],\n",
       "       [0.89755516, 0.72442342, 0.35537983],\n",
       "       [0.77681038, 0.76303267, 0.8591497 ],\n",
       "       [0.37273073, 0.07128714, 0.44094652]])"
      ]
     },
     "execution_count": 7,
     "metadata": {},
     "output_type": "execute_result"
    }
   ],
   "source": [
    "arr"
   ]
  },
  {
   "cell_type": "code",
   "execution_count": 8,
   "id": "fcbe009e-d7cd-44c1-999d-69c0f8f914c8",
   "metadata": {},
   "outputs": [
    {
     "data": {
      "text/plain": [
       "array([0.63051198, 0.65911947, 0.79966425, 0.29498813])"
      ]
     },
     "execution_count": 8,
     "metadata": {},
     "output_type": "execute_result"
    }
   ],
   "source": [
    "arr.mean(axis = 1)"
   ]
  },
  {
   "cell_type": "code",
   "execution_count": 9,
   "id": "9dc7ab07-ba63-4dc8-8ba3-fadcc89e2b88",
   "metadata": {},
   "outputs": [
    {
     "data": {
      "text/plain": [
       "array([0.29811258, 0.22610761, 0.04243697, 0.1606133 ])"
      ]
     },
     "execution_count": 9,
     "metadata": {},
     "output_type": "execute_result"
    }
   ],
   "source": [
    "arr.std(axis = 1)"
   ]
  },
  {
   "cell_type": "code",
   "execution_count": 10,
   "id": "6be2f06c-25ee-4fef-b81b-74776e2a95f8",
   "metadata": {},
   "outputs": [
    {
     "data": {
      "text/plain": [
       "array([0.63051198, 0.65911947, 0.79966425, 0.29498813])"
      ]
     },
     "execution_count": 10,
     "metadata": {},
     "output_type": "execute_result"
    }
   ],
   "source": [
    "np.mean(arr, axis = 1)"
   ]
  },
  {
   "cell_type": "code",
   "execution_count": 11,
   "id": "85706b99-a12d-4c15-bd1b-17b0e3130307",
   "metadata": {},
   "outputs": [
    {
     "data": {
      "text/plain": [
       "array([0.08887111, 0.05112465, 0.0018009 , 0.02579663])"
      ]
     },
     "execution_count": 11,
     "metadata": {},
     "output_type": "execute_result"
    }
   ],
   "source": [
    "np.var(arr, axis = 1)"
   ]
  },
  {
   "cell_type": "code",
   "execution_count": 12,
   "id": "4d926e33-128c-4a32-b612-a4e24a19c0e6",
   "metadata": {},
   "outputs": [],
   "source": [
    "B = np.array([56, 48 , 22, 41, 78, 91, 24, 46, 8, 33])"
   ]
  },
  {
   "cell_type": "code",
   "execution_count": 13,
   "id": "4e9c01cc-9a9c-4964-b3a5-f14326a3df9e",
   "metadata": {},
   "outputs": [
    {
     "data": {
      "text/plain": [
       "array([56, 48, 22, 41, 78, 91, 24, 46,  8, 33])"
      ]
     },
     "execution_count": 13,
     "metadata": {},
     "output_type": "execute_result"
    }
   ],
   "source": [
    "B"
   ]
  },
  {
   "cell_type": "code",
   "execution_count": 14,
   "id": "d8008730-978e-4782-9349-a8aef249c66e",
   "metadata": {},
   "outputs": [
    {
     "data": {
      "text/plain": [
       "array([8, 2, 6, 9, 3, 7, 1, 0, 4, 5])"
      ]
     },
     "execution_count": 14,
     "metadata": {},
     "output_type": "execute_result"
    }
   ],
   "source": [
    "np.argsort(B)"
   ]
  },
  {
   "cell_type": "code",
   "execution_count": 15,
   "id": "7d3a22ac-da29-493e-804a-86cc12c71d39",
   "metadata": {},
   "outputs": [],
   "source": [
    "arr1  = np.random.randn(3,5)"
   ]
  },
  {
   "cell_type": "code",
   "execution_count": 16,
   "id": "f18dbcad-f790-4a52-be41-52ad5c314372",
   "metadata": {},
   "outputs": [
    {
     "data": {
      "text/plain": [
       "array([[ 0.2732417 , -1.13408544,  0.40449432, -0.04744164,  0.85917318],\n",
       "       [ 0.22479456,  1.39973639,  0.25108822,  0.08283052,  2.46914157],\n",
       "       [ 1.43650549,  1.1094881 , -0.18680485,  1.18149525, -0.59817303]])"
      ]
     },
     "execution_count": 16,
     "metadata": {},
     "output_type": "execute_result"
    }
   ],
   "source": [
    "arr1"
   ]
  },
  {
   "cell_type": "code",
   "execution_count": 17,
   "id": "46a61e55-5d42-4e51-9c14-0325b2c73237",
   "metadata": {},
   "outputs": [
    {
     "data": {
      "text/plain": [
       "(3, 5)"
      ]
     },
     "execution_count": 17,
     "metadata": {},
     "output_type": "execute_result"
    }
   ],
   "source": [
    "arr1.shape"
   ]
  },
  {
   "cell_type": "code",
   "execution_count": 18,
   "id": "3066900e-d855-4937-b849-1e337e6b8450",
   "metadata": {},
   "outputs": [
    {
     "data": {
      "text/plain": [
       "dtype('float64')"
      ]
     },
     "execution_count": 18,
     "metadata": {},
     "output_type": "execute_result"
    }
   ],
   "source": [
    "arr1.dtype"
   ]
  },
  {
   "cell_type": "code",
   "execution_count": 19,
   "id": "6805d0d7-8427-409a-98d7-baa7c4b43f17",
   "metadata": {},
   "outputs": [
    {
     "data": {
      "text/plain": [
       "numpy.ndarray"
      ]
     },
     "execution_count": 19,
     "metadata": {},
     "output_type": "execute_result"
    }
   ],
   "source": [
    "type(arr1)"
   ]
  },
  {
   "cell_type": "code",
   "execution_count": 20,
   "id": "1cc01bcc-ee48-41b7-8ffe-88f43645eb3e",
   "metadata": {},
   "outputs": [
    {
     "data": {
      "text/plain": [
       "array([[ 0.2732417 , -1.13408544,  0.40449432],\n",
       "       [-0.04744164,  0.85917318,  0.22479456],\n",
       "       [ 1.39973639,  0.25108822,  0.08283052],\n",
       "       [ 2.46914157,  1.43650549,  1.1094881 ],\n",
       "       [-0.18680485,  1.18149525, -0.59817303]])"
      ]
     },
     "execution_count": 20,
     "metadata": {},
     "output_type": "execute_result"
    }
   ],
   "source": [
    "arr1.reshape(5,3)"
   ]
  },
  {
   "cell_type": "code",
   "execution_count": 21,
   "id": "69582f84-32b7-436f-b4ca-91222c40c1ea",
   "metadata": {},
   "outputs": [],
   "source": [
    "arr2 = np.array([2, 0, np.nan, 3, np.nan, 0, 7])"
   ]
  },
  {
   "cell_type": "code",
   "execution_count": 22,
   "id": "e9f23043-4eec-42d4-a2c2-116b8a306343",
   "metadata": {},
   "outputs": [
    {
     "data": {
      "text/plain": [
       "array([ 2.,  0., nan,  3., nan,  0.,  7.])"
      ]
     },
     "execution_count": 22,
     "metadata": {},
     "output_type": "execute_result"
    }
   ],
   "source": [
    "arr2"
   ]
  },
  {
   "cell_type": "code",
   "execution_count": 23,
   "id": "705ece4b-ac93-471a-be90-d2d750505ce1",
   "metadata": {},
   "outputs": [
    {
     "data": {
      "text/plain": [
       "array([2., 3., 7.])"
      ]
     },
     "execution_count": 23,
     "metadata": {},
     "output_type": "execute_result"
    }
   ],
   "source": [
    "arr2[arr2>0]"
   ]
  },
  {
   "cell_type": "code",
   "execution_count": 24,
   "id": "467d5a4e-9836-49fc-aa9b-35a18d192095",
   "metadata": {},
   "outputs": [
    {
     "data": {
      "text/plain": [
       "array([1, 5])"
      ]
     },
     "execution_count": 24,
     "metadata": {},
     "output_type": "execute_result"
    }
   ],
   "source": [
    "np.where(arr2 ==0)[0]"
   ]
  },
  {
   "cell_type": "code",
   "execution_count": 25,
   "id": "ad107faf-557c-4d66-ba53-a6f4d452a7cb",
   "metadata": {},
   "outputs": [
    {
     "data": {
      "text/plain": [
       "array([[1],\n",
       "       [5]])"
      ]
     },
     "execution_count": 25,
     "metadata": {},
     "output_type": "execute_result"
    }
   ],
   "source": [
    "np.argwhere(arr2==0)"
   ]
  },
  {
   "cell_type": "code",
   "execution_count": 26,
   "id": "55ad3d15-83d2-4633-bb81-093333dc5ec5",
   "metadata": {},
   "outputs": [
    {
     "data": {
      "text/plain": [
       "array([[2],\n",
       "       [4]])"
      ]
     },
     "execution_count": 26,
     "metadata": {},
     "output_type": "execute_result"
    }
   ],
   "source": [
    "np.argwhere(np.isnan(arr2))\n"
   ]
  },
  {
   "cell_type": "code",
   "execution_count": 27,
   "id": "a53763ae-a796-4513-9dd3-6293f3b848ad",
   "metadata": {},
   "outputs": [
    {
     "data": {
      "text/plain": [
       "(array([2, 4]),)"
      ]
     },
     "execution_count": 27,
     "metadata": {},
     "output_type": "execute_result"
    }
   ],
   "source": [
    "np.where(np.isnan(arr2))"
   ]
  },
  {
   "cell_type": "code",
   "execution_count": 28,
   "id": "73c6aac3-ffd8-47ca-8c7e-43a6fab9a747",
   "metadata": {},
   "outputs": [
    {
     "data": {
      "text/plain": [
       "array([0, 3, 6])"
      ]
     },
     "execution_count": 28,
     "metadata": {},
     "output_type": "execute_result"
    }
   ],
   "source": [
    "np.where(arr2>0)[0]"
   ]
  },
  {
   "cell_type": "code",
   "execution_count": 29,
   "id": "2395e22d-0050-40dd-8b2d-004e90dc35f8",
   "metadata": {},
   "outputs": [
    {
     "name": "stdin",
     "output_type": "stream",
     "text": [
      "Enter the value of n:  3\n"
     ]
    }
   ],
   "source": [
    "n = input(\"Enter the value of n: \")"
   ]
  },
  {
   "cell_type": "code",
   "execution_count": 30,
   "id": "c683557a-246a-440f-89cb-716043625f6b",
   "metadata": {},
   "outputs": [],
   "source": [
    "import pandas as pd"
   ]
  },
  {
   "cell_type": "code",
   "execution_count": 31,
   "id": "88afaeb3-7237-45a2-9dc8-bcf712e059c4",
   "metadata": {},
   "outputs": [],
   "source": [
    "df = pd.DataFrame(np.random.randint(1, 100, size = (50, 3)))"
   ]
  },
  {
   "cell_type": "code",
   "execution_count": 32,
   "id": "4da1ce59-7602-48d5-8684-49849aa6540d",
   "metadata": {},
   "outputs": [
    {
     "data": {
      "text/html": [
       "<div>\n",
       "<style scoped>\n",
       "    .dataframe tbody tr th:only-of-type {\n",
       "        vertical-align: middle;\n",
       "    }\n",
       "\n",
       "    .dataframe tbody tr th {\n",
       "        vertical-align: top;\n",
       "    }\n",
       "\n",
       "    .dataframe thead th {\n",
       "        text-align: right;\n",
       "    }\n",
       "</style>\n",
       "<table border=\"1\" class=\"dataframe\">\n",
       "  <thead>\n",
       "    <tr style=\"text-align: right;\">\n",
       "      <th></th>\n",
       "      <th>0</th>\n",
       "      <th>1</th>\n",
       "      <th>2</th>\n",
       "    </tr>\n",
       "  </thead>\n",
       "  <tbody>\n",
       "    <tr>\n",
       "      <th>0</th>\n",
       "      <td>93</td>\n",
       "      <td>60</td>\n",
       "      <td>1</td>\n",
       "    </tr>\n",
       "    <tr>\n",
       "      <th>1</th>\n",
       "      <td>71</td>\n",
       "      <td>45</td>\n",
       "      <td>60</td>\n",
       "    </tr>\n",
       "    <tr>\n",
       "      <th>2</th>\n",
       "      <td>4</td>\n",
       "      <td>26</td>\n",
       "      <td>58</td>\n",
       "    </tr>\n",
       "    <tr>\n",
       "      <th>3</th>\n",
       "      <td>49</td>\n",
       "      <td>57</td>\n",
       "      <td>48</td>\n",
       "    </tr>\n",
       "    <tr>\n",
       "      <th>4</th>\n",
       "      <td>38</td>\n",
       "      <td>43</td>\n",
       "      <td>61</td>\n",
       "    </tr>\n",
       "    <tr>\n",
       "      <th>5</th>\n",
       "      <td>69</td>\n",
       "      <td>95</td>\n",
       "      <td>32</td>\n",
       "    </tr>\n",
       "    <tr>\n",
       "      <th>6</th>\n",
       "      <td>72</td>\n",
       "      <td>4</td>\n",
       "      <td>22</td>\n",
       "    </tr>\n",
       "    <tr>\n",
       "      <th>7</th>\n",
       "      <td>67</td>\n",
       "      <td>40</td>\n",
       "      <td>3</td>\n",
       "    </tr>\n",
       "    <tr>\n",
       "      <th>8</th>\n",
       "      <td>87</td>\n",
       "      <td>8</td>\n",
       "      <td>42</td>\n",
       "    </tr>\n",
       "    <tr>\n",
       "      <th>9</th>\n",
       "      <td>36</td>\n",
       "      <td>31</td>\n",
       "      <td>75</td>\n",
       "    </tr>\n",
       "    <tr>\n",
       "      <th>10</th>\n",
       "      <td>50</td>\n",
       "      <td>88</td>\n",
       "      <td>29</td>\n",
       "    </tr>\n",
       "    <tr>\n",
       "      <th>11</th>\n",
       "      <td>84</td>\n",
       "      <td>8</td>\n",
       "      <td>36</td>\n",
       "    </tr>\n",
       "    <tr>\n",
       "      <th>12</th>\n",
       "      <td>23</td>\n",
       "      <td>13</td>\n",
       "      <td>49</td>\n",
       "    </tr>\n",
       "    <tr>\n",
       "      <th>13</th>\n",
       "      <td>52</td>\n",
       "      <td>95</td>\n",
       "      <td>29</td>\n",
       "    </tr>\n",
       "    <tr>\n",
       "      <th>14</th>\n",
       "      <td>74</td>\n",
       "      <td>44</td>\n",
       "      <td>91</td>\n",
       "    </tr>\n",
       "    <tr>\n",
       "      <th>15</th>\n",
       "      <td>96</td>\n",
       "      <td>95</td>\n",
       "      <td>94</td>\n",
       "    </tr>\n",
       "    <tr>\n",
       "      <th>16</th>\n",
       "      <td>26</td>\n",
       "      <td>59</td>\n",
       "      <td>13</td>\n",
       "    </tr>\n",
       "    <tr>\n",
       "      <th>17</th>\n",
       "      <td>49</td>\n",
       "      <td>89</td>\n",
       "      <td>37</td>\n",
       "    </tr>\n",
       "    <tr>\n",
       "      <th>18</th>\n",
       "      <td>33</td>\n",
       "      <td>1</td>\n",
       "      <td>67</td>\n",
       "    </tr>\n",
       "    <tr>\n",
       "      <th>19</th>\n",
       "      <td>29</td>\n",
       "      <td>58</td>\n",
       "      <td>36</td>\n",
       "    </tr>\n",
       "    <tr>\n",
       "      <th>20</th>\n",
       "      <td>4</td>\n",
       "      <td>3</td>\n",
       "      <td>92</td>\n",
       "    </tr>\n",
       "    <tr>\n",
       "      <th>21</th>\n",
       "      <td>32</td>\n",
       "      <td>74</td>\n",
       "      <td>94</td>\n",
       "    </tr>\n",
       "    <tr>\n",
       "      <th>22</th>\n",
       "      <td>40</td>\n",
       "      <td>7</td>\n",
       "      <td>5</td>\n",
       "    </tr>\n",
       "    <tr>\n",
       "      <th>23</th>\n",
       "      <td>27</td>\n",
       "      <td>55</td>\n",
       "      <td>25</td>\n",
       "    </tr>\n",
       "    <tr>\n",
       "      <th>24</th>\n",
       "      <td>38</td>\n",
       "      <td>44</td>\n",
       "      <td>87</td>\n",
       "    </tr>\n",
       "    <tr>\n",
       "      <th>25</th>\n",
       "      <td>30</td>\n",
       "      <td>90</td>\n",
       "      <td>29</td>\n",
       "    </tr>\n",
       "    <tr>\n",
       "      <th>26</th>\n",
       "      <td>26</td>\n",
       "      <td>85</td>\n",
       "      <td>99</td>\n",
       "    </tr>\n",
       "    <tr>\n",
       "      <th>27</th>\n",
       "      <td>8</td>\n",
       "      <td>74</td>\n",
       "      <td>58</td>\n",
       "    </tr>\n",
       "    <tr>\n",
       "      <th>28</th>\n",
       "      <td>88</td>\n",
       "      <td>46</td>\n",
       "      <td>27</td>\n",
       "    </tr>\n",
       "    <tr>\n",
       "      <th>29</th>\n",
       "      <td>11</td>\n",
       "      <td>21</td>\n",
       "      <td>16</td>\n",
       "    </tr>\n",
       "    <tr>\n",
       "      <th>30</th>\n",
       "      <td>41</td>\n",
       "      <td>7</td>\n",
       "      <td>91</td>\n",
       "    </tr>\n",
       "    <tr>\n",
       "      <th>31</th>\n",
       "      <td>91</td>\n",
       "      <td>62</td>\n",
       "      <td>72</td>\n",
       "    </tr>\n",
       "    <tr>\n",
       "      <th>32</th>\n",
       "      <td>97</td>\n",
       "      <td>72</td>\n",
       "      <td>6</td>\n",
       "    </tr>\n",
       "    <tr>\n",
       "      <th>33</th>\n",
       "      <td>30</td>\n",
       "      <td>76</td>\n",
       "      <td>7</td>\n",
       "    </tr>\n",
       "    <tr>\n",
       "      <th>34</th>\n",
       "      <td>43</td>\n",
       "      <td>36</td>\n",
       "      <td>58</td>\n",
       "    </tr>\n",
       "    <tr>\n",
       "      <th>35</th>\n",
       "      <td>23</td>\n",
       "      <td>27</td>\n",
       "      <td>65</td>\n",
       "    </tr>\n",
       "    <tr>\n",
       "      <th>36</th>\n",
       "      <td>93</td>\n",
       "      <td>5</td>\n",
       "      <td>74</td>\n",
       "    </tr>\n",
       "    <tr>\n",
       "      <th>37</th>\n",
       "      <td>31</td>\n",
       "      <td>48</td>\n",
       "      <td>27</td>\n",
       "    </tr>\n",
       "    <tr>\n",
       "      <th>38</th>\n",
       "      <td>89</td>\n",
       "      <td>14</td>\n",
       "      <td>31</td>\n",
       "    </tr>\n",
       "    <tr>\n",
       "      <th>39</th>\n",
       "      <td>36</td>\n",
       "      <td>70</td>\n",
       "      <td>94</td>\n",
       "    </tr>\n",
       "    <tr>\n",
       "      <th>40</th>\n",
       "      <td>90</td>\n",
       "      <td>49</td>\n",
       "      <td>91</td>\n",
       "    </tr>\n",
       "    <tr>\n",
       "      <th>41</th>\n",
       "      <td>22</td>\n",
       "      <td>14</td>\n",
       "      <td>89</td>\n",
       "    </tr>\n",
       "    <tr>\n",
       "      <th>42</th>\n",
       "      <td>45</td>\n",
       "      <td>45</td>\n",
       "      <td>12</td>\n",
       "    </tr>\n",
       "    <tr>\n",
       "      <th>43</th>\n",
       "      <td>10</td>\n",
       "      <td>18</td>\n",
       "      <td>11</td>\n",
       "    </tr>\n",
       "    <tr>\n",
       "      <th>44</th>\n",
       "      <td>51</td>\n",
       "      <td>76</td>\n",
       "      <td>98</td>\n",
       "    </tr>\n",
       "    <tr>\n",
       "      <th>45</th>\n",
       "      <td>15</td>\n",
       "      <td>81</td>\n",
       "      <td>21</td>\n",
       "    </tr>\n",
       "    <tr>\n",
       "      <th>46</th>\n",
       "      <td>25</td>\n",
       "      <td>68</td>\n",
       "      <td>3</td>\n",
       "    </tr>\n",
       "    <tr>\n",
       "      <th>47</th>\n",
       "      <td>46</td>\n",
       "      <td>27</td>\n",
       "      <td>49</td>\n",
       "    </tr>\n",
       "    <tr>\n",
       "      <th>48</th>\n",
       "      <td>40</td>\n",
       "      <td>4</td>\n",
       "      <td>10</td>\n",
       "    </tr>\n",
       "    <tr>\n",
       "      <th>49</th>\n",
       "      <td>37</td>\n",
       "      <td>72</td>\n",
       "      <td>57</td>\n",
       "    </tr>\n",
       "  </tbody>\n",
       "</table>\n",
       "</div>"
      ],
      "text/plain": [
       "     0   1   2\n",
       "0   93  60   1\n",
       "1   71  45  60\n",
       "2    4  26  58\n",
       "3   49  57  48\n",
       "4   38  43  61\n",
       "5   69  95  32\n",
       "6   72   4  22\n",
       "7   67  40   3\n",
       "8   87   8  42\n",
       "9   36  31  75\n",
       "10  50  88  29\n",
       "11  84   8  36\n",
       "12  23  13  49\n",
       "13  52  95  29\n",
       "14  74  44  91\n",
       "15  96  95  94\n",
       "16  26  59  13\n",
       "17  49  89  37\n",
       "18  33   1  67\n",
       "19  29  58  36\n",
       "20   4   3  92\n",
       "21  32  74  94\n",
       "22  40   7   5\n",
       "23  27  55  25\n",
       "24  38  44  87\n",
       "25  30  90  29\n",
       "26  26  85  99\n",
       "27   8  74  58\n",
       "28  88  46  27\n",
       "29  11  21  16\n",
       "30  41   7  91\n",
       "31  91  62  72\n",
       "32  97  72   6\n",
       "33  30  76   7\n",
       "34  43  36  58\n",
       "35  23  27  65\n",
       "36  93   5  74\n",
       "37  31  48  27\n",
       "38  89  14  31\n",
       "39  36  70  94\n",
       "40  90  49  91\n",
       "41  22  14  89\n",
       "42  45  45  12\n",
       "43  10  18  11\n",
       "44  51  76  98\n",
       "45  15  81  21\n",
       "46  25  68   3\n",
       "47  46  27  49\n",
       "48  40   4  10\n",
       "49  37  72  57"
      ]
     },
     "execution_count": 32,
     "metadata": {},
     "output_type": "execute_result"
    }
   ],
   "source": [
    "df"
   ]
  },
  {
   "cell_type": "code",
   "execution_count": null,
   "id": "ff9a50db-7f4a-41cf-81d7-532b7c8f81d9",
   "metadata": {},
   "outputs": [],
   "source": [
    "import random"
   ]
  },
  {
   "cell_type": "code",
   "execution_count": 33,
   "id": "050b4095-5e77-4278-b2f4-684f9add8bd7",
   "metadata": {},
   "outputs": [
    {
     "ename": "NameError",
     "evalue": "name 'random' is not defined",
     "output_type": "error",
     "traceback": [
      "\u001b[1;31m---------------------------------------------------------------------------\u001b[0m",
      "\u001b[1;31mNameError\u001b[0m                                 Traceback (most recent call last)",
      "Cell \u001b[1;32mIn[33], line 1\u001b[0m\n\u001b[1;32m----> 1\u001b[0m null_row \u001b[38;5;241m=\u001b[39m \u001b[43mrandom\u001b[49m\u001b[38;5;241m.\u001b[39msample(\u001b[38;5;28mrange\u001b[39m(\u001b[38;5;241m0\u001b[39m, \u001b[38;5;241m50\u001b[39m), \u001b[38;5;241m15\u001b[39m)\n\u001b[0;32m      2\u001b[0m null_row\n",
      "\u001b[1;31mNameError\u001b[0m: name 'random' is not defined"
     ]
    }
   ],
   "source": [
    "null_row = random.sample(range(0, 50), 15)\n",
    "null_row"
   ]
  },
  {
   "cell_type": "code",
   "execution_count": null,
   "id": "06322ffc-ecd0-4298-a2fc-bce0a5d500c7",
   "metadata": {},
   "outputs": [],
   "source": [
    "null_column = np.random.randint(0, 3, 15)\n",
    "null_column"
   ]
  },
  {
   "cell_type": "code",
   "execution_count": null,
   "id": "6ad8be93-8be5-4306-800c-661857592dcc",
   "metadata": {},
   "outputs": [],
   "source": [
    "import random"
   ]
  },
  {
   "cell_type": "code",
   "execution_count": null,
   "id": "94341f48-f24a-4a45-b3ee-8cf82eafc5ce",
   "metadata": {},
   "outputs": [],
   "source": [
    "random.sample(range(1, 10) ,9)"
   ]
  },
  {
   "cell_type": "code",
   "execution_count": null,
   "id": "782bcacd-8482-4ed6-97ac-b50b567882bf",
   "metadata": {},
   "outputs": [],
   "source": [
    "index = list(zip(null_row, null_column))\n",
    "for i, j in index:\n",
    "    df.iloc[i, j] = np.nan\n",
    "    print(i, j)"
   ]
  },
  {
   "cell_type": "code",
   "execution_count": null,
   "id": "8c7e576b-4d2e-41ac-a2f1-86e20d6ab971",
   "metadata": {},
   "outputs": [],
   "source": [
    "df"
   ]
  },
  {
   "cell_type": "code",
   "execution_count": null,
   "id": "e10bda39-11a2-48d6-a303-e7c681ad5333",
   "metadata": {},
   "outputs": [],
   "source": [
    "df.isnull()"
   ]
  },
  {
   "cell_type": "code",
   "execution_count": null,
   "id": "a1fece30-d076-4cfe-8306-03da7746c332",
   "metadata": {},
   "outputs": [],
   "source": [
    "df.isnull().sum()"
   ]
  },
  {
   "cell_type": "code",
   "execution_count": null,
   "id": "35320d2c-c373-44ab-b0bf-250acb554398",
   "metadata": {},
   "outputs": [],
   "source": [
    "df.isnull().sum().sum()"
   ]
  },
  {
   "cell_type": "code",
   "execution_count": null,
   "id": "cef814d1-c094-440c-a061-228760868330",
   "metadata": {},
   "outputs": [],
   "source": [
    "df.dropna(axis = 1, thresh=45)"
   ]
  },
  {
   "cell_type": "code",
   "execution_count": null,
   "id": "f00b28d2-73e5-4191-89f8-5ed9ee64906c",
   "metadata": {},
   "outputs": [],
   "source": [
    "df.sum(axis = 1).max()"
   ]
  },
  {
   "cell_type": "code",
   "execution_count": null,
   "id": "11a59d06-24b9-4d2e-a397-909c4a86b539",
   "metadata": {},
   "outputs": [],
   "source": [
    "max_row = df.sum(axis = 1).idxmax()"
   ]
  },
  {
   "cell_type": "code",
   "execution_count": null,
   "id": "29c09652-c55b-48a2-b98a-d36e4ee0f789",
   "metadata": {},
   "outputs": [],
   "source": [
    "max_row"
   ]
  },
  {
   "cell_type": "code",
   "execution_count": null,
   "id": "43824f12-b76f-4fd0-b417-a4bff22df2bd",
   "metadata": {},
   "outputs": [],
   "source": [
    "df.iloc[16, :]"
   ]
  },
  {
   "cell_type": "code",
   "execution_count": null,
   "id": "2ceba962-590f-4dc9-a999-2d8382c9b53f",
   "metadata": {},
   "outputs": [],
   "source": [
    "df = df.drop(max_row, axis = 0)"
   ]
  },
  {
   "cell_type": "code",
   "execution_count": null,
   "id": "4e64d978-9f91-4ebc-897f-101438d963d6",
   "metadata": {},
   "outputs": [],
   "source": [
    "df"
   ]
  },
  {
   "cell_type": "code",
   "execution_count": null,
   "id": "3be20b2c-0d1d-47ef-b7d8-615691779152",
   "metadata": {},
   "outputs": [],
   "source": [
    "df[0].shape"
   ]
  },
  {
   "cell_type": "code",
   "execution_count": null,
   "id": "545a1f51-ed1e-49b9-a388-3397e9d0524a",
   "metadata": {},
   "outputs": [],
   "source": [
    "df.sort_values(by = 0) "
   ]
  },
  {
   "cell_type": "code",
   "execution_count": null,
   "id": "d93f15de-ee62-4a63-8f77-85d661552be4",
   "metadata": {},
   "outputs": [],
   "source": [
    "df.drop_duplicates(subset = 0, keep = \"first\")"
   ]
  },
  {
   "cell_type": "code",
   "execution_count": null,
   "id": "32862260-cd2d-4d8a-b6fb-6ef76af43527",
   "metadata": {},
   "outputs": [],
   "source": [
    "df[0].value_counts()"
   ]
  },
  {
   "cell_type": "code",
   "execution_count": null,
   "id": "6bb8f517-3d8b-445b-ba96-6161266f5153",
   "metadata": {},
   "outputs": [],
   "source": [
    "df[0].where(df[0] == 19).value_counts()"
   ]
  },
  {
   "cell_type": "code",
   "execution_count": null,
   "id": "511cbdd5-7692-4ad8-bc41-512660793ece",
   "metadata": {},
   "outputs": [],
   "source": [
    "df.plot.box()"
   ]
  },
  {
   "cell_type": "code",
   "execution_count": null,
   "id": "8d432fd5-0d71-40e2-8517-a10fca0d4954",
   "metadata": {},
   "outputs": [],
   "source": [
    "correlation = df[0].corr(df[1])\n",
    "correlation"
   ]
  },
  {
   "cell_type": "code",
   "execution_count": null,
   "id": "6b7a17f0-7e52-4801-a96a-5ede5b57cec1",
   "metadata": {},
   "outputs": [],
   "source": [
    "covariance = df[0].cov(df[1])"
   ]
  },
  {
   "cell_type": "code",
   "execution_count": null,
   "id": "3c2aeaca-1d5b-4f15-ada9-81cc22a4c21a",
   "metadata": {},
   "outputs": [],
   "source": [
    "covariance"
   ]
  },
  {
   "cell_type": "code",
   "execution_count": null,
   "id": "bf20fdda-8205-4190-9f18-c6a185145e13",
   "metadata": {},
   "outputs": [],
   "source": [
    "df1 = pd.cut(df[1], bins=5).head()"
   ]
  },
  {
   "cell_type": "code",
   "execution_count": null,
   "id": "d6261abc-5c02-4859-84ca-99436b8573a8",
   "metadata": {},
   "outputs": [],
   "source": [
    "df1"
   ]
  },
  {
   "cell_type": "code",
   "execution_count": null,
   "id": "5cf9ba92-fb53-4aae-ad5f-d04326440b15",
   "metadata": {},
   "outputs": [],
   "source": []
  }
 ],
 "metadata": {
  "kernelspec": {
   "display_name": "Python 3 (ipykernel)",
   "language": "python",
   "name": "python3"
  },
  "language_info": {
   "codemirror_mode": {
    "name": "ipython",
    "version": 3
   },
   "file_extension": ".py",
   "mimetype": "text/x-python",
   "name": "python",
   "nbconvert_exporter": "python",
   "pygments_lexer": "ipython3",
   "version": "3.13.1"
  }
 },
 "nbformat": 4,
 "nbformat_minor": 5
}
