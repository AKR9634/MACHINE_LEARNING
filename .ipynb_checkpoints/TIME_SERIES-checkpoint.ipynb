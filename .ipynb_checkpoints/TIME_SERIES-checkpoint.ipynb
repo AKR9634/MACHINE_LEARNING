{
 "cells": [
  {
   "cell_type": "markdown",
   "id": "33021fef-e650-4380-9d59-1bdcb7721867",
   "metadata": {},
   "source": [
    "### TIME SERIES"
   ]
  },
  {
   "cell_type": "markdown",
   "id": "53d2de69-083b-4b44-9a48-34ada70e6065",
   "metadata": {},
   "source": [
    "\n",
    "Time Series is an important form of structured data in many differenet fields, such as finance, economics, ecology, neuroscience, physiscs. Anything that is observed or measured at many points in time forms a time series."
   ]
  },
  {
   "cell_type": "code",
   "execution_count": 10,
   "id": "d13bc7d3-c2f0-4fcd-a3d6-91e081f13275",
   "metadata": {},
   "outputs": [],
   "source": [
    "from datetime import datetime\n",
    "import pandas as pd\n",
    "import numpy as np"
   ]
  },
  {
   "cell_type": "code",
   "execution_count": 11,
   "id": "f5157043-4cbf-40f5-8792-310a8023529e",
   "metadata": {},
   "outputs": [],
   "source": [
    "now = datetime.now()"
   ]
  },
  {
   "cell_type": "code",
   "execution_count": 12,
   "id": "90c49812-636f-4ab5-aa2d-3ff88d760847",
   "metadata": {},
   "outputs": [
    {
     "data": {
      "text/plain": [
       "datetime.datetime(2025, 6, 22, 13, 10, 18, 125002)"
      ]
     },
     "execution_count": 12,
     "metadata": {},
     "output_type": "execute_result"
    }
   ],
   "source": [
    "now"
   ]
  },
  {
   "cell_type": "code",
   "execution_count": 13,
   "id": "c1ad2906-5614-41f9-b53c-aa9238960dea",
   "metadata": {},
   "outputs": [
    {
     "data": {
      "text/plain": [
       "2025"
      ]
     },
     "execution_count": 13,
     "metadata": {},
     "output_type": "execute_result"
    }
   ],
   "source": [
    "datetime.now().year"
   ]
  },
  {
   "cell_type": "code",
   "execution_count": 14,
   "id": "a11ff299-6dcb-45a9-b538-e9c627816064",
   "metadata": {},
   "outputs": [
    {
     "data": {
      "text/plain": [
       "6"
      ]
     },
     "execution_count": 14,
     "metadata": {},
     "output_type": "execute_result"
    }
   ],
   "source": [
    "datetime.now().month"
   ]
  },
  {
   "cell_type": "code",
   "execution_count": 15,
   "id": "192b7b92-328d-4fc1-a5ce-c892bcd4e3de",
   "metadata": {},
   "outputs": [
    {
     "data": {
      "text/plain": [
       "22"
      ]
     },
     "execution_count": 15,
     "metadata": {},
     "output_type": "execute_result"
    }
   ],
   "source": [
    "datetime.now().day"
   ]
  },
  {
   "cell_type": "code",
   "execution_count": 16,
   "id": "acc9b6e3-9095-492c-8344-84a0c66c45ce",
   "metadata": {},
   "outputs": [
    {
     "data": {
      "text/plain": [
       "13"
      ]
     },
     "execution_count": 16,
     "metadata": {},
     "output_type": "execute_result"
    }
   ],
   "source": [
    "datetime.now().hour"
   ]
  },
  {
   "cell_type": "code",
   "execution_count": 17,
   "id": "a948d4d9-7b4e-45c2-ac73-4c852300c44e",
   "metadata": {},
   "outputs": [
    {
     "data": {
      "text/plain": [
       "datetime.datetime(1, 1, 1, 0, 0)"
      ]
     },
     "execution_count": 17,
     "metadata": {},
     "output_type": "execute_result"
    }
   ],
   "source": [
    "datetime.now().min"
   ]
  },
  {
   "cell_type": "code",
   "execution_count": 18,
   "id": "4cd05513-b33a-4326-8f8e-4e8d4153414b",
   "metadata": {},
   "outputs": [],
   "source": [
    "df = pd.DataFrame({'year': [2015, 2016],\n",
    "                   'month': [2, 3],\n",
    "                   'day': [4, 5]})"
   ]
  },
  {
   "cell_type": "code",
   "execution_count": 19,
   "id": "5e4eab27-5ff1-49ec-a4a5-0f32df4a614a",
   "metadata": {},
   "outputs": [
    {
     "data": {
      "text/html": [
       "<div>\n",
       "<style scoped>\n",
       "    .dataframe tbody tr th:only-of-type {\n",
       "        vertical-align: middle;\n",
       "    }\n",
       "\n",
       "    .dataframe tbody tr th {\n",
       "        vertical-align: top;\n",
       "    }\n",
       "\n",
       "    .dataframe thead th {\n",
       "        text-align: right;\n",
       "    }\n",
       "</style>\n",
       "<table border=\"1\" class=\"dataframe\">\n",
       "  <thead>\n",
       "    <tr style=\"text-align: right;\">\n",
       "      <th></th>\n",
       "      <th>year</th>\n",
       "      <th>month</th>\n",
       "      <th>day</th>\n",
       "    </tr>\n",
       "  </thead>\n",
       "  <tbody>\n",
       "    <tr>\n",
       "      <th>0</th>\n",
       "      <td>2015</td>\n",
       "      <td>2</td>\n",
       "      <td>4</td>\n",
       "    </tr>\n",
       "    <tr>\n",
       "      <th>1</th>\n",
       "      <td>2016</td>\n",
       "      <td>3</td>\n",
       "      <td>5</td>\n",
       "    </tr>\n",
       "  </tbody>\n",
       "</table>\n",
       "</div>"
      ],
      "text/plain": [
       "   year  month  day\n",
       "0  2015      2    4\n",
       "1  2016      3    5"
      ]
     },
     "execution_count": 19,
     "metadata": {},
     "output_type": "execute_result"
    }
   ],
   "source": [
    "df"
   ]
  },
  {
   "cell_type": "code",
   "execution_count": 20,
   "id": "448f7a1c-9529-411e-9666-9de72cf693d8",
   "metadata": {},
   "outputs": [
    {
     "data": {
      "text/plain": [
       "0   2015-02-04\n",
       "1   2016-03-05\n",
       "dtype: datetime64[ns]"
      ]
     },
     "execution_count": 20,
     "metadata": {},
     "output_type": "execute_result"
    }
   ],
   "source": [
    "pd.to_datetime(df)"
   ]
  },
  {
   "cell_type": "code",
   "execution_count": 25,
   "id": "6d7d9e13-df58-436d-8326-3d156cb775ed",
   "metadata": {},
   "outputs": [
    {
     "data": {
      "text/plain": [
       "<function datetime.today()>"
      ]
     },
     "execution_count": 25,
     "metadata": {},
     "output_type": "execute_result"
    }
   ],
   "source": [
    "now.today"
   ]
  },
  {
   "cell_type": "code",
   "execution_count": 26,
   "id": "b3c40a84-93e2-4806-92c9-d65994528898",
   "metadata": {},
   "outputs": [
    {
     "data": {
      "text/plain": [
       "datetime.datetime(2025, 6, 22, 13, 10, 18, 125002)"
      ]
     },
     "execution_count": 26,
     "metadata": {},
     "output_type": "execute_result"
    }
   ],
   "source": [
    "now"
   ]
  },
  {
   "cell_type": "code",
   "execution_count": 27,
   "id": "dfcab591-19b4-47b1-a589-2f7030455234",
   "metadata": {},
   "outputs": [
    {
     "data": {
      "text/plain": [
       "22"
      ]
     },
     "execution_count": 27,
     "metadata": {},
     "output_type": "execute_result"
    }
   ],
   "source": [
    "now.day"
   ]
  },
  {
   "cell_type": "code",
   "execution_count": 28,
   "id": "b468b45f-7b4b-451e-95bc-bd730347f0c3",
   "metadata": {},
   "outputs": [
    {
     "data": {
      "text/plain": [
       "13"
      ]
     },
     "execution_count": 28,
     "metadata": {},
     "output_type": "execute_result"
    }
   ],
   "source": [
    "now.hour"
   ]
  },
  {
   "cell_type": "code",
   "execution_count": 29,
   "id": "e4dc7ec3-d4ee-4697-916b-fb7d6af05541",
   "metadata": {},
   "outputs": [
    {
     "data": {
      "text/plain": [
       "datetime.datetime(1, 1, 1, 0, 0)"
      ]
     },
     "execution_count": 29,
     "metadata": {},
     "output_type": "execute_result"
    }
   ],
   "source": [
    "now.min"
   ]
  },
  {
   "cell_type": "code",
   "execution_count": 30,
   "id": "b792d08f-fb21-4bcf-8222-0a78ea521be9",
   "metadata": {},
   "outputs": [
    {
     "data": {
      "text/plain": [
       "10"
      ]
     },
     "execution_count": 30,
     "metadata": {},
     "output_type": "execute_result"
    }
   ],
   "source": [
    "now.minute"
   ]
  },
  {
   "cell_type": "code",
   "execution_count": 31,
   "id": "8f8b039d-3624-4b1d-b455-f20a5c87d4b8",
   "metadata": {},
   "outputs": [
    {
     "data": {
      "text/plain": [
       "18"
      ]
     },
     "execution_count": 31,
     "metadata": {},
     "output_type": "execute_result"
    }
   ],
   "source": [
    "now.second"
   ]
  },
  {
   "cell_type": "code",
   "execution_count": 32,
   "id": "9602b189-4f72-4c77-9af9-5a4d9eeaad7f",
   "metadata": {},
   "outputs": [
    {
     "data": {
      "text/plain": [
       "125002"
      ]
     },
     "execution_count": 32,
     "metadata": {},
     "output_type": "execute_result"
    }
   ],
   "source": [
    "now.microsecond"
   ]
  },
  {
   "cell_type": "code",
   "execution_count": 33,
   "id": "8d86845a-6a58-42ef-b63f-a709b02d15d1",
   "metadata": {},
   "outputs": [],
   "source": [
    "start = datetime(2011, 1, 7)"
   ]
  },
  {
   "cell_type": "code",
   "execution_count": 37,
   "id": "57df5c7d-2edc-4f94-8d75-c35077908d48",
   "metadata": {},
   "outputs": [],
   "source": [
    "end = datetime(2013, 4, 5, 15)"
   ]
  },
  {
   "cell_type": "code",
   "execution_count": 38,
   "id": "78ea49cb-6929-4811-9aab-f203af940573",
   "metadata": {},
   "outputs": [
    {
     "data": {
      "text/plain": [
       "datetime.timedelta(days=819, seconds=54000)"
      ]
     },
     "execution_count": 38,
     "metadata": {},
     "output_type": "execute_result"
    }
   ],
   "source": [
    "end - start"
   ]
  },
  {
   "cell_type": "code",
   "execution_count": 39,
   "id": "5c5f8d81-4b95-40a8-8a76-48c9f94be9f6",
   "metadata": {},
   "outputs": [
    {
     "data": {
      "text/plain": [
       "datetime.datetime(2011, 1, 7, 0, 0)"
      ]
     },
     "execution_count": 39,
     "metadata": {},
     "output_type": "execute_result"
    }
   ],
   "source": [
    "start"
   ]
  },
  {
   "cell_type": "code",
   "execution_count": 40,
   "id": "1c68883e-aae8-4389-a2ca-e3632f0066fe",
   "metadata": {},
   "outputs": [
    {
     "data": {
      "text/plain": [
       "datetime.datetime(2013, 4, 5, 15, 0)"
      ]
     },
     "execution_count": 40,
     "metadata": {},
     "output_type": "execute_result"
    }
   ],
   "source": [
    "end"
   ]
  },
  {
   "cell_type": "code",
   "execution_count": 41,
   "id": "4e962708-1843-4251-91fb-a83935ff3c43",
   "metadata": {},
   "outputs": [],
   "source": [
    "from datetime import timedelta"
   ]
  },
  {
   "cell_type": "code",
   "execution_count": 42,
   "id": "e2c66a97-818f-48ed-965a-698b1dcf8e53",
   "metadata": {},
   "outputs": [
    {
     "data": {
      "text/plain": [
       "datetime.datetime(2011, 1, 19, 0, 0)"
      ]
     },
     "execution_count": 42,
     "metadata": {},
     "output_type": "execute_result"
    }
   ],
   "source": [
    "start+ timedelta(12)"
   ]
  },
  {
   "cell_type": "code",
   "execution_count": 43,
   "id": "6a9262df-93d6-4c53-80e3-d42b27933e55",
   "metadata": {},
   "outputs": [
    {
     "data": {
      "text/plain": [
       "datetime.datetime(2011, 1, 7, 0, 0)"
      ]
     },
     "execution_count": 43,
     "metadata": {},
     "output_type": "execute_result"
    }
   ],
   "source": [
    "start"
   ]
  },
  {
   "cell_type": "code",
   "execution_count": 44,
   "id": "83dbbc32-b55a-4ff1-883e-b7d6561d3228",
   "metadata": {},
   "outputs": [
    {
     "data": {
      "text/plain": [
       "'2011-01-07 00:00:00'"
      ]
     },
     "execution_count": 44,
     "metadata": {},
     "output_type": "execute_result"
    }
   ],
   "source": [
    "str(start)"
   ]
  },
  {
   "cell_type": "code",
   "execution_count": 45,
   "id": "53278a1c-ee4f-4b0d-a842-2dbefa3c69b0",
   "metadata": {},
   "outputs": [
    {
     "data": {
      "text/plain": [
       "'2011-01-07'"
      ]
     },
     "execution_count": 45,
     "metadata": {},
     "output_type": "execute_result"
    }
   ],
   "source": [
    "start.strftime('%Y-%m-%d')"
   ]
  },
  {
   "cell_type": "code",
   "execution_count": 46,
   "id": "4ae62e13-932b-489a-bb54-0dea4e5496d8",
   "metadata": {},
   "outputs": [
    {
     "data": {
      "text/plain": [
       "datetime.datetime(2011, 1, 7, 0, 0)"
      ]
     },
     "execution_count": 46,
     "metadata": {},
     "output_type": "execute_result"
    }
   ],
   "source": [
    "datetime.strptime(start.strftime('%Y-%m-%d'), '%Y-%m-%d')"
   ]
  },
  {
   "cell_type": "code",
   "execution_count": 47,
   "id": "85135c15-eca5-4a4a-ad70-e30e2b4d1323",
   "metadata": {},
   "outputs": [],
   "source": [
    "from dateutil.parser import parse"
   ]
  },
  {
   "cell_type": "code",
   "execution_count": 48,
   "id": "2cd629dc-438f-4d36-8ab9-19a272c3854a",
   "metadata": {},
   "outputs": [
    {
     "data": {
      "text/plain": [
       "datetime.datetime(2011, 1, 3, 0, 0)"
      ]
     },
     "execution_count": 48,
     "metadata": {},
     "output_type": "execute_result"
    }
   ],
   "source": [
    "parse('2011-01-03')"
   ]
  },
  {
   "cell_type": "code",
   "execution_count": 49,
   "id": "cce3f565-38cf-4a99-aa42-363e10b9e55e",
   "metadata": {},
   "outputs": [
    {
     "data": {
      "text/plain": [
       "Timestamp('2011-01-03 00:00:00')"
      ]
     },
     "execution_count": 49,
     "metadata": {},
     "output_type": "execute_result"
    }
   ],
   "source": [
    "pd.to_datetime('2011-01-03')"
   ]
  },
  {
   "cell_type": "code",
   "execution_count": 51,
   "id": "5d117fd6-f7fd-494f-8663-7b391237e655",
   "metadata": {},
   "outputs": [
    {
     "data": {
      "text/plain": [
       "DatetimeIndex(['2001-01-01', '2001-01-02', '2001-01-03', '2001-01-04',\n",
       "               '2001-01-05', '2001-01-06', '2001-01-07', '2001-01-08',\n",
       "               '2001-01-09', '2001-01-10'],\n",
       "              dtype='datetime64[ns]', freq='D')"
      ]
     },
     "execution_count": 51,
     "metadata": {},
     "output_type": "execute_result"
    }
   ],
   "source": [
    "pd.date_range('2001-01-01', '2001-01-10')"
   ]
  },
  {
   "cell_type": "code",
   "execution_count": 52,
   "id": "3729ad86-7500-4377-951c-5fb11b4d4403",
   "metadata": {},
   "outputs": [
    {
     "data": {
      "text/plain": [
       "DatetimeIndex(['2001-01-01', '2001-01-02', '2001-01-03', '2001-01-04',\n",
       "               '2001-01-05', '2001-01-06', '2001-01-07', '2001-01-08',\n",
       "               '2001-01-09', '2001-01-10'],\n",
       "              dtype='datetime64[ns]', freq='D')"
      ]
     },
     "execution_count": 52,
     "metadata": {},
     "output_type": "execute_result"
    }
   ],
   "source": [
    "pd.date_range('2001-01-01', periods = 10)"
   ]
  },
  {
   "cell_type": "code",
   "execution_count": 57,
   "id": "b11a6677-fcd8-4f4c-bdfa-5633f22f7460",
   "metadata": {},
   "outputs": [
    {
     "data": {
      "text/plain": [
       "DatetimeIndex(['2001-01-31', '2001-02-28', '2001-03-30', '2001-04-30',\n",
       "               '2001-05-31', '2001-06-29', '2001-07-31', '2001-08-31',\n",
       "               '2001-09-28', '2001-10-31'],\n",
       "              dtype='datetime64[ns]', freq='BME')"
      ]
     },
     "execution_count": 57,
     "metadata": {},
     "output_type": "execute_result"
    }
   ],
   "source": [
    "pd.date_range('2001-01-01', periods = 10, freq = 'BME')"
   ]
  },
  {
   "cell_type": "code",
   "execution_count": 80,
   "id": "cd23b107-18ed-4f36-9cfb-c15f7d30fb16",
   "metadata": {},
   "outputs": [
    {
     "data": {
      "text/plain": [
       "DatetimeIndex(['2001-01-01', '2002-01-01', '2003-01-01', '2004-01-01',\n",
       "               '2005-01-01', '2006-01-01', '2007-01-01', '2008-01-01',\n",
       "               '2009-01-01', '2010-01-01'],\n",
       "              dtype='datetime64[ns]', freq='YS-JAN')"
      ]
     },
     "execution_count": 80,
     "metadata": {},
     "output_type": "execute_result"
    }
   ],
   "source": [
    "pd.date_range('2001-01-01', periods = 10, freq = 'YS')"
   ]
  },
  {
   "cell_type": "code",
   "execution_count": 83,
   "id": "907d56df-5090-499d-8061-53d6ac9d6290",
   "metadata": {},
   "outputs": [
    {
     "data": {
      "text/plain": [
       "DatetimeIndex(['2001-01-01 00:00:00', '2001-01-01 04:10:00',\n",
       "               '2001-01-01 08:20:00', '2001-01-01 12:30:00',\n",
       "               '2001-01-01 16:40:00', '2001-01-01 20:50:00',\n",
       "               '2001-01-02 01:00:00', '2001-01-02 05:10:00',\n",
       "               '2001-01-02 09:20:00', '2001-01-02 13:30:00'],\n",
       "              dtype='datetime64[ns]', freq='250min')"
      ]
     },
     "execution_count": 83,
     "metadata": {},
     "output_type": "execute_result"
    }
   ],
   "source": [
    "pd.date_range('2001-01-01', periods = 10, freq = '4h10min')"
   ]
  },
  {
   "cell_type": "code",
   "execution_count": 84,
   "id": "edf1cf41-d701-4a58-b28b-0604e7de46e7",
   "metadata": {},
   "outputs": [
    {
     "data": {
      "text/plain": [
       "DatetimeIndex(['2001-01-19', '2001-02-16', '2001-03-16', '2001-04-20',\n",
       "               '2001-05-18', '2001-06-15', '2001-07-20', '2001-08-17',\n",
       "               '2001-09-21', '2001-10-19'],\n",
       "              dtype='datetime64[ns]', freq='WOM-3FRI')"
      ]
     },
     "execution_count": 84,
     "metadata": {},
     "output_type": "execute_result"
    }
   ],
   "source": [
    "pd.date_range('2001-01-01', periods = 10, freq = 'WOM-3FRI')"
   ]
  },
  {
   "cell_type": "code",
   "execution_count": 85,
   "id": "2e64ef72-780b-4eef-a987-32093e12c031",
   "metadata": {},
   "outputs": [],
   "source": [
    "df = pd.date_range('2001-01-01', periods = 10, freq = 'YS')"
   ]
  },
  {
   "cell_type": "code",
   "execution_count": 86,
   "id": "d22dee61-df26-409d-b5dc-b52629735d4b",
   "metadata": {},
   "outputs": [
    {
     "data": {
      "text/plain": [
       "DatetimeIndex(['2001-01-01', '2002-01-01', '2003-01-01', '2004-01-01',\n",
       "               '2005-01-01', '2006-01-01', '2007-01-01', '2008-01-01',\n",
       "               '2009-01-01', '2010-01-01'],\n",
       "              dtype='datetime64[ns]', freq='YS-JAN')"
      ]
     },
     "execution_count": 86,
     "metadata": {},
     "output_type": "execute_result"
    }
   ],
   "source": [
    "df"
   ]
  },
  {
   "cell_type": "code",
   "execution_count": 92,
   "id": "0393e45c-9a0b-4773-8ad1-f57ed3c1379b",
   "metadata": {},
   "outputs": [],
   "source": [
    "df = pd.Series(np.random.randint(0, 7, 10), index = pd.date_range('2000/01/01', periods = 10, freq = 'ME'))"
   ]
  },
  {
   "cell_type": "code",
   "execution_count": 93,
   "id": "7a4ea5ba-c9bd-4044-a989-5cb51ac8481e",
   "metadata": {},
   "outputs": [
    {
     "data": {
      "text/plain": [
       "2000-01-31    1\n",
       "2000-02-29    4\n",
       "2000-03-31    3\n",
       "2000-04-30    5\n",
       "2000-05-31    4\n",
       "2000-06-30    5\n",
       "2000-07-31    3\n",
       "2000-08-31    1\n",
       "2000-09-30    0\n",
       "2000-10-31    1\n",
       "Freq: ME, dtype: int32"
      ]
     },
     "execution_count": 93,
     "metadata": {},
     "output_type": "execute_result"
    }
   ],
   "source": [
    "df"
   ]
  },
  {
   "cell_type": "code",
   "execution_count": 94,
   "id": "60306f95-fe71-424b-9887-fe3ca91efb64",
   "metadata": {},
   "outputs": [
    {
     "data": {
      "text/plain": [
       "2000-01-31    NaN\n",
       "2000-02-29    NaN\n",
       "2000-03-31    NaN\n",
       "2000-04-30    1.0\n",
       "2000-05-31    4.0\n",
       "2000-06-30    3.0\n",
       "2000-07-31    5.0\n",
       "2000-08-31    4.0\n",
       "2000-09-30    5.0\n",
       "2000-10-31    3.0\n",
       "Freq: ME, dtype: float64"
      ]
     },
     "execution_count": 94,
     "metadata": {},
     "output_type": "execute_result"
    }
   ],
   "source": [
    "df.shift(3)"
   ]
  },
  {
   "cell_type": "code",
   "execution_count": 95,
   "id": "9d254853-6ff8-4a15-a4d1-0f8a0e95e435",
   "metadata": {},
   "outputs": [
    {
     "data": {
      "text/plain": [
       "2000-01-31    1\n",
       "2000-02-29    4\n",
       "2000-03-31    3\n",
       "2000-04-30    5\n",
       "2000-05-31    4\n",
       "2000-06-30    5\n",
       "2000-07-31    3\n",
       "2000-08-31    1\n",
       "2000-09-30    0\n",
       "2000-10-31    1\n",
       "Freq: ME, dtype: int32"
      ]
     },
     "execution_count": 95,
     "metadata": {},
     "output_type": "execute_result"
    }
   ],
   "source": [
    "df"
   ]
  },
  {
   "cell_type": "code",
   "execution_count": 96,
   "id": "4404d8cf-1887-40e8-9f3c-8444ca9953bb",
   "metadata": {},
   "outputs": [
    {
     "data": {
      "text/plain": [
       "2000-01-31         NaN\n",
       "2000-02-29    3.000000\n",
       "2000-03-31   -0.250000\n",
       "2000-04-30    0.666667\n",
       "2000-05-31   -0.200000\n",
       "2000-06-30    0.250000\n",
       "2000-07-31   -0.400000\n",
       "2000-08-31   -0.666667\n",
       "2000-09-30   -1.000000\n",
       "2000-10-31         inf\n",
       "Freq: ME, dtype: float64"
      ]
     },
     "execution_count": 96,
     "metadata": {},
     "output_type": "execute_result"
    }
   ],
   "source": [
    "df/df.shift(1)-1"
   ]
  },
  {
   "cell_type": "markdown",
   "id": "2d20ca68-a1b9-41eb-b15b-fde522887c7a",
   "metadata": {},
   "source": [
    "df"
   ]
  },
  {
   "cell_type": "code",
   "execution_count": 98,
   "id": "ac8ec7d9-d325-4b75-85ff-6ae7e2a1e682",
   "metadata": {},
   "outputs": [
    {
     "data": {
      "text/plain": [
       "2000-01-31    NaN\n",
       "2000-02-29    NaN\n",
       "2000-03-31    NaN\n",
       "2000-04-30    1.0\n",
       "2000-05-31    4.0\n",
       "2000-06-30    3.0\n",
       "2000-07-31    5.0\n",
       "2000-08-31    4.0\n",
       "2000-09-30    5.0\n",
       "2000-10-31    3.0\n",
       "Freq: ME, dtype: float64"
      ]
     },
     "execution_count": 98,
     "metadata": {},
     "output_type": "execute_result"
    }
   ],
   "source": [
    "df.shift(3)"
   ]
  },
  {
   "cell_type": "code",
   "execution_count": 100,
   "id": "fd2ea35c-a149-48e5-9ef0-ad7739efa761",
   "metadata": {},
   "outputs": [
    {
     "data": {
      "text/plain": [
       "2000-04-30    1\n",
       "2000-05-31    4\n",
       "2000-06-30    3\n",
       "2000-07-31    5\n",
       "2000-08-31    4\n",
       "2000-09-30    5\n",
       "2000-10-31    3\n",
       "2000-11-30    1\n",
       "2000-12-31    0\n",
       "2001-01-31    1\n",
       "Freq: ME, dtype: int32"
      ]
     },
     "execution_count": 100,
     "metadata": {},
     "output_type": "execute_result"
    }
   ],
   "source": [
    "df.shift(3, freq = 'ME')"
   ]
  },
  {
   "cell_type": "code",
   "execution_count": 101,
   "id": "ecc627f0-c3e3-4fba-b3cf-c1cd696357d2",
   "metadata": {},
   "outputs": [
    {
     "data": {
      "text/plain": [
       "2000-02-03    1\n",
       "2000-03-03    4\n",
       "2000-04-03    3\n",
       "2000-05-03    5\n",
       "2000-06-03    4\n",
       "2000-07-03    5\n",
       "2000-08-03    3\n",
       "2000-09-03    1\n",
       "2000-10-03    0\n",
       "2000-11-03    1\n",
       "dtype: int32"
      ]
     },
     "execution_count": 101,
     "metadata": {},
     "output_type": "execute_result"
    }
   ],
   "source": [
    "df.shift(3, freq = 'D')"
   ]
  },
  {
   "cell_type": "markdown",
   "id": "695dc3df-d943-49b5-b1a6-9272d8e40053",
   "metadata": {},
   "source": [
    "### TIME ZONE HANDLING"
   ]
  },
  {
   "cell_type": "markdown",
   "id": "8e5f3741-15c6-44fe-98d5-c1cb01c062af",
   "metadata": {},
   "source": [
    "Generally, many time series users choose to work with time series in the coordinated universal time or UTC, which is the successor to the Greenwich Mean Time and is the current international standard. Time zones are expressed as offsets from UTC;\n",
    "\n",
    "For example, New York is four hours behind UTC during daylight saving time and five hours behind the rest of the year.\n",
    "\n",
    "\n",
    "In Python, time zone information comes from the third-party pytz library, which exposes the Olson database, a compilation of the world time zone information."
   ]
  },
  {
   "cell_type": "code",
   "execution_count": 103,
   "id": "576a9bad-a9ff-4248-9e7a-5487faeaf7a1",
   "metadata": {},
   "outputs": [],
   "source": [
    "import pytz"
   ]
  },
  {
   "cell_type": "code",
   "execution_count": 125,
   "id": "7edb3328-9133-414a-9bbd-70f8d274cc8c",
   "metadata": {},
   "outputs": [
    {
     "data": {
      "text/plain": [
       "['US/Eastern', 'US/Hawaii', 'US/Mountain', 'US/Pacific', 'UTC']"
      ]
     },
     "execution_count": 125,
     "metadata": {},
     "output_type": "execute_result"
    }
   ],
   "source": [
    "pytz.common_timezones[-5:]"
   ]
  },
  {
   "cell_type": "code",
   "execution_count": 105,
   "id": "5afb4074-cbc4-428f-b0fe-05e0fd025d06",
   "metadata": {},
   "outputs": [],
   "source": [
    "rng = pd.date_range('3/9/2012 9:30', periods = 6, freq='D')"
   ]
  },
  {
   "cell_type": "code",
   "execution_count": 106,
   "id": "4e58da4d-ebd7-4181-80b1-4d79e19a391c",
   "metadata": {},
   "outputs": [
    {
     "data": {
      "text/plain": [
       "DatetimeIndex(['2012-03-09 09:30:00', '2012-03-10 09:30:00',\n",
       "               '2012-03-11 09:30:00', '2012-03-12 09:30:00',\n",
       "               '2012-03-13 09:30:00', '2012-03-14 09:30:00'],\n",
       "              dtype='datetime64[ns]', freq='D')"
      ]
     },
     "execution_count": 106,
     "metadata": {},
     "output_type": "execute_result"
    }
   ],
   "source": [
    "rng"
   ]
  },
  {
   "cell_type": "code",
   "execution_count": 108,
   "id": "888cffd0-76e8-4116-954f-fbda49b9ecd0",
   "metadata": {},
   "outputs": [
    {
     "name": "stdout",
     "output_type": "stream",
     "text": [
      "None\n"
     ]
    }
   ],
   "source": [
    "print(rng.tz)"
   ]
  },
  {
   "cell_type": "code",
   "execution_count": 112,
   "id": "34fbb66b-caed-47bc-8fd0-e4604eb53c47",
   "metadata": {},
   "outputs": [],
   "source": [
    "rng = rng.tz_localize('UTC')"
   ]
  },
  {
   "cell_type": "code",
   "execution_count": 113,
   "id": "8b39ab96-f97a-408a-b3fe-a6d2289d6f89",
   "metadata": {},
   "outputs": [
    {
     "name": "stdout",
     "output_type": "stream",
     "text": [
      "UTC\n"
     ]
    }
   ],
   "source": [
    "print(rng.tz)"
   ]
  },
  {
   "cell_type": "code",
   "execution_count": 114,
   "id": "e6e9391e-28e2-4c2b-980f-911fafbe8cb6",
   "metadata": {},
   "outputs": [
    {
     "data": {
      "text/plain": [
       "DatetimeIndex(['2012-03-09 09:30:00+00:00', '2012-03-10 09:30:00+00:00',\n",
       "               '2012-03-11 09:30:00+00:00', '2012-03-12 09:30:00+00:00',\n",
       "               '2012-03-13 09:30:00+00:00', '2012-03-14 09:30:00+00:00'],\n",
       "              dtype='datetime64[ns, UTC]', freq='D')"
      ]
     },
     "execution_count": 114,
     "metadata": {},
     "output_type": "execute_result"
    }
   ],
   "source": [
    "rng"
   ]
  },
  {
   "cell_type": "code",
   "execution_count": 120,
   "id": "4e08b400-e0c8-46ba-b009-f3e4d59c8f36",
   "metadata": {},
   "outputs": [],
   "source": [
    "rng = rng.tz_convert('America/New_York')"
   ]
  },
  {
   "cell_type": "code",
   "execution_count": 121,
   "id": "e6c609af-9be3-4894-b99a-fb01fecd0331",
   "metadata": {},
   "outputs": [
    {
     "data": {
      "text/plain": [
       "<DstTzInfo 'America/New_York' LMT-1 day, 19:04:00 STD>"
      ]
     },
     "execution_count": 121,
     "metadata": {},
     "output_type": "execute_result"
    }
   ],
   "source": [
    "rng.tz"
   ]
  },
  {
   "cell_type": "code",
   "execution_count": 122,
   "id": "1950c35c-76ac-43e4-90a1-887861f57f0d",
   "metadata": {},
   "outputs": [
    {
     "data": {
      "text/plain": [
       "DatetimeIndex(['2012-03-09 04:30:00-05:00', '2012-03-10 04:30:00-05:00',\n",
       "               '2012-03-11 05:30:00-04:00', '2012-03-12 05:30:00-04:00',\n",
       "               '2012-03-13 05:30:00-04:00', '2012-03-14 05:30:00-04:00'],\n",
       "              dtype='datetime64[ns, America/New_York]', freq='D')"
      ]
     },
     "execution_count": 122,
     "metadata": {},
     "output_type": "execute_result"
    }
   ],
   "source": [
    "rng"
   ]
  },
  {
   "cell_type": "code",
   "execution_count": 139,
   "id": "7dedfae4-0318-4960-8b08-05f858b513eb",
   "metadata": {},
   "outputs": [],
   "source": [
    "rng = pd.date_range('3/7/2012 9:30', periods = 10, freq = 'B')"
   ]
  },
  {
   "cell_type": "code",
   "execution_count": 140,
   "id": "2b68a566-ea25-419f-a663-bcde871cee45",
   "metadata": {},
   "outputs": [
    {
     "data": {
      "text/plain": [
       "DatetimeIndex(['2012-03-07 09:30:00', '2012-03-08 09:30:00',\n",
       "               '2012-03-09 09:30:00', '2012-03-12 09:30:00',\n",
       "               '2012-03-13 09:30:00', '2012-03-14 09:30:00',\n",
       "               '2012-03-15 09:30:00', '2012-03-16 09:30:00',\n",
       "               '2012-03-19 09:30:00', '2012-03-20 09:30:00'],\n",
       "              dtype='datetime64[ns]', freq='B')"
      ]
     },
     "execution_count": 140,
     "metadata": {},
     "output_type": "execute_result"
    }
   ],
   "source": [
    "rng"
   ]
  },
  {
   "cell_type": "code",
   "execution_count": 127,
   "id": "51ea98c6-e87c-410d-9acc-9460fdc43498",
   "metadata": {},
   "outputs": [],
   "source": [
    "ts = pd.Series(np.random.randn(len(rng)), index = rng)"
   ]
  },
  {
   "cell_type": "code",
   "execution_count": 128,
   "id": "534d37c2-4d47-42b9-bd1c-632460a230e1",
   "metadata": {},
   "outputs": [
    {
     "data": {
      "text/plain": [
       "2012-03-07 09:30:00   -0.321751\n",
       "2012-03-08 09:30:00   -0.641421\n",
       "2012-03-09 09:30:00    0.108303\n",
       "2012-03-12 09:30:00    0.578943\n",
       "2012-03-13 09:30:00    0.085149\n",
       "2012-03-14 09:30:00   -0.475363\n",
       "2012-03-15 09:30:00   -0.058874\n",
       "2012-03-16 09:30:00    0.295707\n",
       "2012-03-19 09:30:00   -1.009765\n",
       "2012-03-20 09:30:00   -1.396530\n",
       "Freq: B, dtype: float64"
      ]
     },
     "execution_count": 128,
     "metadata": {},
     "output_type": "execute_result"
    }
   ],
   "source": [
    "ts"
   ]
  },
  {
   "cell_type": "code",
   "execution_count": 129,
   "id": "8a3434e2-4d9e-44f3-a091-2ad1ea2a94b8",
   "metadata": {},
   "outputs": [],
   "source": [
    "ts1 = ts[:7].tz_localize('Europe/London')"
   ]
  },
  {
   "cell_type": "code",
   "execution_count": 130,
   "id": "1b51ca3a-840a-4f7e-8c29-90c459fb9fd5",
   "metadata": {},
   "outputs": [],
   "source": [
    "ts2 = ts1[2:].tz_convert('Europe/Moscow')"
   ]
  },
  {
   "cell_type": "code",
   "execution_count": 131,
   "id": "67197a06-ee89-43ac-a9ef-4a9a6783bf87",
   "metadata": {},
   "outputs": [
    {
     "data": {
      "text/plain": [
       "2012-03-07 09:30:00+00:00   -0.321751\n",
       "2012-03-08 09:30:00+00:00   -0.641421\n",
       "2012-03-09 09:30:00+00:00    0.108303\n",
       "2012-03-12 09:30:00+00:00    0.578943\n",
       "2012-03-13 09:30:00+00:00    0.085149\n",
       "2012-03-14 09:30:00+00:00   -0.475363\n",
       "2012-03-15 09:30:00+00:00   -0.058874\n",
       "dtype: float64"
      ]
     },
     "execution_count": 131,
     "metadata": {},
     "output_type": "execute_result"
    }
   ],
   "source": [
    "ts1"
   ]
  },
  {
   "cell_type": "code",
   "execution_count": 132,
   "id": "3687a8f4-5229-4192-84f9-3f161e8c5e4c",
   "metadata": {},
   "outputs": [
    {
     "data": {
      "text/plain": [
       "2012-03-09 13:30:00+04:00    0.108303\n",
       "2012-03-12 13:30:00+04:00    0.578943\n",
       "2012-03-13 13:30:00+04:00    0.085149\n",
       "2012-03-14 13:30:00+04:00   -0.475363\n",
       "2012-03-15 13:30:00+04:00   -0.058874\n",
       "dtype: float64"
      ]
     },
     "execution_count": 132,
     "metadata": {},
     "output_type": "execute_result"
    }
   ],
   "source": [
    "ts2"
   ]
  },
  {
   "cell_type": "code",
   "execution_count": 133,
   "id": "45d31750-dbe5-4381-99c4-5e438ead27a1",
   "metadata": {},
   "outputs": [],
   "source": [
    "result = ts1+ts2"
   ]
  },
  {
   "cell_type": "code",
   "execution_count": 134,
   "id": "2d065dba-6e65-4a3b-a2fd-fc9596a3fba5",
   "metadata": {},
   "outputs": [
    {
     "data": {
      "text/plain": [
       "2012-03-07 09:30:00+00:00         NaN\n",
       "2012-03-08 09:30:00+00:00         NaN\n",
       "2012-03-09 09:30:00+00:00    0.216605\n",
       "2012-03-12 09:30:00+00:00    1.157885\n",
       "2012-03-13 09:30:00+00:00    0.170298\n",
       "2012-03-14 09:30:00+00:00   -0.950726\n",
       "2012-03-15 09:30:00+00:00   -0.117749\n",
       "dtype: float64"
      ]
     },
     "execution_count": 134,
     "metadata": {},
     "output_type": "execute_result"
    }
   ],
   "source": [
    "result"
   ]
  },
  {
   "cell_type": "code",
   "execution_count": 135,
   "id": "df6616c1-391a-4937-bb4f-44c078a64ebd",
   "metadata": {},
   "outputs": [
    {
     "data": {
      "text/plain": [
       "DatetimeIndex(['2012-03-07 09:30:00+00:00', '2012-03-08 09:30:00+00:00',\n",
       "               '2012-03-09 09:30:00+00:00', '2012-03-12 09:30:00+00:00',\n",
       "               '2012-03-13 09:30:00+00:00', '2012-03-14 09:30:00+00:00',\n",
       "               '2012-03-15 09:30:00+00:00'],\n",
       "              dtype='datetime64[ns, UTC]', freq=None)"
      ]
     },
     "execution_count": 135,
     "metadata": {},
     "output_type": "execute_result"
    }
   ],
   "source": [
    "result.index"
   ]
  },
  {
   "cell_type": "code",
   "execution_count": 155,
   "id": "73c7d8aa-c482-4ab5-a102-16ba51b0872b",
   "metadata": {},
   "outputs": [],
   "source": [
    "rng = pd.date_range('2001-01', '2001-06', freq = 'ME')"
   ]
  },
  {
   "cell_type": "code",
   "execution_count": 156,
   "id": "8716b295-9b89-408e-afb9-a29e58ff1301",
   "metadata": {},
   "outputs": [
    {
     "data": {
      "text/plain": [
       "DatetimeIndex(['2001-01-31', '2001-02-28', '2001-03-31', '2001-04-30',\n",
       "               '2001-05-31'],\n",
       "              dtype='datetime64[ns]', freq='ME')"
      ]
     },
     "execution_count": 156,
     "metadata": {},
     "output_type": "execute_result"
    }
   ],
   "source": [
    "rng"
   ]
  },
  {
   "cell_type": "code",
   "execution_count": 157,
   "id": "e78a3e5d-f8d0-4949-a5df-50c45a7c8f56",
   "metadata": {},
   "outputs": [
    {
     "data": {
      "text/plain": [
       "datetime.datetime(2025, 6, 22, 18, 23, 52, 883678)"
      ]
     },
     "execution_count": 157,
     "metadata": {},
     "output_type": "execute_result"
    }
   ],
   "source": [
    "datetime.now()"
   ]
  },
  {
   "cell_type": "code",
   "execution_count": 159,
   "id": "17d39b8e-e05a-4572-8323-c0954fbcc646",
   "metadata": {},
   "outputs": [],
   "source": [
    "p = pd.Period(2007, freq = 'Y-DEC')"
   ]
  },
  {
   "cell_type": "code",
   "execution_count": 160,
   "id": "084e1959-649a-4913-b29b-8229b4244339",
   "metadata": {},
   "outputs": [
    {
     "data": {
      "text/plain": [
       "Period('2007', 'Y-DEC')"
      ]
     },
     "execution_count": 160,
     "metadata": {},
     "output_type": "execute_result"
    }
   ],
   "source": [
    "p"
   ]
  },
  {
   "cell_type": "code",
   "execution_count": 161,
   "id": "0f606179-a4bd-4486-a1c4-3fef1ed6ff5c",
   "metadata": {},
   "outputs": [],
   "source": [
    "rng = pd.period_range('2001-01-01', '2001-06-30', freq = 'M')"
   ]
  },
  {
   "cell_type": "code",
   "execution_count": 162,
   "id": "b818a858-0c1b-4299-8b99-2dde0ac8829e",
   "metadata": {},
   "outputs": [
    {
     "data": {
      "text/plain": [
       "PeriodIndex(['2001-01', '2001-02', '2001-03', '2001-04', '2001-05', '2001-06'], dtype='period[M]')"
      ]
     },
     "execution_count": 162,
     "metadata": {},
     "output_type": "execute_result"
    }
   ],
   "source": [
    "rng"
   ]
  },
  {
   "cell_type": "code",
   "execution_count": 163,
   "id": "9d5c8657-286a-48f2-8a37-28e270a5d447",
   "metadata": {},
   "outputs": [
    {
     "data": {
      "text/plain": [
       "2001-01   -1.291394\n",
       "2001-02    2.454781\n",
       "2001-03    1.302046\n",
       "2001-04   -1.086945\n",
       "2001-05    0.229513\n",
       "2001-06    2.152391\n",
       "Freq: M, dtype: float64"
      ]
     },
     "execution_count": 163,
     "metadata": {},
     "output_type": "execute_result"
    }
   ],
   "source": [
    "pd.Series(np.random.randn(6), index = rng)"
   ]
  },
  {
   "cell_type": "code",
   "execution_count": 164,
   "id": "bf29ab68-b0df-4547-8057-9f25a42e46fa",
   "metadata": {},
   "outputs": [],
   "source": [
    "p = pd.Period('2007', freq = 'Y-JUN')"
   ]
  },
  {
   "cell_type": "code",
   "execution_count": 165,
   "id": "dde3991d-ff31-4f9a-a109-e1541e157d19",
   "metadata": {},
   "outputs": [
    {
     "data": {
      "text/plain": [
       "Period('2007', 'Y-JUN')"
      ]
     },
     "execution_count": 165,
     "metadata": {},
     "output_type": "execute_result"
    }
   ],
   "source": [
    "p"
   ]
  },
  {
   "cell_type": "code",
   "execution_count": 167,
   "id": "59fc5009-7269-48c2-a0b2-76b92e120ed3",
   "metadata": {},
   "outputs": [
    {
     "data": {
      "text/plain": [
       "Period('2006-07', 'M')"
      ]
     },
     "execution_count": 167,
     "metadata": {},
     "output_type": "execute_result"
    }
   ],
   "source": [
    "p.asfreq('M', 'start')"
   ]
  },
  {
   "cell_type": "code",
   "execution_count": 168,
   "id": "bb050ada-f165-44aa-8a37-1fe6718d0f17",
   "metadata": {},
   "outputs": [
    {
     "data": {
      "text/plain": [
       "Period('2007-06', 'M')"
      ]
     },
     "execution_count": 168,
     "metadata": {},
     "output_type": "execute_result"
    }
   ],
   "source": [
    "p.asfreq('M', 'end')"
   ]
  },
  {
   "cell_type": "code",
   "execution_count": 171,
   "id": "51b1c5fb-d4d3-45db-ab07-40829854c334",
   "metadata": {},
   "outputs": [],
   "source": [
    "rng = pd.period_range('2006', '2009', freq='Y-DEC')\n",
    "ts = pd.Series(np.random.randn(len(rng)), index=rng)"
   ]
  },
  {
   "cell_type": "code",
   "execution_count": 172,
   "id": "6c422cfa-4226-44e9-875e-d2b887e03982",
   "metadata": {},
   "outputs": [
    {
     "data": {
      "text/plain": [
       "PeriodIndex(['2006', '2007', '2008', '2009'], dtype='period[Y-DEC]')"
      ]
     },
     "execution_count": 172,
     "metadata": {},
     "output_type": "execute_result"
    }
   ],
   "source": [
    "rng"
   ]
  },
  {
   "cell_type": "code",
   "execution_count": 173,
   "id": "a893499d-36b5-4c32-b732-ced6b49c1e93",
   "metadata": {},
   "outputs": [
    {
     "data": {
      "text/plain": [
       "2006   -0.131543\n",
       "2007    0.242537\n",
       "2008   -0.406273\n",
       "2009   -1.474914\n",
       "Freq: Y-DEC, dtype: float64"
      ]
     },
     "execution_count": 173,
     "metadata": {},
     "output_type": "execute_result"
    }
   ],
   "source": [
    "ts"
   ]
  },
  {
   "cell_type": "code",
   "execution_count": 174,
   "id": "881c2db7-9478-42d5-9956-b76e567cd951",
   "metadata": {},
   "outputs": [
    {
     "data": {
      "text/plain": [
       "2006-01   -0.131543\n",
       "2007-01    0.242537\n",
       "2008-01   -0.406273\n",
       "2009-01   -1.474914\n",
       "Freq: M, dtype: float64"
      ]
     },
     "execution_count": 174,
     "metadata": {},
     "output_type": "execute_result"
    }
   ],
   "source": [
    "ts.asfreq('M', how = 'start')"
   ]
  },
  {
   "cell_type": "code",
   "execution_count": 175,
   "id": "e61c9af7-5f94-4844-8c14-9809dbf47532",
   "metadata": {},
   "outputs": [],
   "source": [
    "rng = pd.date_range('3/9/2012 9:30', periods=6, freq='D')\n",
    "ts = pd.Series(rng, index=np.arange(0, 6))"
   ]
  },
  {
   "cell_type": "code",
   "execution_count": 176,
   "id": "a6a5e882-468d-4121-9660-7c67904953a9",
   "metadata": {},
   "outputs": [
    {
     "data": {
      "text/plain": [
       "DatetimeIndex(['2012-03-09 09:30:00', '2012-03-10 09:30:00',\n",
       "               '2012-03-11 09:30:00', '2012-03-12 09:30:00',\n",
       "               '2012-03-13 09:30:00', '2012-03-14 09:30:00'],\n",
       "              dtype='datetime64[ns]', freq='D')"
      ]
     },
     "execution_count": 176,
     "metadata": {},
     "output_type": "execute_result"
    }
   ],
   "source": [
    "rng"
   ]
  },
  {
   "cell_type": "code",
   "execution_count": 177,
   "id": "168257a9-190e-444c-9fd7-5029b4571fff",
   "metadata": {},
   "outputs": [
    {
     "data": {
      "text/plain": [
       "0   2012-03-09 09:30:00\n",
       "1   2012-03-10 09:30:00\n",
       "2   2012-03-11 09:30:00\n",
       "3   2012-03-12 09:30:00\n",
       "4   2012-03-13 09:30:00\n",
       "5   2012-03-14 09:30:00\n",
       "dtype: datetime64[ns]"
      ]
     },
     "execution_count": 177,
     "metadata": {},
     "output_type": "execute_result"
    }
   ],
   "source": [
    "ts"
   ]
  },
  {
   "cell_type": "code",
   "execution_count": 178,
   "id": "37ca3088-01e2-4304-bf1e-5cc5f68abbbf",
   "metadata": {},
   "outputs": [
    {
     "data": {
      "text/plain": [
       "Index([0, 1, 2, 3, 4, 5], dtype='int64')"
      ]
     },
     "execution_count": 178,
     "metadata": {},
     "output_type": "execute_result"
    }
   ],
   "source": [
    "ts.index"
   ]
  },
  {
   "cell_type": "code",
   "execution_count": 179,
   "id": "0b5c42db-6289-472d-b317-9e2571a22a68",
   "metadata": {},
   "outputs": [
    {
     "data": {
      "text/plain": [
       "array(['2012-03-09T09:30:00.000000000', '2012-03-10T09:30:00.000000000',\n",
       "       '2012-03-11T09:30:00.000000000', '2012-03-12T09:30:00.000000000',\n",
       "       '2012-03-13T09:30:00.000000000', '2012-03-14T09:30:00.000000000'],\n",
       "      dtype='datetime64[ns]')"
      ]
     },
     "execution_count": 179,
     "metadata": {},
     "output_type": "execute_result"
    }
   ],
   "source": [
    "ts.values"
   ]
  },
  {
   "cell_type": "markdown",
   "id": "500fe828-f288-4ab6-8375-2b735d05d8bc",
   "metadata": {},
   "source": [
    "### RESAMPLING"
   ]
  },
  {
   "cell_type": "markdown",
   "id": "7d1051e1-912a-4dc7-b31d-3a036975f4c8",
   "metadata": {},
   "source": [
    "Resampling refers to the process of converting a time series from one frequency to another.\n",
    "* Aggregating higher frequency data to lower frequency is called as downsampling.\n",
    "* Converting lower frequency data to higher frequency data is called as upsampling.\n",
    "* Some samplings are neither upsampling nor downsampling such as conversion of W-WED to W-FRI."
   ]
  },
  {
   "cell_type": "code",
   "execution_count": null,
   "id": "7b30e9d3-adc6-4c2d-8a32-494d0721bab7",
   "metadata": {},
   "outputs": [],
   "source": []
  }
 ],
 "metadata": {
  "kernelspec": {
   "display_name": "Python 3 (ipykernel)",
   "language": "python",
   "name": "python3"
  },
  "language_info": {
   "codemirror_mode": {
    "name": "ipython",
    "version": 3
   },
   "file_extension": ".py",
   "mimetype": "text/x-python",
   "name": "python",
   "nbconvert_exporter": "python",
   "pygments_lexer": "ipython3",
   "version": "3.13.1"
  }
 },
 "nbformat": 4,
 "nbformat_minor": 5
}
