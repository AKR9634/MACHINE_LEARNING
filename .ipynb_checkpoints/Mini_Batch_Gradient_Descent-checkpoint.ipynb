{
 "cells": [
  {
   "cell_type": "code",
   "execution_count": 6,
   "id": "731f8ed7-9973-46c3-8b8b-b9455353e156",
   "metadata": {},
   "outputs": [],
   "source": [
    "import numpy as np\n",
    "import pandas as pd\n",
    "import matplotlib.pyplot as plt\n",
    "import random"
   ]
  },
  {
   "cell_type": "code",
   "execution_count": 7,
   "id": "5b9a2caf-c6a2-414d-b4c5-80cc7d6f2f6e",
   "metadata": {},
   "outputs": [],
   "source": [
    "from sklearn.datasets import make_regression\n",
    "from sklearn.model_selection import train_test_split\n",
    "from sklearn.linear_model import LinearRegression"
   ]
  },
  {
   "cell_type": "code",
   "execution_count": 8,
   "id": "5ec8721f-5684-4a9c-b856-66148bc0f35b",
   "metadata": {},
   "outputs": [],
   "source": [
    "X, y = make_regression(n_samples=100, n_features=3, n_informative=1, n_targets=1, noise= 20, random_state=11)"
   ]
  },
  {
   "cell_type": "code",
   "execution_count": 44,
   "id": "9ee1a40a-e448-470d-830b-2a49d7fcba50",
   "metadata": {},
   "outputs": [],
   "source": [
    "X_train, X_test, y_train, y_test = train_test_split(X, y, test_size=0.2, random_state=3)"
   ]
  },
  {
   "cell_type": "code",
   "execution_count": 45,
   "id": "b35ec91c-2faf-4fc8-abe8-89b62c3a2b16",
   "metadata": {},
   "outputs": [],
   "source": [
    "class Mini_Batch_GDRegressor:\n",
    "    def __init__(self, batch_size, learning_rate= 0.01, epochs= 1000):\n",
    "        self.learning_rate = learning_rate\n",
    "        self.epochs = epochs\n",
    "        self.batch_size = batch_size\n",
    "        self.m = np.ones(X.shape[1])\n",
    "        self.b = 0\n",
    "\n",
    "    def fit(self, X, y):\n",
    "        for i in range(self.epochs):\n",
    "            for j in range(int(X.shape[0]/self.batch_size)):\n",
    "                idx = random.sample(range(X.shape[0]), self.batch_size)\n",
    "                \n",
    "                self.b = self.b - self.learning_rate * (-2 *(np.sum(y[idx]-np.dot(X[idx], self.m)-self.b)))\n",
    "                self.m = self.m - self.learning_rate *(-2 *(np.dot(X[idx].T, (y[idx]-np.dot(X[idx], self.m)-self.b))))\n",
    "    def predict(self, X):\n",
    "        return np.dot(X, self.m) + self.b"
   ]
  },
  {
   "cell_type": "code",
   "execution_count": 46,
   "id": "66fae469-2045-4fe5-8e56-c2035c4e1603",
   "metadata": {},
   "outputs": [],
   "source": [
    "mbr = Mini_Batch_GDRegressor(batch_size = int(X_train.shape[0]/10))"
   ]
  },
  {
   "cell_type": "code",
   "execution_count": 47,
   "id": "2151523c-e247-49c1-a42b-68d7fbbe073f",
   "metadata": {},
   "outputs": [],
   "source": [
    "mbr.fit(X_train, y_train)"
   ]
  },
  {
   "cell_type": "code",
   "execution_count": 48,
   "id": "5f0dbac9-a69d-4a10-bd11-3fb02fb1639b",
   "metadata": {},
   "outputs": [
    {
     "data": {
      "text/plain": [
       "array([  -4.34228926,    0.25376249,  -19.61562882,  -29.62425258,\n",
       "         38.8249152 ,  -15.73469912,  -65.86957891, -126.69683632,\n",
       "        -69.84603279, -167.40082026, -105.93788993, -111.36367378,\n",
       "          8.47172598,  159.17155226, -158.44575516,  -41.38019742,\n",
       "          4.38216408,  -33.93108996,   66.70903493,  -95.9391058 ])"
      ]
     },
     "execution_count": 48,
     "metadata": {},
     "output_type": "execute_result"
    }
   ],
   "source": [
    "mbr.predict(X_test)"
   ]
  },
  {
   "cell_type": "code",
   "execution_count": 49,
   "id": "8d832d90-2e1c-4ce3-b244-10ae50070b29",
   "metadata": {},
   "outputs": [
    {
     "data": {
      "text/plain": [
       "array([ 3.51492645, 95.01364572, -0.26806088])"
      ]
     },
     "execution_count": 49,
     "metadata": {},
     "output_type": "execute_result"
    }
   ],
   "source": [
    "mbr.m"
   ]
  },
  {
   "cell_type": "code",
   "execution_count": 50,
   "id": "0752c4e8-f614-471c-82d6-274bf791df5f",
   "metadata": {},
   "outputs": [],
   "source": [
    "#USING INBUILT FUCNTION FOR MINI BATCH GRADIENT DESCENT"
   ]
  },
  {
   "cell_type": "code",
   "execution_count": 51,
   "id": "2aec7153-c52c-429c-bef0-e853d8ce6fe6",
   "metadata": {},
   "outputs": [],
   "source": [
    "from sklearn.linear_model import SGDRegressor"
   ]
  },
  {
   "cell_type": "code",
   "execution_count": 52,
   "id": "9a3c3ca3-7bb0-4c26-a7e9-90bfddd3aabf",
   "metadata": {},
   "outputs": [],
   "source": [
    "sgd = SGDRegressor(learning_rate = 'constant', eta0 = 0.01)"
   ]
  },
  {
   "cell_type": "code",
   "execution_count": 56,
   "id": "bd0c09b8-0967-4f5a-b405-1f2ccc7bd9eb",
   "metadata": {},
   "outputs": [],
   "source": [
    "batch_size = 35\n",
    "\n",
    "for i in range(1000):\n",
    "    idx = random.sample(range(X_train.shape[0]), batch_size)\n",
    "    sgd.partial_fit(X_train[idx], y_train[idx])"
   ]
  },
  {
   "cell_type": "code",
   "execution_count": 57,
   "id": "2f591c20-b4ea-4269-8c80-859c4ea5fc27",
   "metadata": {},
   "outputs": [
    {
     "data": {
      "text/plain": [
       "array([-0.3170966 , 94.02242511,  1.28231754])"
      ]
     },
     "execution_count": 57,
     "metadata": {},
     "output_type": "execute_result"
    }
   ],
   "source": [
    "sgd.coef_"
   ]
  },
  {
   "cell_type": "code",
   "execution_count": 55,
   "id": "ecfe376f-9186-47f7-af5a-c70a0db1f673",
   "metadata": {},
   "outputs": [
    {
     "data": {
      "text/plain": [
       "array([-0.83874015])"
      ]
     },
     "execution_count": 55,
     "metadata": {},
     "output_type": "execute_result"
    }
   ],
   "source": [
    "sgd.intercept_"
   ]
  },
  {
   "cell_type": "code",
   "execution_count": null,
   "id": "f34c303b-4e53-41cd-9090-731142b8c1b2",
   "metadata": {},
   "outputs": [],
   "source": []
  }
 ],
 "metadata": {
  "kernelspec": {
   "display_name": "Python 3 (ipykernel)",
   "language": "python",
   "name": "python3"
  },
  "language_info": {
   "codemirror_mode": {
    "name": "ipython",
    "version": 3
   },
   "file_extension": ".py",
   "mimetype": "text/x-python",
   "name": "python",
   "nbconvert_exporter": "python",
   "pygments_lexer": "ipython3",
   "version": "3.13.1"
  }
 },
 "nbformat": 4,
 "nbformat_minor": 5
}
