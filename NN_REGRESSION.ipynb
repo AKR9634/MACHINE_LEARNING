{
 "cells": [
  {
   "cell_type": "code",
   "execution_count": 3,
   "id": "dd67262a-ad18-4408-a9bd-0670531f959b",
   "metadata": {},
   "outputs": [],
   "source": [
    "import numpy as np\n",
    "import pandas as pd"
   ]
  },
  {
   "cell_type": "code",
   "execution_count": 4,
   "id": "7f886689-a604-4f7e-a87f-ba80a127d49b",
   "metadata": {},
   "outputs": [],
   "source": [
    "class ANN:\n",
    "\n",
    "    def __init__(self, epochs=300, learning_rate = 0.0001):\n",
    "        self.epochs = epochs\n",
    "        self.learning_rate = learning_rate\n",
    "        self.w_layer1 = np.ones((2, 2)) * 0.1\n",
    "        self.b_layer1 = np.zeros((2, 1))\n",
    "        self.w_layer2 = np.ones((2, 1)) * 0.1\n",
    "        self.b_layer2 = np.zeros((1, 1))\n",
    "\n",
    "\n",
    "    def activation(self, X):\n",
    "        return X\n",
    "        \n",
    "    def fit(self, X, y):\n",
    "\n",
    "        for i in range(self.epochs):\n",
    "            for j in range(X.shape[0]):\n",
    "                idx = np.random.randint(0, X.shape[0])\n",
    "                \n",
    "                s = X[idx].reshape((1, 2))\n",
    "                o1 = self.activation(np.dot(self.w_layer1.T, s.T) + self.b_layer1)\n",
    "                y_pred = self.predict(s)\n",
    "                self.w_layer1 = self.w_layer1 -  self.learning_rate * (-2) * (y[idx] - y_pred) * (np.dot(s.T, self.w_layer2.T))\n",
    "                self.b_layer1 = self.b_layer1 - self.learning_rate * (-2) * (y[idx] - y_pred) * (self.w_layer2)\n",
    "                self.w_layer2 = self.w_layer2 - self.learning_rate * (-2) * (y[idx] - y_pred) * o1\n",
    "                self.b_layer2 = self.b_layer2 - self.learning_rate * (-2) * (y[idx] - y_pred)\n",
    "\n",
    "\n",
    "    def predict(self, X):\n",
    "        out1 = self.activation(np.dot(self.w_layer1.T, X.T) + self.b_layer1)\n",
    "        out2 = self.activation(np.dot(self.w_layer2.T, out1) + self.b_layer2)\n",
    "\n",
    "        return out2\n",
    "                "
   ]
  },
  {
   "cell_type": "code",
   "execution_count": 5,
   "id": "f74180a8-65d6-4a35-98af-486778b96387",
   "metadata": {},
   "outputs": [],
   "source": [
    "nn = ANN()"
   ]
  },
  {
   "cell_type": "code",
   "execution_count": 6,
   "id": "5e3c122c-5245-46cb-bc23-d63c0f4693ee",
   "metadata": {},
   "outputs": [
    {
     "data": {
      "text/plain": [
       "array([[0.06, 0.1 , 0.02]])"
      ]
     },
     "execution_count": 6,
     "metadata": {},
     "output_type": "execute_result"
    }
   ],
   "source": [
    "nn.predict(np.array([[1, 2], [2, 3], [0, 1]]))"
   ]
  },
  {
   "cell_type": "code",
   "execution_count": 7,
   "id": "dc7b1d4a-ab18-43e0-bef0-3b1b89ccb9d5",
   "metadata": {},
   "outputs": [],
   "source": [
    "IQ = np.array([90, 100, 110, 120, 130, 140])\n",
    "CGPA = np.array([6.5, 7.0, 7.5, 8.0, 8.5, 9.0])\n",
    "Package = np.array([4.5, 5.0, 6.0, 6.5, 7.0, 8.0])  # target in LPA\n",
    "\n",
    "X = np.column_stack((IQ, CGPA))  # shape (2, m)\n",
    "Y = Package\n"
   ]
  },
  {
   "cell_type": "code",
   "execution_count": 8,
   "id": "c56135e4-0143-49f1-aa25-57b25f4bd492",
   "metadata": {},
   "outputs": [],
   "source": [
    "nn.fit(X, Y)"
   ]
  },
  {
   "cell_type": "code",
   "execution_count": 9,
   "id": "7e940ab2-3e29-4a80-87cb-14467135747e",
   "metadata": {},
   "outputs": [
    {
     "data": {
      "text/plain": [
       "array([[ 90. ,   6.5],\n",
       "       [100. ,   7. ],\n",
       "       [110. ,   7.5],\n",
       "       [120. ,   8. ],\n",
       "       [130. ,   8.5],\n",
       "       [140. ,   9. ]])"
      ]
     },
     "execution_count": 9,
     "metadata": {},
     "output_type": "execute_result"
    }
   ],
   "source": [
    "X"
   ]
  },
  {
   "cell_type": "code",
   "execution_count": 10,
   "id": "a5ea7db7-14d0-41f3-9355-cf87623a3999",
   "metadata": {},
   "outputs": [
    {
     "data": {
      "text/plain": [
       "array([[4.79177574, 5.31820033, 5.84462491, 6.37104949, 6.89747408,\n",
       "        7.42389866]])"
      ]
     },
     "execution_count": 10,
     "metadata": {},
     "output_type": "execute_result"
    }
   ],
   "source": [
    "nn.predict(X)"
   ]
  },
  {
   "cell_type": "code",
   "execution_count": 11,
   "id": "37c62096-9ed5-4521-adff-0e04427c420f",
   "metadata": {},
   "outputs": [
    {
     "data": {
      "text/plain": [
       "array([4.5, 5. , 6. , 6.5, 7. , 8. ])"
      ]
     },
     "execution_count": 11,
     "metadata": {},
     "output_type": "execute_result"
    }
   ],
   "source": [
    "Y"
   ]
  },
  {
   "cell_type": "code",
   "execution_count": null,
   "id": "2b5b9f66-3877-448b-bdc5-ee087cd44b7c",
   "metadata": {},
   "outputs": [],
   "source": []
  }
 ],
 "metadata": {
  "kernelspec": {
   "display_name": "Python 3 (ipykernel)",
   "language": "python",
   "name": "python3"
  },
  "language_info": {
   "codemirror_mode": {
    "name": "ipython",
    "version": 3
   },
   "file_extension": ".py",
   "mimetype": "text/x-python",
   "name": "python",
   "nbconvert_exporter": "python",
   "pygments_lexer": "ipython3",
   "version": "3.13.1"
  }
 },
 "nbformat": 4,
 "nbformat_minor": 5
}
