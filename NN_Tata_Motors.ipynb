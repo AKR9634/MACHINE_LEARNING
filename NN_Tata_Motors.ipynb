{
 "cells": [
  {
   "cell_type": "code",
   "execution_count": 201,
   "id": "95cd4d5d-8025-48f6-8da8-52a2491b1fb4",
   "metadata": {},
   "outputs": [],
   "source": [
    "import numpy as np\n",
    "import pandas as pd\n",
    "import matplotlib.pyplot as plt\n",
    "from sklearn.preprocessing import StandardScaler"
   ]
  },
  {
   "cell_type": "code",
   "execution_count": 202,
   "id": "e9d9a051-4a58-42bf-9f6c-af2d82b2e0a4",
   "metadata": {},
   "outputs": [],
   "source": [
    "df = pd.read_csv('tata_motors.csv')"
   ]
  },
  {
   "cell_type": "code",
   "execution_count": 203,
   "id": "84805e75-5608-430f-820c-3c0a73ee0877",
   "metadata": {},
   "outputs": [
    {
     "data": {
      "text/html": [
       "<div>\n",
       "<style scoped>\n",
       "    .dataframe tbody tr th:only-of-type {\n",
       "        vertical-align: middle;\n",
       "    }\n",
       "\n",
       "    .dataframe tbody tr th {\n",
       "        vertical-align: top;\n",
       "    }\n",
       "\n",
       "    .dataframe thead th {\n",
       "        text-align: right;\n",
       "    }\n",
       "</style>\n",
       "<table border=\"1\" class=\"dataframe\">\n",
       "  <thead>\n",
       "    <tr style=\"text-align: right;\">\n",
       "      <th></th>\n",
       "      <th>Date</th>\n",
       "      <th>series</th>\n",
       "      <th>OPEN</th>\n",
       "      <th>HIGH</th>\n",
       "      <th>LOW</th>\n",
       "      <th>PREV. CLOSE</th>\n",
       "      <th>ltp</th>\n",
       "      <th>close</th>\n",
       "      <th>vwap</th>\n",
       "      <th>52W H</th>\n",
       "      <th>52W L</th>\n",
       "      <th>VOLUME</th>\n",
       "      <th>VALUE</th>\n",
       "      <th>No of trades</th>\n",
       "    </tr>\n",
       "  </thead>\n",
       "  <tbody>\n",
       "    <tr>\n",
       "      <th>0</th>\n",
       "      <td>14-Aug-25</td>\n",
       "      <td>EQ</td>\n",
       "      <td>666.00</td>\n",
       "      <td>666.55</td>\n",
       "      <td>657.70</td>\n",
       "      <td>663.75</td>\n",
       "      <td>664.00</td>\n",
       "      <td>664.60</td>\n",
       "      <td>662.43</td>\n",
       "      <td>1,142.00</td>\n",
       "      <td>535.75</td>\n",
       "      <td>62,50,494</td>\n",
       "      <td>4,14,05,29,909.70</td>\n",
       "      <td>1,15,002</td>\n",
       "    </tr>\n",
       "    <tr>\n",
       "      <th>1</th>\n",
       "      <td>13-Aug-25</td>\n",
       "      <td>EQ</td>\n",
       "      <td>657.20</td>\n",
       "      <td>667.00</td>\n",
       "      <td>656.65</td>\n",
       "      <td>654.10</td>\n",
       "      <td>663.30</td>\n",
       "      <td>663.75</td>\n",
       "      <td>663.72</td>\n",
       "      <td>1,142.00</td>\n",
       "      <td>535.75</td>\n",
       "      <td>75,57,556</td>\n",
       "      <td>5,01,61,13,372.65</td>\n",
       "      <td>1,33,862</td>\n",
       "    </tr>\n",
       "    <tr>\n",
       "      <th>2</th>\n",
       "      <td>12-Aug-25</td>\n",
       "      <td>EQ</td>\n",
       "      <td>651.10</td>\n",
       "      <td>660.95</td>\n",
       "      <td>650.80</td>\n",
       "      <td>653.75</td>\n",
       "      <td>655.05</td>\n",
       "      <td>654.10</td>\n",
       "      <td>655.38</td>\n",
       "      <td>1,142.00</td>\n",
       "      <td>535.75</td>\n",
       "      <td>1,12,12,223</td>\n",
       "      <td>7,34,82,30,985.35</td>\n",
       "      <td>2,23,425</td>\n",
       "    </tr>\n",
       "    <tr>\n",
       "      <th>3</th>\n",
       "      <td>11-Aug-25</td>\n",
       "      <td>EQ</td>\n",
       "      <td>636.20</td>\n",
       "      <td>655.00</td>\n",
       "      <td>627.10</td>\n",
       "      <td>633.70</td>\n",
       "      <td>654.00</td>\n",
       "      <td>653.75</td>\n",
       "      <td>647.97</td>\n",
       "      <td>1,142.00</td>\n",
       "      <td>535.75</td>\n",
       "      <td>1,72,75,390</td>\n",
       "      <td>11,19,38,80,247.40</td>\n",
       "      <td>2,58,911</td>\n",
       "    </tr>\n",
       "    <tr>\n",
       "      <th>4</th>\n",
       "      <td>08-Aug-25</td>\n",
       "      <td>EQ</td>\n",
       "      <td>647.95</td>\n",
       "      <td>652.95</td>\n",
       "      <td>630.00</td>\n",
       "      <td>646.50</td>\n",
       "      <td>630.80</td>\n",
       "      <td>633.70</td>\n",
       "      <td>640.31</td>\n",
       "      <td>1,142.00</td>\n",
       "      <td>535.75</td>\n",
       "      <td>1,01,44,452</td>\n",
       "      <td>6,49,55,49,795.70</td>\n",
       "      <td>2,22,231</td>\n",
       "    </tr>\n",
       "    <tr>\n",
       "      <th>...</th>\n",
       "      <td>...</td>\n",
       "      <td>...</td>\n",
       "      <td>...</td>\n",
       "      <td>...</td>\n",
       "      <td>...</td>\n",
       "      <td>...</td>\n",
       "      <td>...</td>\n",
       "      <td>...</td>\n",
       "      <td>...</td>\n",
       "      <td>...</td>\n",
       "      <td>...</td>\n",
       "      <td>...</td>\n",
       "      <td>...</td>\n",
       "      <td>...</td>\n",
       "    </tr>\n",
       "    <tr>\n",
       "      <th>59</th>\n",
       "      <td>23-May-25</td>\n",
       "      <td>EQ</td>\n",
       "      <td>718.75</td>\n",
       "      <td>721.80</td>\n",
       "      <td>715.00</td>\n",
       "      <td>717.45</td>\n",
       "      <td>718.00</td>\n",
       "      <td>718.25</td>\n",
       "      <td>719.01</td>\n",
       "      <td>1,179.00</td>\n",
       "      <td>535.75</td>\n",
       "      <td>79,15,166</td>\n",
       "      <td>5,69,10,49,306.85</td>\n",
       "      <td>1,14,102</td>\n",
       "    </tr>\n",
       "    <tr>\n",
       "      <th>60</th>\n",
       "      <td>22-May-25</td>\n",
       "      <td>EQ</td>\n",
       "      <td>725.00</td>\n",
       "      <td>725.00</td>\n",
       "      <td>710.65</td>\n",
       "      <td>726.80</td>\n",
       "      <td>718.50</td>\n",
       "      <td>717.45</td>\n",
       "      <td>716.57</td>\n",
       "      <td>1,179.00</td>\n",
       "      <td>535.75</td>\n",
       "      <td>1,00,46,820</td>\n",
       "      <td>7,19,92,24,435.35</td>\n",
       "      <td>1,78,556</td>\n",
       "    </tr>\n",
       "    <tr>\n",
       "      <th>61</th>\n",
       "      <td>21-May-25</td>\n",
       "      <td>EQ</td>\n",
       "      <td>719.00</td>\n",
       "      <td>729.50</td>\n",
       "      <td>718.00</td>\n",
       "      <td>718.90</td>\n",
       "      <td>726.25</td>\n",
       "      <td>726.80</td>\n",
       "      <td>725.35</td>\n",
       "      <td>1,179.00</td>\n",
       "      <td>535.75</td>\n",
       "      <td>89,98,596</td>\n",
       "      <td>6,52,71,26,522.45</td>\n",
       "      <td>1,45,016</td>\n",
       "    </tr>\n",
       "    <tr>\n",
       "      <th>62</th>\n",
       "      <td>20-May-25</td>\n",
       "      <td>EQ</td>\n",
       "      <td>730.00</td>\n",
       "      <td>737.75</td>\n",
       "      <td>717.00</td>\n",
       "      <td>729.50</td>\n",
       "      <td>720.70</td>\n",
       "      <td>718.90</td>\n",
       "      <td>726.33</td>\n",
       "      <td>1,179.00</td>\n",
       "      <td>535.75</td>\n",
       "      <td>1,44,72,506</td>\n",
       "      <td>10,51,18,04,020.40</td>\n",
       "      <td>2,23,690</td>\n",
       "    </tr>\n",
       "    <tr>\n",
       "      <th>63</th>\n",
       "      <td>19-May-25</td>\n",
       "      <td>EQ</td>\n",
       "      <td>732.00</td>\n",
       "      <td>738.10</td>\n",
       "      <td>728.00</td>\n",
       "      <td>730.70</td>\n",
       "      <td>728.70</td>\n",
       "      <td>729.50</td>\n",
       "      <td>733.16</td>\n",
       "      <td>1,179.00</td>\n",
       "      <td>535.75</td>\n",
       "      <td>1,04,60,217</td>\n",
       "      <td>7,66,89,71,582.95</td>\n",
       "      <td>1,89,525</td>\n",
       "    </tr>\n",
       "  </tbody>\n",
       "</table>\n",
       "<p>64 rows × 14 columns</p>\n",
       "</div>"
      ],
      "text/plain": [
       "        Date  series    OPEN    HIGH     LOW   PREV. CLOSE     ltp   close   \\\n",
       "0   14-Aug-25      EQ  666.00  666.55  657.70        663.75  664.00  664.60   \n",
       "1   13-Aug-25      EQ  657.20  667.00  656.65        654.10  663.30  663.75   \n",
       "2   12-Aug-25      EQ  651.10  660.95  650.80        653.75  655.05  654.10   \n",
       "3   11-Aug-25      EQ  636.20  655.00  627.10        633.70  654.00  653.75   \n",
       "4   08-Aug-25      EQ  647.95  652.95  630.00        646.50  630.80  633.70   \n",
       "..        ...     ...     ...     ...     ...           ...     ...     ...   \n",
       "59  23-May-25      EQ  718.75  721.80  715.00        717.45  718.00  718.25   \n",
       "60  22-May-25      EQ  725.00  725.00  710.65        726.80  718.50  717.45   \n",
       "61  21-May-25      EQ  719.00  729.50  718.00        718.90  726.25  726.80   \n",
       "62  20-May-25      EQ  730.00  737.75  717.00        729.50  720.70  718.90   \n",
       "63  19-May-25      EQ  732.00  738.10  728.00        730.70  728.70  729.50   \n",
       "\n",
       "     vwap     52W H   52W L       VOLUME               VALUE  No of trades   \n",
       "0   662.43  1,142.00  535.75    62,50,494   4,14,05,29,909.70      1,15,002  \n",
       "1   663.72  1,142.00  535.75    75,57,556   5,01,61,13,372.65      1,33,862  \n",
       "2   655.38  1,142.00  535.75  1,12,12,223   7,34,82,30,985.35      2,23,425  \n",
       "3   647.97  1,142.00  535.75  1,72,75,390  11,19,38,80,247.40      2,58,911  \n",
       "4   640.31  1,142.00  535.75  1,01,44,452   6,49,55,49,795.70      2,22,231  \n",
       "..     ...       ...     ...          ...                 ...           ...  \n",
       "59  719.01  1,179.00  535.75    79,15,166   5,69,10,49,306.85      1,14,102  \n",
       "60  716.57  1,179.00  535.75  1,00,46,820   7,19,92,24,435.35      1,78,556  \n",
       "61  725.35  1,179.00  535.75    89,98,596   6,52,71,26,522.45      1,45,016  \n",
       "62  726.33  1,179.00  535.75  1,44,72,506  10,51,18,04,020.40      2,23,690  \n",
       "63  733.16  1,179.00  535.75  1,04,60,217   7,66,89,71,582.95      1,89,525  \n",
       "\n",
       "[64 rows x 14 columns]"
      ]
     },
     "execution_count": 203,
     "metadata": {},
     "output_type": "execute_result"
    }
   ],
   "source": [
    "df"
   ]
  },
  {
   "cell_type": "code",
   "execution_count": 204,
   "id": "12a184e8-7bb3-4a49-b8f6-84b78daf05cd",
   "metadata": {},
   "outputs": [
    {
     "data": {
      "text/plain": [
       "Index(['Date ', 'series ', 'OPEN ', 'HIGH ', 'LOW ', 'PREV. CLOSE ', 'ltp ',\n",
       "       'close ', 'vwap ', '52W H ', '52W L ', 'VOLUME ', 'VALUE ',\n",
       "       'No of trades '],\n",
       "      dtype='object')"
      ]
     },
     "execution_count": 204,
     "metadata": {},
     "output_type": "execute_result"
    }
   ],
   "source": [
    "df.columns"
   ]
  },
  {
   "cell_type": "code",
   "execution_count": 205,
   "id": "e46d5a93-804d-492c-9d1c-20f658ae3706",
   "metadata": {},
   "outputs": [],
   "source": [
    "df.columns = df.columns.str.strip()"
   ]
  },
  {
   "cell_type": "code",
   "execution_count": 206,
   "id": "38d67bd6-55fe-4270-92e0-c264f15c1b67",
   "metadata": {},
   "outputs": [
    {
     "data": {
      "text/plain": [
       "Index(['Date', 'series', 'OPEN', 'HIGH', 'LOW', 'PREV. CLOSE', 'ltp', 'close',\n",
       "       'vwap', '52W H', '52W L', 'VOLUME', 'VALUE', 'No of trades'],\n",
       "      dtype='object')"
      ]
     },
     "execution_count": 206,
     "metadata": {},
     "output_type": "execute_result"
    }
   ],
   "source": [
    "df.columns"
   ]
  },
  {
   "cell_type": "code",
   "execution_count": 207,
   "id": "2e38c041-85be-46e8-b739-1f53d3f7211c",
   "metadata": {},
   "outputs": [],
   "source": [
    "df = df.loc[:, ['Date', 'close']]"
   ]
  },
  {
   "cell_type": "code",
   "execution_count": 208,
   "id": "bafc56f3-0b36-4515-8022-cab26860f923",
   "metadata": {},
   "outputs": [
    {
     "data": {
      "text/html": [
       "<div>\n",
       "<style scoped>\n",
       "    .dataframe tbody tr th:only-of-type {\n",
       "        vertical-align: middle;\n",
       "    }\n",
       "\n",
       "    .dataframe tbody tr th {\n",
       "        vertical-align: top;\n",
       "    }\n",
       "\n",
       "    .dataframe thead th {\n",
       "        text-align: right;\n",
       "    }\n",
       "</style>\n",
       "<table border=\"1\" class=\"dataframe\">\n",
       "  <thead>\n",
       "    <tr style=\"text-align: right;\">\n",
       "      <th></th>\n",
       "      <th>Date</th>\n",
       "      <th>close</th>\n",
       "    </tr>\n",
       "  </thead>\n",
       "  <tbody>\n",
       "    <tr>\n",
       "      <th>0</th>\n",
       "      <td>14-Aug-25</td>\n",
       "      <td>664.60</td>\n",
       "    </tr>\n",
       "    <tr>\n",
       "      <th>1</th>\n",
       "      <td>13-Aug-25</td>\n",
       "      <td>663.75</td>\n",
       "    </tr>\n",
       "    <tr>\n",
       "      <th>2</th>\n",
       "      <td>12-Aug-25</td>\n",
       "      <td>654.10</td>\n",
       "    </tr>\n",
       "    <tr>\n",
       "      <th>3</th>\n",
       "      <td>11-Aug-25</td>\n",
       "      <td>653.75</td>\n",
       "    </tr>\n",
       "    <tr>\n",
       "      <th>4</th>\n",
       "      <td>08-Aug-25</td>\n",
       "      <td>633.70</td>\n",
       "    </tr>\n",
       "    <tr>\n",
       "      <th>...</th>\n",
       "      <td>...</td>\n",
       "      <td>...</td>\n",
       "    </tr>\n",
       "    <tr>\n",
       "      <th>59</th>\n",
       "      <td>23-May-25</td>\n",
       "      <td>718.25</td>\n",
       "    </tr>\n",
       "    <tr>\n",
       "      <th>60</th>\n",
       "      <td>22-May-25</td>\n",
       "      <td>717.45</td>\n",
       "    </tr>\n",
       "    <tr>\n",
       "      <th>61</th>\n",
       "      <td>21-May-25</td>\n",
       "      <td>726.80</td>\n",
       "    </tr>\n",
       "    <tr>\n",
       "      <th>62</th>\n",
       "      <td>20-May-25</td>\n",
       "      <td>718.90</td>\n",
       "    </tr>\n",
       "    <tr>\n",
       "      <th>63</th>\n",
       "      <td>19-May-25</td>\n",
       "      <td>729.50</td>\n",
       "    </tr>\n",
       "  </tbody>\n",
       "</table>\n",
       "<p>64 rows × 2 columns</p>\n",
       "</div>"
      ],
      "text/plain": [
       "         Date   close\n",
       "0   14-Aug-25  664.60\n",
       "1   13-Aug-25  663.75\n",
       "2   12-Aug-25  654.10\n",
       "3   11-Aug-25  653.75\n",
       "4   08-Aug-25  633.70\n",
       "..        ...     ...\n",
       "59  23-May-25  718.25\n",
       "60  22-May-25  717.45\n",
       "61  21-May-25  726.80\n",
       "62  20-May-25  718.90\n",
       "63  19-May-25  729.50\n",
       "\n",
       "[64 rows x 2 columns]"
      ]
     },
     "execution_count": 208,
     "metadata": {},
     "output_type": "execute_result"
    }
   ],
   "source": [
    "df"
   ]
  },
  {
   "cell_type": "code",
   "execution_count": 209,
   "id": "21e639b0-9cbd-4174-8ecb-bb0b03973da0",
   "metadata": {},
   "outputs": [
    {
     "name": "stdout",
     "output_type": "stream",
     "text": [
      "<class 'pandas.core.frame.DataFrame'>\n",
      "RangeIndex: 64 entries, 0 to 63\n",
      "Data columns (total 2 columns):\n",
      " #   Column  Non-Null Count  Dtype  \n",
      "---  ------  --------------  -----  \n",
      " 0   Date    64 non-null     object \n",
      " 1   close   64 non-null     float64\n",
      "dtypes: float64(1), object(1)\n",
      "memory usage: 1.1+ KB\n"
     ]
    }
   ],
   "source": [
    "df.info()"
   ]
  },
  {
   "cell_type": "code",
   "execution_count": 210,
   "id": "0bcd1f7d-b8ab-4829-9ae4-06886515b1f2",
   "metadata": {},
   "outputs": [],
   "source": [
    "df['Date'] = pd.to_datetime(df['Date'], format = 'mixed')"
   ]
  },
  {
   "cell_type": "code",
   "execution_count": 211,
   "id": "87b79579-8ebe-47a0-b02d-87ef1155383e",
   "metadata": {},
   "outputs": [],
   "source": [
    "df.sort_values('Date', ignore_index=True, inplace= True)"
   ]
  },
  {
   "cell_type": "code",
   "execution_count": 212,
   "id": "e2ead888-63f4-4882-9da3-238118cb55f8",
   "metadata": {},
   "outputs": [
    {
     "data": {
      "text/html": [
       "<div>\n",
       "<style scoped>\n",
       "    .dataframe tbody tr th:only-of-type {\n",
       "        vertical-align: middle;\n",
       "    }\n",
       "\n",
       "    .dataframe tbody tr th {\n",
       "        vertical-align: top;\n",
       "    }\n",
       "\n",
       "    .dataframe thead th {\n",
       "        text-align: right;\n",
       "    }\n",
       "</style>\n",
       "<table border=\"1\" class=\"dataframe\">\n",
       "  <thead>\n",
       "    <tr style=\"text-align: right;\">\n",
       "      <th></th>\n",
       "      <th>Date</th>\n",
       "      <th>close</th>\n",
       "    </tr>\n",
       "  </thead>\n",
       "  <tbody>\n",
       "    <tr>\n",
       "      <th>0</th>\n",
       "      <td>2025-05-19</td>\n",
       "      <td>729.50</td>\n",
       "    </tr>\n",
       "    <tr>\n",
       "      <th>1</th>\n",
       "      <td>2025-05-20</td>\n",
       "      <td>718.90</td>\n",
       "    </tr>\n",
       "    <tr>\n",
       "      <th>2</th>\n",
       "      <td>2025-05-21</td>\n",
       "      <td>726.80</td>\n",
       "    </tr>\n",
       "    <tr>\n",
       "      <th>3</th>\n",
       "      <td>2025-05-22</td>\n",
       "      <td>717.45</td>\n",
       "    </tr>\n",
       "    <tr>\n",
       "      <th>4</th>\n",
       "      <td>2025-05-23</td>\n",
       "      <td>718.25</td>\n",
       "    </tr>\n",
       "    <tr>\n",
       "      <th>...</th>\n",
       "      <td>...</td>\n",
       "      <td>...</td>\n",
       "    </tr>\n",
       "    <tr>\n",
       "      <th>59</th>\n",
       "      <td>2025-08-08</td>\n",
       "      <td>633.70</td>\n",
       "    </tr>\n",
       "    <tr>\n",
       "      <th>60</th>\n",
       "      <td>2025-08-11</td>\n",
       "      <td>653.75</td>\n",
       "    </tr>\n",
       "    <tr>\n",
       "      <th>61</th>\n",
       "      <td>2025-08-12</td>\n",
       "      <td>654.10</td>\n",
       "    </tr>\n",
       "    <tr>\n",
       "      <th>62</th>\n",
       "      <td>2025-08-13</td>\n",
       "      <td>663.75</td>\n",
       "    </tr>\n",
       "    <tr>\n",
       "      <th>63</th>\n",
       "      <td>2025-08-14</td>\n",
       "      <td>664.60</td>\n",
       "    </tr>\n",
       "  </tbody>\n",
       "</table>\n",
       "<p>64 rows × 2 columns</p>\n",
       "</div>"
      ],
      "text/plain": [
       "         Date   close\n",
       "0  2025-05-19  729.50\n",
       "1  2025-05-20  718.90\n",
       "2  2025-05-21  726.80\n",
       "3  2025-05-22  717.45\n",
       "4  2025-05-23  718.25\n",
       "..        ...     ...\n",
       "59 2025-08-08  633.70\n",
       "60 2025-08-11  653.75\n",
       "61 2025-08-12  654.10\n",
       "62 2025-08-13  663.75\n",
       "63 2025-08-14  664.60\n",
       "\n",
       "[64 rows x 2 columns]"
      ]
     },
     "execution_count": 212,
     "metadata": {},
     "output_type": "execute_result"
    }
   ],
   "source": [
    "df"
   ]
  },
  {
   "cell_type": "code",
   "execution_count": 213,
   "id": "a91eb3c9-9442-4cce-9389-c8a846f53f51",
   "metadata": {},
   "outputs": [],
   "source": [
    "input_size = 32"
   ]
  },
  {
   "cell_type": "code",
   "execution_count": 238,
   "id": "1899799b-e70f-4369-89e3-49ca87f68790",
   "metadata": {},
   "outputs": [
    {
     "data": {
      "text/plain": [
       "64"
      ]
     },
     "execution_count": 238,
     "metadata": {},
     "output_type": "execute_result"
    }
   ],
   "source": [
    "df.shape[0]"
   ]
  },
  {
   "cell_type": "code",
   "execution_count": 239,
   "id": "a5662aa7-042a-43a8-a3a6-27a4788f2033",
   "metadata": {},
   "outputs": [],
   "source": [
    "close = df[['close']]"
   ]
  },
  {
   "cell_type": "code",
   "execution_count": 240,
   "id": "33d7966e-1c57-4857-8f6f-0e3592190795",
   "metadata": {},
   "outputs": [],
   "source": [
    "scaler = StandardScaler()\n",
    "close = scaler.fit_transform(close)"
   ]
  },
  {
   "cell_type": "code",
   "execution_count": 241,
   "id": "11f0494a-a0f2-413e-8ddc-85359a0bb32b",
   "metadata": {},
   "outputs": [
    {
     "data": {
      "text/plain": [
       "array([[ 1.67363044],\n",
       "       [ 1.23257347],\n",
       "       [ 1.56128574],\n",
       "       [ 1.17224021],\n",
       "       [ 1.20552753],\n",
       "       [ 1.65282586],\n",
       "       [ 1.13063106],\n",
       "       [ 1.19304478],\n",
       "       [ 1.46350424],\n",
       "       [ 1.25753896],\n",
       "       [ 0.9288267 ],\n",
       "       [ 0.6063558 ],\n",
       "       [ 0.82688429],\n",
       "       [ 0.86849343],\n",
       "       [ 0.90386121],\n",
       "       [ 1.18680341],\n",
       "       [ 1.78805559],\n",
       "       [ 1.96073356],\n",
       "       [ 1.084861  ],\n",
       "       [ 0.94755081],\n",
       "       [-0.10932153],\n",
       "       [-0.60447039],\n",
       "       [-0.79171155],\n",
       "       [-0.7064128 ],\n",
       "       [-0.54413713],\n",
       "       [-0.75010241],\n",
       "       [-0.65024045],\n",
       "       [-0.61487268],\n",
       "       [-0.27159721],\n",
       "       [-0.09891925],\n",
       "       [-0.05314918],\n",
       "       [-0.2279076 ],\n",
       "       [-0.03026415],\n",
       "       [ 0.04671277],\n",
       "       [-0.00945958],\n",
       "       [-0.01778141],\n",
       "       [ 0.16321838],\n",
       "       [ 0.14657472],\n",
       "       [ 0.26308034],\n",
       "       [-0.3111259 ],\n",
       "       [-0.61487268],\n",
       "       [-0.20294212],\n",
       "       [-0.42763151],\n",
       "       [-0.31528681],\n",
       "       [-0.37562008],\n",
       "       [-0.07603422],\n",
       "       [-0.66064274],\n",
       "       [ 0.03423003],\n",
       "       [ 0.46696516],\n",
       "       [-0.07811467],\n",
       "       [-0.26535584],\n",
       "       [ 0.12785061],\n",
       "       [-0.86660802],\n",
       "       [-0.97063089],\n",
       "       [-1.68214731],\n",
       "       [-1.48450386],\n",
       "       [-1.44289471],\n",
       "       [-1.51571072],\n",
       "       [-1.77992881],\n",
       "       [-2.3125259 ],\n",
       "       [-1.47826249],\n",
       "       [-1.46369929],\n",
       "       [-1.06217101],\n",
       "       [-1.02680324]])"
      ]
     },
     "execution_count": 241,
     "metadata": {},
     "output_type": "execute_result"
    }
   ],
   "source": [
    "close"
   ]
  },
  {
   "cell_type": "code",
   "execution_count": 242,
   "id": "d76948b2-7681-43cb-878e-185388e5ca6c",
   "metadata": {},
   "outputs": [],
   "source": [
    "X, y = [], []\n",
    "for i in range(input_size, df.shape[0]):\n",
    "    X.append(close[i-input_size: i, 0])\n",
    "    y.append(close[i, 0])"
   ]
  },
  {
   "cell_type": "code",
   "execution_count": 243,
   "id": "398452da-789a-41ba-b84f-e85c33ceb4c0",
   "metadata": {},
   "outputs": [],
   "source": [
    "X = np.array(X)"
   ]
  },
  {
   "cell_type": "code",
   "execution_count": 244,
   "id": "20fb6bc6-75f7-42d4-8ffb-8a4969b9e022",
   "metadata": {},
   "outputs": [
    {
     "data": {
      "text/plain": [
       "array([[ 1.67363044,  1.23257347,  1.56128574, ..., -0.09891925,\n",
       "        -0.05314918, -0.2279076 ],\n",
       "       [ 1.23257347,  1.56128574,  1.17224021, ..., -0.05314918,\n",
       "        -0.2279076 , -0.03026415],\n",
       "       [ 1.56128574,  1.17224021,  1.20552753, ..., -0.2279076 ,\n",
       "        -0.03026415,  0.04671277],\n",
       "       ...,\n",
       "       [-0.09891925, -0.05314918, -0.2279076 , ..., -1.77992881,\n",
       "        -2.3125259 , -1.47826249],\n",
       "       [-0.05314918, -0.2279076 , -0.03026415, ..., -2.3125259 ,\n",
       "        -1.47826249, -1.46369929],\n",
       "       [-0.2279076 , -0.03026415,  0.04671277, ..., -1.47826249,\n",
       "        -1.46369929, -1.06217101]], shape=(32, 32))"
      ]
     },
     "execution_count": 244,
     "metadata": {},
     "output_type": "execute_result"
    }
   ],
   "source": [
    "X"
   ]
  },
  {
   "cell_type": "code",
   "execution_count": 245,
   "id": "c4d135e4-25c6-4e66-945e-5446276ff2bb",
   "metadata": {},
   "outputs": [],
   "source": [
    "y = np.array(y)"
   ]
  },
  {
   "cell_type": "code",
   "execution_count": 246,
   "id": "313aadad-291c-4f07-a534-908a217f5f58",
   "metadata": {},
   "outputs": [
    {
     "data": {
      "text/plain": [
       "array([-0.03026415,  0.04671277, -0.00945958, -0.01778141,  0.16321838,\n",
       "        0.14657472,  0.26308034, -0.3111259 , -0.61487268, -0.20294212,\n",
       "       -0.42763151, -0.31528681, -0.37562008, -0.07603422, -0.66064274,\n",
       "        0.03423003,  0.46696516, -0.07811467, -0.26535584,  0.12785061,\n",
       "       -0.86660802, -0.97063089, -1.68214731, -1.48450386, -1.44289471,\n",
       "       -1.51571072, -1.77992881, -2.3125259 , -1.47826249, -1.46369929,\n",
       "       -1.06217101, -1.02680324])"
      ]
     },
     "execution_count": 246,
     "metadata": {},
     "output_type": "execute_result"
    }
   ],
   "source": [
    "y"
   ]
  },
  {
   "cell_type": "code",
   "execution_count": 247,
   "id": "d3b80afd-4282-4c1e-aae0-b61c3c05f77f",
   "metadata": {},
   "outputs": [],
   "source": [
    "from sklearn.model_selection import train_test_split\n",
    "from sklearn.metrics import r2_score, accuracy_score\n",
    "import tensorflow\n",
    "from tensorflow import keras\n",
    "from tensorflow.keras import Sequential\n",
    "from tensorflow.keras.layers import Dense"
   ]
  },
  {
   "cell_type": "code",
   "execution_count": 248,
   "id": "5c51c0ac-d1a1-4dc1-aac5-a0bf666d5437",
   "metadata": {},
   "outputs": [],
   "source": [
    "X_train, X_test, y_train, y_test = train_test_split(X, y, test_size=0.2, random_state=43)"
   ]
  },
  {
   "cell_type": "code",
   "execution_count": 254,
   "id": "9f15118f-1e9d-4cab-b9cf-f76a8caed7d4",
   "metadata": {},
   "outputs": [
    {
     "data": {
      "text/plain": [
       "(32,)"
      ]
     },
     "execution_count": 254,
     "metadata": {},
     "output_type": "execute_result"
    }
   ],
   "source": [
    "X_train[0].shape"
   ]
  },
  {
   "cell_type": "code",
   "execution_count": 255,
   "id": "c8bc5388-6ab9-4d61-8b4c-de41ce1fe032",
   "metadata": {},
   "outputs": [],
   "source": [
    "model = Sequential()"
   ]
  },
  {
   "cell_type": "code",
   "execution_count": 272,
   "id": "8af2ca28-6670-4800-842c-6fb50786d286",
   "metadata": {},
   "outputs": [
    {
     "name": "stderr",
     "output_type": "stream",
     "text": [
      "C:\\Users\\Dell\\AppData\\Local\\Programs\\Python\\Python313\\Lib\\site-packages\\keras\\src\\layers\\core\\dense.py:92: UserWarning: Do not pass an `input_shape`/`input_dim` argument to a layer. When using Sequential models, prefer using an `Input(shape)` object as the first layer in the model instead.\n",
      "  super().__init__(activity_regularizer=activity_regularizer, **kwargs)\n"
     ]
    }
   ],
   "source": [
    "model.add(Dense(32, activation='relu', input_dim = 32))\n",
    "model.add(Dense(16, activation='relu'))\n",
    "model.add(Dense(8, activation='relu'))\n",
    "model.add(Dense(8, activation='relu'))\n",
    "model.add(Dense(8, activation='relu'))\n",
    "model.add(Dense(8, activation='relu'))\n",
    "model.add(Dense(4, activation='relu'))\n",
    "model.add(Dense(2, activation='relu'))\n",
    "model.add(Dense(1, activation='linear'))"
   ]
  },
  {
   "cell_type": "code",
   "execution_count": 273,
   "id": "269dd95d-6a57-4bc2-abab-e1b7e6d5f7e9",
   "metadata": {},
   "outputs": [],
   "source": [
    "model.compile(loss='mean_squared_error', optimizer='Adam', metrics=['mean_squared_error'])"
   ]
  },
  {
   "cell_type": "code",
   "execution_count": 274,
   "id": "4aca41e8-a776-4bd6-a06e-b4b7d21124b7",
   "metadata": {},
   "outputs": [
    {
     "name": "stdout",
     "output_type": "stream",
     "text": [
      "Epoch 1/100\n",
      "\u001b[1m1/1\u001b[0m \u001b[32m━━━━━━━━━━━━━━━━━━━━\u001b[0m\u001b[37m\u001b[0m \u001b[1m7s\u001b[0m 7s/step - loss: 0.9900 - mean_squared_error: 0.9900 - val_loss: 0.7590 - val_mean_squared_error: 0.7590\n",
      "Epoch 2/100\n",
      "\u001b[1m1/1\u001b[0m \u001b[32m━━━━━━━━━━━━━━━━━━━━\u001b[0m\u001b[37m\u001b[0m \u001b[1m0s\u001b[0m 224ms/step - loss: 0.9754 - mean_squared_error: 0.9754 - val_loss: 0.7455 - val_mean_squared_error: 0.7455\n",
      "Epoch 3/100\n",
      "\u001b[1m1/1\u001b[0m \u001b[32m━━━━━━━━━━━━━━━━━━━━\u001b[0m\u001b[37m\u001b[0m \u001b[1m0s\u001b[0m 335ms/step - loss: 0.9597 - mean_squared_error: 0.9597 - val_loss: 0.7316 - val_mean_squared_error: 0.7316\n",
      "Epoch 4/100\n",
      "\u001b[1m1/1\u001b[0m \u001b[32m━━━━━━━━━━━━━━━━━━━━\u001b[0m\u001b[37m\u001b[0m \u001b[1m0s\u001b[0m 251ms/step - loss: 0.9435 - mean_squared_error: 0.9435 - val_loss: 0.7172 - val_mean_squared_error: 0.7172\n",
      "Epoch 5/100\n",
      "\u001b[1m1/1\u001b[0m \u001b[32m━━━━━━━━━━━━━━━━━━━━\u001b[0m\u001b[37m\u001b[0m \u001b[1m0s\u001b[0m 317ms/step - loss: 0.9266 - mean_squared_error: 0.9266 - val_loss: 0.7022 - val_mean_squared_error: 0.7022\n",
      "Epoch 6/100\n",
      "\u001b[1m1/1\u001b[0m \u001b[32m━━━━━━━━━━━━━━━━━━━━\u001b[0m\u001b[37m\u001b[0m \u001b[1m0s\u001b[0m 325ms/step - loss: 0.9089 - mean_squared_error: 0.9089 - val_loss: 0.6865 - val_mean_squared_error: 0.6865\n",
      "Epoch 7/100\n",
      "\u001b[1m1/1\u001b[0m \u001b[32m━━━━━━━━━━━━━━━━━━━━\u001b[0m\u001b[37m\u001b[0m \u001b[1m0s\u001b[0m 226ms/step - loss: 0.8903 - mean_squared_error: 0.8903 - val_loss: 0.6700 - val_mean_squared_error: 0.6700\n",
      "Epoch 8/100\n",
      "\u001b[1m1/1\u001b[0m \u001b[32m━━━━━━━━━━━━━━━━━━━━\u001b[0m\u001b[37m\u001b[0m \u001b[1m0s\u001b[0m 229ms/step - loss: 0.8706 - mean_squared_error: 0.8706 - val_loss: 0.6529 - val_mean_squared_error: 0.6529\n",
      "Epoch 9/100\n",
      "\u001b[1m1/1\u001b[0m \u001b[32m━━━━━━━━━━━━━━━━━━━━\u001b[0m\u001b[37m\u001b[0m \u001b[1m0s\u001b[0m 205ms/step - loss: 0.8500 - mean_squared_error: 0.8500 - val_loss: 0.6349 - val_mean_squared_error: 0.6349\n",
      "Epoch 10/100\n",
      "\u001b[1m1/1\u001b[0m \u001b[32m━━━━━━━━━━━━━━━━━━━━\u001b[0m\u001b[37m\u001b[0m \u001b[1m0s\u001b[0m 335ms/step - loss: 0.8281 - mean_squared_error: 0.8281 - val_loss: 0.6160 - val_mean_squared_error: 0.6160\n",
      "Epoch 11/100\n",
      "\u001b[1m1/1\u001b[0m \u001b[32m━━━━━━━━━━━━━━━━━━━━\u001b[0m\u001b[37m\u001b[0m \u001b[1m0s\u001b[0m 215ms/step - loss: 0.8051 - mean_squared_error: 0.8051 - val_loss: 0.5962 - val_mean_squared_error: 0.5962\n",
      "Epoch 12/100\n",
      "\u001b[1m1/1\u001b[0m \u001b[32m━━━━━━━━━━━━━━━━━━━━\u001b[0m\u001b[37m\u001b[0m \u001b[1m0s\u001b[0m 213ms/step - loss: 0.7809 - mean_squared_error: 0.7809 - val_loss: 0.5757 - val_mean_squared_error: 0.5757\n",
      "Epoch 13/100\n",
      "\u001b[1m1/1\u001b[0m \u001b[32m━━━━━━━━━━━━━━━━━━━━\u001b[0m\u001b[37m\u001b[0m \u001b[1m0s\u001b[0m 347ms/step - loss: 0.7555 - mean_squared_error: 0.7555 - val_loss: 0.5545 - val_mean_squared_error: 0.5545\n",
      "Epoch 14/100\n",
      "\u001b[1m1/1\u001b[0m \u001b[32m━━━━━━━━━━━━━━━━━━━━\u001b[0m\u001b[37m\u001b[0m \u001b[1m0s\u001b[0m 340ms/step - loss: 0.7291 - mean_squared_error: 0.7291 - val_loss: 0.5323 - val_mean_squared_error: 0.5323\n",
      "Epoch 15/100\n",
      "\u001b[1m1/1\u001b[0m \u001b[32m━━━━━━━━━━━━━━━━━━━━\u001b[0m\u001b[37m\u001b[0m \u001b[1m0s\u001b[0m 289ms/step - loss: 0.7014 - mean_squared_error: 0.7014 - val_loss: 0.5091 - val_mean_squared_error: 0.5091\n",
      "Epoch 16/100\n",
      "\u001b[1m1/1\u001b[0m \u001b[32m━━━━━━━━━━━━━━━━━━━━\u001b[0m\u001b[37m\u001b[0m \u001b[1m0s\u001b[0m 187ms/step - loss: 0.6723 - mean_squared_error: 0.6723 - val_loss: 0.4849 - val_mean_squared_error: 0.4849\n",
      "Epoch 17/100\n",
      "\u001b[1m1/1\u001b[0m \u001b[32m━━━━━━━━━━━━━━━━━━━━\u001b[0m\u001b[37m\u001b[0m \u001b[1m0s\u001b[0m 360ms/step - loss: 0.6420 - mean_squared_error: 0.6420 - val_loss: 0.4597 - val_mean_squared_error: 0.4597\n",
      "Epoch 18/100\n",
      "\u001b[1m1/1\u001b[0m \u001b[32m━━━━━━━━━━━━━━━━━━━━\u001b[0m\u001b[37m\u001b[0m \u001b[1m0s\u001b[0m 219ms/step - loss: 0.6103 - mean_squared_error: 0.6103 - val_loss: 0.4336 - val_mean_squared_error: 0.4336\n",
      "Epoch 19/100\n",
      "\u001b[1m1/1\u001b[0m \u001b[32m━━━━━━━━━━━━━━━━━━━━\u001b[0m\u001b[37m\u001b[0m \u001b[1m0s\u001b[0m 213ms/step - loss: 0.5774 - mean_squared_error: 0.5774 - val_loss: 0.4067 - val_mean_squared_error: 0.4067\n",
      "Epoch 20/100\n",
      "\u001b[1m1/1\u001b[0m \u001b[32m━━━━━━━━━━━━━━━━━━━━\u001b[0m\u001b[37m\u001b[0m \u001b[1m0s\u001b[0m 381ms/step - loss: 0.5432 - mean_squared_error: 0.5432 - val_loss: 0.3789 - val_mean_squared_error: 0.3789\n",
      "Epoch 21/100\n",
      "\u001b[1m1/1\u001b[0m \u001b[32m━━━━━━━━━━━━━━━━━━━━\u001b[0m\u001b[37m\u001b[0m \u001b[1m0s\u001b[0m 208ms/step - loss: 0.5078 - mean_squared_error: 0.5078 - val_loss: 0.3505 - val_mean_squared_error: 0.3505\n",
      "Epoch 22/100\n",
      "\u001b[1m1/1\u001b[0m \u001b[32m━━━━━━━━━━━━━━━━━━━━\u001b[0m\u001b[37m\u001b[0m \u001b[1m0s\u001b[0m 255ms/step - loss: 0.4715 - mean_squared_error: 0.4715 - val_loss: 0.3216 - val_mean_squared_error: 0.3216\n",
      "Epoch 23/100\n",
      "\u001b[1m1/1\u001b[0m \u001b[32m━━━━━━━━━━━━━━━━━━━━\u001b[0m\u001b[37m\u001b[0m \u001b[1m0s\u001b[0m 221ms/step - loss: 0.4342 - mean_squared_error: 0.4342 - val_loss: 0.2922 - val_mean_squared_error: 0.2922\n",
      "Epoch 24/100\n",
      "\u001b[1m1/1\u001b[0m \u001b[32m━━━━━━━━━━━━━━━━━━━━\u001b[0m\u001b[37m\u001b[0m \u001b[1m0s\u001b[0m 214ms/step - loss: 0.3965 - mean_squared_error: 0.3965 - val_loss: 0.2629 - val_mean_squared_error: 0.2629\n",
      "Epoch 25/100\n",
      "\u001b[1m1/1\u001b[0m \u001b[32m━━━━━━━━━━━━━━━━━━━━\u001b[0m\u001b[37m\u001b[0m \u001b[1m0s\u001b[0m 342ms/step - loss: 0.3586 - mean_squared_error: 0.3586 - val_loss: 0.2340 - val_mean_squared_error: 0.2340\n",
      "Epoch 26/100\n",
      "\u001b[1m1/1\u001b[0m \u001b[32m━━━━━━━━━━━━━━━━━━━━\u001b[0m\u001b[37m\u001b[0m \u001b[1m0s\u001b[0m 261ms/step - loss: 0.3214 - mean_squared_error: 0.3214 - val_loss: 0.2058 - val_mean_squared_error: 0.2058\n",
      "Epoch 27/100\n",
      "\u001b[1m1/1\u001b[0m \u001b[32m━━━━━━━━━━━━━━━━━━━━\u001b[0m\u001b[37m\u001b[0m \u001b[1m0s\u001b[0m 195ms/step - loss: 0.2849 - mean_squared_error: 0.2849 - val_loss: 0.1782 - val_mean_squared_error: 0.1782\n",
      "Epoch 28/100\n",
      "\u001b[1m1/1\u001b[0m \u001b[32m━━━━━━━━━━━━━━━━━━━━\u001b[0m\u001b[37m\u001b[0m \u001b[1m0s\u001b[0m 179ms/step - loss: 0.2497 - mean_squared_error: 0.2497 - val_loss: 0.1519 - val_mean_squared_error: 0.1519\n",
      "Epoch 29/100\n",
      "\u001b[1m1/1\u001b[0m \u001b[32m━━━━━━━━━━━━━━━━━━━━\u001b[0m\u001b[37m\u001b[0m \u001b[1m0s\u001b[0m 192ms/step - loss: 0.2166 - mean_squared_error: 0.2166 - val_loss: 0.1275 - val_mean_squared_error: 0.1275\n",
      "Epoch 30/100\n",
      "\u001b[1m1/1\u001b[0m \u001b[32m━━━━━━━━━━━━━━━━━━━━\u001b[0m\u001b[37m\u001b[0m \u001b[1m0s\u001b[0m 202ms/step - loss: 0.1860 - mean_squared_error: 0.1860 - val_loss: 0.1047 - val_mean_squared_error: 0.1047\n",
      "Epoch 31/100\n",
      "\u001b[1m1/1\u001b[0m \u001b[32m━━━━━━━━━━━━━━━━━━━━\u001b[0m\u001b[37m\u001b[0m \u001b[1m0s\u001b[0m 336ms/step - loss: 0.1581 - mean_squared_error: 0.1581 - val_loss: 0.0857 - val_mean_squared_error: 0.0857\n",
      "Epoch 32/100\n",
      "\u001b[1m1/1\u001b[0m \u001b[32m━━━━━━━━━━━━━━━━━━━━\u001b[0m\u001b[37m\u001b[0m \u001b[1m0s\u001b[0m 229ms/step - loss: 0.1353 - mean_squared_error: 0.1353 - val_loss: 0.0713 - val_mean_squared_error: 0.0713\n",
      "Epoch 33/100\n",
      "\u001b[1m1/1\u001b[0m \u001b[32m━━━━━━━━━━━━━━━━━━━━\u001b[0m\u001b[37m\u001b[0m \u001b[1m0s\u001b[0m 202ms/step - loss: 0.1189 - mean_squared_error: 0.1189 - val_loss: 0.0623 - val_mean_squared_error: 0.0623\n",
      "Epoch 34/100\n",
      "\u001b[1m1/1\u001b[0m \u001b[32m━━━━━━━━━━━━━━━━━━━━\u001b[0m\u001b[37m\u001b[0m \u001b[1m0s\u001b[0m 214ms/step - loss: 0.1099 - mean_squared_error: 0.1099 - val_loss: 0.0590 - val_mean_squared_error: 0.0590\n",
      "Epoch 35/100\n",
      "\u001b[1m1/1\u001b[0m \u001b[32m━━━━━━━━━━━━━━━━━━━━\u001b[0m\u001b[37m\u001b[0m \u001b[1m0s\u001b[0m 194ms/step - loss: 0.1082 - mean_squared_error: 0.1082 - val_loss: 0.0608 - val_mean_squared_error: 0.0608\n",
      "Epoch 36/100\n",
      "\u001b[1m1/1\u001b[0m \u001b[32m━━━━━━━━━━━━━━━━━━━━\u001b[0m\u001b[37m\u001b[0m \u001b[1m0s\u001b[0m 342ms/step - loss: 0.1128 - mean_squared_error: 0.1128 - val_loss: 0.0661 - val_mean_squared_error: 0.0661\n",
      "Epoch 37/100\n",
      "\u001b[1m1/1\u001b[0m \u001b[32m━━━━━━━━━━━━━━━━━━━━\u001b[0m\u001b[37m\u001b[0m \u001b[1m0s\u001b[0m 219ms/step - loss: 0.1211 - mean_squared_error: 0.1211 - val_loss: 0.0724 - val_mean_squared_error: 0.0724\n",
      "Epoch 38/100\n",
      "\u001b[1m1/1\u001b[0m \u001b[32m━━━━━━━━━━━━━━━━━━━━\u001b[0m\u001b[37m\u001b[0m \u001b[1m0s\u001b[0m 224ms/step - loss: 0.1295 - mean_squared_error: 0.1295 - val_loss: 0.0774 - val_mean_squared_error: 0.0774\n",
      "Epoch 39/100\n",
      "\u001b[1m1/1\u001b[0m \u001b[32m━━━━━━━━━━━━━━━━━━━━\u001b[0m\u001b[37m\u001b[0m \u001b[1m0s\u001b[0m 312ms/step - loss: 0.1344 - mean_squared_error: 0.1344 - val_loss: 0.0793 - val_mean_squared_error: 0.0793\n",
      "Epoch 40/100\n",
      "\u001b[1m1/1\u001b[0m \u001b[32m━━━━━━━━━━━━━━━━━━━━\u001b[0m\u001b[37m\u001b[0m \u001b[1m0s\u001b[0m 216ms/step - loss: 0.1342 - mean_squared_error: 0.1342 - val_loss: 0.0775 - val_mean_squared_error: 0.0775\n",
      "Epoch 41/100\n",
      "\u001b[1m1/1\u001b[0m \u001b[32m━━━━━━━━━━━━━━━━━━━━\u001b[0m\u001b[37m\u001b[0m \u001b[1m0s\u001b[0m 347ms/step - loss: 0.1284 - mean_squared_error: 0.1284 - val_loss: 0.0727 - val_mean_squared_error: 0.0727\n",
      "Epoch 42/100\n",
      "\u001b[1m1/1\u001b[0m \u001b[32m━━━━━━━━━━━━━━━━━━━━\u001b[0m\u001b[37m\u001b[0m \u001b[1m0s\u001b[0m 234ms/step - loss: 0.1185 - mean_squared_error: 0.1185 - val_loss: 0.0659 - val_mean_squared_error: 0.0659\n",
      "Epoch 43/100\n",
      "\u001b[1m1/1\u001b[0m \u001b[32m━━━━━━━━━━━━━━━━━━━━\u001b[0m\u001b[37m\u001b[0m \u001b[1m0s\u001b[0m 220ms/step - loss: 0.1067 - mean_squared_error: 0.1067 - val_loss: 0.0588 - val_mean_squared_error: 0.0588\n",
      "Epoch 44/100\n",
      "\u001b[1m1/1\u001b[0m \u001b[32m━━━━━━━━━━━━━━━━━━━━\u001b[0m\u001b[37m\u001b[0m \u001b[1m0s\u001b[0m 224ms/step - loss: 0.0945 - mean_squared_error: 0.0945 - val_loss: 0.0516 - val_mean_squared_error: 0.0516\n",
      "Epoch 45/100\n",
      "\u001b[1m1/1\u001b[0m \u001b[32m━━━━━━━━━━━━━━━━━━━━\u001b[0m\u001b[37m\u001b[0m \u001b[1m0s\u001b[0m 217ms/step - loss: 0.0848 - mean_squared_error: 0.0848 - val_loss: 0.0457 - val_mean_squared_error: 0.0457\n",
      "Epoch 46/100\n",
      "\u001b[1m1/1\u001b[0m \u001b[32m━━━━━━━━━━━━━━━━━━━━\u001b[0m\u001b[37m\u001b[0m \u001b[1m0s\u001b[0m 196ms/step - loss: 0.0780 - mean_squared_error: 0.0780 - val_loss: 0.0416 - val_mean_squared_error: 0.0416\n",
      "Epoch 47/100\n",
      "\u001b[1m1/1\u001b[0m \u001b[32m━━━━━━━━━━━━━━━━━━━━\u001b[0m\u001b[37m\u001b[0m \u001b[1m0s\u001b[0m 325ms/step - loss: 0.0736 - mean_squared_error: 0.0736 - val_loss: 0.0390 - val_mean_squared_error: 0.0390\n",
      "Epoch 48/100\n",
      "\u001b[1m1/1\u001b[0m \u001b[32m━━━━━━━━━━━━━━━━━━━━\u001b[0m\u001b[37m\u001b[0m \u001b[1m0s\u001b[0m 359ms/step - loss: 0.0713 - mean_squared_error: 0.0713 - val_loss: 0.0376 - val_mean_squared_error: 0.0376\n",
      "Epoch 49/100\n",
      "\u001b[1m1/1\u001b[0m \u001b[32m━━━━━━━━━━━━━━━━━━━━\u001b[0m\u001b[37m\u001b[0m \u001b[1m0s\u001b[0m 341ms/step - loss: 0.0706 - mean_squared_error: 0.0706 - val_loss: 0.0370 - val_mean_squared_error: 0.0370\n",
      "Epoch 50/100\n",
      "\u001b[1m1/1\u001b[0m \u001b[32m━━━━━━━━━━━━━━━━━━━━\u001b[0m\u001b[37m\u001b[0m \u001b[1m0s\u001b[0m 319ms/step - loss: 0.0707 - mean_squared_error: 0.0707 - val_loss: 0.0367 - val_mean_squared_error: 0.0367\n",
      "Epoch 51/100\n",
      "\u001b[1m1/1\u001b[0m \u001b[32m━━━━━━━━━━━━━━━━━━━━\u001b[0m\u001b[37m\u001b[0m \u001b[1m0s\u001b[0m 186ms/step - loss: 0.0711 - mean_squared_error: 0.0711 - val_loss: 0.0365 - val_mean_squared_error: 0.0365\n",
      "Epoch 52/100\n",
      "\u001b[1m1/1\u001b[0m \u001b[32m━━━━━━━━━━━━━━━━━━━━\u001b[0m\u001b[37m\u001b[0m \u001b[1m0s\u001b[0m 228ms/step - loss: 0.0715 - mean_squared_error: 0.0715 - val_loss: 0.0364 - val_mean_squared_error: 0.0364\n",
      "Epoch 53/100\n",
      "\u001b[1m1/1\u001b[0m \u001b[32m━━━━━━━━━━━━━━━━━━━━\u001b[0m\u001b[37m\u001b[0m \u001b[1m0s\u001b[0m 350ms/step - loss: 0.0713 - mean_squared_error: 0.0713 - val_loss: 0.0360 - val_mean_squared_error: 0.0360\n",
      "Epoch 54/100\n",
      "\u001b[1m1/1\u001b[0m \u001b[32m━━━━━━━━━━━━━━━━━━━━\u001b[0m\u001b[37m\u001b[0m \u001b[1m0s\u001b[0m 221ms/step - loss: 0.0706 - mean_squared_error: 0.0706 - val_loss: 0.0355 - val_mean_squared_error: 0.0355\n",
      "Epoch 55/100\n",
      "\u001b[1m1/1\u001b[0m \u001b[32m━━━━━━━━━━━━━━━━━━━━\u001b[0m\u001b[37m\u001b[0m \u001b[1m0s\u001b[0m 209ms/step - loss: 0.0691 - mean_squared_error: 0.0691 - val_loss: 0.0348 - val_mean_squared_error: 0.0348\n",
      "Epoch 56/100\n",
      "\u001b[1m1/1\u001b[0m \u001b[32m━━━━━━━━━━━━━━━━━━━━\u001b[0m\u001b[37m\u001b[0m \u001b[1m0s\u001b[0m 233ms/step - loss: 0.0671 - mean_squared_error: 0.0671 - val_loss: 0.0342 - val_mean_squared_error: 0.0342\n",
      "Epoch 57/100\n",
      "\u001b[1m1/1\u001b[0m \u001b[32m━━━━━━━━━━━━━━━━━━━━\u001b[0m\u001b[37m\u001b[0m \u001b[1m0s\u001b[0m 193ms/step - loss: 0.0646 - mean_squared_error: 0.0646 - val_loss: 0.0337 - val_mean_squared_error: 0.0337\n",
      "Epoch 58/100\n",
      "\u001b[1m1/1\u001b[0m \u001b[32m━━━━━━━━━━━━━━━━━━━━\u001b[0m\u001b[37m\u001b[0m \u001b[1m0s\u001b[0m 363ms/step - loss: 0.0618 - mean_squared_error: 0.0618 - val_loss: 0.0336 - val_mean_squared_error: 0.0336\n",
      "Epoch 59/100\n",
      "\u001b[1m1/1\u001b[0m \u001b[32m━━━━━━━━━━━━━━━━━━━━\u001b[0m\u001b[37m\u001b[0m \u001b[1m0s\u001b[0m 329ms/step - loss: 0.0590 - mean_squared_error: 0.0590 - val_loss: 0.0339 - val_mean_squared_error: 0.0339\n",
      "Epoch 60/100\n",
      "\u001b[1m1/1\u001b[0m \u001b[32m━━━━━━━━━━━━━━━━━━━━\u001b[0m\u001b[37m\u001b[0m \u001b[1m0s\u001b[0m 296ms/step - loss: 0.0563 - mean_squared_error: 0.0563 - val_loss: 0.0349 - val_mean_squared_error: 0.0349\n",
      "Epoch 61/100\n",
      "\u001b[1m1/1\u001b[0m \u001b[32m━━━━━━━━━━━━━━━━━━━━\u001b[0m\u001b[37m\u001b[0m \u001b[1m0s\u001b[0m 232ms/step - loss: 0.0539 - mean_squared_error: 0.0539 - val_loss: 0.0364 - val_mean_squared_error: 0.0364\n",
      "Epoch 62/100\n",
      "\u001b[1m1/1\u001b[0m \u001b[32m━━━━━━━━━━━━━━━━━━━━\u001b[0m\u001b[37m\u001b[0m \u001b[1m0s\u001b[0m 213ms/step - loss: 0.0520 - mean_squared_error: 0.0520 - val_loss: 0.0384 - val_mean_squared_error: 0.0384\n",
      "Epoch 63/100\n",
      "\u001b[1m1/1\u001b[0m \u001b[32m━━━━━━━━━━━━━━━━━━━━\u001b[0m\u001b[37m\u001b[0m \u001b[1m0s\u001b[0m 339ms/step - loss: 0.0505 - mean_squared_error: 0.0505 - val_loss: 0.0409 - val_mean_squared_error: 0.0409\n",
      "Epoch 64/100\n",
      "\u001b[1m1/1\u001b[0m \u001b[32m━━━━━━━━━━━━━━━━━━━━\u001b[0m\u001b[37m\u001b[0m \u001b[1m0s\u001b[0m 214ms/step - loss: 0.0495 - mean_squared_error: 0.0495 - val_loss: 0.0435 - val_mean_squared_error: 0.0435\n",
      "Epoch 65/100\n",
      "\u001b[1m1/1\u001b[0m \u001b[32m━━━━━━━━━━━━━━━━━━━━\u001b[0m\u001b[37m\u001b[0m \u001b[1m0s\u001b[0m 215ms/step - loss: 0.0489 - mean_squared_error: 0.0489 - val_loss: 0.0461 - val_mean_squared_error: 0.0461\n",
      "Epoch 66/100\n",
      "\u001b[1m1/1\u001b[0m \u001b[32m━━━━━━━━━━━━━━━━━━━━\u001b[0m\u001b[37m\u001b[0m \u001b[1m0s\u001b[0m 212ms/step - loss: 0.0484 - mean_squared_error: 0.0484 - val_loss: 0.0485 - val_mean_squared_error: 0.0485\n",
      "Epoch 67/100\n",
      "\u001b[1m1/1\u001b[0m \u001b[32m━━━━━━━━━━━━━━━━━━━━\u001b[0m\u001b[37m\u001b[0m \u001b[1m0s\u001b[0m 199ms/step - loss: 0.0479 - mean_squared_error: 0.0479 - val_loss: 0.0503 - val_mean_squared_error: 0.0503\n",
      "Epoch 68/100\n",
      "\u001b[1m1/1\u001b[0m \u001b[32m━━━━━━━━━━━━━━━━━━━━\u001b[0m\u001b[37m\u001b[0m \u001b[1m0s\u001b[0m 222ms/step - loss: 0.0473 - mean_squared_error: 0.0473 - val_loss: 0.0515 - val_mean_squared_error: 0.0515\n",
      "Epoch 69/100\n",
      "\u001b[1m1/1\u001b[0m \u001b[32m━━━━━━━━━━━━━━━━━━━━\u001b[0m\u001b[37m\u001b[0m \u001b[1m0s\u001b[0m 201ms/step - loss: 0.0466 - mean_squared_error: 0.0466 - val_loss: 0.0519 - val_mean_squared_error: 0.0519\n",
      "Epoch 70/100\n",
      "\u001b[1m1/1\u001b[0m \u001b[32m━━━━━━━━━━━━━━━━━━━━\u001b[0m\u001b[37m\u001b[0m \u001b[1m0s\u001b[0m 335ms/step - loss: 0.0457 - mean_squared_error: 0.0457 - val_loss: 0.0517 - val_mean_squared_error: 0.0517\n",
      "Epoch 71/100\n",
      "\u001b[1m1/1\u001b[0m \u001b[32m━━━━━━━━━━━━━━━━━━━━\u001b[0m\u001b[37m\u001b[0m \u001b[1m0s\u001b[0m 345ms/step - loss: 0.0446 - mean_squared_error: 0.0446 - val_loss: 0.0509 - val_mean_squared_error: 0.0509\n",
      "Epoch 72/100\n",
      "\u001b[1m1/1\u001b[0m \u001b[32m━━━━━━━━━━━━━━━━━━━━\u001b[0m\u001b[37m\u001b[0m \u001b[1m0s\u001b[0m 208ms/step - loss: 0.0435 - mean_squared_error: 0.0435 - val_loss: 0.0496 - val_mean_squared_error: 0.0496\n",
      "Epoch 73/100\n",
      "\u001b[1m1/1\u001b[0m \u001b[32m━━━━━━━━━━━━━━━━━━━━\u001b[0m\u001b[37m\u001b[0m \u001b[1m0s\u001b[0m 243ms/step - loss: 0.0423 - mean_squared_error: 0.0423 - val_loss: 0.0481 - val_mean_squared_error: 0.0481\n",
      "Epoch 74/100\n",
      "\u001b[1m1/1\u001b[0m \u001b[32m━━━━━━━━━━━━━━━━━━━━\u001b[0m\u001b[37m\u001b[0m \u001b[1m0s\u001b[0m 310ms/step - loss: 0.0412 - mean_squared_error: 0.0412 - val_loss: 0.0465 - val_mean_squared_error: 0.0465\n",
      "Epoch 75/100\n",
      "\u001b[1m1/1\u001b[0m \u001b[32m━━━━━━━━━━━━━━━━━━━━\u001b[0m\u001b[37m\u001b[0m \u001b[1m0s\u001b[0m 208ms/step - loss: 0.0403 - mean_squared_error: 0.0403 - val_loss: 0.0449 - val_mean_squared_error: 0.0449\n",
      "Epoch 76/100\n",
      "\u001b[1m1/1\u001b[0m \u001b[32m━━━━━━━━━━━━━━━━━━━━\u001b[0m\u001b[37m\u001b[0m \u001b[1m0s\u001b[0m 211ms/step - loss: 0.0395 - mean_squared_error: 0.0395 - val_loss: 0.0435 - val_mean_squared_error: 0.0435\n",
      "Epoch 77/100\n",
      "\u001b[1m1/1\u001b[0m \u001b[32m━━━━━━━━━━━━━━━━━━━━\u001b[0m\u001b[37m\u001b[0m \u001b[1m0s\u001b[0m 335ms/step - loss: 0.0389 - mean_squared_error: 0.0389 - val_loss: 0.0423 - val_mean_squared_error: 0.0423\n",
      "Epoch 78/100\n",
      "\u001b[1m1/1\u001b[0m \u001b[32m━━━━━━━━━━━━━━━━━━━━\u001b[0m\u001b[37m\u001b[0m \u001b[1m0s\u001b[0m 216ms/step - loss: 0.0385 - mean_squared_error: 0.0385 - val_loss: 0.0413 - val_mean_squared_error: 0.0413\n",
      "Epoch 79/100\n",
      "\u001b[1m1/1\u001b[0m \u001b[32m━━━━━━━━━━━━━━━━━━━━\u001b[0m\u001b[37m\u001b[0m \u001b[1m0s\u001b[0m 214ms/step - loss: 0.0380 - mean_squared_error: 0.0380 - val_loss: 0.0405 - val_mean_squared_error: 0.0405\n",
      "Epoch 80/100\n",
      "\u001b[1m1/1\u001b[0m \u001b[32m━━━━━━━━━━━━━━━━━━━━\u001b[0m\u001b[37m\u001b[0m \u001b[1m0s\u001b[0m 323ms/step - loss: 0.0376 - mean_squared_error: 0.0376 - val_loss: 0.0400 - val_mean_squared_error: 0.0400\n",
      "Epoch 81/100\n",
      "\u001b[1m1/1\u001b[0m \u001b[32m━━━━━━━━━━━━━━━━━━━━\u001b[0m\u001b[37m\u001b[0m \u001b[1m0s\u001b[0m 214ms/step - loss: 0.0371 - mean_squared_error: 0.0371 - val_loss: 0.0398 - val_mean_squared_error: 0.0398\n",
      "Epoch 82/100\n",
      "\u001b[1m1/1\u001b[0m \u001b[32m━━━━━━━━━━━━━━━━━━━━\u001b[0m\u001b[37m\u001b[0m \u001b[1m0s\u001b[0m 199ms/step - loss: 0.0366 - mean_squared_error: 0.0366 - val_loss: 0.0397 - val_mean_squared_error: 0.0397\n",
      "Epoch 83/100\n",
      "\u001b[1m1/1\u001b[0m \u001b[32m━━━━━━━━━━━━━━━━━━━━\u001b[0m\u001b[37m\u001b[0m \u001b[1m0s\u001b[0m 206ms/step - loss: 0.0361 - mean_squared_error: 0.0361 - val_loss: 0.0399 - val_mean_squared_error: 0.0399\n",
      "Epoch 84/100\n",
      "\u001b[1m1/1\u001b[0m \u001b[32m━━━━━━━━━━━━━━━━━━━━\u001b[0m\u001b[37m\u001b[0m \u001b[1m0s\u001b[0m 206ms/step - loss: 0.0355 - mean_squared_error: 0.0355 - val_loss: 0.0403 - val_mean_squared_error: 0.0403\n",
      "Epoch 85/100\n",
      "\u001b[1m1/1\u001b[0m \u001b[32m━━━━━━━━━━━━━━━━━━━━\u001b[0m\u001b[37m\u001b[0m \u001b[1m0s\u001b[0m 194ms/step - loss: 0.0348 - mean_squared_error: 0.0348 - val_loss: 0.0409 - val_mean_squared_error: 0.0409\n",
      "Epoch 86/100\n",
      "\u001b[1m1/1\u001b[0m \u001b[32m━━━━━━━━━━━━━━━━━━━━\u001b[0m\u001b[37m\u001b[0m \u001b[1m0s\u001b[0m 196ms/step - loss: 0.0342 - mean_squared_error: 0.0342 - val_loss: 0.0416 - val_mean_squared_error: 0.0416\n",
      "Epoch 87/100\n",
      "\u001b[1m1/1\u001b[0m \u001b[32m━━━━━━━━━━━━━━━━━━━━\u001b[0m\u001b[37m\u001b[0m \u001b[1m0s\u001b[0m 194ms/step - loss: 0.0336 - mean_squared_error: 0.0336 - val_loss: 0.0425 - val_mean_squared_error: 0.0425\n",
      "Epoch 88/100\n",
      "\u001b[1m1/1\u001b[0m \u001b[32m━━━━━━━━━━━━━━━━━━━━\u001b[0m\u001b[37m\u001b[0m \u001b[1m0s\u001b[0m 192ms/step - loss: 0.0330 - mean_squared_error: 0.0330 - val_loss: 0.0434 - val_mean_squared_error: 0.0434\n",
      "Epoch 89/100\n",
      "\u001b[1m1/1\u001b[0m \u001b[32m━━━━━━━━━━━━━━━━━━━━\u001b[0m\u001b[37m\u001b[0m \u001b[1m0s\u001b[0m 324ms/step - loss: 0.0325 - mean_squared_error: 0.0325 - val_loss: 0.0442 - val_mean_squared_error: 0.0442\n",
      "Epoch 90/100\n",
      "\u001b[1m1/1\u001b[0m \u001b[32m━━━━━━━━━━━━━━━━━━━━\u001b[0m\u001b[37m\u001b[0m \u001b[1m0s\u001b[0m 217ms/step - loss: 0.0320 - mean_squared_error: 0.0320 - val_loss: 0.0449 - val_mean_squared_error: 0.0449\n",
      "Epoch 91/100\n",
      "\u001b[1m1/1\u001b[0m \u001b[32m━━━━━━━━━━━━━━━━━━━━\u001b[0m\u001b[37m\u001b[0m \u001b[1m0s\u001b[0m 217ms/step - loss: 0.0315 - mean_squared_error: 0.0315 - val_loss: 0.0455 - val_mean_squared_error: 0.0455\n",
      "Epoch 92/100\n",
      "\u001b[1m1/1\u001b[0m \u001b[32m━━━━━━━━━━━━━━━━━━━━\u001b[0m\u001b[37m\u001b[0m \u001b[1m0s\u001b[0m 228ms/step - loss: 0.0311 - mean_squared_error: 0.0311 - val_loss: 0.0459 - val_mean_squared_error: 0.0459\n",
      "Epoch 93/100\n",
      "\u001b[1m1/1\u001b[0m \u001b[32m━━━━━━━━━━━━━━━━━━━━\u001b[0m\u001b[37m\u001b[0m \u001b[1m0s\u001b[0m 202ms/step - loss: 0.0307 - mean_squared_error: 0.0307 - val_loss: 0.0461 - val_mean_squared_error: 0.0461\n",
      "Epoch 94/100\n",
      "\u001b[1m1/1\u001b[0m \u001b[32m━━━━━━━━━━━━━━━━━━━━\u001b[0m\u001b[37m\u001b[0m \u001b[1m0s\u001b[0m 197ms/step - loss: 0.0303 - mean_squared_error: 0.0303 - val_loss: 0.0461 - val_mean_squared_error: 0.0461\n",
      "Epoch 95/100\n",
      "\u001b[1m1/1\u001b[0m \u001b[32m━━━━━━━━━━━━━━━━━━━━\u001b[0m\u001b[37m\u001b[0m \u001b[1m0s\u001b[0m 319ms/step - loss: 0.0300 - mean_squared_error: 0.0300 - val_loss: 0.0457 - val_mean_squared_error: 0.0457\n",
      "Epoch 96/100\n",
      "\u001b[1m1/1\u001b[0m \u001b[32m━━━━━━━━━━━━━━━━━━━━\u001b[0m\u001b[37m\u001b[0m \u001b[1m0s\u001b[0m 218ms/step - loss: 0.0296 - mean_squared_error: 0.0296 - val_loss: 0.0452 - val_mean_squared_error: 0.0452\n",
      "Epoch 97/100\n",
      "\u001b[1m1/1\u001b[0m \u001b[32m━━━━━━━━━━━━━━━━━━━━\u001b[0m\u001b[37m\u001b[0m \u001b[1m0s\u001b[0m 234ms/step - loss: 0.0292 - mean_squared_error: 0.0292 - val_loss: 0.0445 - val_mean_squared_error: 0.0445\n",
      "Epoch 98/100\n",
      "\u001b[1m1/1\u001b[0m \u001b[32m━━━━━━━━━━━━━━━━━━━━\u001b[0m\u001b[37m\u001b[0m \u001b[1m0s\u001b[0m 323ms/step - loss: 0.0287 - mean_squared_error: 0.0287 - val_loss: 0.0436 - val_mean_squared_error: 0.0436\n",
      "Epoch 99/100\n",
      "\u001b[1m1/1\u001b[0m \u001b[32m━━━━━━━━━━━━━━━━━━━━\u001b[0m\u001b[37m\u001b[0m \u001b[1m0s\u001b[0m 214ms/step - loss: 0.0283 - mean_squared_error: 0.0283 - val_loss: 0.0427 - val_mean_squared_error: 0.0427\n",
      "Epoch 100/100\n",
      "\u001b[1m1/1\u001b[0m \u001b[32m━━━━━━━━━━━━━━━━━━━━\u001b[0m\u001b[37m\u001b[0m \u001b[1m0s\u001b[0m 213ms/step - loss: 0.0279 - mean_squared_error: 0.0279 - val_loss: 0.0418 - val_mean_squared_error: 0.0418\n"
     ]
    }
   ],
   "source": [
    "history = model.fit(X_train, y_train, epochs=100, validation_split=0.2)"
   ]
  },
  {
   "cell_type": "code",
   "execution_count": 275,
   "id": "28be779e-c7d5-46c4-b6b1-278e1623c95d",
   "metadata": {},
   "outputs": [
    {
     "data": {
      "text/plain": [
       "array([[-0.54413713, -0.75010241, -0.65024045, -0.61487268, -0.27159721,\n",
       "        -0.09891925, -0.05314918, -0.2279076 , -0.03026415,  0.04671277,\n",
       "        -0.00945958, -0.01778141,  0.16321838,  0.14657472,  0.26308034,\n",
       "        -0.3111259 , -0.61487268, -0.20294212, -0.42763151, -0.31528681,\n",
       "        -0.37562008, -0.07603422, -0.66064274,  0.03423003,  0.46696516,\n",
       "        -0.07811467, -0.26535584,  0.12785061, -0.86660802, -0.97063089,\n",
       "        -1.68214731, -1.48450386],\n",
       "       [ 0.86849343,  0.90386121,  1.18680341,  1.78805559,  1.96073356,\n",
       "         1.084861  ,  0.94755081, -0.10932153, -0.60447039, -0.79171155,\n",
       "        -0.7064128 , -0.54413713, -0.75010241, -0.65024045, -0.61487268,\n",
       "        -0.27159721, -0.09891925, -0.05314918, -0.2279076 , -0.03026415,\n",
       "         0.04671277, -0.00945958, -0.01778141,  0.16321838,  0.14657472,\n",
       "         0.26308034, -0.3111259 , -0.61487268, -0.20294212, -0.42763151,\n",
       "        -0.31528681, -0.37562008],\n",
       "       [ 1.19304478,  1.46350424,  1.25753896,  0.9288267 ,  0.6063558 ,\n",
       "         0.82688429,  0.86849343,  0.90386121,  1.18680341,  1.78805559,\n",
       "         1.96073356,  1.084861  ,  0.94755081, -0.10932153, -0.60447039,\n",
       "        -0.79171155, -0.7064128 , -0.54413713, -0.75010241, -0.65024045,\n",
       "        -0.61487268, -0.27159721, -0.09891925, -0.05314918, -0.2279076 ,\n",
       "        -0.03026415,  0.04671277, -0.00945958, -0.01778141,  0.16321838,\n",
       "         0.14657472,  0.26308034],\n",
       "       [ 0.82688429,  0.86849343,  0.90386121,  1.18680341,  1.78805559,\n",
       "         1.96073356,  1.084861  ,  0.94755081, -0.10932153, -0.60447039,\n",
       "        -0.79171155, -0.7064128 , -0.54413713, -0.75010241, -0.65024045,\n",
       "        -0.61487268, -0.27159721, -0.09891925, -0.05314918, -0.2279076 ,\n",
       "        -0.03026415,  0.04671277, -0.00945958, -0.01778141,  0.16321838,\n",
       "         0.14657472,  0.26308034, -0.3111259 , -0.61487268, -0.20294212,\n",
       "        -0.42763151, -0.31528681],\n",
       "       [ 1.13063106,  1.19304478,  1.46350424,  1.25753896,  0.9288267 ,\n",
       "         0.6063558 ,  0.82688429,  0.86849343,  0.90386121,  1.18680341,\n",
       "         1.78805559,  1.96073356,  1.084861  ,  0.94755081, -0.10932153,\n",
       "        -0.60447039, -0.79171155, -0.7064128 , -0.54413713, -0.75010241,\n",
       "        -0.65024045, -0.61487268, -0.27159721, -0.09891925, -0.05314918,\n",
       "        -0.2279076 , -0.03026415,  0.04671277, -0.00945958, -0.01778141,\n",
       "         0.16321838,  0.14657472],\n",
       "       [ 1.46350424,  1.25753896,  0.9288267 ,  0.6063558 ,  0.82688429,\n",
       "         0.86849343,  0.90386121,  1.18680341,  1.78805559,  1.96073356,\n",
       "         1.084861  ,  0.94755081, -0.10932153, -0.60447039, -0.79171155,\n",
       "        -0.7064128 , -0.54413713, -0.75010241, -0.65024045, -0.61487268,\n",
       "        -0.27159721, -0.09891925, -0.05314918, -0.2279076 , -0.03026415,\n",
       "         0.04671277, -0.00945958, -0.01778141,  0.16321838,  0.14657472,\n",
       "         0.26308034, -0.3111259 ],\n",
       "       [ 1.25753896,  0.9288267 ,  0.6063558 ,  0.82688429,  0.86849343,\n",
       "         0.90386121,  1.18680341,  1.78805559,  1.96073356,  1.084861  ,\n",
       "         0.94755081, -0.10932153, -0.60447039, -0.79171155, -0.7064128 ,\n",
       "        -0.54413713, -0.75010241, -0.65024045, -0.61487268, -0.27159721,\n",
       "        -0.09891925, -0.05314918, -0.2279076 , -0.03026415,  0.04671277,\n",
       "        -0.00945958, -0.01778141,  0.16321838,  0.14657472,  0.26308034,\n",
       "        -0.3111259 , -0.61487268]])"
      ]
     },
     "execution_count": 275,
     "metadata": {},
     "output_type": "execute_result"
    }
   ],
   "source": [
    "X_test"
   ]
  },
  {
   "cell_type": "code",
   "execution_count": 276,
   "id": "c426c04f-4b89-444a-81ce-991f50f89349",
   "metadata": {},
   "outputs": [
    {
     "data": {
      "text/plain": [
       "array([-1.44289471, -0.07603422, -0.3111259 , -0.37562008,  0.26308034,\n",
       "       -0.61487268, -0.20294212])"
      ]
     },
     "execution_count": 276,
     "metadata": {},
     "output_type": "execute_result"
    }
   ],
   "source": [
    "y_test"
   ]
  },
  {
   "cell_type": "code",
   "execution_count": 277,
   "id": "a896eba1-3255-4946-b835-a6a50bd96cf3",
   "metadata": {},
   "outputs": [
    {
     "name": "stdout",
     "output_type": "stream",
     "text": [
      "\u001b[1m1/1\u001b[0m \u001b[32m━━━━━━━━━━━━━━━━━━━━\u001b[0m\u001b[37m\u001b[0m \u001b[1m0s\u001b[0m 287ms/step\n"
     ]
    },
    {
     "data": {
      "text/plain": [
       "array([[-1.5380775 ],\n",
       "       [-0.45296127],\n",
       "       [-0.22068234],\n",
       "       [-0.36938113],\n",
       "       [-0.15227534],\n",
       "       [-0.2889155 ],\n",
       "       [-0.34425429]], dtype=float32)"
      ]
     },
     "execution_count": 277,
     "metadata": {},
     "output_type": "execute_result"
    }
   ],
   "source": [
    "model.predict(X_test)"
   ]
  },
  {
   "cell_type": "code",
   "execution_count": 278,
   "id": "da1cfc4d-b9f6-4bdc-b17e-3e6924cdfe68",
   "metadata": {},
   "outputs": [
    {
     "name": "stdout",
     "output_type": "stream",
     "text": [
      "\u001b[1m1/1\u001b[0m \u001b[32m━━━━━━━━━━━━━━━━━━━━\u001b[0m\u001b[37m\u001b[0m \u001b[1m0s\u001b[0m 79ms/step\n"
     ]
    },
    {
     "data": {
      "text/plain": [
       "0.7345219683361865"
      ]
     },
     "execution_count": 278,
     "metadata": {},
     "output_type": "execute_result"
    }
   ],
   "source": [
    "r2_score(y_test, model.predict(X_test))"
   ]
  },
  {
   "cell_type": "code",
   "execution_count": 279,
   "id": "ee811b48-ee43-4642-abe6-32977a3a053d",
   "metadata": {},
   "outputs": [
    {
     "data": {
      "text/plain": [
       "[<matplotlib.lines.Line2D at 0x200c1807ed0>]"
      ]
     },
     "execution_count": 279,
     "metadata": {},
     "output_type": "execute_result"
    },
    {
     "data": {
      "image/png": "[encoded data removed]",
      "text/plain": [
       "<Figure size 640x480 with 1 Axes>"
      ]
     },
     "metadata": {},
     "output_type": "display_data"
    }
   ],
   "source": [
    "plt.plot(history.history['loss'])\n",
    "plt.plot(history.history['val_loss'])"
   ]
  },
  {
   "cell_type": "code",
   "execution_count": 280,
   "id": "f0b0dda8-45f0-4b9c-bba8-a65db3235a26",
   "metadata": {},
   "outputs": [
    {
     "data": {
      "text/plain": [
       "[<matplotlib.lines.Line2D at 0x200c2145e50>]"
      ]
     },
     "execution_count": 280,
     "metadata": {},
     "output_type": "execute_result"
    },
    {
     "data": {
      "image/png": "[encoded data removed]",
      "text/plain": [
       "<Figure size 640x480 with 1 Axes>"
      ]
     },
     "metadata": {},
     "output_type": "display_data"
    }
   ],
   "source": [
    "plt.plot(history.history['mean_squared_error'])\n",
    "plt.plot(history.history['val_mean_squared_error'])"
   ]
  },
  {
   "cell_type": "code",
   "execution_count": null,
   "id": "150ca3e6-2eea-415c-8612-07dd790e5ae8",
   "metadata": {},
   "outputs": [],
   "source": []
  }
 ],
 "metadata": {
  "kernelspec": {
   "display_name": "Python 3 (ipykernel)",
   "language": "python",
   "name": "python3"
  },
  "language_info": {
   "codemirror_mode": {
    "name": "ipython",
    "version": 3
   },
   "file_extension": ".py",
   "mimetype": "text/x-python",
   "name": "python",
   "nbconvert_exporter": "python",
   "pygments_lexer": "ipython3",
   "version": "3.13.1"
  }
 },
 "nbformat": 4,
 "nbformat_minor": 5
}
