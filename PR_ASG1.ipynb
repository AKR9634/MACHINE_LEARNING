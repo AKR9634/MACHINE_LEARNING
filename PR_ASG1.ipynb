{
 "cells": [
  {
   "cell_type": "code",
   "execution_count": 2,
   "id": "8902868c-3c45-4bc1-99e2-630a1a23bf54",
   "metadata": {},
   "outputs": [],
   "source": [
    "import numpy as np\n",
    "import pandas as pd"
   ]
  },
  {
   "cell_type": "code",
   "execution_count": 65,
   "id": "e76dac30-abf6-4075-a3b0-d26a9d73ff56",
   "metadata": {},
   "outputs": [],
   "source": [
    "df1 = pd.read_csv('LS_Group03/Class1.txt', sep=' ', header=None, names=['A', 'B'])\n",
    "df2 = pd.read_csv('LS_Group03/Class2.txt', sep=' ', header=None, names=['A', 'B'])\n",
    "df3 = pd.read_csv('LS_Group03/Class3.txt', sep=' ', header=None, names=['A', 'B'])"
   ]
  },
  {
   "cell_type": "code",
   "execution_count": 79,
   "id": "bde9d0ca-3023-4889-bc8f-40643441c909",
   "metadata": {},
   "outputs": [],
   "source": [
    "train_df1 = df1.sample(frac=0.75, random_state=43)\n",
    "test_df1 = df1.drop(train_df1.index)"
   ]
  },
  {
   "cell_type": "code",
   "execution_count": 83,
   "id": "cc2b860e-81af-4c31-9d66-1fa6082a28ef",
   "metadata": {},
   "outputs": [],
   "source": [
    "train_df2 = df2.sample(frac=0.75, random_state=43)\n",
    "test_df2 = df2.drop(train_df1.index)"
   ]
  },
  {
   "cell_type": "code",
   "execution_count": 84,
   "id": "14818d31-bea8-4e1f-a91c-76df11a417fa",
   "metadata": {},
   "outputs": [],
   "source": [
    "train_df3 = df3.sample(frac=0.75, random_state=43)\n",
    "test_df3 = df3.drop(train_df1.index)"
   ]
  },
  {
   "cell_type": "code",
   "execution_count": 95,
   "id": "86811a42-6753-46a1-9b77-4ec886b82561",
   "metadata": {},
   "outputs": [
    {
     "data": {
      "text/html": [
       "<div>\n",
       "<style scoped>\n",
       "    .dataframe tbody tr th:only-of-type {\n",
       "        vertical-align: middle;\n",
       "    }\n",
       "\n",
       "    .dataframe tbody tr th {\n",
       "        vertical-align: top;\n",
       "    }\n",
       "\n",
       "    .dataframe thead th {\n",
       "        text-align: right;\n",
       "    }\n",
       "</style>\n",
       "<table border=\"1\" class=\"dataframe\">\n",
       "  <thead>\n",
       "    <tr style=\"text-align: right;\">\n",
       "      <th></th>\n",
       "      <th>A</th>\n",
       "      <th>B</th>\n",
       "    </tr>\n",
       "  </thead>\n",
       "  <tbody>\n",
       "    <tr>\n",
       "      <th>0</th>\n",
       "      <td>15.26800</td>\n",
       "      <td>0.65322</td>\n",
       "    </tr>\n",
       "    <tr>\n",
       "      <th>1</th>\n",
       "      <td>19.09200</td>\n",
       "      <td>1.54430</td>\n",
       "    </tr>\n",
       "    <tr>\n",
       "      <th>2</th>\n",
       "      <td>14.23600</td>\n",
       "      <td>-0.42192</td>\n",
       "    </tr>\n",
       "    <tr>\n",
       "      <th>3</th>\n",
       "      <td>13.15600</td>\n",
       "      <td>-0.55674</td>\n",
       "    </tr>\n",
       "    <tr>\n",
       "      <th>4</th>\n",
       "      <td>16.51500</td>\n",
       "      <td>0.81528</td>\n",
       "    </tr>\n",
       "    <tr>\n",
       "      <th>...</th>\n",
       "      <td>...</td>\n",
       "      <td>...</td>\n",
       "    </tr>\n",
       "    <tr>\n",
       "      <th>370</th>\n",
       "      <td>-2.82040</td>\n",
       "      <td>-2.14990</td>\n",
       "    </tr>\n",
       "    <tr>\n",
       "      <th>371</th>\n",
       "      <td>-0.73721</td>\n",
       "      <td>5.98980</td>\n",
       "    </tr>\n",
       "    <tr>\n",
       "      <th>372</th>\n",
       "      <td>-2.27010</td>\n",
       "      <td>0.69470</td>\n",
       "    </tr>\n",
       "    <tr>\n",
       "      <th>373</th>\n",
       "      <td>-2.81640</td>\n",
       "      <td>2.23000</td>\n",
       "    </tr>\n",
       "    <tr>\n",
       "      <th>374</th>\n",
       "      <td>-0.48128</td>\n",
       "      <td>0.55263</td>\n",
       "    </tr>\n",
       "  </tbody>\n",
       "</table>\n",
       "<p>375 rows × 2 columns</p>\n",
       "</div>"
      ],
      "text/plain": [
       "            A        B\n",
       "0    15.26800  0.65322\n",
       "1    19.09200  1.54430\n",
       "2    14.23600 -0.42192\n",
       "3    13.15600 -0.55674\n",
       "4    16.51500  0.81528\n",
       "..        ...      ...\n",
       "370  -2.82040 -2.14990\n",
       "371  -0.73721  5.98980\n",
       "372  -2.27010  0.69470\n",
       "373  -2.81640  2.23000\n",
       "374  -0.48128  0.55263\n",
       "\n",
       "[375 rows x 2 columns]"
      ]
     },
     "execution_count": 95,
     "metadata": {},
     "output_type": "execute_result"
    }
   ],
   "source": [
    "test = pd.concat([test_df1, test_df2, test_df3], axis = 0, ignore_index=True)\n",
    "test"
   ]
  },
  {
   "cell_type": "code",
   "execution_count": 96,
   "id": "1a52033e-301d-4070-bdb1-b6e99c9f2083",
   "metadata": {},
   "outputs": [],
   "source": [
    "mean1 = train_df1.mean().values\n",
    "mean2 = train_df2.mean().values\n",
    "mean3 = train_df3.mean().values"
   ]
  },
  {
   "cell_type": "code",
   "execution_count": 97,
   "id": "1b69a906-aa0d-4296-b58f-19b6efe4f430",
   "metadata": {},
   "outputs": [
    {
     "name": "stdout",
     "output_type": "stream",
     "text": [
      "[16.09387013 -0.06941938]   [  6.00634077 -11.97136667]   [-1.00425461  1.99334409]\n"
     ]
    }
   ],
   "source": [
    "print(mean1, \" \", mean2, \" \", mean3)"
   ]
  },
  {
   "cell_type": "code",
   "execution_count": 98,
   "id": "7d957b68-6112-430b-8dc3-a031a98ffa52",
   "metadata": {},
   "outputs": [],
   "source": [
    "cov1 = np.cov(train_df1.values.T)\n",
    "cov2 = np.cov(train_df2.values.T)\n",
    "cov3 = np.cov(train_df3.values.T)"
   ]
  },
  {
   "cell_type": "code",
   "execution_count": 99,
   "id": "6c1a3ce1-d6c4-46d8-bdc6-4316822ca23f",
   "metadata": {},
   "outputs": [
    {
     "name": "stdout",
     "output_type": "stream",
     "text": [
      "[[8.66025107 3.09411816]\n",
      " [3.09411816 2.39051193]] \n",
      "\n",
      "\n",
      " [[ 2.92778407 -1.57701163]\n",
      " [-1.57701163  4.49052177]] \n",
      "\n",
      "\n",
      " [[1.99493805 1.56511582]\n",
      " [1.56511582 9.29967682]]\n"
     ]
    }
   ],
   "source": [
    "print(cov1, \"\\n\\n\\n\", cov2, \"\\n\\n\\n\", cov3) "
   ]
  },
  {
   "cell_type": "code",
   "execution_count": 100,
   "id": "f2e0c50b-8c33-4658-94da-f512bc3e3644",
   "metadata": {},
   "outputs": [],
   "source": [
    "prior1 = prior2 = prior3 = 1/3"
   ]
  },
  {
   "cell_type": "code",
   "execution_count": 101,
   "id": "87de161f-8759-44ac-b56a-9e4cabc99f9b",
   "metadata": {},
   "outputs": [],
   "source": [
    "def classifier(X, mean, cov, prior):\n",
    "    d = mean.size\n",
    "    return prior * (1/(pow(2 * np.pi, d/2)) * pow(np.linalg.det(cov), 1/2)) * np.exp((-1/2)*(X-mean).T @ (np.linalg.inv(cov)) @ (X-mean))\n",
    "\n",
    "def predict(X):\n",
    "    p1 = np.array([classifier(x, mean1, cov1, prior1) for x in X])\n",
    "    p2 = np.array([classifier(x, mean2, cov2, prior2) for x in X])\n",
    "    p3 = np.array([classifier(x, mean3, cov3, prior3) for x in X])\n",
    "\n",
    "    return np.argmax(np.array([p1, p2, p3]), axis = 0)"
   ]
  },
  {
   "cell_type": "code",
   "execution_count": 107,
   "id": "b2b388d6-dbf7-4371-92f1-37d431027a73",
   "metadata": {},
   "outputs": [],
   "source": [
    "y_pred = predict(test.values)"
   ]
  },
  {
   "cell_type": "code",
   "execution_count": 108,
   "id": "43a97c6a-ed7e-4fae-94d8-826aee6b377e",
   "metadata": {},
   "outputs": [
    {
     "data": {
      "text/plain": [
       "array([0, 0, 0, 0, 0, 0, 0, 0, 0, 0, 0, 0, 0, 0, 0, 0, 0, 0, 0, 0, 0, 0,\n",
       "       0, 0, 0, 0, 0, 0, 0, 0, 0, 0, 0, 0, 0, 0, 0, 0, 0, 0, 0, 0, 0, 0,\n",
       "       0, 0, 0, 0, 0, 0, 0, 0, 0, 0, 0, 0, 0, 0, 0, 0, 0, 0, 0, 0, 0, 0,\n",
       "       0, 0, 0, 0, 0, 0, 0, 0, 0, 0, 0, 0, 0, 0, 0, 0, 0, 0, 0, 0, 0, 0,\n",
       "       0, 0, 0, 0, 0, 0, 0, 0, 0, 0, 0, 0, 0, 0, 0, 0, 0, 0, 0, 0, 0, 0,\n",
       "       0, 0, 0, 0, 0, 0, 0, 0, 0, 0, 0, 0, 0, 0, 0, 1, 1, 1, 1, 1, 1, 1,\n",
       "       1, 1, 1, 1, 1, 1, 1, 1, 1, 1, 1, 1, 1, 1, 1, 1, 1, 1, 1, 1, 1, 1,\n",
       "       1, 1, 1, 1, 1, 1, 1, 1, 1, 1, 1, 1, 1, 1, 1, 1, 1, 1, 1, 1, 1, 1,\n",
       "       1, 1, 1, 1, 1, 1, 1, 1, 1, 1, 1, 1, 1, 1, 1, 1, 1, 1, 1, 1, 1, 1,\n",
       "       1, 1, 1, 1, 1, 1, 1, 1, 1, 1, 1, 1, 1, 1, 1, 1, 1, 1, 1, 1, 1, 1,\n",
       "       1, 1, 1, 1, 1, 1, 1, 1, 1, 1, 1, 1, 1, 1, 1, 1, 1, 1, 1, 1, 1, 1,\n",
       "       1, 1, 1, 1, 1, 1, 1, 1, 2, 2, 2, 2, 2, 2, 2, 2, 2, 2, 2, 2, 2, 2,\n",
       "       2, 2, 2, 2, 2, 2, 2, 2, 2, 2, 2, 2, 2, 2, 2, 2, 2, 2, 2, 2, 2, 2,\n",
       "       2, 2, 2, 2, 2, 2, 2, 2, 2, 2, 2, 2, 2, 2, 2, 2, 2, 2, 2, 2, 2, 2,\n",
       "       2, 2, 2, 2, 2, 2, 2, 2, 2, 2, 2, 2, 2, 2, 2, 2, 2, 2, 2, 2, 2, 2,\n",
       "       2, 2, 2, 2, 2, 2, 2, 2, 2, 2, 2, 2, 2, 2, 2, 2, 2, 2, 2, 2, 2, 2,\n",
       "       2, 2, 2, 2, 2, 2, 2, 2, 2, 2, 2, 2, 2, 2, 2, 2, 2, 2, 2, 2, 2, 2,\n",
       "       2])"
      ]
     },
     "execution_count": 108,
     "metadata": {},
     "output_type": "execute_result"
    }
   ],
   "source": [
    "y_pred"
   ]
  },
  {
   "cell_type": "code",
   "execution_count": null,
   "id": "02106b31-572a-45f1-8a93-c2b1fca5a870",
   "metadata": {},
   "outputs": [],
   "source": []
  }
 ],
 "metadata": {
  "kernelspec": {
   "display_name": "Python 3 (ipykernel)",
   "language": "python",
   "name": "python3"
  },
  "language_info": {
   "codemirror_mode": {
    "name": "ipython",
    "version": 3
   },
   "file_extension": ".py",
   "mimetype": "text/x-python",
   "name": "python",
   "nbconvert_exporter": "python",
   "pygments_lexer": "ipython3",
   "version": "3.13.1"
  }
 },
 "nbformat": 4,
 "nbformat_minor": 5
}
